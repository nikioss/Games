{
 "cells": [
  {
   "cell_type": "markdown",
   "metadata": {},
   "source": [
    "# Цель проекта:\n",
    "Необходимо проанализировать данные интернет-магазина «Стримчик», который продаёт по всему миру компьютерные игры, и выявить определяющие успешность игры закономерности.\n",
    "# План:\n",
    " - Шаг 1. Открыйть файл с данными и изучить общую информацию\n",
    " - Шаг 2. Подготовить данные\n",
    " - Шаг 3. Провести исследовательский анализ данных\n",
    " - Шаг 4. Составить портрет пользователя каждого региона\n",
    " - Шаг 5. Проверить гипотезы\n",
    " - Шаг 6. Написать общий вывод"
   ]
  },
  {
   "cell_type": "markdown",
   "metadata": {},
   "source": [
    "## Шаг 1. Загрузка данных"
   ]
  },
  {
   "cell_type": "code",
   "execution_count": 1,
   "metadata": {},
   "outputs": [],
   "source": [
    "import pandas as pd\n",
    "import seaborn as sns\n",
    "import matplotlib.pyplot as plt\n",
    "from scipy import stats as st\n",
    "sns.set_theme(rc={'figure.figsize':(11.7,8.27)})"
   ]
  },
  {
   "cell_type": "code",
   "execution_count": 2,
   "metadata": {},
   "outputs": [
    {
     "data": {
      "text/html": [
       "<div>\n",
       "<style scoped>\n",
       "    .dataframe tbody tr th:only-of-type {\n",
       "        vertical-align: middle;\n",
       "    }\n",
       "\n",
       "    .dataframe tbody tr th {\n",
       "        vertical-align: top;\n",
       "    }\n",
       "\n",
       "    .dataframe thead th {\n",
       "        text-align: right;\n",
       "    }\n",
       "</style>\n",
       "<table border=\"1\" class=\"dataframe\">\n",
       "  <thead>\n",
       "    <tr style=\"text-align: right;\">\n",
       "      <th></th>\n",
       "      <th>Name</th>\n",
       "      <th>Platform</th>\n",
       "      <th>Year_of_Release</th>\n",
       "      <th>Genre</th>\n",
       "      <th>NA_sales</th>\n",
       "      <th>EU_sales</th>\n",
       "      <th>JP_sales</th>\n",
       "      <th>Other_sales</th>\n",
       "      <th>Critic_Score</th>\n",
       "      <th>User_Score</th>\n",
       "      <th>Rating</th>\n",
       "    </tr>\n",
       "  </thead>\n",
       "  <tbody>\n",
       "    <tr>\n",
       "      <th>0</th>\n",
       "      <td>Wii Sports</td>\n",
       "      <td>Wii</td>\n",
       "      <td>2006.0</td>\n",
       "      <td>Sports</td>\n",
       "      <td>41.36</td>\n",
       "      <td>28.96</td>\n",
       "      <td>3.77</td>\n",
       "      <td>8.45</td>\n",
       "      <td>76.0</td>\n",
       "      <td>8</td>\n",
       "      <td>E</td>\n",
       "    </tr>\n",
       "    <tr>\n",
       "      <th>1</th>\n",
       "      <td>Super Mario Bros.</td>\n",
       "      <td>NES</td>\n",
       "      <td>1985.0</td>\n",
       "      <td>Platform</td>\n",
       "      <td>29.08</td>\n",
       "      <td>3.58</td>\n",
       "      <td>6.81</td>\n",
       "      <td>0.77</td>\n",
       "      <td>NaN</td>\n",
       "      <td>NaN</td>\n",
       "      <td>NaN</td>\n",
       "    </tr>\n",
       "    <tr>\n",
       "      <th>2</th>\n",
       "      <td>Mario Kart Wii</td>\n",
       "      <td>Wii</td>\n",
       "      <td>2008.0</td>\n",
       "      <td>Racing</td>\n",
       "      <td>15.68</td>\n",
       "      <td>12.76</td>\n",
       "      <td>3.79</td>\n",
       "      <td>3.29</td>\n",
       "      <td>82.0</td>\n",
       "      <td>8.3</td>\n",
       "      <td>E</td>\n",
       "    </tr>\n",
       "    <tr>\n",
       "      <th>3</th>\n",
       "      <td>Wii Sports Resort</td>\n",
       "      <td>Wii</td>\n",
       "      <td>2009.0</td>\n",
       "      <td>Sports</td>\n",
       "      <td>15.61</td>\n",
       "      <td>10.93</td>\n",
       "      <td>3.28</td>\n",
       "      <td>2.95</td>\n",
       "      <td>80.0</td>\n",
       "      <td>8</td>\n",
       "      <td>E</td>\n",
       "    </tr>\n",
       "    <tr>\n",
       "      <th>4</th>\n",
       "      <td>Pokemon Red/Pokemon Blue</td>\n",
       "      <td>GB</td>\n",
       "      <td>1996.0</td>\n",
       "      <td>Role-Playing</td>\n",
       "      <td>11.27</td>\n",
       "      <td>8.89</td>\n",
       "      <td>10.22</td>\n",
       "      <td>1.00</td>\n",
       "      <td>NaN</td>\n",
       "      <td>NaN</td>\n",
       "      <td>NaN</td>\n",
       "    </tr>\n",
       "  </tbody>\n",
       "</table>\n",
       "</div>"
      ],
      "text/plain": [
       "                       Name Platform  Year_of_Release         Genre  NA_sales  \\\n",
       "0                Wii Sports      Wii           2006.0        Sports     41.36   \n",
       "1         Super Mario Bros.      NES           1985.0      Platform     29.08   \n",
       "2            Mario Kart Wii      Wii           2008.0        Racing     15.68   \n",
       "3         Wii Sports Resort      Wii           2009.0        Sports     15.61   \n",
       "4  Pokemon Red/Pokemon Blue       GB           1996.0  Role-Playing     11.27   \n",
       "\n",
       "   EU_sales  JP_sales  Other_sales  Critic_Score User_Score Rating  \n",
       "0     28.96      3.77         8.45          76.0          8      E  \n",
       "1      3.58      6.81         0.77           NaN        NaN    NaN  \n",
       "2     12.76      3.79         3.29          82.0        8.3      E  \n",
       "3     10.93      3.28         2.95          80.0          8      E  \n",
       "4      8.89     10.22         1.00           NaN        NaN    NaN  "
      ]
     },
     "execution_count": 2,
     "metadata": {},
     "output_type": "execute_result"
    }
   ],
   "source": [
    "data = pd.read_csv('https://code.s3.yandex.net/datasets/games.csv')\n",
    "data.head()"
   ]
  },
  {
   "cell_type": "code",
   "execution_count": 3,
   "metadata": {},
   "outputs": [
    {
     "name": "stdout",
     "output_type": "stream",
     "text": [
      "<class 'pandas.core.frame.DataFrame'>\n",
      "RangeIndex: 16715 entries, 0 to 16714\n",
      "Data columns (total 11 columns):\n",
      " #   Column           Non-Null Count  Dtype  \n",
      "---  ------           --------------  -----  \n",
      " 0   Name             16713 non-null  object \n",
      " 1   Platform         16715 non-null  object \n",
      " 2   Year_of_Release  16446 non-null  float64\n",
      " 3   Genre            16713 non-null  object \n",
      " 4   NA_sales         16715 non-null  float64\n",
      " 5   EU_sales         16715 non-null  float64\n",
      " 6   JP_sales         16715 non-null  float64\n",
      " 7   Other_sales      16715 non-null  float64\n",
      " 8   Critic_Score     8137 non-null   float64\n",
      " 9   User_Score       10014 non-null  object \n",
      " 10  Rating           9949 non-null   object \n",
      "dtypes: float64(6), object(5)\n",
      "memory usage: 1.4+ MB\n"
     ]
    }
   ],
   "source": [
    "#Изучим общую информацию о датафрейме\n",
    "data.info()"
   ]
  },
  {
   "cell_type": "code",
   "execution_count": 4,
   "metadata": {},
   "outputs": [
    {
     "name": "stdout",
     "output_type": "stream",
     "text": [
      "<class 'pandas.core.frame.DataFrame'>\n",
      "RangeIndex: 16715 entries, 0 to 16714\n",
      "Data columns (total 11 columns):\n",
      " #   Column           Non-Null Count  Dtype  \n",
      "---  ------           --------------  -----  \n",
      " 0   Name             16713 non-null  string \n",
      " 1   Platform         16715 non-null  string \n",
      " 2   Year_of_Release  16446 non-null  Int64  \n",
      " 3   Genre            16713 non-null  string \n",
      " 4   NA_sales         16715 non-null  Float64\n",
      " 5   EU_sales         16715 non-null  Float64\n",
      " 6   JP_sales         16715 non-null  Float64\n",
      " 7   Other_sales      16715 non-null  Float64\n",
      " 8   Critic_Score     8137 non-null   Int64  \n",
      " 9   User_Score       10014 non-null  string \n",
      " 10  Rating           9949 non-null   string \n",
      "dtypes: Float64(4), Int64(2), string(5)\n",
      "memory usage: 1.5 MB\n"
     ]
    }
   ],
   "source": [
    "#Преобразуем тип данных в наиболее подходящий\n",
    "data = data.convert_dtypes()\n",
    "data.info()"
   ]
  },
  {
   "cell_type": "markdown",
   "metadata": {},
   "source": [
    "Датафрейм состоит из 11 столбцов, и 16715 строк. Присутсвуют пропущенные значения в некоторых столбцах, больше всего в столбцах связанных с рейтингом. Данные приведены к наиболее подходящим типам."
   ]
  },
  {
   "cell_type": "markdown",
   "metadata": {},
   "source": [
    "## Шаг 2. Подготовка данных"
   ]
  },
  {
   "cell_type": "code",
   "execution_count": 5,
   "metadata": {},
   "outputs": [
    {
     "data": {
      "text/html": [
       "<div>\n",
       "<style scoped>\n",
       "    .dataframe tbody tr th:only-of-type {\n",
       "        vertical-align: middle;\n",
       "    }\n",
       "\n",
       "    .dataframe tbody tr th {\n",
       "        vertical-align: top;\n",
       "    }\n",
       "\n",
       "    .dataframe thead th {\n",
       "        text-align: right;\n",
       "    }\n",
       "</style>\n",
       "<table border=\"1\" class=\"dataframe\">\n",
       "  <thead>\n",
       "    <tr style=\"text-align: right;\">\n",
       "      <th></th>\n",
       "      <th>name</th>\n",
       "      <th>platform</th>\n",
       "      <th>year_of_release</th>\n",
       "      <th>genre</th>\n",
       "      <th>na_sales</th>\n",
       "      <th>eu_sales</th>\n",
       "      <th>jp_sales</th>\n",
       "      <th>other_sales</th>\n",
       "      <th>critic_score</th>\n",
       "      <th>user_score</th>\n",
       "      <th>rating</th>\n",
       "    </tr>\n",
       "  </thead>\n",
       "  <tbody>\n",
       "    <tr>\n",
       "      <th>0</th>\n",
       "      <td>Wii Sports</td>\n",
       "      <td>Wii</td>\n",
       "      <td>2006</td>\n",
       "      <td>Sports</td>\n",
       "      <td>41.36</td>\n",
       "      <td>28.96</td>\n",
       "      <td>3.77</td>\n",
       "      <td>8.45</td>\n",
       "      <td>76</td>\n",
       "      <td>8</td>\n",
       "      <td>E</td>\n",
       "    </tr>\n",
       "    <tr>\n",
       "      <th>1</th>\n",
       "      <td>Super Mario Bros.</td>\n",
       "      <td>NES</td>\n",
       "      <td>1985</td>\n",
       "      <td>Platform</td>\n",
       "      <td>29.08</td>\n",
       "      <td>3.58</td>\n",
       "      <td>6.81</td>\n",
       "      <td>0.77</td>\n",
       "      <td>&lt;NA&gt;</td>\n",
       "      <td>&lt;NA&gt;</td>\n",
       "      <td>&lt;NA&gt;</td>\n",
       "    </tr>\n",
       "    <tr>\n",
       "      <th>2</th>\n",
       "      <td>Mario Kart Wii</td>\n",
       "      <td>Wii</td>\n",
       "      <td>2008</td>\n",
       "      <td>Racing</td>\n",
       "      <td>15.68</td>\n",
       "      <td>12.76</td>\n",
       "      <td>3.79</td>\n",
       "      <td>3.29</td>\n",
       "      <td>82</td>\n",
       "      <td>8.3</td>\n",
       "      <td>E</td>\n",
       "    </tr>\n",
       "    <tr>\n",
       "      <th>3</th>\n",
       "      <td>Wii Sports Resort</td>\n",
       "      <td>Wii</td>\n",
       "      <td>2009</td>\n",
       "      <td>Sports</td>\n",
       "      <td>15.61</td>\n",
       "      <td>10.93</td>\n",
       "      <td>3.28</td>\n",
       "      <td>2.95</td>\n",
       "      <td>80</td>\n",
       "      <td>8</td>\n",
       "      <td>E</td>\n",
       "    </tr>\n",
       "    <tr>\n",
       "      <th>4</th>\n",
       "      <td>Pokemon Red/Pokemon Blue</td>\n",
       "      <td>GB</td>\n",
       "      <td>1996</td>\n",
       "      <td>Role-Playing</td>\n",
       "      <td>11.27</td>\n",
       "      <td>8.89</td>\n",
       "      <td>10.22</td>\n",
       "      <td>1.0</td>\n",
       "      <td>&lt;NA&gt;</td>\n",
       "      <td>&lt;NA&gt;</td>\n",
       "      <td>&lt;NA&gt;</td>\n",
       "    </tr>\n",
       "  </tbody>\n",
       "</table>\n",
       "</div>"
      ],
      "text/plain": [
       "                       name platform  year_of_release         genre  na_sales  \\\n",
       "0                Wii Sports      Wii             2006        Sports     41.36   \n",
       "1         Super Mario Bros.      NES             1985      Platform     29.08   \n",
       "2            Mario Kart Wii      Wii             2008        Racing     15.68   \n",
       "3         Wii Sports Resort      Wii             2009        Sports     15.61   \n",
       "4  Pokemon Red/Pokemon Blue       GB             1996  Role-Playing     11.27   \n",
       "\n",
       "   eu_sales  jp_sales  other_sales  critic_score user_score rating  \n",
       "0     28.96      3.77         8.45            76          8      E  \n",
       "1      3.58      6.81         0.77          <NA>       <NA>   <NA>  \n",
       "2     12.76      3.79         3.29            82        8.3      E  \n",
       "3     10.93      3.28         2.95            80          8      E  \n",
       "4      8.89     10.22          1.0          <NA>       <NA>   <NA>  "
      ]
     },
     "execution_count": 5,
     "metadata": {},
     "output_type": "execute_result"
    }
   ],
   "source": [
    "#Приведем названия столбцов к нижнему ригистру\n",
    "data.columns = map(str.lower, data.columns)\n",
    "data.head()"
   ]
  },
  {
   "cell_type": "markdown",
   "metadata": {},
   "source": [
    "Проанализируем типы данных:   \n",
    "столбцы name и platform приведены к типы string - действительно, это строки;  \n",
    "year_of_release вместо float стал int, так как год это целое число;  \n",
    "genre - строка, поэтому string;  \n",
    "na_sales, eu_sales, jp_sales и other_sales остались типом float;    \n",
    "critic_score приведен из типа float к int, так как все оценки данного столбца - целые числа;  \n",
    "user_score приведен к string, но должен быть float, т.е нужно подробнее изучить данные столбца; \n",
    "rating обозначается буквой, поэтому string"
   ]
  },
  {
   "cell_type": "code",
   "execution_count": 6,
   "metadata": {},
   "outputs": [
    {
     "data": {
      "text/plain": [
       "<StringArray>\n",
       "[  '8',  <NA>, '8.3', '8.5', '6.6', '8.4', '8.6', '7.7', '6.3', '7.4', '8.2',\n",
       "   '9', '7.9', '8.1', '8.7', '7.1', '3.4', '5.3', '4.8', '3.2', '8.9', '6.4',\n",
       " '7.8', '7.5', '2.6', '7.2', '9.2',   '7', '7.3', '4.3', '7.6', '5.7',   '5',\n",
       " '9.1', '6.5', 'tbd', '8.8', '6.9', '9.4', '6.8', '6.1', '6.7', '5.4',   '4',\n",
       " '4.9', '4.5', '9.3', '6.2', '4.2',   '6', '3.7', '4.1', '5.8', '5.6', '5.5',\n",
       " '4.4', '4.6', '5.9', '3.9', '3.1', '2.9', '5.2', '3.3', '4.7', '5.1', '3.5',\n",
       " '2.5', '1.9',   '3', '2.7', '2.2',   '2', '9.5', '2.1', '3.6', '2.8', '1.8',\n",
       " '3.8',   '0', '1.6', '9.6', '2.4', '1.7', '1.1', '0.3', '1.5', '0.7', '1.2',\n",
       " '2.3', '0.5', '1.3', '0.2', '0.6', '1.4', '0.9',   '1', '9.7']\n",
       "Length: 97, dtype: string"
      ]
     },
     "execution_count": 6,
     "metadata": {},
     "output_type": "execute_result"
    }
   ],
   "source": [
    "#выведем на экран все значения столбца user_score\n",
    "data['user_score'].unique()"
   ]
  },
  {
   "cell_type": "markdown",
   "metadata": {},
   "source": [
    "Среди числовых знаений присутствует также 'tbd', что означает To Be Determined, т.е будет определено. Из-за этого значения столбец не может быть приведен к типу float. Заменим эти значения на None, т.к. они еще не определены, то есть их можно считать пропущенными."
   ]
  },
  {
   "cell_type": "code",
   "execution_count": 7,
   "metadata": {},
   "outputs": [],
   "source": [
    "data.loc[data['user_score'] == 'tbd', 'user_score'] = None "
   ]
  },
  {
   "cell_type": "code",
   "execution_count": 8,
   "metadata": {},
   "outputs": [
    {
     "name": "stdout",
     "output_type": "stream",
     "text": [
      "<class 'pandas.core.frame.DataFrame'>\n",
      "RangeIndex: 16715 entries, 0 to 16714\n",
      "Data columns (total 11 columns):\n",
      " #   Column           Non-Null Count  Dtype  \n",
      "---  ------           --------------  -----  \n",
      " 0   name             16713 non-null  string \n",
      " 1   platform         16715 non-null  string \n",
      " 2   year_of_release  16446 non-null  Int64  \n",
      " 3   genre            16713 non-null  string \n",
      " 4   na_sales         16715 non-null  Float64\n",
      " 5   eu_sales         16715 non-null  Float64\n",
      " 6   jp_sales         16715 non-null  Float64\n",
      " 7   other_sales      16715 non-null  Float64\n",
      " 8   critic_score     8137 non-null   Int64  \n",
      " 9   user_score       7590 non-null   float64\n",
      " 10  rating           9949 non-null   string \n",
      "dtypes: Float64(4), Int64(2), float64(1), string(4)\n",
      "memory usage: 1.5 MB\n"
     ]
    }
   ],
   "source": [
    "#Приведем значения user_score к типу float\n",
    "data['user_score'] = data['user_score'].astype('float')\n",
    "data.info()"
   ]
  },
  {
   "cell_type": "markdown",
   "metadata": {},
   "source": [
    "Рассмотрим пропущенные значения побробнее во всех стобцах."
   ]
  },
  {
   "cell_type": "code",
   "execution_count": 9,
   "metadata": {},
   "outputs": [
    {
     "data": {
      "text/plain": [
       "<StringArray>\n",
       "[                                                 'Wii Sports',\n",
       "                                           'Super Mario Bros.',\n",
       "                                              'Mario Kart Wii',\n",
       "                                           'Wii Sports Resort',\n",
       "                                    'Pokemon Red/Pokemon Blue',\n",
       "                                                      'Tetris',\n",
       "                                       'New Super Mario Bros.',\n",
       "                                                    'Wii Play',\n",
       "                                   'New Super Mario Bros. Wii',\n",
       "                                                   'Duck Hunt',\n",
       " ...\n",
       "                                    'Mezase!! Tsuri Master DS',\n",
       " 'Eiyuu Densetsu: Sora no Kiseki Material Collection Portable',\n",
       "                                     'STORM: Frontline Nation',\n",
       "                                            'Strawberry Nauts',\n",
       "                                                    'Plushees',\n",
       "                                                     '15 Days',\n",
       "                                            'Aiyoku no Eustia',\n",
       "                          'Woody Woodpecker in Crazy Castle 5',\n",
       "                                            'LMA Manager 2007',\n",
       "                                     'Haitaka no Psychedelica']\n",
       "Length: 11560, dtype: string"
      ]
     },
     "execution_count": 9,
     "metadata": {},
     "output_type": "execute_result"
    }
   ],
   "source": [
    "data['name'].unique()"
   ]
  },
  {
   "cell_type": "code",
   "execution_count": 10,
   "metadata": {},
   "outputs": [
    {
     "data": {
      "text/html": [
       "<div>\n",
       "<style scoped>\n",
       "    .dataframe tbody tr th:only-of-type {\n",
       "        vertical-align: middle;\n",
       "    }\n",
       "\n",
       "    .dataframe tbody tr th {\n",
       "        vertical-align: top;\n",
       "    }\n",
       "\n",
       "    .dataframe thead th {\n",
       "        text-align: right;\n",
       "    }\n",
       "</style>\n",
       "<table border=\"1\" class=\"dataframe\">\n",
       "  <thead>\n",
       "    <tr style=\"text-align: right;\">\n",
       "      <th></th>\n",
       "      <th>name</th>\n",
       "      <th>platform</th>\n",
       "      <th>year_of_release</th>\n",
       "      <th>genre</th>\n",
       "      <th>na_sales</th>\n",
       "      <th>eu_sales</th>\n",
       "      <th>jp_sales</th>\n",
       "      <th>other_sales</th>\n",
       "      <th>critic_score</th>\n",
       "      <th>user_score</th>\n",
       "      <th>rating</th>\n",
       "    </tr>\n",
       "  </thead>\n",
       "  <tbody>\n",
       "    <tr>\n",
       "      <th>659</th>\n",
       "      <td>&lt;NA&gt;</td>\n",
       "      <td>GEN</td>\n",
       "      <td>1993</td>\n",
       "      <td>&lt;NA&gt;</td>\n",
       "      <td>1.78</td>\n",
       "      <td>0.53</td>\n",
       "      <td>0.0</td>\n",
       "      <td>0.08</td>\n",
       "      <td>&lt;NA&gt;</td>\n",
       "      <td>NaN</td>\n",
       "      <td>&lt;NA&gt;</td>\n",
       "    </tr>\n",
       "    <tr>\n",
       "      <th>14244</th>\n",
       "      <td>&lt;NA&gt;</td>\n",
       "      <td>GEN</td>\n",
       "      <td>1993</td>\n",
       "      <td>&lt;NA&gt;</td>\n",
       "      <td>0.0</td>\n",
       "      <td>0.0</td>\n",
       "      <td>0.03</td>\n",
       "      <td>0.0</td>\n",
       "      <td>&lt;NA&gt;</td>\n",
       "      <td>NaN</td>\n",
       "      <td>&lt;NA&gt;</td>\n",
       "    </tr>\n",
       "  </tbody>\n",
       "</table>\n",
       "</div>"
      ],
      "text/plain": [
       "       name platform  year_of_release genre  na_sales  eu_sales  jp_sales  \\\n",
       "659    <NA>      GEN             1993  <NA>      1.78      0.53       0.0   \n",
       "14244  <NA>      GEN             1993  <NA>       0.0       0.0      0.03   \n",
       "\n",
       "       other_sales  critic_score  user_score rating  \n",
       "659           0.08          <NA>         NaN   <NA>  \n",
       "14244          0.0          <NA>         NaN   <NA>  "
      ]
     },
     "execution_count": 10,
     "metadata": {},
     "output_type": "execute_result"
    }
   ],
   "source": [
    "#Выведем на экран пропущенные значения столбца name\n",
    "data[data['name'].isna()]"
   ]
  },
  {
   "cell_type": "markdown",
   "metadata": {},
   "source": [
    "В столбце name всего два пропущенных значения, удалим их, так как много пользы они в себе не несут. Также можно заметить, что в этих данных пропущены значения genre, значит удалив эти строки мы сразу обработаем пропуски этого столбца. Эти пропуски могут объясняться какими-либо сбоями в системе, т.к. их очень мало."
   ]
  },
  {
   "cell_type": "code",
   "execution_count": 11,
   "metadata": {},
   "outputs": [],
   "source": [
    "#Удалим пропущенные значения \n",
    "data = data.loc[data['name'].notna()]"
   ]
  },
  {
   "cell_type": "code",
   "execution_count": 12,
   "metadata": {},
   "outputs": [
    {
     "data": {
      "text/html": [
       "<div>\n",
       "<style scoped>\n",
       "    .dataframe tbody tr th:only-of-type {\n",
       "        vertical-align: middle;\n",
       "    }\n",
       "\n",
       "    .dataframe tbody tr th {\n",
       "        vertical-align: top;\n",
       "    }\n",
       "\n",
       "    .dataframe thead th {\n",
       "        text-align: right;\n",
       "    }\n",
       "</style>\n",
       "<table border=\"1\" class=\"dataframe\">\n",
       "  <thead>\n",
       "    <tr style=\"text-align: right;\">\n",
       "      <th></th>\n",
       "      <th>name</th>\n",
       "      <th>platform</th>\n",
       "      <th>year_of_release</th>\n",
       "      <th>genre</th>\n",
       "      <th>na_sales</th>\n",
       "      <th>eu_sales</th>\n",
       "      <th>jp_sales</th>\n",
       "      <th>other_sales</th>\n",
       "      <th>critic_score</th>\n",
       "      <th>user_score</th>\n",
       "      <th>rating</th>\n",
       "    </tr>\n",
       "  </thead>\n",
       "  <tbody>\n",
       "    <tr>\n",
       "      <th>183</th>\n",
       "      <td>Madden NFL 2004</td>\n",
       "      <td>PS2</td>\n",
       "      <td>&lt;NA&gt;</td>\n",
       "      <td>Sports</td>\n",
       "      <td>4.26</td>\n",
       "      <td>0.26</td>\n",
       "      <td>0.01</td>\n",
       "      <td>0.71</td>\n",
       "      <td>94</td>\n",
       "      <td>8.5</td>\n",
       "      <td>E</td>\n",
       "    </tr>\n",
       "    <tr>\n",
       "      <th>377</th>\n",
       "      <td>FIFA Soccer 2004</td>\n",
       "      <td>PS2</td>\n",
       "      <td>&lt;NA&gt;</td>\n",
       "      <td>Sports</td>\n",
       "      <td>0.59</td>\n",
       "      <td>2.36</td>\n",
       "      <td>0.04</td>\n",
       "      <td>0.51</td>\n",
       "      <td>84</td>\n",
       "      <td>6.4</td>\n",
       "      <td>E</td>\n",
       "    </tr>\n",
       "    <tr>\n",
       "      <th>456</th>\n",
       "      <td>LEGO Batman: The Videogame</td>\n",
       "      <td>Wii</td>\n",
       "      <td>&lt;NA&gt;</td>\n",
       "      <td>Action</td>\n",
       "      <td>1.8</td>\n",
       "      <td>0.97</td>\n",
       "      <td>0.0</td>\n",
       "      <td>0.29</td>\n",
       "      <td>74</td>\n",
       "      <td>7.9</td>\n",
       "      <td>E10+</td>\n",
       "    </tr>\n",
       "    <tr>\n",
       "      <th>475</th>\n",
       "      <td>wwe Smackdown vs. Raw 2006</td>\n",
       "      <td>PS2</td>\n",
       "      <td>&lt;NA&gt;</td>\n",
       "      <td>Fighting</td>\n",
       "      <td>1.57</td>\n",
       "      <td>1.02</td>\n",
       "      <td>0.0</td>\n",
       "      <td>0.41</td>\n",
       "      <td>&lt;NA&gt;</td>\n",
       "      <td>NaN</td>\n",
       "      <td>&lt;NA&gt;</td>\n",
       "    </tr>\n",
       "    <tr>\n",
       "      <th>609</th>\n",
       "      <td>Space Invaders</td>\n",
       "      <td>2600</td>\n",
       "      <td>&lt;NA&gt;</td>\n",
       "      <td>Shooter</td>\n",
       "      <td>2.36</td>\n",
       "      <td>0.14</td>\n",
       "      <td>0.0</td>\n",
       "      <td>0.03</td>\n",
       "      <td>&lt;NA&gt;</td>\n",
       "      <td>NaN</td>\n",
       "      <td>&lt;NA&gt;</td>\n",
       "    </tr>\n",
       "    <tr>\n",
       "      <th>...</th>\n",
       "      <td>...</td>\n",
       "      <td>...</td>\n",
       "      <td>...</td>\n",
       "      <td>...</td>\n",
       "      <td>...</td>\n",
       "      <td>...</td>\n",
       "      <td>...</td>\n",
       "      <td>...</td>\n",
       "      <td>...</td>\n",
       "      <td>...</td>\n",
       "      <td>...</td>\n",
       "    </tr>\n",
       "    <tr>\n",
       "      <th>16373</th>\n",
       "      <td>PDC World Championship Darts 2008</td>\n",
       "      <td>PSP</td>\n",
       "      <td>&lt;NA&gt;</td>\n",
       "      <td>Sports</td>\n",
       "      <td>0.01</td>\n",
       "      <td>0.0</td>\n",
       "      <td>0.0</td>\n",
       "      <td>0.0</td>\n",
       "      <td>43</td>\n",
       "      <td>NaN</td>\n",
       "      <td>E10+</td>\n",
       "    </tr>\n",
       "    <tr>\n",
       "      <th>16405</th>\n",
       "      <td>Freaky Flyers</td>\n",
       "      <td>GC</td>\n",
       "      <td>&lt;NA&gt;</td>\n",
       "      <td>Racing</td>\n",
       "      <td>0.01</td>\n",
       "      <td>0.0</td>\n",
       "      <td>0.0</td>\n",
       "      <td>0.0</td>\n",
       "      <td>69</td>\n",
       "      <td>6.5</td>\n",
       "      <td>T</td>\n",
       "    </tr>\n",
       "    <tr>\n",
       "      <th>16448</th>\n",
       "      <td>Inversion</td>\n",
       "      <td>PC</td>\n",
       "      <td>&lt;NA&gt;</td>\n",
       "      <td>Shooter</td>\n",
       "      <td>0.01</td>\n",
       "      <td>0.0</td>\n",
       "      <td>0.0</td>\n",
       "      <td>0.0</td>\n",
       "      <td>59</td>\n",
       "      <td>6.7</td>\n",
       "      <td>M</td>\n",
       "    </tr>\n",
       "    <tr>\n",
       "      <th>16458</th>\n",
       "      <td>Hakuouki: Shinsengumi Kitan</td>\n",
       "      <td>PS3</td>\n",
       "      <td>&lt;NA&gt;</td>\n",
       "      <td>Adventure</td>\n",
       "      <td>0.01</td>\n",
       "      <td>0.0</td>\n",
       "      <td>0.0</td>\n",
       "      <td>0.0</td>\n",
       "      <td>&lt;NA&gt;</td>\n",
       "      <td>NaN</td>\n",
       "      <td>&lt;NA&gt;</td>\n",
       "    </tr>\n",
       "    <tr>\n",
       "      <th>16522</th>\n",
       "      <td>Virtua Quest</td>\n",
       "      <td>GC</td>\n",
       "      <td>&lt;NA&gt;</td>\n",
       "      <td>Role-Playing</td>\n",
       "      <td>0.01</td>\n",
       "      <td>0.0</td>\n",
       "      <td>0.0</td>\n",
       "      <td>0.0</td>\n",
       "      <td>55</td>\n",
       "      <td>5.5</td>\n",
       "      <td>T</td>\n",
       "    </tr>\n",
       "  </tbody>\n",
       "</table>\n",
       "<p>269 rows × 11 columns</p>\n",
       "</div>"
      ],
      "text/plain": [
       "                                    name platform  year_of_release  \\\n",
       "183                      Madden NFL 2004      PS2             <NA>   \n",
       "377                     FIFA Soccer 2004      PS2             <NA>   \n",
       "456           LEGO Batman: The Videogame      Wii             <NA>   \n",
       "475           wwe Smackdown vs. Raw 2006      PS2             <NA>   \n",
       "609                       Space Invaders     2600             <NA>   \n",
       "...                                  ...      ...              ...   \n",
       "16373  PDC World Championship Darts 2008      PSP             <NA>   \n",
       "16405                      Freaky Flyers       GC             <NA>   \n",
       "16448                          Inversion       PC             <NA>   \n",
       "16458        Hakuouki: Shinsengumi Kitan      PS3             <NA>   \n",
       "16522                       Virtua Quest       GC             <NA>   \n",
       "\n",
       "              genre  na_sales  eu_sales  jp_sales  other_sales  critic_score  \\\n",
       "183          Sports      4.26      0.26      0.01         0.71            94   \n",
       "377          Sports      0.59      2.36      0.04         0.51            84   \n",
       "456          Action       1.8      0.97       0.0         0.29            74   \n",
       "475        Fighting      1.57      1.02       0.0         0.41          <NA>   \n",
       "609         Shooter      2.36      0.14       0.0         0.03          <NA>   \n",
       "...             ...       ...       ...       ...          ...           ...   \n",
       "16373        Sports      0.01       0.0       0.0          0.0            43   \n",
       "16405        Racing      0.01       0.0       0.0          0.0            69   \n",
       "16448       Shooter      0.01       0.0       0.0          0.0            59   \n",
       "16458     Adventure      0.01       0.0       0.0          0.0          <NA>   \n",
       "16522  Role-Playing      0.01       0.0       0.0          0.0            55   \n",
       "\n",
       "       user_score rating  \n",
       "183           8.5      E  \n",
       "377           6.4      E  \n",
       "456           7.9   E10+  \n",
       "475           NaN   <NA>  \n",
       "609           NaN   <NA>  \n",
       "...           ...    ...  \n",
       "16373         NaN   E10+  \n",
       "16405         6.5      T  \n",
       "16448         6.7      M  \n",
       "16458         NaN   <NA>  \n",
       "16522         5.5      T  \n",
       "\n",
       "[269 rows x 11 columns]"
      ]
     },
     "execution_count": 12,
     "metadata": {},
     "output_type": "execute_result"
    }
   ],
   "source": [
    "#Выведем на экран пропущенные значения столбца year_of_release\n",
    "data.query('year_of_release.isna()')"
   ]
  },
  {
   "cell_type": "markdown",
   "metadata": {},
   "source": [
    "Пропущенные значения столбца year_of_release заполнить искусственно нельзя, количство этих данных досточно большое, поэтому удалять мы их не можем. Пропуски могут быть обусловлены тем , что у некоторых из этих игр год релиза в названии, либо просто технической ошибкой."
   ]
  },
  {
   "cell_type": "markdown",
   "metadata": {},
   "source": [
    "Удалим данные с пропущенными занчениями в year_of_release."
   ]
  },
  {
   "cell_type": "code",
   "execution_count": 13,
   "metadata": {},
   "outputs": [],
   "source": [
    "data = data.loc[data['year_of_release'].notna()]"
   ]
  },
  {
   "cell_type": "code",
   "execution_count": 14,
   "metadata": {},
   "outputs": [
    {
     "data": {
      "text/plain": [
       "(16444, 11)"
      ]
     },
     "execution_count": 14,
     "metadata": {},
     "output_type": "execute_result"
    }
   ],
   "source": [
    "#проверяем размер датафрейма\n",
    "data.shape"
   ]
  },
  {
   "cell_type": "markdown",
   "metadata": {},
   "source": [
    "Пропущенные значения столбцов, отвечающих за рейтинги заменить нельзя, т.к. это будет сильно искажать данные. Пропуски могут быть объяснены тем, что игры не получали должного количества отзывов и оценок, поэтому сайты не могли выставить полноценную оценку игре."
   ]
  },
  {
   "cell_type": "code",
   "execution_count": 15,
   "metadata": {
    "scrolled": true
   },
   "outputs": [
    {
     "data": {
      "text/plain": [
       "<StringArray>\n",
       "['E', <NA>, 'M', 'T', 'E10+', 'K-A', 'AO', 'EC', 'RP']\n",
       "Length: 9, dtype: string"
      ]
     },
     "execution_count": 15,
     "metadata": {},
     "output_type": "execute_result"
    }
   ],
   "source": [
    "data['rating'].unique()"
   ]
  },
  {
   "cell_type": "markdown",
   "metadata": {},
   "source": [
    "Пропуски в стобцах user_score и critic_score оставим как есть, а у rating заменим на 'unknown'."
   ]
  },
  {
   "cell_type": "code",
   "execution_count": 16,
   "metadata": {},
   "outputs": [],
   "source": [
    "data['rating'] = data['rating'].fillna('unknown')"
   ]
  },
  {
   "cell_type": "code",
   "execution_count": 17,
   "metadata": {},
   "outputs": [
    {
     "data": {
      "text/plain": [
       "<StringArray>\n",
       "['E', 'unknown', 'M', 'T', 'E10+', 'K-A', 'AO', 'EC', 'RP']\n",
       "Length: 9, dtype: string"
      ]
     },
     "execution_count": 17,
     "metadata": {},
     "output_type": "execute_result"
    }
   ],
   "source": [
    "data['rating'].unique()"
   ]
  },
  {
   "cell_type": "code",
   "execution_count": 18,
   "metadata": {},
   "outputs": [],
   "source": [
    "#добавим новый столбец суммарных продаж во всех регионах \n",
    "data['total_sales'] = data['na_sales'].sum() + data['eu_sales'].sum() + data['jp_sales'] + data['other_sales']"
   ]
  },
  {
   "cell_type": "code",
   "execution_count": 19,
   "metadata": {},
   "outputs": [
    {
     "data": {
      "text/plain": [
       "0"
      ]
     },
     "execution_count": 19,
     "metadata": {},
     "output_type": "execute_result"
    }
   ],
   "source": [
    "#Проверим наличие явных дубликатов\n",
    "data.duplicated().sum()"
   ]
  },
  {
   "cell_type": "code",
   "execution_count": 20,
   "metadata": {},
   "outputs": [],
   "source": [
    "#Удалим явные дубликаты\n",
    "data = data.drop_duplicates()"
   ]
  },
  {
   "cell_type": "code",
   "execution_count": 21,
   "metadata": {},
   "outputs": [
    {
     "data": {
      "text/plain": [
       "(16444, 12)"
      ]
     },
     "execution_count": 21,
     "metadata": {},
     "output_type": "execute_result"
    }
   ],
   "source": [
    "data.shape"
   ]
  },
  {
   "cell_type": "markdown",
   "metadata": {},
   "source": [
    "Проверим наличие неяных дубликатов "
   ]
  },
  {
   "cell_type": "code",
   "execution_count": 22,
   "metadata": {},
   "outputs": [],
   "source": [
    "#Приводим к нижнему регистру\n",
    "data['name'] = data['name'].str.lower()\n",
    "#Удаляем пробелы в начале и конце\n",
    "data['name'] = data['name'].str.strip()"
   ]
  },
  {
   "cell_type": "code",
   "execution_count": 23,
   "metadata": {
    "scrolled": true
   },
   "outputs": [],
   "source": [
    "data_dupl = data.groupby('name')['platform'].count().reset_index()"
   ]
  },
  {
   "cell_type": "code",
   "execution_count": 24,
   "metadata": {},
   "outputs": [
    {
     "data": {
      "text/html": [
       "<div>\n",
       "<style scoped>\n",
       "    .dataframe tbody tr th:only-of-type {\n",
       "        vertical-align: middle;\n",
       "    }\n",
       "\n",
       "    .dataframe tbody tr th {\n",
       "        vertical-align: top;\n",
       "    }\n",
       "\n",
       "    .dataframe thead th {\n",
       "        text-align: right;\n",
       "    }\n",
       "</style>\n",
       "<table border=\"1\" class=\"dataframe\">\n",
       "  <thead>\n",
       "    <tr style=\"text-align: right;\">\n",
       "      <th></th>\n",
       "      <th>name</th>\n",
       "      <th>platform</th>\n",
       "    </tr>\n",
       "  </thead>\n",
       "  <tbody>\n",
       "    <tr>\n",
       "      <th>12</th>\n",
       "      <td>007: quantum of solace</td>\n",
       "      <td>6</td>\n",
       "    </tr>\n",
       "    <tr>\n",
       "      <th>13</th>\n",
       "      <td>007: the world is not enough</td>\n",
       "      <td>2</td>\n",
       "    </tr>\n",
       "    <tr>\n",
       "      <th>28</th>\n",
       "      <td>11eyes: crossover</td>\n",
       "      <td>2</td>\n",
       "    </tr>\n",
       "    <tr>\n",
       "      <th>34</th>\n",
       "      <td>18 wheeler: american pro trucker</td>\n",
       "      <td>2</td>\n",
       "    </tr>\n",
       "    <tr>\n",
       "      <th>37</th>\n",
       "      <td>187: ride or die</td>\n",
       "      <td>2</td>\n",
       "    </tr>\n",
       "    <tr>\n",
       "      <th>...</th>\n",
       "      <td>...</td>\n",
       "      <td>...</td>\n",
       "    </tr>\n",
       "    <tr>\n",
       "      <th>11407</th>\n",
       "      <td>zoo tycoon (2013)</td>\n",
       "      <td>2</td>\n",
       "    </tr>\n",
       "    <tr>\n",
       "      <th>11415</th>\n",
       "      <td>zoocube</td>\n",
       "      <td>2</td>\n",
       "    </tr>\n",
       "    <tr>\n",
       "      <th>11418</th>\n",
       "      <td>zumba fitness</td>\n",
       "      <td>3</td>\n",
       "    </tr>\n",
       "    <tr>\n",
       "      <th>11420</th>\n",
       "      <td>zumba fitness core</td>\n",
       "      <td>2</td>\n",
       "    </tr>\n",
       "    <tr>\n",
       "      <th>11422</th>\n",
       "      <td>zumba fitness: world party</td>\n",
       "      <td>2</td>\n",
       "    </tr>\n",
       "  </tbody>\n",
       "</table>\n",
       "<p>2748 rows × 2 columns</p>\n",
       "</div>"
      ],
      "text/plain": [
       "                                   name  platform\n",
       "12               007: quantum of solace         6\n",
       "13         007: the world is not enough         2\n",
       "28                    11eyes: crossover         2\n",
       "34     18 wheeler: american pro trucker         2\n",
       "37                     187: ride or die         2\n",
       "...                                 ...       ...\n",
       "11407                 zoo tycoon (2013)         2\n",
       "11415                           zoocube         2\n",
       "11418                     zumba fitness         3\n",
       "11420                zumba fitness core         2\n",
       "11422        zumba fitness: world party         2\n",
       "\n",
       "[2748 rows x 2 columns]"
      ]
     },
     "execution_count": 24,
     "metadata": {},
     "output_type": "execute_result"
    }
   ],
   "source": [
    "data_dupl[data_dupl['platform'] > 1]"
   ]
  },
  {
   "cell_type": "code",
   "execution_count": 25,
   "metadata": {},
   "outputs": [
    {
     "data": {
      "text/plain": [
       "(16444, 12)"
      ]
     },
     "execution_count": 25,
     "metadata": {},
     "output_type": "execute_result"
    }
   ],
   "source": [
    "data.shape"
   ]
  },
  {
   "cell_type": "code",
   "execution_count": 26,
   "metadata": {
    "scrolled": true
   },
   "outputs": [
    {
     "data": {
      "text/html": [
       "<div>\n",
       "<style scoped>\n",
       "    .dataframe tbody tr th:only-of-type {\n",
       "        vertical-align: middle;\n",
       "    }\n",
       "\n",
       "    .dataframe tbody tr th {\n",
       "        vertical-align: top;\n",
       "    }\n",
       "\n",
       "    .dataframe thead th {\n",
       "        text-align: right;\n",
       "    }\n",
       "</style>\n",
       "<table border=\"1\" class=\"dataframe\">\n",
       "  <thead>\n",
       "    <tr style=\"text-align: right;\">\n",
       "      <th></th>\n",
       "      <th>name</th>\n",
       "      <th>platform</th>\n",
       "      <th>year_of_release</th>\n",
       "      <th>genre</th>\n",
       "      <th>na_sales</th>\n",
       "      <th>eu_sales</th>\n",
       "      <th>jp_sales</th>\n",
       "      <th>other_sales</th>\n",
       "      <th>critic_score</th>\n",
       "      <th>user_score</th>\n",
       "      <th>rating</th>\n",
       "      <th>total_sales</th>\n",
       "    </tr>\n",
       "  </thead>\n",
       "  <tbody>\n",
       "    <tr>\n",
       "      <th>0</th>\n",
       "      <td>wii sports</td>\n",
       "      <td>Wii</td>\n",
       "      <td>2006</td>\n",
       "      <td>Sports</td>\n",
       "      <td>41.36</td>\n",
       "      <td>28.96</td>\n",
       "      <td>3.77</td>\n",
       "      <td>8.45</td>\n",
       "      <td>76</td>\n",
       "      <td>8.0</td>\n",
       "      <td>E</td>\n",
       "      <td>6753.32</td>\n",
       "    </tr>\n",
       "    <tr>\n",
       "      <th>1</th>\n",
       "      <td>super mario bros.</td>\n",
       "      <td>NES</td>\n",
       "      <td>1985</td>\n",
       "      <td>Platform</td>\n",
       "      <td>29.08</td>\n",
       "      <td>3.58</td>\n",
       "      <td>6.81</td>\n",
       "      <td>0.77</td>\n",
       "      <td>&lt;NA&gt;</td>\n",
       "      <td>NaN</td>\n",
       "      <td>unknown</td>\n",
       "      <td>6748.68</td>\n",
       "    </tr>\n",
       "    <tr>\n",
       "      <th>2</th>\n",
       "      <td>mario kart wii</td>\n",
       "      <td>Wii</td>\n",
       "      <td>2008</td>\n",
       "      <td>Racing</td>\n",
       "      <td>15.68</td>\n",
       "      <td>12.76</td>\n",
       "      <td>3.79</td>\n",
       "      <td>3.29</td>\n",
       "      <td>82</td>\n",
       "      <td>8.3</td>\n",
       "      <td>E</td>\n",
       "      <td>6748.18</td>\n",
       "    </tr>\n",
       "    <tr>\n",
       "      <th>3</th>\n",
       "      <td>wii sports resort</td>\n",
       "      <td>Wii</td>\n",
       "      <td>2009</td>\n",
       "      <td>Sports</td>\n",
       "      <td>15.61</td>\n",
       "      <td>10.93</td>\n",
       "      <td>3.28</td>\n",
       "      <td>2.95</td>\n",
       "      <td>80</td>\n",
       "      <td>8.0</td>\n",
       "      <td>E</td>\n",
       "      <td>6747.33</td>\n",
       "    </tr>\n",
       "    <tr>\n",
       "      <th>4</th>\n",
       "      <td>pokemon red/pokemon blue</td>\n",
       "      <td>GB</td>\n",
       "      <td>1996</td>\n",
       "      <td>Role-Playing</td>\n",
       "      <td>11.27</td>\n",
       "      <td>8.89</td>\n",
       "      <td>10.22</td>\n",
       "      <td>1.0</td>\n",
       "      <td>&lt;NA&gt;</td>\n",
       "      <td>NaN</td>\n",
       "      <td>unknown</td>\n",
       "      <td>6752.32</td>\n",
       "    </tr>\n",
       "  </tbody>\n",
       "</table>\n",
       "</div>"
      ],
      "text/plain": [
       "                       name platform  year_of_release         genre  na_sales  \\\n",
       "0                wii sports      Wii             2006        Sports     41.36   \n",
       "1         super mario bros.      NES             1985      Platform     29.08   \n",
       "2            mario kart wii      Wii             2008        Racing     15.68   \n",
       "3         wii sports resort      Wii             2009        Sports     15.61   \n",
       "4  pokemon red/pokemon blue       GB             1996  Role-Playing     11.27   \n",
       "\n",
       "   eu_sales  jp_sales  other_sales  critic_score  user_score   rating  \\\n",
       "0     28.96      3.77         8.45            76         8.0        E   \n",
       "1      3.58      6.81         0.77          <NA>         NaN  unknown   \n",
       "2     12.76      3.79         3.29            82         8.3        E   \n",
       "3     10.93      3.28         2.95            80         8.0        E   \n",
       "4      8.89     10.22          1.0          <NA>         NaN  unknown   \n",
       "\n",
       "   total_sales  \n",
       "0      6753.32  \n",
       "1      6748.68  \n",
       "2      6748.18  \n",
       "3      6747.33  \n",
       "4      6752.32  "
      ]
     },
     "execution_count": 26,
     "metadata": {},
     "output_type": "execute_result"
    }
   ],
   "source": [
    "data.head()"
   ]
  },
  {
   "cell_type": "markdown",
   "metadata": {},
   "source": [
    "\n",
    "Названия столбцов были приведены к нижнему регистру, все данные были преобразованы в нужные типы, были обработаны все пропуски, а также учтены явные и неявные дубликаты"
   ]
  },
  {
   "cell_type": "markdown",
   "metadata": {},
   "source": [
    "## Шаг 3. Исследовательский анализ данных"
   ]
  },
  {
   "cell_type": "code",
   "execution_count": 27,
   "metadata": {},
   "outputs": [
    {
     "data": {
      "text/html": [
       "<div>\n",
       "<style scoped>\n",
       "    .dataframe tbody tr th:only-of-type {\n",
       "        vertical-align: middle;\n",
       "    }\n",
       "\n",
       "    .dataframe tbody tr th {\n",
       "        vertical-align: top;\n",
       "    }\n",
       "\n",
       "    .dataframe thead th {\n",
       "        text-align: right;\n",
       "    }\n",
       "</style>\n",
       "<table border=\"1\" class=\"dataframe\">\n",
       "  <thead>\n",
       "    <tr style=\"text-align: right;\">\n",
       "      <th></th>\n",
       "      <th>Год</th>\n",
       "      <th>Количество игр</th>\n",
       "    </tr>\n",
       "  </thead>\n",
       "  <tbody>\n",
       "    <tr>\n",
       "      <th>0</th>\n",
       "      <td>1980</td>\n",
       "      <td>9</td>\n",
       "    </tr>\n",
       "    <tr>\n",
       "      <th>1</th>\n",
       "      <td>1981</td>\n",
       "      <td>46</td>\n",
       "    </tr>\n",
       "    <tr>\n",
       "      <th>2</th>\n",
       "      <td>1982</td>\n",
       "      <td>36</td>\n",
       "    </tr>\n",
       "    <tr>\n",
       "      <th>3</th>\n",
       "      <td>1983</td>\n",
       "      <td>17</td>\n",
       "    </tr>\n",
       "    <tr>\n",
       "      <th>4</th>\n",
       "      <td>1984</td>\n",
       "      <td>14</td>\n",
       "    </tr>\n",
       "    <tr>\n",
       "      <th>5</th>\n",
       "      <td>1985</td>\n",
       "      <td>14</td>\n",
       "    </tr>\n",
       "    <tr>\n",
       "      <th>6</th>\n",
       "      <td>1986</td>\n",
       "      <td>21</td>\n",
       "    </tr>\n",
       "    <tr>\n",
       "      <th>7</th>\n",
       "      <td>1987</td>\n",
       "      <td>16</td>\n",
       "    </tr>\n",
       "    <tr>\n",
       "      <th>8</th>\n",
       "      <td>1988</td>\n",
       "      <td>15</td>\n",
       "    </tr>\n",
       "    <tr>\n",
       "      <th>9</th>\n",
       "      <td>1989</td>\n",
       "      <td>17</td>\n",
       "    </tr>\n",
       "    <tr>\n",
       "      <th>10</th>\n",
       "      <td>1990</td>\n",
       "      <td>16</td>\n",
       "    </tr>\n",
       "    <tr>\n",
       "      <th>11</th>\n",
       "      <td>1991</td>\n",
       "      <td>41</td>\n",
       "    </tr>\n",
       "    <tr>\n",
       "      <th>12</th>\n",
       "      <td>1992</td>\n",
       "      <td>43</td>\n",
       "    </tr>\n",
       "    <tr>\n",
       "      <th>13</th>\n",
       "      <td>1993</td>\n",
       "      <td>60</td>\n",
       "    </tr>\n",
       "    <tr>\n",
       "      <th>14</th>\n",
       "      <td>1994</td>\n",
       "      <td>121</td>\n",
       "    </tr>\n",
       "    <tr>\n",
       "      <th>15</th>\n",
       "      <td>1995</td>\n",
       "      <td>219</td>\n",
       "    </tr>\n",
       "    <tr>\n",
       "      <th>16</th>\n",
       "      <td>1996</td>\n",
       "      <td>263</td>\n",
       "    </tr>\n",
       "    <tr>\n",
       "      <th>17</th>\n",
       "      <td>1997</td>\n",
       "      <td>289</td>\n",
       "    </tr>\n",
       "    <tr>\n",
       "      <th>18</th>\n",
       "      <td>1998</td>\n",
       "      <td>379</td>\n",
       "    </tr>\n",
       "    <tr>\n",
       "      <th>19</th>\n",
       "      <td>1999</td>\n",
       "      <td>338</td>\n",
       "    </tr>\n",
       "    <tr>\n",
       "      <th>20</th>\n",
       "      <td>2000</td>\n",
       "      <td>350</td>\n",
       "    </tr>\n",
       "    <tr>\n",
       "      <th>21</th>\n",
       "      <td>2001</td>\n",
       "      <td>482</td>\n",
       "    </tr>\n",
       "    <tr>\n",
       "      <th>22</th>\n",
       "      <td>2002</td>\n",
       "      <td>829</td>\n",
       "    </tr>\n",
       "    <tr>\n",
       "      <th>23</th>\n",
       "      <td>2003</td>\n",
       "      <td>775</td>\n",
       "    </tr>\n",
       "    <tr>\n",
       "      <th>24</th>\n",
       "      <td>2004</td>\n",
       "      <td>762</td>\n",
       "    </tr>\n",
       "    <tr>\n",
       "      <th>25</th>\n",
       "      <td>2005</td>\n",
       "      <td>939</td>\n",
       "    </tr>\n",
       "    <tr>\n",
       "      <th>26</th>\n",
       "      <td>2006</td>\n",
       "      <td>1006</td>\n",
       "    </tr>\n",
       "    <tr>\n",
       "      <th>27</th>\n",
       "      <td>2007</td>\n",
       "      <td>1197</td>\n",
       "    </tr>\n",
       "    <tr>\n",
       "      <th>28</th>\n",
       "      <td>2008</td>\n",
       "      <td>1427</td>\n",
       "    </tr>\n",
       "    <tr>\n",
       "      <th>29</th>\n",
       "      <td>2009</td>\n",
       "      <td>1426</td>\n",
       "    </tr>\n",
       "    <tr>\n",
       "      <th>30</th>\n",
       "      <td>2010</td>\n",
       "      <td>1255</td>\n",
       "    </tr>\n",
       "    <tr>\n",
       "      <th>31</th>\n",
       "      <td>2011</td>\n",
       "      <td>1136</td>\n",
       "    </tr>\n",
       "    <tr>\n",
       "      <th>32</th>\n",
       "      <td>2012</td>\n",
       "      <td>653</td>\n",
       "    </tr>\n",
       "    <tr>\n",
       "      <th>33</th>\n",
       "      <td>2013</td>\n",
       "      <td>544</td>\n",
       "    </tr>\n",
       "    <tr>\n",
       "      <th>34</th>\n",
       "      <td>2014</td>\n",
       "      <td>581</td>\n",
       "    </tr>\n",
       "    <tr>\n",
       "      <th>35</th>\n",
       "      <td>2015</td>\n",
       "      <td>606</td>\n",
       "    </tr>\n",
       "    <tr>\n",
       "      <th>36</th>\n",
       "      <td>2016</td>\n",
       "      <td>502</td>\n",
       "    </tr>\n",
       "  </tbody>\n",
       "</table>\n",
       "</div>"
      ],
      "text/plain": [
       "     Год  Количество игр\n",
       "0   1980               9\n",
       "1   1981              46\n",
       "2   1982              36\n",
       "3   1983              17\n",
       "4   1984              14\n",
       "5   1985              14\n",
       "6   1986              21\n",
       "7   1987              16\n",
       "8   1988              15\n",
       "9   1989              17\n",
       "10  1990              16\n",
       "11  1991              41\n",
       "12  1992              43\n",
       "13  1993              60\n",
       "14  1994             121\n",
       "15  1995             219\n",
       "16  1996             263\n",
       "17  1997             289\n",
       "18  1998             379\n",
       "19  1999             338\n",
       "20  2000             350\n",
       "21  2001             482\n",
       "22  2002             829\n",
       "23  2003             775\n",
       "24  2004             762\n",
       "25  2005             939\n",
       "26  2006            1006\n",
       "27  2007            1197\n",
       "28  2008            1427\n",
       "29  2009            1426\n",
       "30  2010            1255\n",
       "31  2011            1136\n",
       "32  2012             653\n",
       "33  2013             544\n",
       "34  2014             581\n",
       "35  2015             606\n",
       "36  2016             502"
      ]
     },
     "execution_count": 27,
     "metadata": {},
     "output_type": "execute_result"
    }
   ],
   "source": [
    "#Выведем на экран сколько игр выпускались в разные годы\n",
    "data_games = data.groupby('year_of_release')['name'].count().reset_index()\n",
    "data_games.columns = ['Год', 'Количество игр']\n",
    "data_games"
   ]
  },
  {
   "cell_type": "markdown",
   "metadata": {},
   "source": [
    "Построим расмпределение количества выпущенных игр от года релиза с помощью столбчатой диагрмы и линейного графика."
   ]
  },
  {
   "cell_type": "code",
   "execution_count": 28,
   "metadata": {},
   "outputs": [
    {
     "data": {
      "text/plain": [
       "(array([ 0,  1,  2,  3,  4,  5,  6,  7,  8,  9, 10, 11, 12, 13, 14, 15, 16,\n",
       "        17, 18, 19, 20, 21, 22, 23, 24, 25, 26, 27, 28, 29, 30, 31, 32, 33,\n",
       "        34, 35, 36]),\n",
       " [Text(0, 0, '1980'),\n",
       "  Text(1, 0, '1981'),\n",
       "  Text(2, 0, '1982'),\n",
       "  Text(3, 0, '1983'),\n",
       "  Text(4, 0, '1984'),\n",
       "  Text(5, 0, '1985'),\n",
       "  Text(6, 0, '1986'),\n",
       "  Text(7, 0, '1987'),\n",
       "  Text(8, 0, '1988'),\n",
       "  Text(9, 0, '1989'),\n",
       "  Text(10, 0, '1990'),\n",
       "  Text(11, 0, '1991'),\n",
       "  Text(12, 0, '1992'),\n",
       "  Text(13, 0, '1993'),\n",
       "  Text(14, 0, '1994'),\n",
       "  Text(15, 0, '1995'),\n",
       "  Text(16, 0, '1996'),\n",
       "  Text(17, 0, '1997'),\n",
       "  Text(18, 0, '1998'),\n",
       "  Text(19, 0, '1999'),\n",
       "  Text(20, 0, '2000'),\n",
       "  Text(21, 0, '2001'),\n",
       "  Text(22, 0, '2002'),\n",
       "  Text(23, 0, '2003'),\n",
       "  Text(24, 0, '2004'),\n",
       "  Text(25, 0, '2005'),\n",
       "  Text(26, 0, '2006'),\n",
       "  Text(27, 0, '2007'),\n",
       "  Text(28, 0, '2008'),\n",
       "  Text(29, 0, '2009'),\n",
       "  Text(30, 0, '2010'),\n",
       "  Text(31, 0, '2011'),\n",
       "  Text(32, 0, '2012'),\n",
       "  Text(33, 0, '2013'),\n",
       "  Text(34, 0, '2014'),\n",
       "  Text(35, 0, '2015'),\n",
       "  Text(36, 0, '2016')])"
      ]
     },
     "execution_count": 28,
     "metadata": {},
     "output_type": "execute_result"
    },
    {
     "data": {
      "image/png": "[encoded data removed]",
      "text/plain": [
       "<Figure size 1170x827 with 1 Axes>"
      ]
     },
     "metadata": {},
     "output_type": "display_data"
    }
   ],
   "source": [
    "sns.barplot(data=data_games, x='Год', y='Количество игр').set_title('Распределение количества выпущенных игр')\n",
    "plt.xticks(rotation=90)"
   ]
  },
  {
   "cell_type": "code",
   "execution_count": 29,
   "metadata": {},
   "outputs": [
    {
     "name": "stderr",
     "output_type": "stream",
     "text": [
      "C:\\Users\\ysx12\\anaconda3\\Lib\\site-packages\\seaborn\\_oldcore.py:1119: FutureWarning: use_inf_as_na option is deprecated and will be removed in a future version. Convert inf values to NaN before operating instead.\n",
      "  with pd.option_context('mode.use_inf_as_na', True):\n",
      "C:\\Users\\ysx12\\anaconda3\\Lib\\site-packages\\seaborn\\_oldcore.py:1119: FutureWarning: use_inf_as_na option is deprecated and will be removed in a future version. Convert inf values to NaN before operating instead.\n",
      "  with pd.option_context('mode.use_inf_as_na', True):\n"
     ]
    },
    {
     "ename": "TypeError",
     "evalue": "ufunc 'isfinite' not supported for the input types, and the inputs could not be safely coerced to any supported types according to the casting rule ''safe''",
     "output_type": "error",
     "traceback": [
      "\u001b[1;31m---------------------------------------------------------------------------\u001b[0m",
      "\u001b[1;31mTypeError\u001b[0m                                 Traceback (most recent call last)",
      "Cell \u001b[1;32mIn[29], line 1\u001b[0m\n\u001b[1;32m----> 1\u001b[0m sns\u001b[38;5;241m.\u001b[39mlineplot(data\u001b[38;5;241m=\u001b[39mdata_games, x\u001b[38;5;241m=\u001b[39m\u001b[38;5;124m'\u001b[39m\u001b[38;5;124mГод\u001b[39m\u001b[38;5;124m'\u001b[39m, y\u001b[38;5;241m=\u001b[39m\u001b[38;5;124m'\u001b[39m\u001b[38;5;124mКоличество игр\u001b[39m\u001b[38;5;124m'\u001b[39m, marker\u001b[38;5;241m=\u001b[39m\u001b[38;5;124m'\u001b[39m\u001b[38;5;124mo\u001b[39m\u001b[38;5;124m'\u001b[39m)\n\u001b[0;32m      2\u001b[0m plt\u001b[38;5;241m.\u001b[39mtitle(\u001b[38;5;124m'\u001b[39m\u001b[38;5;124mРаспределение количества выпущенных игр\u001b[39m\u001b[38;5;124m'\u001b[39m)\n",
      "File \u001b[1;32m~\\anaconda3\\Lib\\site-packages\\seaborn\\relational.py:645\u001b[0m, in \u001b[0;36mlineplot\u001b[1;34m(data, x, y, hue, size, style, units, palette, hue_order, hue_norm, sizes, size_order, size_norm, dashes, markers, style_order, estimator, errorbar, n_boot, seed, orient, sort, err_style, err_kws, legend, ci, ax, **kwargs)\u001b[0m\n\u001b[0;32m    642\u001b[0m color \u001b[38;5;241m=\u001b[39m kwargs\u001b[38;5;241m.\u001b[39mpop(\u001b[38;5;124m\"\u001b[39m\u001b[38;5;124mcolor\u001b[39m\u001b[38;5;124m\"\u001b[39m, kwargs\u001b[38;5;241m.\u001b[39mpop(\u001b[38;5;124m\"\u001b[39m\u001b[38;5;124mc\u001b[39m\u001b[38;5;124m\"\u001b[39m, \u001b[38;5;28;01mNone\u001b[39;00m))\n\u001b[0;32m    643\u001b[0m kwargs[\u001b[38;5;124m\"\u001b[39m\u001b[38;5;124mcolor\u001b[39m\u001b[38;5;124m\"\u001b[39m] \u001b[38;5;241m=\u001b[39m _default_color(ax\u001b[38;5;241m.\u001b[39mplot, hue, color, kwargs)\n\u001b[1;32m--> 645\u001b[0m p\u001b[38;5;241m.\u001b[39mplot(ax, kwargs)\n\u001b[0;32m    646\u001b[0m \u001b[38;5;28;01mreturn\u001b[39;00m ax\n",
      "File \u001b[1;32m~\\anaconda3\\Lib\\site-packages\\seaborn\\relational.py:489\u001b[0m, in \u001b[0;36m_LinePlotter.plot\u001b[1;34m(self, ax, kws)\u001b[0m\n\u001b[0;32m    486\u001b[0m \u001b[38;5;28;01mif\u001b[39;00m \u001b[38;5;28mself\u001b[39m\u001b[38;5;241m.\u001b[39merr_style \u001b[38;5;241m==\u001b[39m \u001b[38;5;124m\"\u001b[39m\u001b[38;5;124mband\u001b[39m\u001b[38;5;124m\"\u001b[39m:\n\u001b[0;32m    488\u001b[0m     func \u001b[38;5;241m=\u001b[39m {\u001b[38;5;124m\"\u001b[39m\u001b[38;5;124mx\u001b[39m\u001b[38;5;124m\"\u001b[39m: ax\u001b[38;5;241m.\u001b[39mfill_between, \u001b[38;5;124m\"\u001b[39m\u001b[38;5;124my\u001b[39m\u001b[38;5;124m\"\u001b[39m: ax\u001b[38;5;241m.\u001b[39mfill_betweenx}[orient]\n\u001b[1;32m--> 489\u001b[0m     func(\n\u001b[0;32m    490\u001b[0m         sub_data[orient],\n\u001b[0;32m    491\u001b[0m         sub_data[\u001b[38;5;124mf\u001b[39m\u001b[38;5;124m\"\u001b[39m\u001b[38;5;132;01m{\u001b[39;00mother\u001b[38;5;132;01m}\u001b[39;00m\u001b[38;5;124mmin\u001b[39m\u001b[38;5;124m\"\u001b[39m], sub_data[\u001b[38;5;124mf\u001b[39m\u001b[38;5;124m\"\u001b[39m\u001b[38;5;132;01m{\u001b[39;00mother\u001b[38;5;132;01m}\u001b[39;00m\u001b[38;5;124mmax\u001b[39m\u001b[38;5;124m\"\u001b[39m],\n\u001b[0;32m    492\u001b[0m         color\u001b[38;5;241m=\u001b[39mline_color, \u001b[38;5;241m*\u001b[39m\u001b[38;5;241m*\u001b[39merr_kws\n\u001b[0;32m    493\u001b[0m     )\n\u001b[0;32m    495\u001b[0m \u001b[38;5;28;01melif\u001b[39;00m \u001b[38;5;28mself\u001b[39m\u001b[38;5;241m.\u001b[39merr_style \u001b[38;5;241m==\u001b[39m \u001b[38;5;124m\"\u001b[39m\u001b[38;5;124mbars\u001b[39m\u001b[38;5;124m\"\u001b[39m:\n\u001b[0;32m    497\u001b[0m     error_param \u001b[38;5;241m=\u001b[39m {\n\u001b[0;32m    498\u001b[0m         \u001b[38;5;124mf\u001b[39m\u001b[38;5;124m\"\u001b[39m\u001b[38;5;132;01m{\u001b[39;00mother\u001b[38;5;132;01m}\u001b[39;00m\u001b[38;5;124merr\u001b[39m\u001b[38;5;124m\"\u001b[39m: (\n\u001b[0;32m    499\u001b[0m             sub_data[other] \u001b[38;5;241m-\u001b[39m sub_data[\u001b[38;5;124mf\u001b[39m\u001b[38;5;124m\"\u001b[39m\u001b[38;5;132;01m{\u001b[39;00mother\u001b[38;5;132;01m}\u001b[39;00m\u001b[38;5;124mmin\u001b[39m\u001b[38;5;124m\"\u001b[39m],\n\u001b[0;32m    500\u001b[0m             sub_data[\u001b[38;5;124mf\u001b[39m\u001b[38;5;124m\"\u001b[39m\u001b[38;5;132;01m{\u001b[39;00mother\u001b[38;5;132;01m}\u001b[39;00m\u001b[38;5;124mmax\u001b[39m\u001b[38;5;124m\"\u001b[39m] \u001b[38;5;241m-\u001b[39m sub_data[other],\n\u001b[0;32m    501\u001b[0m         )\n\u001b[0;32m    502\u001b[0m     }\n",
      "File \u001b[1;32m~\\anaconda3\\Lib\\site-packages\\matplotlib\\__init__.py:1465\u001b[0m, in \u001b[0;36m_preprocess_data.<locals>.inner\u001b[1;34m(ax, data, *args, **kwargs)\u001b[0m\n\u001b[0;32m   1462\u001b[0m \u001b[38;5;129m@functools\u001b[39m\u001b[38;5;241m.\u001b[39mwraps(func)\n\u001b[0;32m   1463\u001b[0m \u001b[38;5;28;01mdef\u001b[39;00m \u001b[38;5;21minner\u001b[39m(ax, \u001b[38;5;241m*\u001b[39margs, data\u001b[38;5;241m=\u001b[39m\u001b[38;5;28;01mNone\u001b[39;00m, \u001b[38;5;241m*\u001b[39m\u001b[38;5;241m*\u001b[39mkwargs):\n\u001b[0;32m   1464\u001b[0m     \u001b[38;5;28;01mif\u001b[39;00m data \u001b[38;5;129;01mis\u001b[39;00m \u001b[38;5;28;01mNone\u001b[39;00m:\n\u001b[1;32m-> 1465\u001b[0m         \u001b[38;5;28;01mreturn\u001b[39;00m func(ax, \u001b[38;5;241m*\u001b[39m\u001b[38;5;28mmap\u001b[39m(sanitize_sequence, args), \u001b[38;5;241m*\u001b[39m\u001b[38;5;241m*\u001b[39mkwargs)\n\u001b[0;32m   1467\u001b[0m     bound \u001b[38;5;241m=\u001b[39m new_sig\u001b[38;5;241m.\u001b[39mbind(ax, \u001b[38;5;241m*\u001b[39margs, \u001b[38;5;241m*\u001b[39m\u001b[38;5;241m*\u001b[39mkwargs)\n\u001b[0;32m   1468\u001b[0m     auto_label \u001b[38;5;241m=\u001b[39m (bound\u001b[38;5;241m.\u001b[39marguments\u001b[38;5;241m.\u001b[39mget(label_namer)\n\u001b[0;32m   1469\u001b[0m                   \u001b[38;5;129;01mor\u001b[39;00m bound\u001b[38;5;241m.\u001b[39mkwargs\u001b[38;5;241m.\u001b[39mget(label_namer))\n",
      "File \u001b[1;32m~\\anaconda3\\Lib\\site-packages\\matplotlib\\axes\\_axes.py:5504\u001b[0m, in \u001b[0;36mAxes.fill_between\u001b[1;34m(self, x, y1, y2, where, interpolate, step, **kwargs)\u001b[0m\n\u001b[0;32m   5502\u001b[0m \u001b[38;5;28;01mdef\u001b[39;00m \u001b[38;5;21mfill_between\u001b[39m(\u001b[38;5;28mself\u001b[39m, x, y1, y2\u001b[38;5;241m=\u001b[39m\u001b[38;5;241m0\u001b[39m, where\u001b[38;5;241m=\u001b[39m\u001b[38;5;28;01mNone\u001b[39;00m, interpolate\u001b[38;5;241m=\u001b[39m\u001b[38;5;28;01mFalse\u001b[39;00m,\n\u001b[0;32m   5503\u001b[0m                  step\u001b[38;5;241m=\u001b[39m\u001b[38;5;28;01mNone\u001b[39;00m, \u001b[38;5;241m*\u001b[39m\u001b[38;5;241m*\u001b[39mkwargs):\n\u001b[1;32m-> 5504\u001b[0m     \u001b[38;5;28;01mreturn\u001b[39;00m \u001b[38;5;28mself\u001b[39m\u001b[38;5;241m.\u001b[39m_fill_between_x_or_y(\n\u001b[0;32m   5505\u001b[0m         \u001b[38;5;124m\"\u001b[39m\u001b[38;5;124mx\u001b[39m\u001b[38;5;124m\"\u001b[39m, x, y1, y2,\n\u001b[0;32m   5506\u001b[0m         where\u001b[38;5;241m=\u001b[39mwhere, interpolate\u001b[38;5;241m=\u001b[39minterpolate, step\u001b[38;5;241m=\u001b[39mstep, \u001b[38;5;241m*\u001b[39m\u001b[38;5;241m*\u001b[39mkwargs)\n",
      "File \u001b[1;32m~\\anaconda3\\Lib\\site-packages\\matplotlib\\axes\\_axes.py:5404\u001b[0m, in \u001b[0;36mAxes._fill_between_x_or_y\u001b[1;34m(self, ind_dir, ind, dep1, dep2, where, interpolate, step, **kwargs)\u001b[0m\n\u001b[0;32m   5400\u001b[0m         kwargs[\u001b[38;5;124m\"\u001b[39m\u001b[38;5;124mfacecolor\u001b[39m\u001b[38;5;124m\"\u001b[39m] \u001b[38;5;241m=\u001b[39m \\\n\u001b[0;32m   5401\u001b[0m             \u001b[38;5;28mself\u001b[39m\u001b[38;5;241m.\u001b[39m_get_patches_for_fill\u001b[38;5;241m.\u001b[39mget_next_color()\n\u001b[0;32m   5403\u001b[0m \u001b[38;5;66;03m# Handle united data, such as dates\u001b[39;00m\n\u001b[1;32m-> 5404\u001b[0m ind, dep1, dep2 \u001b[38;5;241m=\u001b[39m \u001b[38;5;28mmap\u001b[39m(\n\u001b[0;32m   5405\u001b[0m     ma\u001b[38;5;241m.\u001b[39mmasked_invalid, \u001b[38;5;28mself\u001b[39m\u001b[38;5;241m.\u001b[39m_process_unit_info(\n\u001b[0;32m   5406\u001b[0m         [(ind_dir, ind), (dep_dir, dep1), (dep_dir, dep2)], kwargs))\n\u001b[0;32m   5408\u001b[0m \u001b[38;5;28;01mfor\u001b[39;00m name, array \u001b[38;5;129;01min\u001b[39;00m [\n\u001b[0;32m   5409\u001b[0m         (ind_dir, ind), (\u001b[38;5;124mf\u001b[39m\u001b[38;5;124m\"\u001b[39m\u001b[38;5;132;01m{\u001b[39;00mdep_dir\u001b[38;5;132;01m}\u001b[39;00m\u001b[38;5;124m1\u001b[39m\u001b[38;5;124m\"\u001b[39m, dep1), (\u001b[38;5;124mf\u001b[39m\u001b[38;5;124m\"\u001b[39m\u001b[38;5;132;01m{\u001b[39;00mdep_dir\u001b[38;5;132;01m}\u001b[39;00m\u001b[38;5;124m2\u001b[39m\u001b[38;5;124m\"\u001b[39m, dep2)]:\n\u001b[0;32m   5410\u001b[0m     \u001b[38;5;28;01mif\u001b[39;00m array\u001b[38;5;241m.\u001b[39mndim \u001b[38;5;241m>\u001b[39m \u001b[38;5;241m1\u001b[39m:\n",
      "File \u001b[1;32m~\\anaconda3\\Lib\\site-packages\\numpy\\ma\\core.py:2360\u001b[0m, in \u001b[0;36mmasked_invalid\u001b[1;34m(a, copy)\u001b[0m\n\u001b[0;32m   2333\u001b[0m \u001b[38;5;250m\u001b[39m\u001b[38;5;124;03m\"\"\"\u001b[39;00m\n\u001b[0;32m   2334\u001b[0m \u001b[38;5;124;03mMask an array where invalid values occur (NaNs or infs).\u001b[39;00m\n\u001b[0;32m   2335\u001b[0m \n\u001b[1;32m   (...)\u001b[0m\n\u001b[0;32m   2357\u001b[0m \n\u001b[0;32m   2358\u001b[0m \u001b[38;5;124;03m\"\"\"\u001b[39;00m\n\u001b[0;32m   2359\u001b[0m a \u001b[38;5;241m=\u001b[39m np\u001b[38;5;241m.\u001b[39marray(a, copy\u001b[38;5;241m=\u001b[39m\u001b[38;5;28;01mFalse\u001b[39;00m, subok\u001b[38;5;241m=\u001b[39m\u001b[38;5;28;01mTrue\u001b[39;00m)\n\u001b[1;32m-> 2360\u001b[0m res \u001b[38;5;241m=\u001b[39m masked_where(\u001b[38;5;241m~\u001b[39m(np\u001b[38;5;241m.\u001b[39misfinite(a)), a, copy\u001b[38;5;241m=\u001b[39mcopy)\n\u001b[0;32m   2361\u001b[0m \u001b[38;5;66;03m# masked_invalid previously never returned nomask as a mask and doing so\u001b[39;00m\n\u001b[0;32m   2362\u001b[0m \u001b[38;5;66;03m# threw off matplotlib (gh-22842).  So use shrink=False:\u001b[39;00m\n\u001b[0;32m   2363\u001b[0m \u001b[38;5;28;01mif\u001b[39;00m res\u001b[38;5;241m.\u001b[39m_mask \u001b[38;5;129;01mis\u001b[39;00m nomask:\n",
      "\u001b[1;31mTypeError\u001b[0m: ufunc 'isfinite' not supported for the input types, and the inputs could not be safely coerced to any supported types according to the casting rule ''safe''"
     ]
    },
    {
     "data": {
      "image/png": "[encoded data removed]",
      "text/plain": [
       "<Figure size 1170x827 with 1 Axes>"
      ]
     },
     "metadata": {},
     "output_type": "display_data"
    }
   ],
   "source": [
    "sns.lineplot(data=data_games, x='Год', y='Количество игр', marker='o')\n",
    "plt.title('Распределение количества выпущенных игр')"
   ]
  },
  {
   "cell_type": "code",
   "execution_count": null,
   "metadata": {},
   "outputs": [],
   "source": [
    "#выведем относительное количество игр по гоодам\n",
    "data['year_of_release'].value_counts(normalize=True)"
   ]
  },
  {
   "cell_type": "markdown",
   "metadata": {},
   "source": [
    "Больше всего игр выпускалось в период около 2010 года(2008, 2009, 2010) меньше всего в 1980-х. Относительное количество выпущенных игр в 1980-х и 1990-х не превышает и одного процента. Для выявления закономерностей они нам мало чем помогут, поэтому некоторыми из них можно пренебречь."
   ]
  },
  {
   "cell_type": "markdown",
   "metadata": {},
   "source": [
    "Активный рост количества игр выпускаемых в год начался с с середины 90-х годов, это связано, в первую очередь, с увеличением количества самих пользвателей, которые могли позволить себе разные платформы. "
   ]
  },
  {
   "cell_type": "code",
   "execution_count": null,
   "metadata": {},
   "outputs": [],
   "source": [
    "#Самые поппулярные платформы\n",
    "data['platform'].value_counts()"
   ]
  },
  {
   "cell_type": "code",
   "execution_count": null,
   "metadata": {},
   "outputs": [],
   "source": [
    "#Продажи различных платформ\n",
    "data.pivot_table(index='platform', values='total_sales', aggfunc='sum').sort_values(by='total_sales', ascending=False)"
   ]
  },
  {
   "cell_type": "code",
   "execution_count": null,
   "metadata": {},
   "outputs": [],
   "source": [
    "ps2_sales = data[data['platform'] == 'PS2'].pivot_table(index='year_of_release', values='name', aggfunc='count').reset_index()\n",
    "ps2_sales"
   ]
  },
  {
   "cell_type": "code",
   "execution_count": null,
   "metadata": {},
   "outputs": [],
   "source": [
    "sns.barplot(data=ps2_sales, x='year_of_release', y='name').set_ylabel('Количество игр')\n",
    "plt.title('Распределение количества выпущенных игр для PS2')\n",
    "plt.xlabel('Год')"
   ]
  },
  {
   "cell_type": "markdown",
   "metadata": {},
   "source": [
    "Самой популярной платформой оказалась PS2, ее график распределения продаж по годам выглядит как нормальное распределение. Пик популярности PS2 пришелся на 2003 год(более 250 млн. копий игр)."
   ]
  },
  {
   "cell_type": "code",
   "execution_count": null,
   "metadata": {},
   "outputs": [],
   "source": [
    "ds_sales = data[data['platform'] == 'DS'].pivot_table(index='year_of_release', values='name', aggfunc='count').reset_index()\n",
    "sns.barplot(data=ds_sales, x='year_of_release', y='name')\n",
    "plt.title('Распределение количества выпущенных игр для DS')\n",
    "plt.xlabel('Год')\n",
    "plt.ylabel('Количество игр')"
   ]
  },
  {
   "cell_type": "markdown",
   "metadata": {},
   "source": [
    "Второй самой продоваемой платформой является DS, на ней выпускались игры еще в 80х, однако свой пик популярности она набрала в 2009 году (более 700 млн. копий игр)."
   ]
  },
  {
   "cell_type": "markdown",
   "metadata": {},
   "source": [
    "Если рассмотреть график распределения количества проданных копий игр для DS, можно заметить, что характерный пик она имеет в 2000-х, а данные катирующиеся 1985 годом являются аномалией. Удалим их."
   ]
  },
  {
   "cell_type": "code",
   "execution_count": null,
   "metadata": {
    "scrolled": true
   },
   "outputs": [],
   "source": [
    "data = data[~((data['platform'] == 'DS') & ('year_of_release' == 1985))]"
   ]
  },
  {
   "cell_type": "code",
   "execution_count": null,
   "metadata": {},
   "outputs": [],
   "source": [
    "ps3_sales = data[data['platform'] == 'PS3'].pivot_table(index='year_of_release', values='name', aggfunc='count').reset_index()\n",
    "sns.barplot(data=ps3_sales, x='year_of_release', y='name')\n",
    "plt.title('Распределение количества выпущенных игр для PS3')\n",
    "plt.xlabel('Год')\n",
    "plt.ylabel('Количество игр')"
   ]
  },
  {
   "cell_type": "markdown",
   "metadata": {},
   "source": [
    "Также популярной платформой была PS3, то есть в числе лучших платформ дважды встречается PS, что говорит нам о некоторой тенденции. Наибольшие продажи игр пришлись на 2011 год, более 200 млн. копий игр."
   ]
  },
  {
   "cell_type": "code",
   "execution_count": null,
   "metadata": {},
   "outputs": [],
   "source": [
    "wii_sales = data[data['platform'] == 'Wii'].pivot_table(index='year_of_release', values='name', aggfunc='count').reset_index()\n",
    "sns.barplot(data=wii_sales, x='year_of_release', y='name')\n",
    "plt.title('Распределение количества выпущенных игр для Wii')\n",
    "plt.xlabel('Год')\n",
    "plt.ylabel('Количество игр')"
   ]
  },
  {
   "cell_type": "markdown",
   "metadata": {},
   "source": [
    "Платфорама Wii была популяной в 2009 году, пик продаж составлял более 300млн копий игр."
   ]
  },
  {
   "cell_type": "code",
   "execution_count": null,
   "metadata": {},
   "outputs": [],
   "source": [
    "#продажи игр на различных платформах в разные годы\n",
    "plot_data = (data.pivot_table(\n",
    "    index=['platform', 'year_of_release'], \n",
    "    values='total_sales', \n",
    "    aggfunc='sum'\n",
    ").sort_values(by='year_of_release')).reset_index()\n",
    "\n",
    "\n",
    "sns.lineplot(data=plot_data.query('year_of_release > 2003 & total_sales > 400000'), x='year_of_release', y='total_sales', hue='platform')\\\n",
    ".set_title('Распределение продаж от года для разных платформ')\n",
    "plt.xlabel('Год')\n",
    "plt.ylabel('Продажи')"
   ]
  },
  {
   "cell_type": "markdown",
   "metadata": {},
   "source": [
    "Изходя из распределений продаж  самых популярных платформ можно предположить, что в среднем чтобы добиться пика популярности платформе нужно около 3-4 лет, старые платформы исчезают в среднем за 5 лет."
   ]
  },
  {
   "cell_type": "markdown",
   "metadata": {},
   "source": [
    "\n",
    "Чтобы прогнозировать популярнсть платформ и игр на 2017 год нужны более актуальные данные. Возьмем данные после 2013 года."
   ]
  },
  {
   "cell_type": "code",
   "execution_count": null,
   "metadata": {},
   "outputs": [],
   "source": [
    "games_fresh = data.query('year_of_release >= 2014')"
   ]
  },
  {
   "cell_type": "code",
   "execution_count": null,
   "metadata": {},
   "outputs": [],
   "source": [
    "data = data[data['year_of_release'] > 2013]\n",
    "data.shape"
   ]
  },
  {
   "cell_type": "code",
   "execution_count": null,
   "metadata": {},
   "outputs": [],
   "source": [
    "plot_data = plot_data[plot_data['year_of_release'] > 2013]\n",
    "sns.lineplot(data=plot_data.query('total_sales > 300000'), x='year_of_release', y='total_sales', hue='platform')\\\n",
    ".set_title('Распределение продаж от года для разных платформ')\n",
    "plt.xlabel('Год')\n",
    "plt.ylabel('Продажи')"
   ]
  },
  {
   "cell_type": "markdown",
   "metadata": {},
   "source": [
    "Исходя из обновленных данных, можно заметить: \n",
    "    \n",
    "лидирует по продажам PSV и 3DS , но они уже прошли свой пик и идут на спад;     \n",
    "    \n",
    "платформа PC находится на плато;\n",
    "    \n",
    "новые быстрорастущие платформы PS4 и XOne - это потенциально наиболее прибыльные платформы."
   ]
  },
  {
   "cell_type": "code",
   "execution_count": null,
   "metadata": {},
   "outputs": [],
   "source": [
    "plt.figure(figsize=(8,8))\n",
    "sns.boxplot(data=plot_data, x=\"platform\", y=\"total_sales\", showfliers = False,)\n",
    "plt.title('Графики размаха продаж игр для популярных платформ')\n",
    "plt.ylim(100000, 1100000),\n",
    "plt.xlabel('Платформы')\n",
    "plt.ylabel('Продажи')"
   ]
  },
  {
   "cell_type": "markdown",
   "metadata": {},
   "source": [
    "\n",
    "График размаха продаж игр по платформам позволяет нам увидеть:  \n",
    "    \n",
    "самой высоким медианным значением обладает PS4 за ним идет PSV, у PS4 1 квартиль больше чем у остальных конкурентов 3ий; \n",
    "    \n",
    "можно также выделить PS3, которая до сих пор имеет неплохую часть продаж;\n",
    "\n",
    "PS4 имеет наибольшую разницу между 3 квартилем и 1, что говорит об его большом разбросе продаж;"
   ]
  },
  {
   "cell_type": "markdown",
   "metadata": {},
   "source": [
    "Для нахождения влияния на продажи отзывов пользователей и критиков возьмем одну популярную платформу - PS3."
   ]
  },
  {
   "cell_type": "markdown",
   "metadata": {},
   "source": [
    "Построим диаграммы рассеяния для нескольких платформ с использованием цикла, чтобы анализ был более углубленным и убедительным."
   ]
  },
  {
   "cell_type": "code",
   "execution_count": null,
   "metadata": {},
   "outputs": [],
   "source": [
    "#Построим распределения продаж от оценок критиков\n",
    "platforms = ['PS4', 'XOne', 'PS3', 'X360', 'PC', 'PSV']\n",
    "\n",
    "for platform in platforms:\n",
    "    platform_data = data.loc[data['platform'] == platform].pivot_table(index=['critic_score'], values='total_sales', aggfunc='sum').reset_index()\n",
    "    print(f'{platform}: {platform_data.corr()}')\n",
    "    plt.scatter(platform_data['critic_score'], platform_data['total_sales'])\n",
    "    plt.xlabel('Оценки критиков')\n",
    "    plt.ylabel('Продажи')\n",
    "    plt.title(f'Распределение продаж от оценок критиков для платформы: {platform}')\n",
    "    plt.show()"
   ]
  },
  {
   "cell_type": "code",
   "execution_count": null,
   "metadata": {},
   "outputs": [],
   "source": [
    "#Построим распределения продаж от оценок пользователей\n",
    "platforms = ['PS4', 'XOne', 'PS3', 'X360', 'PC', 'PSV']\n",
    "\n",
    "for platform in platforms:\n",
    "    platform_data = data.loc[data['platform'] == platform].pivot_table(index=['user_score'], values='total_sales', aggfunc='sum').reset_index()\n",
    "    print(f'{platform}: {platform_data.corr()}')\n",
    "    plt.scatter(platform_data['user_score'], platform_data['total_sales'])\n",
    "    plt.xlabel('Оценки пользователй')\n",
    "    plt.ylabel('Продажи')\n",
    "    plt.title(f'Распределение продаж от оценок пользователй для платформы: {platform}')\n",
    "    plt.show()"
   ]
  },
  {
   "cell_type": "markdown",
   "metadata": {},
   "source": [
    "\n",
    "    \n",
    "Графики распределений продаж игр от оценок критиков и пользователей, получились разными для разных платформ, но присутствуют некоторые закономерности:  \n",
    "\n",
    "если оценки критиков для игры в среднем меньше 60, то продажи игры вероятнее будут маленькими, если смотреть на оценки пользователей, то заметим такие тенденции, если средняя оценка меньше 4;\n",
    "    \n",
    "Самые высокие продажи катируются у игр с оценкой критиков в диапазоне от 70 до 80. Для оценок пользователей пик продаж приходится на 7 - 8;\n",
    "    \n",
    "У игр с высокими оценками (для критиков 90+ и для пользователей 9+) наблюдаются низкие продажи."
   ]
  },
  {
   "cell_type": "code",
   "execution_count": null,
   "metadata": {},
   "outputs": [],
   "source": [
    "#Относительное количество игр разных жанров\n",
    "data['genre'].value_counts(normalize=True)"
   ]
  },
  {
   "cell_type": "code",
   "execution_count": null,
   "metadata": {},
   "outputs": [],
   "source": [
    "#Распределение игр по жанрам\n",
    "data_genre = data.pivot_table(index='genre', values='total_sales', aggfunc=['count','sum', 'mean'])\n",
    "data_genre.columns = ['Количество игр', 'Продажи', 'Среднее']\n",
    "data_genre = data_genre.sort_values(by='Среднее', ascending=False).reset_index()\n",
    "data_genre"
   ]
  },
  {
   "cell_type": "code",
   "execution_count": null,
   "metadata": {},
   "outputs": [],
   "source": [
    "#Построим график распределения количества игр от жанра\n",
    "sns.barplot(data=data_genre.sort_values(by='Количество игр', ascending=False), x='genre', y='Количество игр')\n",
    "plt.title('Распределение количества выпущенных игр разных жанров')\n",
    "plt.xlabel('Жанр')\n",
    "plt.xticks(rotation=45)"
   ]
  },
  {
   "cell_type": "code",
   "execution_count": null,
   "metadata": {},
   "outputs": [],
   "source": [
    "#Построим график распределения средних продаж для разных жанров\n",
    "sns.barplot(data=data_genre, x='genre', y='Среднее')\n",
    "plt.title('Распределение средних продаж для разных жанров игр')\n",
    "plt.xlabel('Жанр')\n",
    "plt.ylim(6741, 6741.4)\n",
    "plt.xticks(rotation=45)"
   ]
  },
  {
   "cell_type": "markdown",
   "metadata": {},
   "source": [
    "Построим график размаха средних продаж для разных жанров, для поиска наиболее прибыльных жанров."
   ]
  },
  {
   "cell_type": "code",
   "execution_count": null,
   "metadata": {},
   "outputs": [],
   "source": [
    "pivot_data_genre = data.pivot_table(index=['genre', 'name'], values='total_sales', aggfunc='mean').reset_index()\n",
    "pivot_data_genre"
   ]
  },
  {
   "cell_type": "code",
   "execution_count": null,
   "metadata": {},
   "outputs": [],
   "source": [
    "sns.boxplot(data=pivot_data_genre, x='genre', y='total_sales', showfliers = False)\n",
    "plt.ylim(6741.05, 6741.5)\n",
    "plt.xticks(rotation=45)"
   ]
  },
  {
   "cell_type": "markdown",
   "metadata": {},
   "source": [
    "Самым популярным жанром яляется action с большим отрывом, наименее популярными являются puzzle и strategy. Самымыми прибыльными же являются shooter, role-playing и fighting, наименее прибыльные - strategy и adventure."
   ]
  },
  {
   "cell_type": "markdown",
   "metadata": {},
   "source": [
    "\n",
    "В 3м шаге был проведе исследовательский анализ. Были выбраны актуальные данные(после 2014 года), были выявлены несколько потенциально прибыльных платформ - PS4 и XOne, также были построены общие распределения по платформам и по жанрам."
   ]
  },
  {
   "cell_type": "markdown",
   "metadata": {},
   "source": [
    "## Шаг 4. Составление портрета пользователя каждого региона"
   ]
  },
  {
   "cell_type": "code",
   "execution_count": null,
   "metadata": {
    "scrolled": true
   },
   "outputs": [],
   "source": [
    "#сводная таблица популярности различных платформ для Cеверной Америки\n",
    "data_na = data[data['na_sales'] != 0.00].pivot_table(index='platform', values='na_sales', aggfunc= 'sum').reset_index().sort_values(by='na_sales', ascending=False)\n",
    "data_na['na_sales'] /= data_na['na_sales'].sum()\n",
    "data_na"
   ]
  },
  {
   "cell_type": "code",
   "execution_count": null,
   "metadata": {},
   "outputs": [],
   "source": [
    "#самые популярные платформы для Cеверной Америки\n",
    "top_5_for_na=['X360', 'PS3', 'PS4', 'XOne', '3DS']\n",
    "#Создадим новый столбец чтобы заменить менее популярные платформы на 'others'\n",
    "data_na['popular_platforms'] = data_na['platform'].apply(lambda x: x if x in top_5_for_na else 'others')\n",
    "data_na"
   ]
  },
  {
   "cell_type": "code",
   "execution_count": null,
   "metadata": {},
   "outputs": [],
   "source": [
    "#Создадим еще одну сводную таблицу, чтобы по ней построить график\n",
    "pivot_na = data_na.pivot_table(index='popular_platforms', values='na_sales', aggfunc='sum').reset_index()\n",
    "pivot_na"
   ]
  },
  {
   "cell_type": "code",
   "execution_count": null,
   "metadata": {},
   "outputs": [],
   "source": [
    "#Строим график популярных платформ для Северной Америки\n",
    "plt.pie(\n",
    "    pivot_na['na_sales'], \n",
    "    labels=pivot_na['popular_platforms'],\n",
    "    autopct='%1.2f%%'\n",
    ")\n",
    "plt.title('Круговая диаграмма популярных платформ для Северной Америки')"
   ]
  },
  {
   "cell_type": "markdown",
   "metadata": {},
   "source": [
    "\n",
    "Самыми популярными платформами для Северной америки стали PS4 и XOne. С отрывом лидирует PS4 с долей 0.34, чуть менее популярная XOne - 0.28. Далее отстают от этих двух платформ X360- 0.10, 3DS - 0.08 и PS3 с долей проадж 0.07."
   ]
  },
  {
   "cell_type": "code",
   "execution_count": null,
   "metadata": {},
   "outputs": [],
   "source": [
    "#создадим сводную таблицу популярности платформ для Европы\n",
    "data_eu = data[data['eu_sales'] != 0.00].pivot_table(index='platform', values='eu_sales', aggfunc= 'sum').reset_index().sort_values(by='eu_sales', ascending=False)\n",
    "data_eu['eu_sales'] /= data_eu['eu_sales'].sum()\n",
    "data_eu"
   ]
  },
  {
   "cell_type": "code",
   "execution_count": null,
   "metadata": {},
   "outputs": [],
   "source": [
    "#Самые популярные платформы для Европы\n",
    "top_5_eu = data_eu.nlargest(5, 'eu_sales')['platform'].tolist()\n",
    "top_5_eu"
   ]
  },
  {
   "cell_type": "code",
   "execution_count": null,
   "metadata": {},
   "outputs": [],
   "source": [
    "#Создадим еще одну сводную таблицу, чтобы по ней построить график\n",
    "data_eu['popular_platforms'] = data_eu['platform'].apply(lambda x: x if x in top_5_eu else 'others')\n",
    "pivot_eu = data_eu.pivot_table(index='popular_platforms', values='eu_sales', aggfunc='sum').reset_index()\n",
    "pivot_eu"
   ]
  },
  {
   "cell_type": "code",
   "execution_count": null,
   "metadata": {},
   "outputs": [],
   "source": [
    "#Строим график популярных платформ для Европы\n",
    "plt.pie(\n",
    "    pivot_eu['eu_sales'], \n",
    "    labels=pivot_eu['popular_platforms'],\n",
    "    autopct='%1.2f%%'\n",
    ")\n",
    "plt.title('Круговая диаграмма популярных платформ для Европы')"
   ]
  },
  {
   "cell_type": "markdown",
   "metadata": {},
   "source": [
    "Самымой популярной платформамой для Европы с большим отрывом стала PS4 с долей 0.48. За ней идет XOne с долей 0,17, не далеко от нее распологается PS3 с долей 0.09, менее популярны 3DS и PC - 0,06 и 0,07 соответсвенно. "
   ]
  },
  {
   "cell_type": "code",
   "execution_count": null,
   "metadata": {},
   "outputs": [],
   "source": [
    "#создадим сводную таблицу популярных платформ для Японии \n",
    "data_jp = data[data['jp_sales'] != 0.00].pivot_table(index='platform', values='jp_sales', aggfunc= 'sum').reset_index().sort_values(by='jp_sales', ascending=False)\n",
    "data_jp['jp_sales'] /= data_jp['jp_sales'].sum()\n",
    "data_jp"
   ]
  },
  {
   "cell_type": "code",
   "execution_count": null,
   "metadata": {},
   "outputs": [],
   "source": [
    "#Самые популярные платформы для Японии\n",
    "top_5_jp = data_jp.nlargest(5, 'jp_sales')['platform'].tolist()\n",
    "data_jp['popular_platforms'] = data_jp['platform'].apply(lambda x: x if x in top_5_jp else 'others')\n",
    "data_jp"
   ]
  },
  {
   "cell_type": "code",
   "execution_count": null,
   "metadata": {},
   "outputs": [],
   "source": [
    "#Создадим еще одну сводную таблицу, чтобы по ней построить график\n",
    "pivot_jp = data_jp.pivot_table(index='popular_platforms', values='jp_sales', aggfunc='sum').reset_index()\n",
    "pivot_jp"
   ]
  },
  {
   "cell_type": "code",
   "execution_count": null,
   "metadata": {},
   "outputs": [],
   "source": [
    "#Строим график популярных платформ для Японии\n",
    "plt.pie(\n",
    "    pivot_jp['jp_sales'], \n",
    "    labels=pivot_jp['popular_platforms'],\n",
    "    autopct='%1.2f%%'\n",
    ")\n",
    "plt.title('Круговая диаграмма популярных платформ для Японии')"
   ]
  },
  {
   "cell_type": "markdown",
   "metadata": {},
   "source": [
    "Самой популярной платформой для Японии стала  3DS с долей 0.47, чуть менее PS4 c 0.16, далее идут PSV, PS3 и WiiU  с 0.16, 0.12 и 0.08 соответсвенно."
   ]
  },
  {
   "cell_type": "code",
   "execution_count": null,
   "metadata": {},
   "outputs": [],
   "source": [
    "#Популярность жанров игр для Северной Америки\n",
    "na_genre = data.pivot_table(index='genre', values='na_sales', aggfunc= 'sum').reset_index().sort_values(by='na_sales', ascending=False)\n",
    "na_genre['na_sales'] /= na_genre['na_sales'].sum()\n",
    "na_genre"
   ]
  },
  {
   "cell_type": "code",
   "execution_count": null,
   "metadata": {},
   "outputs": [],
   "source": [
    "#Самые популярные жанры игр для Северной Америки\n",
    "top_genre_na = na_genre.nlargest(5, 'na_sales')['genre'].tolist()\n",
    "top_genre_na"
   ]
  },
  {
   "cell_type": "code",
   "execution_count": null,
   "metadata": {},
   "outputs": [],
   "source": [
    "#Заменим менее популярные жанры на 'others'\n",
    "na_genre['popular genres'] = na_genre['genre'].apply(lambda x: x if x in top_genre_na else 'others')\n",
    "na_genre"
   ]
  },
  {
   "cell_type": "code",
   "execution_count": null,
   "metadata": {},
   "outputs": [],
   "source": [
    "#Создадим еще одну сводную таблицу, чтобы по ней построить график\n",
    "pivot_na = na_genre.pivot_table(index='popular genres', values='na_sales', aggfunc='sum').reset_index()\n",
    "pivot_na"
   ]
  },
  {
   "cell_type": "code",
   "execution_count": null,
   "metadata": {},
   "outputs": [],
   "source": [
    "#Строим график популярных жанров для Северной Америки\n",
    "plt.pie(\n",
    "    pivot_na['na_sales'], \n",
    "    labels=pivot_na['popular genres'],\n",
    "    autopct='%1.2f%%'\n",
    ")\n",
    "plt.title('Круговая диаграмма популярных жанров для Северной Америки')"
   ]
  },
  {
   "cell_type": "markdown",
   "metadata": {},
   "source": [
    "\n",
    "Для пользователей Северной Америки самыми популярными жанрами являются shooter и action 0.28 и 0.26 соответсвенно, на спортивные игры приходится 0.16, на role-playing приходится 0.12 и на misc 0.05"
   ]
  },
  {
   "cell_type": "code",
   "execution_count": null,
   "metadata": {},
   "outputs": [],
   "source": [
    "#Популярные жанры для Европы\n",
    "eu_genre = data.pivot_table(index='genre', values='eu_sales', aggfunc= 'sum').reset_index()\n",
    "eu_genre['eu_sales'] /= eu_genre['eu_sales'].sum()\n",
    "top_genre_eu = eu_genre.nlargest(5, 'eu_sales')['genre'].tolist()\n",
    "eu_genre['popular genres'] = eu_genre['genre'].apply(lambda x: x if x in top_genre_eu else 'others')\n",
    "pivot_eu = eu_genre.pivot_table(index='popular genres', values='eu_sales', aggfunc='sum').reset_index()\n",
    "pivot_eu"
   ]
  },
  {
   "cell_type": "code",
   "execution_count": null,
   "metadata": {},
   "outputs": [],
   "source": [
    "#Строим график популярных жанров для Европы\n",
    "plt.pie(\n",
    "    pivot_eu['eu_sales'], \n",
    "    labels=pivot_eu['popular genres'],\n",
    "    autopct='%1.2f%%'\n",
    ")\n",
    "plt.title('Круговая диаграмма популярных жанров для Европы')"
   ]
  },
  {
   "cell_type": "markdown",
   "metadata": {},
   "source": [
    "Самымыми популярными жанрами для Европы являются action и shooter с долями 0.28 и 0.24 соответсвенно, довольно популярный жанр - спротивные игры 0.17, чуть мене популярны role-playing и racing с долями 0.10 и 0.05 соответсвенно"
   ]
  },
  {
   "cell_type": "code",
   "execution_count": null,
   "metadata": {},
   "outputs": [],
   "source": [
    "#Популярные жанры для Японии\n",
    "jp_genre = data.pivot_table(index='genre', values='jp_sales', aggfunc= 'sum').reset_index()\n",
    "jp_genre['jp_sales'] /= jp_genre['jp_sales'].sum()\n",
    "top_genre_jp = jp_genre.nlargest(5, 'jp_sales')['genre'].tolist()\n",
    "jp_genre['popular genres'] = jp_genre['genre'].apply(lambda x: x if x in top_genre_jp else 'others')\n",
    "pivot_jp = jp_genre.pivot_table(index='popular genres', values='jp_sales', aggfunc='sum').reset_index()\n",
    "pivot_jp"
   ]
  },
  {
   "cell_type": "code",
   "execution_count": null,
   "metadata": {},
   "outputs": [],
   "source": [
    "#Строим график популярных жанров для Японии\n",
    "plt.pie(\n",
    "    pivot_jp['jp_sales'], \n",
    "    labels=pivot_jp['popular genres'],\n",
    "    autopct='%1.2f%%'\n",
    ")\n",
    "plt.title('Круговая диаграмма популярных жанров для Японии')"
   ]
  },
  {
   "cell_type": "markdown",
   "metadata": {},
   "source": [
    "Самым популярным жанром для пользователей Японии является role-playing с 0.33 долью продаж, также достаточно популярны action их доля 0.32, примерно одинаково популярны misc-0.06 доли, fighting - 0.07 и shooter с долей - 0.05"
   ]
  },
  {
   "cell_type": "code",
   "execution_count": null,
   "metadata": {
    "scrolled": true
   },
   "outputs": [],
   "source": [
    "#влияние рейтинга ESRB на продажи в отдельном регионе\n",
    "data_ESRB = data.pivot_table(index='rating', values=['na_sales', 'eu_sales', 'jp_sales'], aggfunc='sum')\n",
    "\n",
    "for column in data_ESRB.columns:\n",
    "    data_ESRB[column] /= data[column].sum()\n",
    "    \n",
    "data_ESRB = data_ESRB.reset_index()\n",
    "data_ESRB"
   ]
  },
  {
   "cell_type": "code",
   "execution_count": null,
   "metadata": {},
   "outputs": [],
   "source": [
    "# создадим график распределение продаж от рейтинга\n",
    "fig, ax = plt.subplots()\n",
    "sns.lineplot(data=data_ESRB, x='rating', y='eu_sales', label='EU')\n",
    "sns.lineplot(data=data_ESRB, x='rating', y='na_sales', label='NA')\n",
    "sns.lineplot(data=data_ESRB.sort_values(by='jp_sales'), x='rating', y='jp_sales', label='JP')\n",
    "\n",
    "ax.set_title('Распределение продаж от рейтинга')\n",
    "ax.set_xlabel('Рейтинг')\n",
    "ax.set_ylabel('Доля продаж')\n",
    "ax.legend()"
   ]
  },
  {
   "cell_type": "markdown",
   "metadata": {},
   "source": [
    "\n",
    "В целом графики распределениия доли продаж от рейтинга для Европы и Северной Америки почти идентичны, различаются только значениями для E (для Северной Америки чуть меньше). График же японских пользователей отличается своим более равномерным распределением по рейтингам, у него также низкая доля продаж E и E10+, на Т приходится столько же, сколько и в других регионах,  однако продажи по рейтингам M значительно ниже, чем у Европы с Северной америкой. Также можно заметить резкий скачок в данных без рейтинга ESRB, что говрит нам о том, что много игр выпускается для Японии без данного рейтинга. Делаем вывод, что рейтинг ESRB предназначен в основном для игр Северной Америки и Европы."
   ]
  },
  {
   "cell_type": "markdown",
   "metadata": {},
   "source": [
    "## Шаг 5. Проверка гипотез"
   ]
  },
  {
   "cell_type": "markdown",
   "metadata": {},
   "source": [
    "Проверим гипотезу: средние пользовательские рейтинги платформ Xbox One и PC одинаковые."
   ]
  },
  {
   "cell_type": "code",
   "execution_count": null,
   "metadata": {},
   "outputs": [],
   "source": [
    "#Выберем данные с платформой XOne\n",
    "data_XOne_score = data[(data['platform'] == 'XOne') & (data['user_score'].notna())]['user_score']\n",
    "data_XOne_score.describe()"
   ]
  },
  {
   "cell_type": "code",
   "execution_count": null,
   "metadata": {
    "scrolled": true
   },
   "outputs": [],
   "source": [
    "#Выберем данные с платформой PC\n",
    "data_PC_score = data[(data['platform'] == 'PC') & (data['user_score'].notna())]['user_score']\n",
    "data_PC_score.describe()"
   ]
  },
  {
   "cell_type": "markdown",
   "metadata": {},
   "source": [
    "<div class='alert alert-info'>\n",
    "Воспользуемся t-тестом для двух независимых генеральных выборок.  \n",
    "    \n",
    "Нулевая гипотеза: средние польользовательские рейтинги платформ Xbox One и PC равны. \n",
    "    \n",
    "Альтернативная гипотеза: средние польользовательские рейтинги платформ Xbox One и PC разные.  "
   ]
  },
  {
   "cell_type": "code",
   "execution_count": null,
   "metadata": {
    "scrolled": true
   },
   "outputs": [],
   "source": [
    "alpha = 0.05\n",
    "\n",
    "results = st.ttest_ind(data_XOne_score, data_PC_score)\n",
    "\n",
    "print('p-значение:', results.pvalue)\n",
    "print(f'Средний рейтинг XOne: {data_XOne_score.mean()}')\n",
    "print(f'Средний рейтинг PC: {data_PC_score.mean()}')\n",
    "\n",
    "if results.pvalue < alpha:\n",
    "    print('Отвергаем нулевую гипотезу')\n",
    "else:\n",
    "    print('Не получилось отвергнуть нулевую гипотезу') "
   ]
  },
  {
   "cell_type": "markdown",
   "metadata": {},
   "source": [
    "Исходя из значений полученных t-тестом, можно сделать вывод, что у нас нет оснований опровергнуть нашу гипотезу, к тому же если посмотреть на средние значения, полученные метод describe, можно увидеть что они одинаковые."
   ]
  },
  {
   "cell_type": "markdown",
   "metadata": {},
   "source": [
    "Проверим гипотезу: средние пользовательские рейтинги жанров Action и Sports разные.\n"
   ]
  },
  {
   "cell_type": "markdown",
   "metadata": {},
   "source": [
    "<div class='alert alert-info'>\n",
    "Воспользуемся t-тестом для двух независимых генеральных выборок.  \n",
    "    \n",
    "Нулевая гипотеза: средние пользовательские рейтинги жанров Action и Sports равны. \n",
    "    \n",
    "Альтернативная гипотеза: средние пользовательские рейтинги жанров Action и Sports разные."
   ]
  },
  {
   "cell_type": "code",
   "execution_count": null,
   "metadata": {},
   "outputs": [],
   "source": [
    "#Выберем данные с жанром action\n",
    "data_score_action = data[(data['genre'] == 'Action') & (data['user_score'].notna())]['user_score']\n",
    "data_score_action.describe()"
   ]
  },
  {
   "cell_type": "code",
   "execution_count": null,
   "metadata": {},
   "outputs": [],
   "source": [
    "#Выберем данные с жарном sports\n",
    "data_score_sports = data[(data['genre'] == 'Sports') & (data['user_score'].notna())]['user_score']\n",
    "data_score_sports.describe()"
   ]
  },
  {
   "cell_type": "code",
   "execution_count": null,
   "metadata": {},
   "outputs": [],
   "source": [
    "results = st.ttest_ind(data_score_action, data_score_sports)\n",
    "\n",
    "print('p-значение:', results.statistic)\n",
    "print(f'Средний рейтинг жанра action: {data_score_action.mean()}')\n",
    "print(f'Средний рейтинг жанра sports: {data_score_sports.mean()}')\n",
    "\n",
    "if results.pvalue < alpha:\n",
    "    print('Отвергаем нулевую гипотезу')\n",
    "else:\n",
    "    print('Не получилось отвергнуть нулевую гипотезу') "
   ]
  },
  {
   "cell_type": "markdown",
   "metadata": {},
   "source": [
    "По полученным данным можно увидеть, что средние оценки действительно отличаются, следовательно гипотезу опровергнуть не можем."
   ]
  },
  {
   "cell_type": "markdown",
   "metadata": {},
   "source": [
    "## Шаг 6. Вывод"
   ]
  },
  {
   "cell_type": "markdown",
   "metadata": {},
   "source": [
    "В ходе проектной работы были проанализированы данные интернет-магазина «Стримчик» и выявлены определяющие успешность игры закономерности.  \n",
    "\n",
    "В первом шаге был считан csv-файл с данными с помощью библиотеки pandas и сохранен в датафрейм. Далее были выведены первые строки набора данных и была изучена общая информация о датафрейме.\n",
    "\n",
    "Во втором шаге проводилась предобработка данных: названия столбцов были приведены к нижнему регистру, были проанализированы типы данных каждого столбца и преобразованы в нужные типы. Также были обработаны пропущенные значения данных, значения 'tbd'(To Be Determined) столбца user_scrore были заменены на 'None'. В конце был добавлен новый столбец с сумарными продажами во всех регионах.\n",
    "\n",
    "В третьем шаге проводился исследовательский анализ данных: было проанализировано сколько игр выпускалось в разные годы, было простроено распределение количество игр от года. По данным выявлено, что больше всего игр выпускалось в 2008 и 2009 годах, меньше всего в 80-х.  \n",
    "Далее было проанализировано изменение продаж по платформам, были выбраны платформы с наибольшими суммарными продажами и построены распределения по годам.  \n",
    "Потом были отброшены неактуальные данные, т.е те которые либо будут искажать прогнозы либо не будут полезны. Акуальным периодом были выбраны даты после 2014.  \n",
    "После анализа актуального периода, были выявлены потенциально прибыльные платформы - PS4 и XOne.  \n",
    "Были построены диаграммы размаха по глобальным продажам игр в разбивке по платформам.  \n",
    "Далее было проанализировано как влияют на продажи внутри одной популярной платформы отзывы пользователей и критиков, для этого были построены распределения продаж от оценок критиков и пользователей для платформ: PS4, XOne, PS3, X360, PC и PSV , были подсчитаны корреляции между отзывами и продажами.  \n",
    "Еще было проанализировано общее распределение игр по жанрам, были выявлены самые популярные жанры за актуальный период - action, role-playing и adventur, самыми прибыльными являются - shooter, role-playing и fighting.\n",
    "\n",
    "В четвертом шаге составлялся  портрет пользователя каждого региона, для этого были исследованы самые популярные платформы и жанры игр(топ 5) для разных регионов. Были построены графики распределения доли популярных платформ и жанров для каждого региона. Также было исследовано влияние рейтинга ESRB на продажи в отдельном регионе.  \n",
    "По итогам исследований можно сделать некоторые выводы по портретам пользователей каждого региона:\n",
    "- Северная Америка: обычный пользователь будет играть в игры жанров action или shooter на PS4 или XOne, игры предпочтительней с рейтингом ESRB - 'E' или 'M'\n",
    "- Европа: обычные пользователь предпочитает играть в action или shooter с рейтингом ESRB - 'E' или 'M' на PS4 \n",
    "- Япония: среднестатистический пользователь играет в role-playing или action без рейтинга ESRB на 3DS или PS4\n",
    "\n",
    "В пятом шаге проводилась проверка гипотез:\n",
    "1. Cредние пользовательские рейтинги платформ Xbox One и PC одинаковые. Полученные значения t-теста и общего анализа данных, позволили не опровергнуть эту гипотезу.\n",
    "2. Средние пользовательские рейтинги жанров Action и Sports разные. Результат t-теста показал, что мы не можем опровергнуть вторую гипотезу."
   ]
  }
 ],
 "metadata": {
  "ExecuteTimeLog": [
   {
    "duration": 416,
    "start_time": "2024-04-29T08:16:17.936Z"
   },
   {
    "duration": 91,
    "start_time": "2024-04-29T08:16:38.508Z"
   },
   {
    "duration": 98,
    "start_time": "2024-04-29T08:17:43.004Z"
   },
   {
    "duration": 73,
    "start_time": "2024-04-29T08:17:47.174Z"
   },
   {
    "duration": 57,
    "start_time": "2024-04-29T08:19:25.886Z"
   },
   {
    "duration": 14,
    "start_time": "2024-04-29T08:19:36.866Z"
   },
   {
    "duration": 14,
    "start_time": "2024-04-29T08:20:11.873Z"
   },
   {
    "duration": 32,
    "start_time": "2024-04-29T08:21:25.277Z"
   },
   {
    "duration": 26,
    "start_time": "2024-04-29T08:21:37.010Z"
   },
   {
    "duration": 404,
    "start_time": "2024-04-29T08:22:02.635Z"
   },
   {
    "duration": 86,
    "start_time": "2024-04-29T08:22:03.044Z"
   },
   {
    "duration": 16,
    "start_time": "2024-04-29T08:22:03.132Z"
   },
   {
    "duration": 37,
    "start_time": "2024-04-29T08:22:03.150Z"
   },
   {
    "duration": 24,
    "start_time": "2024-04-29T08:22:48.608Z"
   },
   {
    "duration": 58,
    "start_time": "2024-04-29T08:32:05.915Z"
   },
   {
    "duration": 6,
    "start_time": "2024-04-29T08:32:22.275Z"
   },
   {
    "duration": 3,
    "start_time": "2024-04-29T08:33:35.552Z"
   },
   {
    "duration": 5,
    "start_time": "2024-04-29T08:34:29.261Z"
   },
   {
    "duration": 3,
    "start_time": "2024-04-29T08:34:41.957Z"
   },
   {
    "duration": 21,
    "start_time": "2024-04-29T08:36:20.952Z"
   },
   {
    "duration": 352,
    "start_time": "2024-04-29T08:36:51.891Z"
   },
   {
    "duration": 65,
    "start_time": "2024-04-29T08:36:52.245Z"
   },
   {
    "duration": 13,
    "start_time": "2024-04-29T08:36:52.312Z"
   },
   {
    "duration": 27,
    "start_time": "2024-04-29T08:36:52.326Z"
   },
   {
    "duration": 74,
    "start_time": "2024-04-29T08:36:52.355Z"
   },
   {
    "duration": 8,
    "start_time": "2024-04-29T08:37:02.415Z"
   },
   {
    "duration": 17,
    "start_time": "2024-04-29T08:37:41.812Z"
   },
   {
    "duration": 4,
    "start_time": "2024-04-29T08:38:01.539Z"
   },
   {
    "duration": 19,
    "start_time": "2024-04-29T08:38:11.829Z"
   },
   {
    "duration": 7,
    "start_time": "2024-04-29T08:53:50.328Z"
   },
   {
    "duration": 852,
    "start_time": "2024-04-29T08:53:58.863Z"
   },
   {
    "duration": 10,
    "start_time": "2024-04-29T08:54:05.248Z"
   },
   {
    "duration": 15,
    "start_time": "2024-04-29T08:54:33.649Z"
   },
   {
    "duration": 14,
    "start_time": "2024-04-29T08:54:49.084Z"
   },
   {
    "duration": 14,
    "start_time": "2024-04-29T08:54:56.058Z"
   },
   {
    "duration": 14,
    "start_time": "2024-04-29T08:55:42.261Z"
   },
   {
    "duration": 8,
    "start_time": "2024-04-29T08:56:23.730Z"
   },
   {
    "duration": 9,
    "start_time": "2024-04-29T08:56:36.005Z"
   },
   {
    "duration": 372,
    "start_time": "2024-04-29T12:09:54.573Z"
   },
   {
    "duration": 68,
    "start_time": "2024-04-29T12:09:54.946Z"
   },
   {
    "duration": 12,
    "start_time": "2024-04-29T12:09:55.016Z"
   },
   {
    "duration": 33,
    "start_time": "2024-04-29T12:09:55.030Z"
   },
   {
    "duration": 70,
    "start_time": "2024-04-29T12:09:55.064Z"
   },
   {
    "duration": 0,
    "start_time": "2024-04-29T12:09:55.145Z"
   },
   {
    "duration": 0,
    "start_time": "2024-04-29T12:09:55.146Z"
   },
   {
    "duration": 4,
    "start_time": "2024-04-29T12:10:20.859Z"
   },
   {
    "duration": 3,
    "start_time": "2024-04-29T12:15:05.566Z"
   },
   {
    "duration": 20,
    "start_time": "2024-04-29T12:15:19.978Z"
   },
   {
    "duration": 13,
    "start_time": "2024-04-29T12:15:43.329Z"
   },
   {
    "duration": 12,
    "start_time": "2024-04-29T12:17:48.179Z"
   },
   {
    "duration": 353,
    "start_time": "2024-04-29T12:17:54.899Z"
   },
   {
    "duration": 68,
    "start_time": "2024-04-29T12:17:55.253Z"
   },
   {
    "duration": 18,
    "start_time": "2024-04-29T12:17:55.323Z"
   },
   {
    "duration": 48,
    "start_time": "2024-04-29T12:17:55.343Z"
   },
   {
    "duration": 12,
    "start_time": "2024-04-29T12:17:55.392Z"
   },
   {
    "duration": 915,
    "start_time": "2024-04-29T12:17:55.405Z"
   },
   {
    "duration": 0,
    "start_time": "2024-04-29T12:17:56.321Z"
   },
   {
    "duration": 419,
    "start_time": "2024-04-29T12:18:13.219Z"
   },
   {
    "duration": 69,
    "start_time": "2024-04-29T12:18:13.639Z"
   },
   {
    "duration": 13,
    "start_time": "2024-04-29T12:18:13.709Z"
   },
   {
    "duration": 29,
    "start_time": "2024-04-29T12:18:13.723Z"
   },
   {
    "duration": 15,
    "start_time": "2024-04-29T12:18:13.754Z"
   },
   {
    "duration": 883,
    "start_time": "2024-04-29T12:18:13.771Z"
   },
   {
    "duration": 0,
    "start_time": "2024-04-29T12:18:14.655Z"
   },
   {
    "duration": 406,
    "start_time": "2024-04-29T12:18:33.171Z"
   },
   {
    "duration": 68,
    "start_time": "2024-04-29T12:18:33.578Z"
   },
   {
    "duration": 13,
    "start_time": "2024-04-29T12:18:33.647Z"
   },
   {
    "duration": 26,
    "start_time": "2024-04-29T12:18:33.661Z"
   },
   {
    "duration": 11,
    "start_time": "2024-04-29T12:18:33.689Z"
   },
   {
    "duration": 749,
    "start_time": "2024-04-29T12:18:33.702Z"
   },
   {
    "duration": 0,
    "start_time": "2024-04-29T12:18:34.452Z"
   },
   {
    "duration": 8,
    "start_time": "2024-04-29T12:19:39.066Z"
   },
   {
    "duration": 13,
    "start_time": "2024-04-29T12:19:49.661Z"
   },
   {
    "duration": 57,
    "start_time": "2024-04-29T18:00:52.175Z"
   },
   {
    "duration": 423,
    "start_time": "2024-04-29T18:00:58.925Z"
   },
   {
    "duration": 125,
    "start_time": "2024-04-29T18:00:59.350Z"
   },
   {
    "duration": 14,
    "start_time": "2024-04-29T18:00:59.477Z"
   },
   {
    "duration": 30,
    "start_time": "2024-04-29T18:00:59.493Z"
   },
   {
    "duration": 14,
    "start_time": "2024-04-29T18:00:59.525Z"
   },
   {
    "duration": 26,
    "start_time": "2024-04-29T18:00:59.541Z"
   },
   {
    "duration": 28,
    "start_time": "2024-04-29T18:00:59.569Z"
   },
   {
    "duration": 93,
    "start_time": "2024-04-29T18:00:59.599Z"
   },
   {
    "duration": 7,
    "start_time": "2024-04-29T18:02:23.710Z"
   },
   {
    "duration": 11,
    "start_time": "2024-04-29T18:02:32.456Z"
   },
   {
    "duration": 18,
    "start_time": "2024-04-29T18:02:39.023Z"
   },
   {
    "duration": 7,
    "start_time": "2024-04-29T18:02:54.741Z"
   },
   {
    "duration": 18,
    "start_time": "2024-04-29T18:03:18.373Z"
   },
   {
    "duration": 6,
    "start_time": "2024-04-29T18:03:23.486Z"
   },
   {
    "duration": 15,
    "start_time": "2024-04-29T18:05:32.409Z"
   },
   {
    "duration": 6,
    "start_time": "2024-04-29T18:07:51.335Z"
   },
   {
    "duration": 16,
    "start_time": "2024-04-29T18:07:58.121Z"
   },
   {
    "duration": 4,
    "start_time": "2024-04-29T18:10:27.187Z"
   },
   {
    "duration": 9,
    "start_time": "2024-04-29T18:10:33.353Z"
   },
   {
    "duration": 3,
    "start_time": "2024-04-29T18:11:15.262Z"
   },
   {
    "duration": 26,
    "start_time": "2024-04-29T18:12:20.677Z"
   },
   {
    "duration": 5,
    "start_time": "2024-04-29T18:12:59.842Z"
   },
   {
    "duration": 426,
    "start_time": "2024-04-29T18:13:36.871Z"
   },
   {
    "duration": 74,
    "start_time": "2024-04-29T18:13:37.299Z"
   },
   {
    "duration": 15,
    "start_time": "2024-04-29T18:13:37.374Z"
   },
   {
    "duration": 28,
    "start_time": "2024-04-29T18:13:37.392Z"
   },
   {
    "duration": 14,
    "start_time": "2024-04-29T18:13:37.422Z"
   },
   {
    "duration": 7,
    "start_time": "2024-04-29T18:13:37.461Z"
   },
   {
    "duration": 7,
    "start_time": "2024-04-29T18:13:37.470Z"
   },
   {
    "duration": 17,
    "start_time": "2024-04-29T18:13:37.479Z"
   },
   {
    "duration": 15,
    "start_time": "2024-04-29T18:13:37.497Z"
   },
   {
    "duration": 16,
    "start_time": "2024-04-29T18:13:37.515Z"
   },
   {
    "duration": 5,
    "start_time": "2024-04-29T18:13:37.532Z"
   },
   {
    "duration": 47,
    "start_time": "2024-04-29T18:13:37.538Z"
   },
   {
    "duration": 5,
    "start_time": "2024-04-29T18:13:58.701Z"
   },
   {
    "duration": 8,
    "start_time": "2024-04-29T18:16:34.931Z"
   },
   {
    "duration": 5,
    "start_time": "2024-04-29T18:16:38.083Z"
   },
   {
    "duration": 430,
    "start_time": "2024-04-29T18:16:50.639Z"
   },
   {
    "duration": 73,
    "start_time": "2024-04-29T18:16:51.071Z"
   },
   {
    "duration": 15,
    "start_time": "2024-04-29T18:16:51.148Z"
   },
   {
    "duration": 29,
    "start_time": "2024-04-29T18:16:51.164Z"
   },
   {
    "duration": 14,
    "start_time": "2024-04-29T18:16:51.194Z"
   },
   {
    "duration": 10,
    "start_time": "2024-04-29T18:16:51.209Z"
   },
   {
    "duration": 8,
    "start_time": "2024-04-29T18:16:51.220Z"
   },
   {
    "duration": 40,
    "start_time": "2024-04-29T18:16:51.229Z"
   },
   {
    "duration": 7,
    "start_time": "2024-04-29T18:16:51.271Z"
   },
   {
    "duration": 15,
    "start_time": "2024-04-29T18:16:51.279Z"
   },
   {
    "duration": 9,
    "start_time": "2024-04-29T18:16:51.295Z"
   },
   {
    "duration": 24,
    "start_time": "2024-04-29T18:16:51.305Z"
   },
   {
    "duration": 70,
    "start_time": "2024-04-29T18:17:39.183Z"
   },
   {
    "duration": 22,
    "start_time": "2024-04-29T18:17:47.496Z"
   },
   {
    "duration": 16,
    "start_time": "2024-04-29T18:17:56.764Z"
   },
   {
    "duration": 24,
    "start_time": "2024-04-29T18:18:11.009Z"
   },
   {
    "duration": 515,
    "start_time": "2024-04-29T18:19:05.714Z"
   },
   {
    "duration": 27,
    "start_time": "2024-04-29T18:19:20.410Z"
   },
   {
    "duration": 32,
    "start_time": "2024-04-29T18:21:01.165Z"
   },
   {
    "duration": 25,
    "start_time": "2024-04-29T18:21:31.953Z"
   },
   {
    "duration": 27,
    "start_time": "2024-04-29T18:21:39.139Z"
   },
   {
    "duration": 385,
    "start_time": "2024-04-30T03:16:57.728Z"
   },
   {
    "duration": 217,
    "start_time": "2024-04-30T03:16:58.114Z"
   },
   {
    "duration": 13,
    "start_time": "2024-04-30T03:16:58.333Z"
   },
   {
    "duration": 50,
    "start_time": "2024-04-30T03:16:58.347Z"
   },
   {
    "duration": 13,
    "start_time": "2024-04-30T03:16:58.399Z"
   },
   {
    "duration": 18,
    "start_time": "2024-04-30T03:16:58.414Z"
   },
   {
    "duration": 29,
    "start_time": "2024-04-30T03:16:58.433Z"
   },
   {
    "duration": 18,
    "start_time": "2024-04-30T03:16:58.464Z"
   },
   {
    "duration": 7,
    "start_time": "2024-04-30T03:16:58.483Z"
   },
   {
    "duration": 16,
    "start_time": "2024-04-30T03:16:58.491Z"
   },
   {
    "duration": 11,
    "start_time": "2024-04-30T03:16:58.509Z"
   },
   {
    "duration": 32,
    "start_time": "2024-04-30T03:16:58.522Z"
   },
   {
    "duration": 61,
    "start_time": "2024-04-30T03:19:31.253Z"
   },
   {
    "duration": 3,
    "start_time": "2024-04-30T03:19:36.420Z"
   },
   {
    "duration": 8,
    "start_time": "2024-04-30T03:21:07.906Z"
   },
   {
    "duration": 10,
    "start_time": "2024-04-30T03:22:20.004Z"
   },
   {
    "duration": 4,
    "start_time": "2024-04-30T03:39:03.268Z"
   },
   {
    "duration": 14,
    "start_time": "2024-04-30T03:39:13.361Z"
   },
   {
    "duration": 6,
    "start_time": "2024-04-30T03:40:14.879Z"
   },
   {
    "duration": 13,
    "start_time": "2024-04-30T03:40:16.800Z"
   },
   {
    "duration": 8,
    "start_time": "2024-04-30T03:49:00.323Z"
   },
   {
    "duration": 13,
    "start_time": "2024-04-30T03:49:48.915Z"
   },
   {
    "duration": 70,
    "start_time": "2024-04-30T03:49:55.040Z"
   },
   {
    "duration": 6,
    "start_time": "2024-04-30T03:49:58.158Z"
   },
   {
    "duration": 13,
    "start_time": "2024-04-30T03:50:26.248Z"
   },
   {
    "duration": 20,
    "start_time": "2024-04-30T03:50:31.721Z"
   },
   {
    "duration": 7,
    "start_time": "2024-04-30T03:50:49.078Z"
   },
   {
    "duration": 6,
    "start_time": "2024-04-30T03:51:29.827Z"
   },
   {
    "duration": 1115,
    "start_time": "2024-04-30T05:49:35.790Z"
   },
   {
    "duration": 583,
    "start_time": "2024-04-30T05:49:43.288Z"
   },
   {
    "duration": 445,
    "start_time": "2024-04-30T05:50:14.690Z"
   },
   {
    "duration": 71,
    "start_time": "2024-04-30T05:50:15.137Z"
   },
   {
    "duration": 14,
    "start_time": "2024-04-30T05:50:15.209Z"
   },
   {
    "duration": 39,
    "start_time": "2024-04-30T05:50:15.225Z"
   },
   {
    "duration": 32,
    "start_time": "2024-04-30T05:50:15.266Z"
   },
   {
    "duration": 24,
    "start_time": "2024-04-30T05:50:15.299Z"
   },
   {
    "duration": 84,
    "start_time": "2024-04-30T05:50:15.325Z"
   },
   {
    "duration": 66,
    "start_time": "2024-04-30T05:50:15.411Z"
   },
   {
    "duration": 19,
    "start_time": "2024-04-30T05:50:15.479Z"
   },
   {
    "duration": 58,
    "start_time": "2024-04-30T05:50:15.500Z"
   },
   {
    "duration": 37,
    "start_time": "2024-04-30T05:50:15.559Z"
   },
   {
    "duration": 67,
    "start_time": "2024-04-30T05:50:15.598Z"
   },
   {
    "duration": 4,
    "start_time": "2024-04-30T05:50:15.666Z"
   },
   {
    "duration": 15,
    "start_time": "2024-04-30T05:50:15.672Z"
   },
   {
    "duration": 15,
    "start_time": "2024-04-30T05:50:15.688Z"
   },
   {
    "duration": 18,
    "start_time": "2024-04-30T05:50:15.705Z"
   },
   {
    "duration": 373,
    "start_time": "2024-04-30T05:50:15.724Z"
   },
   {
    "duration": 422,
    "start_time": "2024-04-30T05:50:32.702Z"
   },
   {
    "duration": 73,
    "start_time": "2024-04-30T05:50:33.126Z"
   },
   {
    "duration": 14,
    "start_time": "2024-04-30T05:50:33.200Z"
   },
   {
    "duration": 35,
    "start_time": "2024-04-30T05:50:33.216Z"
   },
   {
    "duration": 14,
    "start_time": "2024-04-30T05:50:33.253Z"
   },
   {
    "duration": 24,
    "start_time": "2024-04-30T05:50:33.269Z"
   },
   {
    "duration": 27,
    "start_time": "2024-04-30T05:50:33.294Z"
   },
   {
    "duration": 32,
    "start_time": "2024-04-30T05:50:33.323Z"
   },
   {
    "duration": 19,
    "start_time": "2024-04-30T05:50:33.357Z"
   },
   {
    "duration": 24,
    "start_time": "2024-04-30T05:50:33.377Z"
   },
   {
    "duration": 18,
    "start_time": "2024-04-30T05:50:33.402Z"
   },
   {
    "duration": 28,
    "start_time": "2024-04-30T05:50:33.422Z"
   },
   {
    "duration": 4,
    "start_time": "2024-04-30T05:50:33.452Z"
   },
   {
    "duration": 7,
    "start_time": "2024-04-30T05:50:33.459Z"
   },
   {
    "duration": 33,
    "start_time": "2024-04-30T05:50:33.468Z"
   },
   {
    "duration": 30,
    "start_time": "2024-04-30T05:50:33.502Z"
   },
   {
    "duration": 68,
    "start_time": "2024-04-30T05:50:33.534Z"
   },
   {
    "duration": 414,
    "start_time": "2024-04-30T05:50:43.759Z"
   },
   {
    "duration": 171,
    "start_time": "2024-04-30T05:50:53.480Z"
   },
   {
    "duration": 163,
    "start_time": "2024-04-30T05:51:02.210Z"
   },
   {
    "duration": 200,
    "start_time": "2024-04-30T05:51:11.125Z"
   },
   {
    "duration": 159,
    "start_time": "2024-04-30T05:51:29.791Z"
   },
   {
    "duration": 7,
    "start_time": "2024-04-30T05:52:07.298Z"
   },
   {
    "duration": 5,
    "start_time": "2024-04-30T05:52:21.177Z"
   },
   {
    "duration": 212,
    "start_time": "2024-04-30T05:53:15.851Z"
   },
   {
    "duration": 7,
    "start_time": "2024-04-30T05:54:20.225Z"
   },
   {
    "duration": 6,
    "start_time": "2024-04-30T06:00:49.939Z"
   },
   {
    "duration": 7,
    "start_time": "2024-04-30T06:01:24.170Z"
   },
   {
    "duration": 21,
    "start_time": "2024-04-30T06:05:58.179Z"
   },
   {
    "duration": 26,
    "start_time": "2024-04-30T06:06:20.742Z"
   },
   {
    "duration": 21,
    "start_time": "2024-04-30T06:06:51.344Z"
   },
   {
    "duration": 20,
    "start_time": "2024-04-30T06:07:05.163Z"
   },
   {
    "duration": 28,
    "start_time": "2024-04-30T06:07:31.422Z"
   },
   {
    "duration": 15,
    "start_time": "2024-04-30T06:09:26.315Z"
   },
   {
    "duration": 8,
    "start_time": "2024-04-30T06:10:07.041Z"
   },
   {
    "duration": 13,
    "start_time": "2024-04-30T06:10:14.334Z"
   },
   {
    "duration": 15,
    "start_time": "2024-04-30T06:10:18.749Z"
   },
   {
    "duration": 30,
    "start_time": "2024-04-30T06:12:38.805Z"
   },
   {
    "duration": 14,
    "start_time": "2024-04-30T06:13:43.087Z"
   },
   {
    "duration": 125,
    "start_time": "2024-04-30T06:14:15.927Z"
   },
   {
    "duration": 131,
    "start_time": "2024-04-30T07:12:04.557Z"
   },
   {
    "duration": 133,
    "start_time": "2024-04-30T07:12:22.791Z"
   },
   {
    "duration": 26,
    "start_time": "2024-04-30T07:12:51.010Z"
   },
   {
    "duration": 364,
    "start_time": "2024-04-30T07:12:55.655Z"
   },
   {
    "duration": 88,
    "start_time": "2024-04-30T07:12:56.021Z"
   },
   {
    "duration": 14,
    "start_time": "2024-04-30T07:12:56.113Z"
   },
   {
    "duration": 40,
    "start_time": "2024-04-30T07:12:56.129Z"
   },
   {
    "duration": 14,
    "start_time": "2024-04-30T07:12:56.171Z"
   },
   {
    "duration": 32,
    "start_time": "2024-04-30T07:12:56.187Z"
   },
   {
    "duration": 21,
    "start_time": "2024-04-30T07:12:56.221Z"
   },
   {
    "duration": 20,
    "start_time": "2024-04-30T07:12:56.243Z"
   },
   {
    "duration": 6,
    "start_time": "2024-04-30T07:12:56.264Z"
   },
   {
    "duration": 47,
    "start_time": "2024-04-30T07:12:56.272Z"
   },
   {
    "duration": 33,
    "start_time": "2024-04-30T07:12:56.321Z"
   },
   {
    "duration": 29,
    "start_time": "2024-04-30T07:12:56.355Z"
   },
   {
    "duration": 4,
    "start_time": "2024-04-30T07:12:56.388Z"
   },
   {
    "duration": 24,
    "start_time": "2024-04-30T07:12:56.393Z"
   },
   {
    "duration": 20,
    "start_time": "2024-04-30T07:12:56.418Z"
   },
   {
    "duration": 23,
    "start_time": "2024-04-30T07:12:56.439Z"
   },
   {
    "duration": 10,
    "start_time": "2024-04-30T07:12:56.463Z"
   },
   {
    "duration": 25,
    "start_time": "2024-04-30T07:12:56.474Z"
   },
   {
    "duration": 438,
    "start_time": "2024-04-30T07:12:56.500Z"
   },
   {
    "duration": 7,
    "start_time": "2024-04-30T07:12:56.939Z"
   },
   {
    "duration": 17,
    "start_time": "2024-04-30T07:12:56.947Z"
   },
   {
    "duration": 12,
    "start_time": "2024-04-30T07:12:56.966Z"
   },
   {
    "duration": 128,
    "start_time": "2024-04-30T07:12:56.979Z"
   },
   {
    "duration": 0,
    "start_time": "2024-04-30T07:12:57.108Z"
   },
   {
    "duration": 28,
    "start_time": "2024-04-30T07:13:00.890Z"
   },
   {
    "duration": 125,
    "start_time": "2024-04-30T07:13:05.568Z"
   },
   {
    "duration": 3818,
    "start_time": "2024-04-30T07:13:23.886Z"
   },
   {
    "duration": 3673,
    "start_time": "2024-04-30T07:13:46.038Z"
   },
   {
    "duration": 32,
    "start_time": "2024-04-30T07:14:34.980Z"
   },
   {
    "duration": 15,
    "start_time": "2024-04-30T07:14:53.616Z"
   },
   {
    "duration": 18,
    "start_time": "2024-04-30T07:15:24.251Z"
   },
   {
    "duration": 107,
    "start_time": "2024-04-30T07:16:35.818Z"
   },
   {
    "duration": 143,
    "start_time": "2024-04-30T07:17:16.068Z"
   },
   {
    "duration": 81,
    "start_time": "2024-04-30T07:17:37.450Z"
   },
   {
    "duration": 152,
    "start_time": "2024-04-30T07:17:46.906Z"
   },
   {
    "duration": 29294,
    "start_time": "2024-04-30T07:18:03.584Z"
   },
   {
    "duration": 163,
    "start_time": "2024-04-30T07:18:51.011Z"
   },
   {
    "duration": 343,
    "start_time": "2024-04-30T07:19:14.456Z"
   },
   {
    "duration": 150,
    "start_time": "2024-04-30T07:19:56.613Z"
   },
   {
    "duration": 180,
    "start_time": "2024-04-30T07:20:08.061Z"
   },
   {
    "duration": 147,
    "start_time": "2024-04-30T07:20:19.976Z"
   },
   {
    "duration": 161,
    "start_time": "2024-04-30T07:20:30.373Z"
   },
   {
    "duration": 162,
    "start_time": "2024-04-30T07:20:35.258Z"
   },
   {
    "duration": 173,
    "start_time": "2024-04-30T07:20:39.318Z"
   },
   {
    "duration": 138,
    "start_time": "2024-04-30T07:20:44.585Z"
   },
   {
    "duration": 367,
    "start_time": "2024-04-30T18:35:33.326Z"
   },
   {
    "duration": 130,
    "start_time": "2024-04-30T18:35:33.695Z"
   },
   {
    "duration": 13,
    "start_time": "2024-04-30T18:35:33.827Z"
   },
   {
    "duration": 27,
    "start_time": "2024-04-30T18:35:33.843Z"
   },
   {
    "duration": 13,
    "start_time": "2024-04-30T18:35:33.872Z"
   },
   {
    "duration": 16,
    "start_time": "2024-04-30T18:35:33.886Z"
   },
   {
    "duration": 8,
    "start_time": "2024-04-30T18:35:33.904Z"
   },
   {
    "duration": 24,
    "start_time": "2024-04-30T18:35:33.913Z"
   },
   {
    "duration": 7,
    "start_time": "2024-04-30T18:35:33.939Z"
   },
   {
    "duration": 27,
    "start_time": "2024-04-30T18:35:33.949Z"
   },
   {
    "duration": 8,
    "start_time": "2024-04-30T18:35:33.977Z"
   },
   {
    "duration": 22,
    "start_time": "2024-04-30T18:35:33.986Z"
   },
   {
    "duration": 4,
    "start_time": "2024-04-30T18:35:34.009Z"
   },
   {
    "duration": 7,
    "start_time": "2024-04-30T18:35:34.014Z"
   },
   {
    "duration": 5,
    "start_time": "2024-04-30T18:35:34.022Z"
   },
   {
    "duration": 40,
    "start_time": "2024-04-30T18:35:34.028Z"
   },
   {
    "duration": 17,
    "start_time": "2024-04-30T18:35:34.069Z"
   },
   {
    "duration": 10,
    "start_time": "2024-04-30T18:35:34.087Z"
   },
   {
    "duration": 564,
    "start_time": "2024-04-30T18:35:34.099Z"
   },
   {
    "duration": 7,
    "start_time": "2024-04-30T18:35:34.665Z"
   },
   {
    "duration": 17,
    "start_time": "2024-04-30T18:35:34.673Z"
   },
   {
    "duration": 23,
    "start_time": "2024-04-30T18:35:34.691Z"
   },
   {
    "duration": 137,
    "start_time": "2024-04-30T18:35:34.716Z"
   },
   {
    "duration": 149,
    "start_time": "2024-04-30T18:35:34.855Z"
   },
   {
    "duration": 186,
    "start_time": "2024-04-30T18:37:46.028Z"
   },
   {
    "duration": 123,
    "start_time": "2024-04-30T18:38:45.897Z"
   },
   {
    "duration": 119,
    "start_time": "2024-04-30T18:38:53.362Z"
   },
   {
    "duration": 124,
    "start_time": "2024-04-30T18:38:57.559Z"
   },
   {
    "duration": 118,
    "start_time": "2024-04-30T18:39:01.757Z"
   },
   {
    "duration": 123,
    "start_time": "2024-04-30T18:39:05.519Z"
   },
   {
    "duration": 151,
    "start_time": "2024-04-30T18:41:01.485Z"
   },
   {
    "duration": 129,
    "start_time": "2024-04-30T18:41:07.683Z"
   },
   {
    "duration": 146,
    "start_time": "2024-04-30T18:41:11.279Z"
   },
   {
    "duration": 128,
    "start_time": "2024-04-30T18:41:15.125Z"
   },
   {
    "duration": 119,
    "start_time": "2024-04-30T18:41:26.583Z"
   },
   {
    "duration": 171,
    "start_time": "2024-04-30T18:41:39.883Z"
   },
   {
    "duration": 110,
    "start_time": "2024-04-30T18:41:49.417Z"
   },
   {
    "duration": 126,
    "start_time": "2024-04-30T18:41:53.084Z"
   },
   {
    "duration": 129,
    "start_time": "2024-04-30T18:55:35.584Z"
   },
   {
    "duration": 127,
    "start_time": "2024-04-30T18:56:06.819Z"
   },
   {
    "duration": 132,
    "start_time": "2024-04-30T18:56:15.571Z"
   },
   {
    "duration": 142,
    "start_time": "2024-04-30T18:56:24.797Z"
   },
   {
    "duration": 132,
    "start_time": "2024-04-30T18:56:44.679Z"
   },
   {
    "duration": 136,
    "start_time": "2024-04-30T18:56:59.064Z"
   },
   {
    "duration": 370,
    "start_time": "2024-05-02T11:45:34.779Z"
   },
   {
    "duration": 198,
    "start_time": "2024-05-02T11:45:35.151Z"
   },
   {
    "duration": 11,
    "start_time": "2024-05-02T11:45:35.350Z"
   },
   {
    "duration": 27,
    "start_time": "2024-05-02T11:45:35.363Z"
   },
   {
    "duration": 12,
    "start_time": "2024-05-02T11:45:35.391Z"
   },
   {
    "duration": 10,
    "start_time": "2024-05-02T11:45:35.404Z"
   },
   {
    "duration": 7,
    "start_time": "2024-05-02T11:45:35.415Z"
   },
   {
    "duration": 20,
    "start_time": "2024-05-02T11:45:35.423Z"
   },
   {
    "duration": 5,
    "start_time": "2024-05-02T11:45:35.444Z"
   },
   {
    "duration": 30,
    "start_time": "2024-05-02T11:45:35.451Z"
   },
   {
    "duration": 11,
    "start_time": "2024-05-02T11:45:35.482Z"
   },
   {
    "duration": 18,
    "start_time": "2024-05-02T11:45:35.494Z"
   },
   {
    "duration": 3,
    "start_time": "2024-05-02T11:45:35.513Z"
   },
   {
    "duration": 16,
    "start_time": "2024-05-02T11:45:35.517Z"
   },
   {
    "duration": 20,
    "start_time": "2024-05-02T11:45:35.534Z"
   },
   {
    "duration": 11,
    "start_time": "2024-05-02T11:45:35.555Z"
   },
   {
    "duration": 13,
    "start_time": "2024-05-02T11:45:35.567Z"
   },
   {
    "duration": 8,
    "start_time": "2024-05-02T11:45:35.581Z"
   },
   {
    "duration": 487,
    "start_time": "2024-05-02T11:45:35.590Z"
   },
   {
    "duration": 9,
    "start_time": "2024-05-02T11:45:36.079Z"
   },
   {
    "duration": 21,
    "start_time": "2024-05-02T11:45:36.089Z"
   },
   {
    "duration": 22,
    "start_time": "2024-05-02T11:45:36.111Z"
   },
   {
    "duration": 145,
    "start_time": "2024-05-02T11:45:36.135Z"
   },
   {
    "duration": 127,
    "start_time": "2024-05-02T11:45:36.283Z"
   },
   {
    "duration": 161,
    "start_time": "2024-05-02T11:45:36.411Z"
   },
   {
    "duration": 127,
    "start_time": "2024-05-02T11:45:36.573Z"
   },
   {
    "duration": 17,
    "start_time": "2024-05-02T11:48:54.468Z"
   },
   {
    "duration": 16,
    "start_time": "2024-05-02T11:49:47.325Z"
   },
   {
    "duration": 376,
    "start_time": "2024-05-02T14:52:04.966Z"
   },
   {
    "duration": 62,
    "start_time": "2024-05-02T14:52:05.343Z"
   },
   {
    "duration": 11,
    "start_time": "2024-05-02T14:52:05.407Z"
   },
   {
    "duration": 26,
    "start_time": "2024-05-02T14:52:05.420Z"
   },
   {
    "duration": 57,
    "start_time": "2024-05-02T14:52:05.448Z"
   },
   {
    "duration": 37,
    "start_time": "2024-05-02T14:52:05.506Z"
   },
   {
    "duration": 40,
    "start_time": "2024-05-02T14:52:05.545Z"
   },
   {
    "duration": 49,
    "start_time": "2024-05-02T14:52:05.587Z"
   },
   {
    "duration": 10,
    "start_time": "2024-05-02T14:52:05.638Z"
   },
   {
    "duration": 41,
    "start_time": "2024-05-02T14:52:05.650Z"
   },
   {
    "duration": 19,
    "start_time": "2024-05-02T14:52:05.692Z"
   },
   {
    "duration": 44,
    "start_time": "2024-05-02T14:52:05.712Z"
   },
   {
    "duration": 4,
    "start_time": "2024-05-02T14:52:05.757Z"
   },
   {
    "duration": 34,
    "start_time": "2024-05-02T14:52:05.763Z"
   },
   {
    "duration": 13,
    "start_time": "2024-05-02T14:52:05.798Z"
   },
   {
    "duration": 17,
    "start_time": "2024-05-02T14:52:05.812Z"
   },
   {
    "duration": 22,
    "start_time": "2024-05-02T14:52:05.830Z"
   },
   {
    "duration": 9,
    "start_time": "2024-05-02T14:52:05.853Z"
   },
   {
    "duration": 351,
    "start_time": "2024-05-02T14:52:05.863Z"
   },
   {
    "duration": 5,
    "start_time": "2024-05-02T14:52:06.215Z"
   },
   {
    "duration": 40,
    "start_time": "2024-05-02T14:52:06.222Z"
   },
   {
    "duration": 29,
    "start_time": "2024-05-02T14:52:06.263Z"
   },
   {
    "duration": 15,
    "start_time": "2024-05-02T14:52:06.294Z"
   },
   {
    "duration": 128,
    "start_time": "2024-05-02T14:52:06.311Z"
   },
   {
    "duration": 144,
    "start_time": "2024-05-02T14:52:06.440Z"
   },
   {
    "duration": 133,
    "start_time": "2024-05-02T14:52:06.585Z"
   },
   {
    "duration": 156,
    "start_time": "2024-05-02T14:52:06.719Z"
   },
   {
    "duration": 412,
    "start_time": "2024-05-02T14:53:19.193Z"
   },
   {
    "duration": 612,
    "start_time": "2024-05-02T14:54:12.569Z"
   },
   {
    "duration": 222,
    "start_time": "2024-05-02T14:54:29.015Z"
   },
   {
    "duration": 578,
    "start_time": "2024-05-02T14:54:39.238Z"
   },
   {
    "duration": 20,
    "start_time": "2024-05-02T14:55:39.188Z"
   },
   {
    "duration": 20,
    "start_time": "2024-05-02T14:57:41.320Z"
   },
   {
    "duration": 638,
    "start_time": "2024-05-02T14:57:47.512Z"
   },
   {
    "duration": 3,
    "start_time": "2024-05-02T14:58:43.437Z"
   },
   {
    "duration": 304,
    "start_time": "2024-05-02T14:59:38.663Z"
   },
   {
    "duration": 616,
    "start_time": "2024-05-02T15:00:12.817Z"
   },
   {
    "duration": 360,
    "start_time": "2024-05-02T15:02:07.371Z"
   },
   {
    "duration": 340,
    "start_time": "2024-05-02T15:02:52.881Z"
   },
   {
    "duration": 417,
    "start_time": "2024-05-02T15:03:59.958Z"
   },
   {
    "duration": 351,
    "start_time": "2024-05-02T15:04:17.489Z"
   },
   {
    "duration": 338,
    "start_time": "2024-05-02T15:04:31.337Z"
   },
   {
    "duration": 330,
    "start_time": "2024-05-02T15:04:50.742Z"
   },
   {
    "duration": 347,
    "start_time": "2024-05-02T15:08:23.672Z"
   },
   {
    "duration": 629,
    "start_time": "2024-05-02T15:11:33.196Z"
   },
   {
    "duration": 340,
    "start_time": "2024-05-02T15:12:05.719Z"
   },
   {
    "duration": 434,
    "start_time": "2024-05-02T16:17:43.735Z"
   },
   {
    "duration": 399,
    "start_time": "2024-05-02T16:18:42.477Z"
   },
   {
    "duration": 354,
    "start_time": "2024-05-02T16:19:13.733Z"
   },
   {
    "duration": 373,
    "start_time": "2024-05-02T16:19:28.367Z"
   },
   {
    "duration": 387,
    "start_time": "2024-05-02T16:19:40.513Z"
   },
   {
    "duration": 341,
    "start_time": "2024-05-02T16:19:57.353Z"
   },
   {
    "duration": 337,
    "start_time": "2024-05-02T16:20:15.647Z"
   },
   {
    "duration": 374,
    "start_time": "2024-05-02T16:20:30.621Z"
   },
   {
    "duration": 360,
    "start_time": "2024-05-02T16:20:41.906Z"
   },
   {
    "duration": 355,
    "start_time": "2024-05-02T16:21:10.080Z"
   },
   {
    "duration": 1226,
    "start_time": "2024-05-03T06:51:39.310Z"
   },
   {
    "duration": 128,
    "start_time": "2024-05-03T06:51:40.540Z"
   },
   {
    "duration": 20,
    "start_time": "2024-05-03T06:51:40.670Z"
   },
   {
    "duration": 73,
    "start_time": "2024-05-03T06:51:40.691Z"
   },
   {
    "duration": 16,
    "start_time": "2024-05-03T06:51:40.766Z"
   },
   {
    "duration": 8,
    "start_time": "2024-05-03T06:51:40.785Z"
   },
   {
    "duration": 11,
    "start_time": "2024-05-03T06:51:40.795Z"
   },
   {
    "duration": 31,
    "start_time": "2024-05-03T06:51:40.808Z"
   },
   {
    "duration": 8,
    "start_time": "2024-05-03T06:51:40.840Z"
   },
   {
    "duration": 21,
    "start_time": "2024-05-03T06:51:40.849Z"
   },
   {
    "duration": 14,
    "start_time": "2024-05-03T06:51:40.871Z"
   },
   {
    "duration": 44,
    "start_time": "2024-05-03T06:51:40.886Z"
   },
   {
    "duration": 4,
    "start_time": "2024-05-03T06:51:40.931Z"
   },
   {
    "duration": 8,
    "start_time": "2024-05-03T06:51:40.937Z"
   },
   {
    "duration": 12,
    "start_time": "2024-05-03T06:51:40.947Z"
   },
   {
    "duration": 14,
    "start_time": "2024-05-03T06:51:40.961Z"
   },
   {
    "duration": 12,
    "start_time": "2024-05-03T06:51:40.977Z"
   },
   {
    "duration": 6,
    "start_time": "2024-05-03T06:51:40.991Z"
   },
   {
    "duration": 269,
    "start_time": "2024-05-03T06:51:40.999Z"
   },
   {
    "duration": 7,
    "start_time": "2024-05-03T06:51:41.269Z"
   },
   {
    "duration": 8,
    "start_time": "2024-05-03T06:51:41.278Z"
   },
   {
    "duration": 27,
    "start_time": "2024-05-03T06:51:41.287Z"
   },
   {
    "duration": 209,
    "start_time": "2024-05-03T06:51:41.315Z"
   },
   {
    "duration": 220,
    "start_time": "2024-05-03T06:51:41.526Z"
   },
   {
    "duration": 201,
    "start_time": "2024-05-03T06:51:41.748Z"
   },
   {
    "duration": 211,
    "start_time": "2024-05-03T06:51:41.950Z"
   },
   {
    "duration": 493,
    "start_time": "2024-05-03T06:51:42.163Z"
   },
   {
    "duration": 404,
    "start_time": "2024-05-03T06:54:01.663Z"
   },
   {
    "duration": 435,
    "start_time": "2024-05-03T06:54:15.816Z"
   },
   {
    "duration": 1214,
    "start_time": "2024-05-03T07:33:18.246Z"
   },
   {
    "duration": 76,
    "start_time": "2024-05-03T07:33:19.462Z"
   },
   {
    "duration": 18,
    "start_time": "2024-05-03T07:33:19.539Z"
   },
   {
    "duration": 32,
    "start_time": "2024-05-03T07:33:19.559Z"
   },
   {
    "duration": 36,
    "start_time": "2024-05-03T07:33:19.593Z"
   },
   {
    "duration": 10,
    "start_time": "2024-05-03T07:33:19.632Z"
   },
   {
    "duration": 33,
    "start_time": "2024-05-03T07:33:19.644Z"
   },
   {
    "duration": 22,
    "start_time": "2024-05-03T07:33:19.679Z"
   },
   {
    "duration": 7,
    "start_time": "2024-05-03T07:33:19.703Z"
   },
   {
    "duration": 28,
    "start_time": "2024-05-03T07:33:19.713Z"
   },
   {
    "duration": 35,
    "start_time": "2024-05-03T07:33:19.742Z"
   },
   {
    "duration": 38,
    "start_time": "2024-05-03T07:33:19.778Z"
   },
   {
    "duration": 4,
    "start_time": "2024-05-03T07:33:19.818Z"
   },
   {
    "duration": 22,
    "start_time": "2024-05-03T07:33:19.824Z"
   },
   {
    "duration": 41,
    "start_time": "2024-05-03T07:33:19.848Z"
   },
   {
    "duration": 31,
    "start_time": "2024-05-03T07:33:19.891Z"
   },
   {
    "duration": 15,
    "start_time": "2024-05-03T07:33:19.924Z"
   },
   {
    "duration": 21,
    "start_time": "2024-05-03T07:33:19.941Z"
   },
   {
    "duration": 259,
    "start_time": "2024-05-03T07:33:19.964Z"
   },
   {
    "duration": 10,
    "start_time": "2024-05-03T07:33:20.225Z"
   },
   {
    "duration": 15,
    "start_time": "2024-05-03T07:33:20.236Z"
   },
   {
    "duration": 44,
    "start_time": "2024-05-03T07:33:20.252Z"
   },
   {
    "duration": 216,
    "start_time": "2024-05-03T07:33:20.298Z"
   },
   {
    "duration": 1278,
    "start_time": "2024-05-03T07:33:22.745Z"
   },
   {
    "duration": 77,
    "start_time": "2024-05-03T07:33:24.026Z"
   },
   {
    "duration": 17,
    "start_time": "2024-05-03T07:33:24.105Z"
   },
   {
    "duration": 31,
    "start_time": "2024-05-03T07:33:24.124Z"
   },
   {
    "duration": 15,
    "start_time": "2024-05-03T07:33:24.158Z"
   },
   {
    "duration": 17,
    "start_time": "2024-05-03T07:33:24.175Z"
   },
   {
    "duration": 8,
    "start_time": "2024-05-03T07:33:24.193Z"
   },
   {
    "duration": 33,
    "start_time": "2024-05-03T07:33:24.202Z"
   },
   {
    "duration": 9,
    "start_time": "2024-05-03T07:33:24.237Z"
   },
   {
    "duration": 17,
    "start_time": "2024-05-03T07:33:24.248Z"
   },
   {
    "duration": 12,
    "start_time": "2024-05-03T07:33:24.267Z"
   },
   {
    "duration": 55,
    "start_time": "2024-05-03T07:33:24.281Z"
   },
   {
    "duration": 5,
    "start_time": "2024-05-03T07:33:24.337Z"
   },
   {
    "duration": 8,
    "start_time": "2024-05-03T07:33:24.345Z"
   },
   {
    "duration": 8,
    "start_time": "2024-05-03T07:33:24.355Z"
   },
   {
    "duration": 28,
    "start_time": "2024-05-03T07:33:24.364Z"
   },
   {
    "duration": 11,
    "start_time": "2024-05-03T07:33:24.394Z"
   },
   {
    "duration": 27,
    "start_time": "2024-05-03T07:33:24.407Z"
   },
   {
    "duration": 256,
    "start_time": "2024-05-03T07:33:24.438Z"
   },
   {
    "duration": 8,
    "start_time": "2024-05-03T07:33:24.696Z"
   },
   {
    "duration": 12,
    "start_time": "2024-05-03T07:33:24.705Z"
   },
   {
    "duration": 17,
    "start_time": "2024-05-03T07:33:24.730Z"
   },
   {
    "duration": 235,
    "start_time": "2024-05-03T07:33:24.748Z"
   },
   {
    "duration": 220,
    "start_time": "2024-05-03T07:33:24.985Z"
   },
   {
    "duration": 191,
    "start_time": "2024-05-03T07:33:25.207Z"
   },
   {
    "duration": 212,
    "start_time": "2024-05-03T07:33:25.400Z"
   },
   {
    "duration": 510,
    "start_time": "2024-05-03T07:33:25.614Z"
   },
   {
    "duration": 425,
    "start_time": "2024-05-03T07:33:26.126Z"
   },
   {
    "duration": 395,
    "start_time": "2024-05-03T07:35:15.474Z"
   },
   {
    "duration": 179,
    "start_time": "2024-05-03T07:50:09.906Z"
   },
   {
    "duration": 184,
    "start_time": "2024-05-03T07:51:31.481Z"
   },
   {
    "duration": 269,
    "start_time": "2024-05-03T07:53:38.300Z"
   },
   {
    "duration": 8,
    "start_time": "2024-05-03T07:54:08.439Z"
   },
   {
    "duration": 27,
    "start_time": "2024-05-03T07:55:48.400Z"
   },
   {
    "duration": 19,
    "start_time": "2024-05-03T07:56:58.005Z"
   },
   {
    "duration": 25,
    "start_time": "2024-05-03T07:57:38.431Z"
   },
   {
    "duration": 1164,
    "start_time": "2024-05-03T08:00:12.827Z"
   },
   {
    "duration": 23,
    "start_time": "2024-05-03T08:00:54.362Z"
   },
   {
    "duration": 219,
    "start_time": "2024-05-03T08:01:30.217Z"
   },
   {
    "duration": 19,
    "start_time": "2024-05-03T08:01:54.127Z"
   },
   {
    "duration": 4,
    "start_time": "2024-05-03T08:04:35.295Z"
   },
   {
    "duration": 23,
    "start_time": "2024-05-03T08:06:20.929Z"
   },
   {
    "duration": 1183,
    "start_time": "2024-05-03T08:06:28.352Z"
   },
   {
    "duration": 72,
    "start_time": "2024-05-03T08:06:29.537Z"
   },
   {
    "duration": 15,
    "start_time": "2024-05-03T08:06:29.610Z"
   },
   {
    "duration": 27,
    "start_time": "2024-05-03T08:06:29.627Z"
   },
   {
    "duration": 13,
    "start_time": "2024-05-03T08:06:29.656Z"
   },
   {
    "duration": 19,
    "start_time": "2024-05-03T08:06:29.671Z"
   },
   {
    "duration": 34,
    "start_time": "2024-05-03T08:06:29.691Z"
   },
   {
    "duration": 32,
    "start_time": "2024-05-03T08:06:29.727Z"
   },
   {
    "duration": 17,
    "start_time": "2024-05-03T08:06:29.761Z"
   },
   {
    "duration": 29,
    "start_time": "2024-05-03T08:06:29.781Z"
   },
   {
    "duration": 11,
    "start_time": "2024-05-03T08:06:29.812Z"
   },
   {
    "duration": 26,
    "start_time": "2024-05-03T08:06:29.824Z"
   },
   {
    "duration": 4,
    "start_time": "2024-05-03T08:06:29.852Z"
   },
   {
    "duration": 18,
    "start_time": "2024-05-03T08:06:29.858Z"
   },
   {
    "duration": 8,
    "start_time": "2024-05-03T08:06:29.878Z"
   },
   {
    "duration": 35,
    "start_time": "2024-05-03T08:06:29.887Z"
   },
   {
    "duration": 30,
    "start_time": "2024-05-03T08:06:29.924Z"
   },
   {
    "duration": 8,
    "start_time": "2024-05-03T08:06:29.956Z"
   },
   {
    "duration": 243,
    "start_time": "2024-05-03T08:06:29.966Z"
   },
   {
    "duration": 19,
    "start_time": "2024-05-03T08:06:30.211Z"
   },
   {
    "duration": 87,
    "start_time": "2024-05-03T08:06:30.232Z"
   },
   {
    "duration": 52,
    "start_time": "2024-05-03T08:06:30.322Z"
   },
   {
    "duration": 271,
    "start_time": "2024-05-03T08:06:30.376Z"
   },
   {
    "duration": 230,
    "start_time": "2024-05-03T08:06:30.649Z"
   },
   {
    "duration": 201,
    "start_time": "2024-05-03T08:06:30.881Z"
   },
   {
    "duration": 203,
    "start_time": "2024-05-03T08:06:31.084Z"
   },
   {
    "duration": 515,
    "start_time": "2024-05-03T08:06:31.289Z"
   },
   {
    "duration": 446,
    "start_time": "2024-05-03T08:06:31.809Z"
   },
   {
    "duration": 399,
    "start_time": "2024-05-03T08:06:32.257Z"
   },
   {
    "duration": 186,
    "start_time": "2024-05-03T08:06:32.657Z"
   },
   {
    "duration": 189,
    "start_time": "2024-05-03T08:06:32.845Z"
   },
   {
    "duration": 122,
    "start_time": "2024-05-03T08:06:33.036Z"
   },
   {
    "duration": 5,
    "start_time": "2024-05-03T08:07:30.757Z"
   },
   {
    "duration": 1250,
    "start_time": "2024-05-03T08:07:37.810Z"
   },
   {
    "duration": 74,
    "start_time": "2024-05-03T08:07:39.062Z"
   },
   {
    "duration": 15,
    "start_time": "2024-05-03T08:07:39.137Z"
   },
   {
    "duration": 39,
    "start_time": "2024-05-03T08:07:39.153Z"
   },
   {
    "duration": 14,
    "start_time": "2024-05-03T08:07:39.195Z"
   },
   {
    "duration": 21,
    "start_time": "2024-05-03T08:07:39.211Z"
   },
   {
    "duration": 35,
    "start_time": "2024-05-03T08:07:39.234Z"
   },
   {
    "duration": 17,
    "start_time": "2024-05-03T08:07:39.271Z"
   },
   {
    "duration": 7,
    "start_time": "2024-05-03T08:07:39.290Z"
   },
   {
    "duration": 22,
    "start_time": "2024-05-03T08:07:39.299Z"
   },
   {
    "duration": 13,
    "start_time": "2024-05-03T08:07:39.322Z"
   },
   {
    "duration": 28,
    "start_time": "2024-05-03T08:07:39.336Z"
   },
   {
    "duration": 4,
    "start_time": "2024-05-03T08:07:39.365Z"
   },
   {
    "duration": 11,
    "start_time": "2024-05-03T08:07:39.371Z"
   },
   {
    "duration": 19,
    "start_time": "2024-05-03T08:07:39.383Z"
   },
   {
    "duration": 28,
    "start_time": "2024-05-03T08:07:39.403Z"
   },
   {
    "duration": 11,
    "start_time": "2024-05-03T08:07:39.432Z"
   },
   {
    "duration": 6,
    "start_time": "2024-05-03T08:07:39.445Z"
   },
   {
    "duration": 258,
    "start_time": "2024-05-03T08:07:39.453Z"
   },
   {
    "duration": 17,
    "start_time": "2024-05-03T08:07:39.713Z"
   },
   {
    "duration": 16,
    "start_time": "2024-05-03T08:07:39.732Z"
   },
   {
    "duration": 32,
    "start_time": "2024-05-03T08:07:39.750Z"
   },
   {
    "duration": 187,
    "start_time": "2024-05-03T08:07:39.783Z"
   },
   {
    "duration": 231,
    "start_time": "2024-05-03T08:07:39.971Z"
   },
   {
    "duration": 196,
    "start_time": "2024-05-03T08:07:40.204Z"
   },
   {
    "duration": 205,
    "start_time": "2024-05-03T08:07:40.403Z"
   },
   {
    "duration": 529,
    "start_time": "2024-05-03T08:07:40.611Z"
   },
   {
    "duration": 423,
    "start_time": "2024-05-03T08:07:41.142Z"
   },
   {
    "duration": 412,
    "start_time": "2024-05-03T08:07:41.566Z"
   },
   {
    "duration": 181,
    "start_time": "2024-05-03T08:07:41.980Z"
   },
   {
    "duration": 196,
    "start_time": "2024-05-03T08:07:42.162Z"
   },
   {
    "duration": 118,
    "start_time": "2024-05-03T08:07:42.360Z"
   },
   {
    "duration": 19,
    "start_time": "2024-05-03T08:07:53.945Z"
   },
   {
    "duration": 13,
    "start_time": "2024-05-03T08:09:14.438Z"
   },
   {
    "duration": 23,
    "start_time": "2024-05-03T08:10:25.473Z"
   },
   {
    "duration": 135,
    "start_time": "2024-05-03T08:10:55.865Z"
   },
   {
    "duration": 20,
    "start_time": "2024-05-03T08:11:33.857Z"
   },
   {
    "duration": 9,
    "start_time": "2024-05-03T08:11:51.426Z"
   },
   {
    "duration": 1319,
    "start_time": "2024-05-03T08:12:01.019Z"
   },
   {
    "duration": 72,
    "start_time": "2024-05-03T08:12:02.340Z"
   },
   {
    "duration": 113,
    "start_time": "2024-05-03T08:12:02.413Z"
   },
   {
    "duration": 568,
    "start_time": "2024-05-03T08:12:02.528Z"
   },
   {
    "duration": 366,
    "start_time": "2024-05-03T08:12:03.097Z"
   },
   {
    "duration": 155,
    "start_time": "2024-05-03T08:12:03.465Z"
   },
   {
    "duration": 8,
    "start_time": "2024-05-03T08:12:03.623Z"
   },
   {
    "duration": 20,
    "start_time": "2024-05-03T08:12:03.633Z"
   },
   {
    "duration": 9,
    "start_time": "2024-05-03T08:12:03.655Z"
   },
   {
    "duration": 27,
    "start_time": "2024-05-03T08:12:03.667Z"
   },
   {
    "duration": 19,
    "start_time": "2024-05-03T08:12:03.696Z"
   },
   {
    "duration": 40,
    "start_time": "2024-05-03T08:12:03.718Z"
   },
   {
    "duration": 5,
    "start_time": "2024-05-03T08:12:03.760Z"
   },
   {
    "duration": 11,
    "start_time": "2024-05-03T08:12:03.767Z"
   },
   {
    "duration": 28,
    "start_time": "2024-05-03T08:12:03.780Z"
   },
   {
    "duration": 25,
    "start_time": "2024-05-03T08:12:03.810Z"
   },
   {
    "duration": 19,
    "start_time": "2024-05-03T08:12:03.837Z"
   },
   {
    "duration": 12,
    "start_time": "2024-05-03T08:12:03.858Z"
   },
   {
    "duration": 244,
    "start_time": "2024-05-03T08:12:03.872Z"
   },
   {
    "duration": 14,
    "start_time": "2024-05-03T08:12:04.118Z"
   },
   {
    "duration": 14,
    "start_time": "2024-05-03T08:12:04.134Z"
   },
   {
    "duration": 19,
    "start_time": "2024-05-03T08:12:04.150Z"
   },
   {
    "duration": 211,
    "start_time": "2024-05-03T08:12:04.171Z"
   },
   {
    "duration": 214,
    "start_time": "2024-05-03T08:12:04.384Z"
   },
   {
    "duration": 195,
    "start_time": "2024-05-03T08:12:04.599Z"
   },
   {
    "duration": 227,
    "start_time": "2024-05-03T08:12:04.796Z"
   },
   {
    "duration": 523,
    "start_time": "2024-05-03T08:12:05.029Z"
   },
   {
    "duration": 411,
    "start_time": "2024-05-03T08:12:05.556Z"
   },
   {
    "duration": 405,
    "start_time": "2024-05-03T08:12:05.969Z"
   },
   {
    "duration": 200,
    "start_time": "2024-05-03T08:12:06.375Z"
   },
   {
    "duration": 219,
    "start_time": "2024-05-03T08:12:06.577Z"
   },
   {
    "duration": 31,
    "start_time": "2024-05-03T08:12:06.798Z"
   },
   {
    "duration": 242,
    "start_time": "2024-05-03T08:12:06.831Z"
   },
   {
    "duration": 11,
    "start_time": "2024-05-03T08:12:15.713Z"
   },
   {
    "duration": 123,
    "start_time": "2024-05-03T08:12:23.095Z"
   },
   {
    "duration": 11,
    "start_time": "2024-05-03T08:48:24.151Z"
   },
   {
    "duration": 15,
    "start_time": "2024-05-03T08:52:47.355Z"
   },
   {
    "duration": 3,
    "start_time": "2024-05-03T08:53:11.187Z"
   },
   {
    "duration": 4,
    "start_time": "2024-05-03T08:53:19.030Z"
   },
   {
    "duration": 4,
    "start_time": "2024-05-03T08:54:09.758Z"
   },
   {
    "duration": 5,
    "start_time": "2024-05-03T08:54:13.559Z"
   },
   {
    "duration": 4,
    "start_time": "2024-05-03T08:55:04.187Z"
   },
   {
    "duration": 9,
    "start_time": "2024-05-03T08:55:09.829Z"
   },
   {
    "duration": 1189,
    "start_time": "2024-05-03T08:55:14.774Z"
   },
   {
    "duration": 74,
    "start_time": "2024-05-03T08:55:15.965Z"
   },
   {
    "duration": 16,
    "start_time": "2024-05-03T08:55:16.041Z"
   },
   {
    "duration": 32,
    "start_time": "2024-05-03T08:55:16.058Z"
   },
   {
    "duration": 15,
    "start_time": "2024-05-03T08:55:16.093Z"
   },
   {
    "duration": 9,
    "start_time": "2024-05-03T08:55:16.128Z"
   },
   {
    "duration": 10,
    "start_time": "2024-05-03T08:55:16.139Z"
   },
   {
    "duration": 35,
    "start_time": "2024-05-03T08:55:16.150Z"
   },
   {
    "duration": 8,
    "start_time": "2024-05-03T08:55:16.187Z"
   },
   {
    "duration": 28,
    "start_time": "2024-05-03T08:55:16.197Z"
   },
   {
    "duration": 11,
    "start_time": "2024-05-03T08:55:16.229Z"
   },
   {
    "duration": 35,
    "start_time": "2024-05-03T08:55:16.242Z"
   },
   {
    "duration": 5,
    "start_time": "2024-05-03T08:55:16.279Z"
   },
   {
    "duration": 17,
    "start_time": "2024-05-03T08:55:16.288Z"
   },
   {
    "duration": 27,
    "start_time": "2024-05-03T08:55:16.307Z"
   },
   {
    "duration": 23,
    "start_time": "2024-05-03T08:55:16.336Z"
   },
   {
    "duration": 18,
    "start_time": "2024-05-03T08:55:16.361Z"
   },
   {
    "duration": 9,
    "start_time": "2024-05-03T08:55:16.381Z"
   },
   {
    "duration": 254,
    "start_time": "2024-05-03T08:55:16.392Z"
   },
   {
    "duration": 8,
    "start_time": "2024-05-03T08:55:16.649Z"
   },
   {
    "duration": 13,
    "start_time": "2024-05-03T08:55:16.659Z"
   },
   {
    "duration": 51,
    "start_time": "2024-05-03T08:55:16.674Z"
   },
   {
    "duration": 232,
    "start_time": "2024-05-03T08:55:16.726Z"
   },
   {
    "duration": 236,
    "start_time": "2024-05-03T08:55:16.959Z"
   },
   {
    "duration": 210,
    "start_time": "2024-05-03T08:55:17.197Z"
   },
   {
    "duration": 225,
    "start_time": "2024-05-03T08:55:17.409Z"
   },
   {
    "duration": 505,
    "start_time": "2024-05-03T08:55:17.635Z"
   },
   {
    "duration": 401,
    "start_time": "2024-05-03T08:55:18.142Z"
   },
   {
    "duration": 420,
    "start_time": "2024-05-03T08:55:18.545Z"
   },
   {
    "duration": 189,
    "start_time": "2024-05-03T08:55:18.967Z"
   },
   {
    "duration": 193,
    "start_time": "2024-05-03T08:55:19.158Z"
   },
   {
    "duration": 19,
    "start_time": "2024-05-03T08:55:19.352Z"
   },
   {
    "duration": 249,
    "start_time": "2024-05-03T08:55:19.373Z"
   },
   {
    "duration": 0,
    "start_time": "2024-05-03T08:55:19.629Z"
   },
   {
    "duration": 0,
    "start_time": "2024-05-03T08:55:19.630Z"
   },
   {
    "duration": 8,
    "start_time": "2024-05-03T08:55:25.423Z"
   },
   {
    "duration": 5,
    "start_time": "2024-05-03T08:55:28.377Z"
   },
   {
    "duration": 11,
    "start_time": "2024-05-03T08:56:35.818Z"
   },
   {
    "duration": 16,
    "start_time": "2024-05-03T08:56:41.155Z"
   },
   {
    "duration": 18,
    "start_time": "2024-05-03T08:57:00.743Z"
   },
   {
    "duration": 15,
    "start_time": "2024-05-03T08:57:11.291Z"
   },
   {
    "duration": 223,
    "start_time": "2024-05-03T08:58:28.531Z"
   },
   {
    "duration": 244,
    "start_time": "2024-05-03T08:58:42.031Z"
   },
   {
    "duration": 257,
    "start_time": "2024-05-03T08:59:00.749Z"
   },
   {
    "duration": 17,
    "start_time": "2024-05-03T08:59:19.967Z"
   },
   {
    "duration": 260,
    "start_time": "2024-05-03T08:59:35.023Z"
   },
   {
    "duration": 251,
    "start_time": "2024-05-03T08:59:48.452Z"
   },
   {
    "duration": 265,
    "start_time": "2024-05-03T09:00:00.788Z"
   },
   {
    "duration": 269,
    "start_time": "2024-05-03T09:00:22.848Z"
   },
   {
    "duration": 30,
    "start_time": "2024-05-03T09:01:18.979Z"
   },
   {
    "duration": 25,
    "start_time": "2024-05-03T09:01:24.398Z"
   },
   {
    "duration": 7,
    "start_time": "2024-05-03T09:01:35.368Z"
   },
   {
    "duration": 24,
    "start_time": "2024-05-03T09:04:19.682Z"
   },
   {
    "duration": 26,
    "start_time": "2024-05-03T09:05:07.418Z"
   },
   {
    "duration": 23,
    "start_time": "2024-05-03T09:05:22.534Z"
   },
   {
    "duration": 278,
    "start_time": "2024-05-03T09:05:36.250Z"
   },
   {
    "duration": 24,
    "start_time": "2024-05-03T09:06:34.544Z"
   },
   {
    "duration": 264,
    "start_time": "2024-05-03T09:07:12.957Z"
   },
   {
    "duration": 361,
    "start_time": "2024-05-03T09:08:18.561Z"
   },
   {
    "duration": 10,
    "start_time": "2024-05-03T09:10:01.589Z"
   },
   {
    "duration": 10,
    "start_time": "2024-05-03T09:10:06.681Z"
   },
   {
    "duration": 249,
    "start_time": "2024-05-03T09:11:14.611Z"
   },
   {
    "duration": 11,
    "start_time": "2024-05-03T09:11:29.854Z"
   },
   {
    "duration": 1439,
    "start_time": "2024-05-03T17:51:02.594Z"
   },
   {
    "duration": 124,
    "start_time": "2024-05-03T17:51:04.035Z"
   },
   {
    "duration": 16,
    "start_time": "2024-05-03T17:51:04.163Z"
   },
   {
    "duration": 30,
    "start_time": "2024-05-03T17:51:04.181Z"
   },
   {
    "duration": 14,
    "start_time": "2024-05-03T17:51:04.213Z"
   },
   {
    "duration": 7,
    "start_time": "2024-05-03T17:51:04.229Z"
   },
   {
    "duration": 11,
    "start_time": "2024-05-03T17:51:04.238Z"
   },
   {
    "duration": 45,
    "start_time": "2024-05-03T17:51:04.251Z"
   },
   {
    "duration": 7,
    "start_time": "2024-05-03T17:51:04.300Z"
   },
   {
    "duration": 16,
    "start_time": "2024-05-03T17:51:04.309Z"
   },
   {
    "duration": 10,
    "start_time": "2024-05-03T17:51:04.327Z"
   },
   {
    "duration": 55,
    "start_time": "2024-05-03T17:51:04.339Z"
   },
   {
    "duration": 4,
    "start_time": "2024-05-03T17:51:04.396Z"
   },
   {
    "duration": 20,
    "start_time": "2024-05-03T17:51:04.402Z"
   },
   {
    "duration": 5,
    "start_time": "2024-05-03T17:51:04.424Z"
   },
   {
    "duration": 20,
    "start_time": "2024-05-03T17:51:04.431Z"
   },
   {
    "duration": 10,
    "start_time": "2024-05-03T17:51:04.452Z"
   },
   {
    "duration": 23,
    "start_time": "2024-05-03T17:51:04.463Z"
   },
   {
    "duration": 281,
    "start_time": "2024-05-03T17:51:04.487Z"
   },
   {
    "duration": 8,
    "start_time": "2024-05-03T17:51:04.769Z"
   },
   {
    "duration": 8,
    "start_time": "2024-05-03T17:51:04.782Z"
   },
   {
    "duration": 17,
    "start_time": "2024-05-03T17:51:04.791Z"
   },
   {
    "duration": 203,
    "start_time": "2024-05-03T17:51:04.809Z"
   },
   {
    "duration": 218,
    "start_time": "2024-05-03T17:51:05.014Z"
   },
   {
    "duration": 192,
    "start_time": "2024-05-03T17:51:05.234Z"
   },
   {
    "duration": 195,
    "start_time": "2024-05-03T17:51:05.427Z"
   },
   {
    "duration": 548,
    "start_time": "2024-05-03T17:51:05.625Z"
   },
   {
    "duration": 437,
    "start_time": "2024-05-03T17:51:06.175Z"
   },
   {
    "duration": 386,
    "start_time": "2024-05-03T17:51:06.614Z"
   },
   {
    "duration": 191,
    "start_time": "2024-05-03T17:51:07.002Z"
   },
   {
    "duration": 179,
    "start_time": "2024-05-03T17:51:07.195Z"
   },
   {
    "duration": 21,
    "start_time": "2024-05-03T17:51:07.382Z"
   },
   {
    "duration": 204,
    "start_time": "2024-05-03T17:51:07.405Z"
   },
   {
    "duration": 23,
    "start_time": "2024-05-03T17:51:07.611Z"
   },
   {
    "duration": 300,
    "start_time": "2024-05-03T17:51:07.636Z"
   },
   {
    "duration": 8,
    "start_time": "2024-05-03T17:51:07.938Z"
   },
   {
    "duration": 292,
    "start_time": "2024-05-03T17:57:54.276Z"
   },
   {
    "duration": 230,
    "start_time": "2024-05-03T17:58:04.959Z"
   },
   {
    "duration": 21,
    "start_time": "2024-05-03T17:59:45.511Z"
   },
   {
    "duration": 184,
    "start_time": "2024-05-03T18:00:31.803Z"
   },
   {
    "duration": 23,
    "start_time": "2024-05-03T18:02:04.425Z"
   },
   {
    "duration": 173,
    "start_time": "2024-05-03T18:02:08.352Z"
   },
   {
    "duration": 20,
    "start_time": "2024-05-03T18:02:27.474Z"
   },
   {
    "duration": 181,
    "start_time": "2024-05-03T18:02:30.169Z"
   },
   {
    "duration": 22,
    "start_time": "2024-05-03T18:05:54.912Z"
   },
   {
    "duration": 19,
    "start_time": "2024-05-03T18:17:52.651Z"
   },
   {
    "duration": 21,
    "start_time": "2024-05-03T18:20:40.514Z"
   },
   {
    "duration": 1188,
    "start_time": "2024-05-03T18:22:05.988Z"
   },
   {
    "duration": 72,
    "start_time": "2024-05-03T18:22:07.178Z"
   },
   {
    "duration": 21,
    "start_time": "2024-05-03T18:22:07.251Z"
   },
   {
    "duration": 63,
    "start_time": "2024-05-03T18:22:07.274Z"
   },
   {
    "duration": 14,
    "start_time": "2024-05-03T18:22:07.339Z"
   },
   {
    "duration": 8,
    "start_time": "2024-05-03T18:22:07.355Z"
   },
   {
    "duration": 9,
    "start_time": "2024-05-03T18:22:07.365Z"
   },
   {
    "duration": 18,
    "start_time": "2024-05-03T18:22:07.376Z"
   },
   {
    "duration": 7,
    "start_time": "2024-05-03T18:22:07.396Z"
   },
   {
    "duration": 17,
    "start_time": "2024-05-03T18:22:07.405Z"
   },
   {
    "duration": 10,
    "start_time": "2024-05-03T18:22:07.424Z"
   },
   {
    "duration": 48,
    "start_time": "2024-05-03T18:22:07.436Z"
   },
   {
    "duration": 4,
    "start_time": "2024-05-03T18:22:07.486Z"
   },
   {
    "duration": 9,
    "start_time": "2024-05-03T18:22:07.492Z"
   },
   {
    "duration": 6,
    "start_time": "2024-05-03T18:22:07.503Z"
   },
   {
    "duration": 33,
    "start_time": "2024-05-03T18:22:07.511Z"
   },
   {
    "duration": 8,
    "start_time": "2024-05-03T18:22:07.546Z"
   },
   {
    "duration": 9,
    "start_time": "2024-05-03T18:22:07.556Z"
   },
   {
    "duration": 246,
    "start_time": "2024-05-03T18:22:07.567Z"
   },
   {
    "duration": 7,
    "start_time": "2024-05-03T18:22:07.815Z"
   },
   {
    "duration": 13,
    "start_time": "2024-05-03T18:22:07.823Z"
   },
   {
    "duration": 30,
    "start_time": "2024-05-03T18:22:07.837Z"
   },
   {
    "duration": 203,
    "start_time": "2024-05-03T18:22:07.869Z"
   },
   {
    "duration": 215,
    "start_time": "2024-05-03T18:22:08.074Z"
   },
   {
    "duration": 195,
    "start_time": "2024-05-03T18:22:08.291Z"
   },
   {
    "duration": 206,
    "start_time": "2024-05-03T18:22:08.489Z"
   },
   {
    "duration": 515,
    "start_time": "2024-05-03T18:22:08.697Z"
   },
   {
    "duration": 393,
    "start_time": "2024-05-03T18:22:09.215Z"
   },
   {
    "duration": 423,
    "start_time": "2024-05-03T18:22:09.610Z"
   },
   {
    "duration": 202,
    "start_time": "2024-05-03T18:22:10.035Z"
   },
   {
    "duration": 198,
    "start_time": "2024-05-03T18:22:10.238Z"
   },
   {
    "duration": 23,
    "start_time": "2024-05-03T18:22:10.437Z"
   },
   {
    "duration": 223,
    "start_time": "2024-05-03T18:22:10.461Z"
   },
   {
    "duration": 177,
    "start_time": "2024-05-03T18:22:10.685Z"
   },
   {
    "duration": 29,
    "start_time": "2024-05-03T18:22:10.864Z"
   },
   {
    "duration": 264,
    "start_time": "2024-05-03T18:22:10.894Z"
   },
   {
    "duration": 8,
    "start_time": "2024-05-03T18:22:11.159Z"
   },
   {
    "duration": 280,
    "start_time": "2024-05-03T18:23:23.082Z"
   },
   {
    "duration": 10,
    "start_time": "2024-05-03T18:24:30.924Z"
   },
   {
    "duration": 11,
    "start_time": "2024-05-03T18:24:44.309Z"
   },
   {
    "duration": 12,
    "start_time": "2024-05-03T18:25:12.037Z"
   },
   {
    "duration": 8,
    "start_time": "2024-05-03T18:25:43.708Z"
   },
   {
    "duration": 6,
    "start_time": "2024-05-03T18:25:56.584Z"
   },
   {
    "duration": 14,
    "start_time": "2024-05-03T18:26:13.417Z"
   },
   {
    "duration": 9,
    "start_time": "2024-05-03T18:26:24.289Z"
   },
   {
    "duration": 182,
    "start_time": "2024-05-03T18:41:04.774Z"
   },
   {
    "duration": 196,
    "start_time": "2024-05-03T18:41:31.062Z"
   },
   {
    "duration": 24,
    "start_time": "2024-05-03T18:43:56.315Z"
   },
   {
    "duration": 196,
    "start_time": "2024-05-03T18:44:58.794Z"
   },
   {
    "duration": 181,
    "start_time": "2024-05-03T18:46:09.854Z"
   },
   {
    "duration": 205,
    "start_time": "2024-05-03T18:47:09.612Z"
   },
   {
    "duration": 202,
    "start_time": "2024-05-03T18:48:40.815Z"
   },
   {
    "duration": 189,
    "start_time": "2024-05-03T18:49:06.939Z"
   },
   {
    "duration": 209,
    "start_time": "2024-05-03T18:49:24.899Z"
   },
   {
    "duration": 18,
    "start_time": "2024-05-03T18:49:40.754Z"
   },
   {
    "duration": 191,
    "start_time": "2024-05-03T18:49:49.913Z"
   },
   {
    "duration": 188,
    "start_time": "2024-05-03T18:50:06.187Z"
   },
   {
    "duration": 393,
    "start_time": "2024-05-03T18:50:15.655Z"
   },
   {
    "duration": 514,
    "start_time": "2024-05-03T18:51:36.468Z"
   },
   {
    "duration": 461,
    "start_time": "2024-05-03T18:51:58.027Z"
   },
   {
    "duration": 242,
    "start_time": "2024-05-03T19:20:16.943Z"
   },
   {
    "duration": 182,
    "start_time": "2024-05-03T19:20:24.440Z"
   },
   {
    "duration": 33,
    "start_time": "2024-05-03T19:20:55.677Z"
   },
   {
    "duration": 1199,
    "start_time": "2024-05-03T19:23:23.748Z"
   },
   {
    "duration": 74,
    "start_time": "2024-05-03T19:23:24.949Z"
   },
   {
    "duration": 15,
    "start_time": "2024-05-03T19:23:25.026Z"
   },
   {
    "duration": 48,
    "start_time": "2024-05-03T19:23:25.043Z"
   },
   {
    "duration": 14,
    "start_time": "2024-05-03T19:23:25.092Z"
   },
   {
    "duration": 9,
    "start_time": "2024-05-03T19:23:25.107Z"
   },
   {
    "duration": 7,
    "start_time": "2024-05-03T19:23:25.118Z"
   },
   {
    "duration": 19,
    "start_time": "2024-05-03T19:23:25.127Z"
   },
   {
    "duration": 35,
    "start_time": "2024-05-03T19:23:25.148Z"
   },
   {
    "duration": 19,
    "start_time": "2024-05-03T19:23:25.185Z"
   },
   {
    "duration": 9,
    "start_time": "2024-05-03T19:23:25.205Z"
   },
   {
    "duration": 24,
    "start_time": "2024-05-03T19:23:25.216Z"
   },
   {
    "duration": 4,
    "start_time": "2024-05-03T19:23:25.244Z"
   },
   {
    "duration": 36,
    "start_time": "2024-05-03T19:23:25.249Z"
   },
   {
    "duration": 16,
    "start_time": "2024-05-03T19:23:25.287Z"
   },
   {
    "duration": 28,
    "start_time": "2024-05-03T19:23:25.304Z"
   },
   {
    "duration": 7,
    "start_time": "2024-05-03T19:23:25.334Z"
   },
   {
    "duration": 6,
    "start_time": "2024-05-03T19:23:25.342Z"
   },
   {
    "duration": 252,
    "start_time": "2024-05-03T19:23:25.350Z"
   },
   {
    "duration": 7,
    "start_time": "2024-05-03T19:23:25.603Z"
   },
   {
    "duration": 9,
    "start_time": "2024-05-03T19:23:25.612Z"
   },
   {
    "duration": 18,
    "start_time": "2024-05-03T19:23:25.622Z"
   },
   {
    "duration": 232,
    "start_time": "2024-05-03T19:23:25.642Z"
   },
   {
    "duration": 233,
    "start_time": "2024-05-03T19:23:25.876Z"
   },
   {
    "duration": 195,
    "start_time": "2024-05-03T19:23:26.110Z"
   },
   {
    "duration": 204,
    "start_time": "2024-05-03T19:23:26.308Z"
   },
   {
    "duration": 523,
    "start_time": "2024-05-03T19:23:26.514Z"
   },
   {
    "duration": 436,
    "start_time": "2024-05-03T19:23:27.038Z"
   },
   {
    "duration": 398,
    "start_time": "2024-05-03T19:23:27.481Z"
   },
   {
    "duration": 28,
    "start_time": "2024-05-03T19:23:27.882Z"
   },
   {
    "duration": 223,
    "start_time": "2024-05-03T19:23:27.912Z"
   },
   {
    "duration": 204,
    "start_time": "2024-05-03T19:23:28.137Z"
   },
   {
    "duration": 8,
    "start_time": "2024-05-03T19:23:28.343Z"
   },
   {
    "duration": 212,
    "start_time": "2024-05-03T19:23:28.352Z"
   },
   {
    "duration": 33,
    "start_time": "2024-05-03T19:23:28.566Z"
   },
   {
    "duration": 268,
    "start_time": "2024-05-03T19:23:28.601Z"
   },
   {
    "duration": 18,
    "start_time": "2024-05-03T19:23:28.871Z"
   },
   {
    "duration": 106,
    "start_time": "2024-05-03T19:26:21.591Z"
   },
   {
    "duration": 26,
    "start_time": "2024-05-03T19:26:26.729Z"
   },
   {
    "duration": 19,
    "start_time": "2024-05-03T19:28:28.254Z"
   },
   {
    "duration": 83,
    "start_time": "2024-05-03T19:30:47.764Z"
   },
   {
    "duration": 25,
    "start_time": "2024-05-03T19:31:18.118Z"
   },
   {
    "duration": 25,
    "start_time": "2024-05-03T19:36:08.952Z"
   },
   {
    "duration": 31,
    "start_time": "2024-05-03T19:36:30.062Z"
   },
   {
    "duration": 39,
    "start_time": "2024-05-03T19:36:43.127Z"
   },
   {
    "duration": 55,
    "start_time": "2024-05-03T19:39:57.812Z"
   },
   {
    "duration": 20,
    "start_time": "2024-05-03T19:40:07.793Z"
   },
   {
    "duration": 22,
    "start_time": "2024-05-03T19:40:43.695Z"
   },
   {
    "duration": 26,
    "start_time": "2024-05-03T19:41:05.398Z"
   },
   {
    "duration": 19,
    "start_time": "2024-05-03T19:41:20.066Z"
   },
   {
    "duration": 16,
    "start_time": "2024-05-03T19:41:44.919Z"
   },
   {
    "duration": 17,
    "start_time": "2024-05-03T19:41:59.452Z"
   },
   {
    "duration": 1181,
    "start_time": "2024-05-03T19:44:09.865Z"
   },
   {
    "duration": 71,
    "start_time": "2024-05-03T19:44:11.048Z"
   },
   {
    "duration": 14,
    "start_time": "2024-05-03T19:44:11.121Z"
   },
   {
    "duration": 29,
    "start_time": "2024-05-03T19:44:11.137Z"
   },
   {
    "duration": 14,
    "start_time": "2024-05-03T19:44:11.182Z"
   },
   {
    "duration": 20,
    "start_time": "2024-05-03T19:44:11.197Z"
   },
   {
    "duration": 8,
    "start_time": "2024-05-03T19:44:11.218Z"
   },
   {
    "duration": 17,
    "start_time": "2024-05-03T19:44:11.227Z"
   },
   {
    "duration": 6,
    "start_time": "2024-05-03T19:44:11.246Z"
   },
   {
    "duration": 39,
    "start_time": "2024-05-03T19:44:11.255Z"
   },
   {
    "duration": 9,
    "start_time": "2024-05-03T19:44:11.296Z"
   },
   {
    "duration": 27,
    "start_time": "2024-05-03T19:44:11.306Z"
   },
   {
    "duration": 4,
    "start_time": "2024-05-03T19:44:11.335Z"
   },
   {
    "duration": 23,
    "start_time": "2024-05-03T19:44:11.340Z"
   },
   {
    "duration": 18,
    "start_time": "2024-05-03T19:44:11.364Z"
   },
   {
    "duration": 15,
    "start_time": "2024-05-03T19:44:11.384Z"
   },
   {
    "duration": 17,
    "start_time": "2024-05-03T19:44:11.401Z"
   },
   {
    "duration": 11,
    "start_time": "2024-05-03T19:44:11.420Z"
   },
   {
    "duration": 271,
    "start_time": "2024-05-03T19:44:11.433Z"
   },
   {
    "duration": 6,
    "start_time": "2024-05-03T19:44:11.706Z"
   },
   {
    "duration": 11,
    "start_time": "2024-05-03T19:44:11.714Z"
   },
   {
    "duration": 19,
    "start_time": "2024-05-03T19:44:11.727Z"
   },
   {
    "duration": 213,
    "start_time": "2024-05-03T19:44:11.748Z"
   },
   {
    "duration": 219,
    "start_time": "2024-05-03T19:44:11.963Z"
   },
   {
    "duration": 186,
    "start_time": "2024-05-03T19:44:12.183Z"
   },
   {
    "duration": 208,
    "start_time": "2024-05-03T19:44:12.371Z"
   },
   {
    "duration": 515,
    "start_time": "2024-05-03T19:44:12.582Z"
   },
   {
    "duration": 8,
    "start_time": "2024-05-03T19:44:13.101Z"
   },
   {
    "duration": 424,
    "start_time": "2024-05-03T19:44:13.110Z"
   },
   {
    "duration": 398,
    "start_time": "2024-05-03T19:44:13.536Z"
   },
   {
    "duration": 25,
    "start_time": "2024-05-03T19:44:13.935Z"
   },
   {
    "duration": 227,
    "start_time": "2024-05-03T19:44:13.962Z"
   },
   {
    "duration": 239,
    "start_time": "2024-05-03T19:44:14.191Z"
   },
   {
    "duration": 8,
    "start_time": "2024-05-03T19:44:14.432Z"
   },
   {
    "duration": 234,
    "start_time": "2024-05-03T19:44:14.442Z"
   },
   {
    "duration": 22,
    "start_time": "2024-05-03T19:44:14.681Z"
   },
   {
    "duration": 290,
    "start_time": "2024-05-03T19:44:14.704Z"
   },
   {
    "duration": 8,
    "start_time": "2024-05-03T19:44:14.995Z"
   },
   {
    "duration": 92,
    "start_time": "2024-05-03T19:44:15.005Z"
   },
   {
    "duration": 401,
    "start_time": "2024-05-03T19:44:31.157Z"
   },
   {
    "duration": 1147,
    "start_time": "2024-05-03T19:44:36.915Z"
   },
   {
    "duration": 71,
    "start_time": "2024-05-03T19:44:38.063Z"
   },
   {
    "duration": 15,
    "start_time": "2024-05-03T19:44:38.135Z"
   },
   {
    "duration": 34,
    "start_time": "2024-05-03T19:44:38.151Z"
   },
   {
    "duration": 14,
    "start_time": "2024-05-03T19:44:38.187Z"
   },
   {
    "duration": 7,
    "start_time": "2024-05-03T19:44:38.203Z"
   },
   {
    "duration": 7,
    "start_time": "2024-05-03T19:44:38.211Z"
   },
   {
    "duration": 21,
    "start_time": "2024-05-03T19:44:38.220Z"
   },
   {
    "duration": 7,
    "start_time": "2024-05-03T19:44:38.243Z"
   },
   {
    "duration": 40,
    "start_time": "2024-05-03T19:44:38.252Z"
   },
   {
    "duration": 9,
    "start_time": "2024-05-03T19:44:38.294Z"
   },
   {
    "duration": 24,
    "start_time": "2024-05-03T19:44:38.304Z"
   },
   {
    "duration": 3,
    "start_time": "2024-05-03T19:44:38.330Z"
   },
   {
    "duration": 6,
    "start_time": "2024-05-03T19:44:38.336Z"
   },
   {
    "duration": 40,
    "start_time": "2024-05-03T19:44:38.343Z"
   },
   {
    "duration": 32,
    "start_time": "2024-05-03T19:44:38.384Z"
   },
   {
    "duration": 11,
    "start_time": "2024-05-03T19:44:38.418Z"
   },
   {
    "duration": 7,
    "start_time": "2024-05-03T19:44:38.430Z"
   },
   {
    "duration": 250,
    "start_time": "2024-05-03T19:44:38.438Z"
   },
   {
    "duration": 8,
    "start_time": "2024-05-03T19:44:38.690Z"
   },
   {
    "duration": 10,
    "start_time": "2024-05-03T19:44:38.700Z"
   },
   {
    "duration": 20,
    "start_time": "2024-05-03T19:44:38.711Z"
   },
   {
    "duration": 208,
    "start_time": "2024-05-03T19:44:38.733Z"
   },
   {
    "duration": 212,
    "start_time": "2024-05-03T19:44:38.943Z"
   },
   {
    "duration": 196,
    "start_time": "2024-05-03T19:44:39.157Z"
   },
   {
    "duration": 201,
    "start_time": "2024-05-03T19:44:39.354Z"
   },
   {
    "duration": 543,
    "start_time": "2024-05-03T19:44:39.557Z"
   },
   {
    "duration": 6,
    "start_time": "2024-05-03T19:44:40.103Z"
   },
   {
    "duration": 537,
    "start_time": "2024-05-03T19:44:40.110Z"
   },
   {
    "duration": 646,
    "start_time": "2024-05-03T19:44:40.649Z"
   },
   {
    "duration": 20,
    "start_time": "2024-05-03T19:44:41.296Z"
   },
   {
    "duration": 210,
    "start_time": "2024-05-03T19:44:41.317Z"
   },
   {
    "duration": 214,
    "start_time": "2024-05-03T19:44:41.528Z"
   },
   {
    "duration": 8,
    "start_time": "2024-05-03T19:44:41.744Z"
   },
   {
    "duration": 242,
    "start_time": "2024-05-03T19:44:41.753Z"
   },
   {
    "duration": 22,
    "start_time": "2024-05-03T19:44:41.996Z"
   },
   {
    "duration": 275,
    "start_time": "2024-05-03T19:44:42.019Z"
   },
   {
    "duration": 8,
    "start_time": "2024-05-03T19:44:42.295Z"
   },
   {
    "duration": 34,
    "start_time": "2024-05-03T19:44:42.304Z"
   },
   {
    "duration": 389,
    "start_time": "2024-05-03T19:46:16.569Z"
   },
   {
    "duration": 297,
    "start_time": "2024-05-03T19:46:21.265Z"
   },
   {
    "duration": 213,
    "start_time": "2024-05-03T19:46:28.581Z"
   },
   {
    "duration": 18,
    "start_time": "2024-05-03T19:46:41.428Z"
   },
   {
    "duration": 17,
    "start_time": "2024-05-03T19:47:11.595Z"
   },
   {
    "duration": 1202,
    "start_time": "2024-05-03T19:47:22.211Z"
   },
   {
    "duration": 71,
    "start_time": "2024-05-03T19:47:23.415Z"
   },
   {
    "duration": 15,
    "start_time": "2024-05-03T19:47:23.488Z"
   },
   {
    "duration": 43,
    "start_time": "2024-05-03T19:47:23.505Z"
   },
   {
    "duration": 14,
    "start_time": "2024-05-03T19:47:23.549Z"
   },
   {
    "duration": 20,
    "start_time": "2024-05-03T19:47:23.565Z"
   },
   {
    "duration": 11,
    "start_time": "2024-05-03T19:47:23.586Z"
   },
   {
    "duration": 37,
    "start_time": "2024-05-03T19:47:23.599Z"
   },
   {
    "duration": 14,
    "start_time": "2024-05-03T19:47:23.638Z"
   },
   {
    "duration": 16,
    "start_time": "2024-05-03T19:47:23.655Z"
   },
   {
    "duration": 10,
    "start_time": "2024-05-03T19:47:23.673Z"
   },
   {
    "duration": 26,
    "start_time": "2024-05-03T19:47:23.684Z"
   },
   {
    "duration": 4,
    "start_time": "2024-05-03T19:47:23.712Z"
   },
   {
    "duration": 17,
    "start_time": "2024-05-03T19:47:23.717Z"
   },
   {
    "duration": 13,
    "start_time": "2024-05-03T19:47:23.736Z"
   },
   {
    "duration": 36,
    "start_time": "2024-05-03T19:47:23.750Z"
   },
   {
    "duration": 7,
    "start_time": "2024-05-03T19:47:23.787Z"
   },
   {
    "duration": 19,
    "start_time": "2024-05-03T19:47:23.796Z"
   },
   {
    "duration": 278,
    "start_time": "2024-05-03T19:47:23.817Z"
   },
   {
    "duration": 7,
    "start_time": "2024-05-03T19:47:24.097Z"
   },
   {
    "duration": 11,
    "start_time": "2024-05-03T19:47:24.106Z"
   },
   {
    "duration": 24,
    "start_time": "2024-05-03T19:47:24.119Z"
   },
   {
    "duration": 198,
    "start_time": "2024-05-03T19:47:24.144Z"
   },
   {
    "duration": 212,
    "start_time": "2024-05-03T19:47:24.344Z"
   },
   {
    "duration": 202,
    "start_time": "2024-05-03T19:47:24.558Z"
   },
   {
    "duration": 206,
    "start_time": "2024-05-03T19:47:24.762Z"
   },
   {
    "duration": 495,
    "start_time": "2024-05-03T19:47:24.969Z"
   },
   {
    "duration": 18,
    "start_time": "2024-05-03T19:47:25.467Z"
   },
   {
    "duration": 405,
    "start_time": "2024-05-03T19:47:25.486Z"
   },
   {
    "duration": 395,
    "start_time": "2024-05-03T19:47:25.893Z"
   },
   {
    "duration": 22,
    "start_time": "2024-05-03T19:47:26.290Z"
   },
   {
    "duration": 241,
    "start_time": "2024-05-03T19:47:26.313Z"
   },
   {
    "duration": 202,
    "start_time": "2024-05-03T19:47:26.555Z"
   },
   {
    "duration": 8,
    "start_time": "2024-05-03T19:47:26.759Z"
   },
   {
    "duration": 224,
    "start_time": "2024-05-03T19:47:26.769Z"
   },
   {
    "duration": 22,
    "start_time": "2024-05-03T19:47:26.995Z"
   },
   {
    "duration": 266,
    "start_time": "2024-05-03T19:47:27.019Z"
   },
   {
    "duration": 8,
    "start_time": "2024-05-03T19:47:27.287Z"
   },
   {
    "duration": 19,
    "start_time": "2024-05-03T19:47:27.297Z"
   },
   {
    "duration": 26,
    "start_time": "2024-05-03T19:47:42.876Z"
   },
   {
    "duration": 118,
    "start_time": "2024-05-03T19:48:00.509Z"
   },
   {
    "duration": 10,
    "start_time": "2024-05-03T19:48:04.894Z"
   },
   {
    "duration": 1231,
    "start_time": "2024-05-04T06:45:13.283Z"
   },
   {
    "duration": 114,
    "start_time": "2024-05-04T06:45:14.515Z"
   },
   {
    "duration": 12,
    "start_time": "2024-05-04T06:45:14.630Z"
   },
   {
    "duration": 22,
    "start_time": "2024-05-04T06:45:14.643Z"
   },
   {
    "duration": 10,
    "start_time": "2024-05-04T06:45:14.666Z"
   },
   {
    "duration": 11,
    "start_time": "2024-05-04T06:45:14.679Z"
   },
   {
    "duration": 9,
    "start_time": "2024-05-04T06:45:14.692Z"
   },
   {
    "duration": 24,
    "start_time": "2024-05-04T06:45:14.703Z"
   },
   {
    "duration": 6,
    "start_time": "2024-05-04T06:45:14.729Z"
   },
   {
    "duration": 17,
    "start_time": "2024-05-04T06:45:14.737Z"
   },
   {
    "duration": 24,
    "start_time": "2024-05-04T06:45:14.755Z"
   },
   {
    "duration": 24,
    "start_time": "2024-05-04T06:45:14.781Z"
   },
   {
    "duration": 3,
    "start_time": "2024-05-04T06:45:14.806Z"
   },
   {
    "duration": 12,
    "start_time": "2024-05-04T06:45:14.810Z"
   },
   {
    "duration": 9,
    "start_time": "2024-05-04T06:45:14.823Z"
   },
   {
    "duration": 15,
    "start_time": "2024-05-04T06:45:14.833Z"
   },
   {
    "duration": 11,
    "start_time": "2024-05-04T06:45:14.850Z"
   },
   {
    "duration": 13,
    "start_time": "2024-05-04T06:45:14.862Z"
   },
   {
    "duration": 206,
    "start_time": "2024-05-04T06:45:14.877Z"
   },
   {
    "duration": 8,
    "start_time": "2024-05-04T06:45:15.085Z"
   },
   {
    "duration": 53,
    "start_time": "2024-05-04T06:45:15.102Z"
   },
   {
    "duration": 30,
    "start_time": "2024-05-04T06:45:15.157Z"
   },
   {
    "duration": 189,
    "start_time": "2024-05-04T06:45:15.188Z"
   },
   {
    "duration": 173,
    "start_time": "2024-05-04T06:45:15.379Z"
   },
   {
    "duration": 148,
    "start_time": "2024-05-04T06:45:15.553Z"
   },
   {
    "duration": 165,
    "start_time": "2024-05-04T06:45:15.703Z"
   },
   {
    "duration": 414,
    "start_time": "2024-05-04T06:45:15.870Z"
   },
   {
    "duration": 5,
    "start_time": "2024-05-04T06:45:16.287Z"
   },
   {
    "duration": 340,
    "start_time": "2024-05-04T06:45:16.293Z"
   },
   {
    "duration": 311,
    "start_time": "2024-05-04T06:45:16.635Z"
   },
   {
    "duration": 15,
    "start_time": "2024-05-04T06:45:16.947Z"
   },
   {
    "duration": 159,
    "start_time": "2024-05-04T06:45:16.963Z"
   },
   {
    "duration": 188,
    "start_time": "2024-05-04T06:45:17.123Z"
   },
   {
    "duration": 6,
    "start_time": "2024-05-04T06:45:17.313Z"
   },
   {
    "duration": 182,
    "start_time": "2024-05-04T06:45:17.321Z"
   },
   {
    "duration": 19,
    "start_time": "2024-05-04T06:45:17.505Z"
   },
   {
    "duration": 209,
    "start_time": "2024-05-04T06:45:17.525Z"
   },
   {
    "duration": 5,
    "start_time": "2024-05-04T06:45:17.736Z"
   },
   {
    "duration": 21,
    "start_time": "2024-05-04T06:45:17.742Z"
   },
   {
    "duration": 193,
    "start_time": "2024-05-04T06:46:10.765Z"
   },
   {
    "duration": 1083,
    "start_time": "2024-05-04T06:46:40.182Z"
   },
   {
    "duration": 65,
    "start_time": "2024-05-04T06:46:41.266Z"
   },
   {
    "duration": 11,
    "start_time": "2024-05-04T06:46:41.333Z"
   },
   {
    "duration": 24,
    "start_time": "2024-05-04T06:46:41.346Z"
   },
   {
    "duration": 11,
    "start_time": "2024-05-04T06:46:41.371Z"
   },
   {
    "duration": 8,
    "start_time": "2024-05-04T06:46:41.407Z"
   },
   {
    "duration": 21,
    "start_time": "2024-05-04T06:46:41.417Z"
   },
   {
    "duration": 25,
    "start_time": "2024-05-04T06:46:41.440Z"
   },
   {
    "duration": 7,
    "start_time": "2024-05-04T06:46:41.466Z"
   },
   {
    "duration": 11,
    "start_time": "2024-05-04T06:46:41.475Z"
   },
   {
    "duration": 22,
    "start_time": "2024-05-04T06:46:41.487Z"
   },
   {
    "duration": 19,
    "start_time": "2024-05-04T06:46:41.511Z"
   },
   {
    "duration": 3,
    "start_time": "2024-05-04T06:46:41.531Z"
   },
   {
    "duration": 13,
    "start_time": "2024-05-04T06:46:41.535Z"
   },
   {
    "duration": 23,
    "start_time": "2024-05-04T06:46:41.549Z"
   },
   {
    "duration": 11,
    "start_time": "2024-05-04T06:46:41.573Z"
   },
   {
    "duration": 7,
    "start_time": "2024-05-04T06:46:41.585Z"
   },
   {
    "duration": 9,
    "start_time": "2024-05-04T06:46:41.593Z"
   },
   {
    "duration": 207,
    "start_time": "2024-05-04T06:46:41.604Z"
   },
   {
    "duration": 6,
    "start_time": "2024-05-04T06:46:41.812Z"
   },
   {
    "duration": 7,
    "start_time": "2024-05-04T06:46:41.819Z"
   },
   {
    "duration": 15,
    "start_time": "2024-05-04T06:46:41.827Z"
   },
   {
    "duration": 171,
    "start_time": "2024-05-04T06:46:41.843Z"
   },
   {
    "duration": 157,
    "start_time": "2024-05-04T06:46:42.016Z"
   },
   {
    "duration": 160,
    "start_time": "2024-05-04T06:46:42.174Z"
   },
   {
    "duration": 153,
    "start_time": "2024-05-04T06:46:42.336Z"
   },
   {
    "duration": 386,
    "start_time": "2024-05-04T06:46:42.490Z"
   },
   {
    "duration": 6,
    "start_time": "2024-05-04T06:46:42.878Z"
   },
   {
    "duration": 338,
    "start_time": "2024-05-04T06:46:42.885Z"
   },
   {
    "duration": 318,
    "start_time": "2024-05-04T06:46:43.224Z"
   },
   {
    "duration": 15,
    "start_time": "2024-05-04T06:46:43.544Z"
   },
   {
    "duration": 167,
    "start_time": "2024-05-04T06:46:43.560Z"
   },
   {
    "duration": 162,
    "start_time": "2024-05-04T06:46:43.728Z"
   },
   {
    "duration": 14,
    "start_time": "2024-05-04T06:46:43.891Z"
   },
   {
    "duration": 269,
    "start_time": "2024-05-04T06:46:43.906Z"
   },
   {
    "duration": 0,
    "start_time": "2024-05-04T06:46:44.176Z"
   },
   {
    "duration": 0,
    "start_time": "2024-05-04T06:46:44.178Z"
   },
   {
    "duration": 0,
    "start_time": "2024-05-04T06:46:44.179Z"
   },
   {
    "duration": 0,
    "start_time": "2024-05-04T06:46:44.179Z"
   },
   {
    "duration": 170,
    "start_time": "2024-05-04T06:47:00.106Z"
   },
   {
    "duration": 18,
    "start_time": "2024-05-04T06:47:07.010Z"
   },
   {
    "duration": 210,
    "start_time": "2024-05-04T06:47:07.282Z"
   },
   {
    "duration": 6,
    "start_time": "2024-05-04T06:47:07.966Z"
   },
   {
    "duration": 12,
    "start_time": "2024-05-04T06:47:10.458Z"
   },
   {
    "duration": 13,
    "start_time": "2024-05-04T06:49:28.156Z"
   },
   {
    "duration": 13,
    "start_time": "2024-05-04T06:49:43.048Z"
   },
   {
    "duration": 14,
    "start_time": "2024-05-04T06:49:53.396Z"
   },
   {
    "duration": 9,
    "start_time": "2024-05-04T06:51:14.639Z"
   },
   {
    "duration": 13,
    "start_time": "2024-05-04T06:51:23.105Z"
   },
   {
    "duration": 49,
    "start_time": "2024-05-04T06:51:38.476Z"
   },
   {
    "duration": 4,
    "start_time": "2024-05-04T06:51:43.844Z"
   },
   {
    "duration": 5,
    "start_time": "2024-05-04T06:52:32.992Z"
   },
   {
    "duration": 13,
    "start_time": "2024-05-04T06:52:45.817Z"
   },
   {
    "duration": 4,
    "start_time": "2024-05-04T06:52:47.966Z"
   },
   {
    "duration": 5,
    "start_time": "2024-05-04T06:53:11.972Z"
   },
   {
    "duration": 8,
    "start_time": "2024-05-04T06:53:22.329Z"
   },
   {
    "duration": 4,
    "start_time": "2024-05-04T06:53:27.948Z"
   },
   {
    "duration": 4,
    "start_time": "2024-05-04T06:53:42.608Z"
   },
   {
    "duration": 13,
    "start_time": "2024-05-04T06:54:05.795Z"
   },
   {
    "duration": 14,
    "start_time": "2024-05-04T06:54:27.433Z"
   },
   {
    "duration": 16,
    "start_time": "2024-05-04T06:54:46.964Z"
   },
   {
    "duration": 14,
    "start_time": "2024-05-04T06:55:17.412Z"
   },
   {
    "duration": 8,
    "start_time": "2024-05-04T06:55:42.988Z"
   },
   {
    "duration": 13,
    "start_time": "2024-05-04T06:55:47.808Z"
   },
   {
    "duration": 14,
    "start_time": "2024-05-04T06:55:52.142Z"
   },
   {
    "duration": 3,
    "start_time": "2024-05-04T06:56:15.032Z"
   },
   {
    "duration": 13,
    "start_time": "2024-05-04T06:56:21.607Z"
   },
   {
    "duration": 13,
    "start_time": "2024-05-04T06:56:35.662Z"
   },
   {
    "duration": 16,
    "start_time": "2024-05-04T06:56:51.592Z"
   },
   {
    "duration": 1001,
    "start_time": "2024-05-04T06:59:52.480Z"
   },
   {
    "duration": 71,
    "start_time": "2024-05-04T06:59:53.483Z"
   },
   {
    "duration": 12,
    "start_time": "2024-05-04T06:59:53.556Z"
   },
   {
    "duration": 38,
    "start_time": "2024-05-04T06:59:53.569Z"
   },
   {
    "duration": 18,
    "start_time": "2024-05-04T06:59:53.609Z"
   },
   {
    "duration": 28,
    "start_time": "2024-05-04T06:59:53.629Z"
   },
   {
    "duration": 42,
    "start_time": "2024-05-04T06:59:53.659Z"
   },
   {
    "duration": 19,
    "start_time": "2024-05-04T06:59:53.703Z"
   },
   {
    "duration": 35,
    "start_time": "2024-05-04T06:59:53.723Z"
   },
   {
    "duration": 36,
    "start_time": "2024-05-04T06:59:53.761Z"
   },
   {
    "duration": 24,
    "start_time": "2024-05-04T06:59:53.798Z"
   },
   {
    "duration": 31,
    "start_time": "2024-05-04T06:59:53.823Z"
   },
   {
    "duration": 3,
    "start_time": "2024-05-04T06:59:53.855Z"
   },
   {
    "duration": 20,
    "start_time": "2024-05-04T06:59:53.859Z"
   },
   {
    "duration": 22,
    "start_time": "2024-05-04T06:59:53.880Z"
   },
   {
    "duration": 13,
    "start_time": "2024-05-04T06:59:53.903Z"
   },
   {
    "duration": 7,
    "start_time": "2024-05-04T06:59:53.917Z"
   },
   {
    "duration": 19,
    "start_time": "2024-05-04T06:59:53.925Z"
   },
   {
    "duration": 244,
    "start_time": "2024-05-04T06:59:53.945Z"
   },
   {
    "duration": 13,
    "start_time": "2024-05-04T06:59:54.191Z"
   },
   {
    "duration": 21,
    "start_time": "2024-05-04T06:59:54.206Z"
   },
   {
    "duration": 45,
    "start_time": "2024-05-04T06:59:54.229Z"
   },
   {
    "duration": 157,
    "start_time": "2024-05-04T06:59:54.275Z"
   },
   {
    "duration": 156,
    "start_time": "2024-05-04T06:59:54.434Z"
   },
   {
    "duration": 154,
    "start_time": "2024-05-04T06:59:54.592Z"
   },
   {
    "duration": 166,
    "start_time": "2024-05-04T06:59:54.747Z"
   },
   {
    "duration": 414,
    "start_time": "2024-05-04T06:59:54.914Z"
   },
   {
    "duration": 6,
    "start_time": "2024-05-04T06:59:55.331Z"
   },
   {
    "duration": 342,
    "start_time": "2024-05-04T06:59:55.339Z"
   },
   {
    "duration": 305,
    "start_time": "2024-05-04T06:59:55.682Z"
   },
   {
    "duration": 24,
    "start_time": "2024-05-04T06:59:55.988Z"
   },
   {
    "duration": 158,
    "start_time": "2024-05-04T06:59:56.013Z"
   },
   {
    "duration": 173,
    "start_time": "2024-05-04T06:59:56.173Z"
   },
   {
    "duration": 7,
    "start_time": "2024-05-04T06:59:56.347Z"
   },
   {
    "duration": 203,
    "start_time": "2024-05-04T06:59:56.355Z"
   },
   {
    "duration": 15,
    "start_time": "2024-05-04T06:59:56.559Z"
   },
   {
    "duration": 237,
    "start_time": "2024-05-04T06:59:56.575Z"
   },
   {
    "duration": 6,
    "start_time": "2024-05-04T06:59:56.813Z"
   },
   {
    "duration": 32,
    "start_time": "2024-05-04T06:59:56.821Z"
   },
   {
    "duration": 17,
    "start_time": "2024-05-04T06:59:56.855Z"
   },
   {
    "duration": 18,
    "start_time": "2024-05-04T07:00:21.225Z"
   },
   {
    "duration": 14,
    "start_time": "2024-05-04T07:00:28.435Z"
   },
   {
    "duration": 5,
    "start_time": "2024-05-04T07:00:49.281Z"
   },
   {
    "duration": 21,
    "start_time": "2024-05-04T07:00:57.271Z"
   },
   {
    "duration": 19,
    "start_time": "2024-05-04T07:01:17.099Z"
   },
   {
    "duration": 15,
    "start_time": "2024-05-04T07:01:39.680Z"
   },
   {
    "duration": 15,
    "start_time": "2024-05-04T07:02:48.058Z"
   },
   {
    "duration": 1470,
    "start_time": "2024-05-04T19:19:43.767Z"
   },
   {
    "duration": 232,
    "start_time": "2024-05-04T19:19:45.239Z"
   },
   {
    "duration": 17,
    "start_time": "2024-05-04T19:19:45.473Z"
   },
   {
    "duration": 30,
    "start_time": "2024-05-04T19:19:45.492Z"
   },
   {
    "duration": 14,
    "start_time": "2024-05-04T19:19:45.525Z"
   },
   {
    "duration": 58,
    "start_time": "2024-05-04T19:19:45.541Z"
   },
   {
    "duration": 28,
    "start_time": "2024-05-04T19:19:45.601Z"
   },
   {
    "duration": 44,
    "start_time": "2024-05-04T19:19:45.631Z"
   },
   {
    "duration": 8,
    "start_time": "2024-05-04T19:19:45.677Z"
   },
   {
    "duration": 34,
    "start_time": "2024-05-04T19:19:45.687Z"
   },
   {
    "duration": 12,
    "start_time": "2024-05-04T19:19:45.723Z"
   },
   {
    "duration": 42,
    "start_time": "2024-05-04T19:19:45.737Z"
   },
   {
    "duration": 4,
    "start_time": "2024-05-04T19:19:45.781Z"
   },
   {
    "duration": 35,
    "start_time": "2024-05-04T19:19:45.787Z"
   },
   {
    "duration": 18,
    "start_time": "2024-05-04T19:19:45.824Z"
   },
   {
    "duration": 15,
    "start_time": "2024-05-04T19:19:45.844Z"
   },
   {
    "duration": 11,
    "start_time": "2024-05-04T19:19:45.861Z"
   },
   {
    "duration": 10,
    "start_time": "2024-05-04T19:19:45.874Z"
   },
   {
    "duration": 277,
    "start_time": "2024-05-04T19:19:45.886Z"
   },
   {
    "duration": 13,
    "start_time": "2024-05-04T19:19:46.165Z"
   },
   {
    "duration": 13,
    "start_time": "2024-05-04T19:19:46.179Z"
   },
   {
    "duration": 16,
    "start_time": "2024-05-04T19:19:46.194Z"
   },
   {
    "duration": 207,
    "start_time": "2024-05-04T19:19:46.212Z"
   },
   {
    "duration": 223,
    "start_time": "2024-05-04T19:19:46.421Z"
   },
   {
    "duration": 199,
    "start_time": "2024-05-04T19:19:46.646Z"
   },
   {
    "duration": 220,
    "start_time": "2024-05-04T19:19:46.847Z"
   },
   {
    "duration": 537,
    "start_time": "2024-05-04T19:19:47.073Z"
   },
   {
    "duration": 8,
    "start_time": "2024-05-04T19:19:47.611Z"
   },
   {
    "duration": 418,
    "start_time": "2024-05-04T19:19:47.621Z"
   },
   {
    "duration": 419,
    "start_time": "2024-05-04T19:19:48.040Z"
   },
   {
    "duration": 27,
    "start_time": "2024-05-04T19:19:48.460Z"
   },
   {
    "duration": 205,
    "start_time": "2024-05-04T19:19:48.488Z"
   },
   {
    "duration": 211,
    "start_time": "2024-05-04T19:19:48.695Z"
   },
   {
    "duration": 8,
    "start_time": "2024-05-04T19:19:48.908Z"
   },
   {
    "duration": 235,
    "start_time": "2024-05-04T19:19:48.918Z"
   },
   {
    "duration": 40,
    "start_time": "2024-05-04T19:19:49.156Z"
   },
   {
    "duration": 265,
    "start_time": "2024-05-04T19:19:49.198Z"
   },
   {
    "duration": 12,
    "start_time": "2024-05-04T19:19:49.465Z"
   },
   {
    "duration": 23,
    "start_time": "2024-05-04T19:19:49.479Z"
   },
   {
    "duration": 14,
    "start_time": "2024-05-04T19:19:49.504Z"
   },
   {
    "duration": 7,
    "start_time": "2024-05-04T19:21:16.355Z"
   },
   {
    "duration": 25,
    "start_time": "2024-05-04T19:22:17.508Z"
   },
   {
    "duration": 18,
    "start_time": "2024-05-04T19:23:12.933Z"
   },
   {
    "duration": 28,
    "start_time": "2024-05-04T19:23:22.591Z"
   },
   {
    "duration": 17,
    "start_time": "2024-05-04T19:23:31.233Z"
   },
   {
    "duration": 22,
    "start_time": "2024-05-04T19:23:39.347Z"
   },
   {
    "duration": 7,
    "start_time": "2024-05-04T19:25:01.920Z"
   },
   {
    "duration": 12,
    "start_time": "2024-05-04T19:25:07.079Z"
   },
   {
    "duration": 17,
    "start_time": "2024-05-04T19:25:13.504Z"
   },
   {
    "duration": 14,
    "start_time": "2024-05-04T19:25:59.114Z"
   },
   {
    "duration": 20,
    "start_time": "2024-05-04T19:26:12.082Z"
   },
   {
    "duration": 15,
    "start_time": "2024-05-04T19:26:31.624Z"
   },
   {
    "duration": 119,
    "start_time": "2024-05-04T19:28:01.606Z"
   },
   {
    "duration": 1160,
    "start_time": "2024-05-04T19:28:18.895Z"
   },
   {
    "duration": 75,
    "start_time": "2024-05-04T19:28:20.057Z"
   },
   {
    "duration": 21,
    "start_time": "2024-05-04T19:28:20.133Z"
   },
   {
    "duration": 30,
    "start_time": "2024-05-04T19:28:20.156Z"
   },
   {
    "duration": 20,
    "start_time": "2024-05-04T19:28:20.188Z"
   },
   {
    "duration": 26,
    "start_time": "2024-05-04T19:28:20.210Z"
   },
   {
    "duration": 15,
    "start_time": "2024-05-04T19:28:20.237Z"
   },
   {
    "duration": 45,
    "start_time": "2024-05-04T19:28:20.254Z"
   },
   {
    "duration": 19,
    "start_time": "2024-05-04T19:28:20.301Z"
   },
   {
    "duration": 46,
    "start_time": "2024-05-04T19:28:20.323Z"
   },
   {
    "duration": 21,
    "start_time": "2024-05-04T19:28:20.371Z"
   },
   {
    "duration": 41,
    "start_time": "2024-05-04T19:28:20.395Z"
   },
   {
    "duration": 4,
    "start_time": "2024-05-04T19:28:20.438Z"
   },
   {
    "duration": 25,
    "start_time": "2024-05-04T19:28:20.443Z"
   },
   {
    "duration": 9,
    "start_time": "2024-05-04T19:28:20.470Z"
   },
   {
    "duration": 21,
    "start_time": "2024-05-04T19:28:20.481Z"
   },
   {
    "duration": 14,
    "start_time": "2024-05-04T19:28:20.504Z"
   },
   {
    "duration": 45,
    "start_time": "2024-05-04T19:28:20.520Z"
   },
   {
    "duration": 260,
    "start_time": "2024-05-04T19:28:20.567Z"
   },
   {
    "duration": 8,
    "start_time": "2024-05-04T19:28:20.829Z"
   },
   {
    "duration": 26,
    "start_time": "2024-05-04T19:28:20.839Z"
   },
   {
    "duration": 27,
    "start_time": "2024-05-04T19:28:20.867Z"
   },
   {
    "duration": 184,
    "start_time": "2024-05-04T19:28:20.895Z"
   },
   {
    "duration": 216,
    "start_time": "2024-05-04T19:28:21.081Z"
   },
   {
    "duration": 188,
    "start_time": "2024-05-04T19:28:21.299Z"
   },
   {
    "duration": 201,
    "start_time": "2024-05-04T19:28:21.489Z"
   },
   {
    "duration": 553,
    "start_time": "2024-05-04T19:28:21.692Z"
   },
   {
    "duration": 7,
    "start_time": "2024-05-04T19:28:22.250Z"
   },
   {
    "duration": 405,
    "start_time": "2024-05-04T19:28:22.259Z"
   },
   {
    "duration": 381,
    "start_time": "2024-05-04T19:28:22.665Z"
   },
   {
    "duration": 29,
    "start_time": "2024-05-04T19:28:23.047Z"
   },
   {
    "duration": 208,
    "start_time": "2024-05-04T19:28:23.078Z"
   },
   {
    "duration": 225,
    "start_time": "2024-05-04T19:28:23.288Z"
   },
   {
    "duration": 10,
    "start_time": "2024-05-04T19:28:23.515Z"
   },
   {
    "duration": 265,
    "start_time": "2024-05-04T19:28:23.526Z"
   },
   {
    "duration": 21,
    "start_time": "2024-05-04T19:28:23.792Z"
   },
   {
    "duration": 263,
    "start_time": "2024-05-04T19:28:23.815Z"
   },
   {
    "duration": 7,
    "start_time": "2024-05-04T19:28:24.080Z"
   },
   {
    "duration": 9,
    "start_time": "2024-05-04T19:28:24.088Z"
   },
   {
    "duration": 138,
    "start_time": "2024-05-04T19:28:24.099Z"
   },
   {
    "duration": 21,
    "start_time": "2024-05-04T19:29:20.424Z"
   },
   {
    "duration": 13,
    "start_time": "2024-05-04T19:30:02.829Z"
   },
   {
    "duration": 1186,
    "start_time": "2024-05-04T19:30:26.704Z"
   },
   {
    "duration": 73,
    "start_time": "2024-05-04T19:30:27.893Z"
   },
   {
    "duration": 14,
    "start_time": "2024-05-04T19:30:27.968Z"
   },
   {
    "duration": 30,
    "start_time": "2024-05-04T19:30:27.984Z"
   },
   {
    "duration": 14,
    "start_time": "2024-05-04T19:30:28.016Z"
   },
   {
    "duration": 19,
    "start_time": "2024-05-04T19:30:28.031Z"
   },
   {
    "duration": 21,
    "start_time": "2024-05-04T19:30:28.052Z"
   },
   {
    "duration": 24,
    "start_time": "2024-05-04T19:30:28.075Z"
   },
   {
    "duration": 14,
    "start_time": "2024-05-04T19:30:28.102Z"
   },
   {
    "duration": 16,
    "start_time": "2024-05-04T19:30:28.118Z"
   },
   {
    "duration": 13,
    "start_time": "2024-05-04T19:30:28.135Z"
   },
   {
    "duration": 47,
    "start_time": "2024-05-04T19:30:28.149Z"
   },
   {
    "duration": 3,
    "start_time": "2024-05-04T19:30:28.198Z"
   },
   {
    "duration": 9,
    "start_time": "2024-05-04T19:30:28.205Z"
   },
   {
    "duration": 15,
    "start_time": "2024-05-04T19:30:28.216Z"
   },
   {
    "duration": 18,
    "start_time": "2024-05-04T19:30:28.232Z"
   },
   {
    "duration": 25,
    "start_time": "2024-05-04T19:30:28.252Z"
   },
   {
    "duration": 10,
    "start_time": "2024-05-04T19:30:28.279Z"
   },
   {
    "duration": 254,
    "start_time": "2024-05-04T19:30:28.291Z"
   },
   {
    "duration": 7,
    "start_time": "2024-05-04T19:30:28.547Z"
   },
   {
    "duration": 18,
    "start_time": "2024-05-04T19:30:28.555Z"
   },
   {
    "duration": 16,
    "start_time": "2024-05-04T19:30:28.575Z"
   },
   {
    "duration": 201,
    "start_time": "2024-05-04T19:30:28.593Z"
   },
   {
    "duration": 212,
    "start_time": "2024-05-04T19:30:28.796Z"
   },
   {
    "duration": 192,
    "start_time": "2024-05-04T19:30:29.010Z"
   },
   {
    "duration": 231,
    "start_time": "2024-05-04T19:30:29.203Z"
   },
   {
    "duration": 516,
    "start_time": "2024-05-04T19:30:29.437Z"
   },
   {
    "duration": 9,
    "start_time": "2024-05-04T19:30:29.955Z"
   },
   {
    "duration": 450,
    "start_time": "2024-05-04T19:30:29.966Z"
   },
   {
    "duration": 401,
    "start_time": "2024-05-04T19:30:30.417Z"
   },
   {
    "duration": 27,
    "start_time": "2024-05-04T19:30:30.819Z"
   },
   {
    "duration": 324,
    "start_time": "2024-05-04T19:30:30.849Z"
   },
   {
    "duration": 210,
    "start_time": "2024-05-04T19:30:31.174Z"
   },
   {
    "duration": 9,
    "start_time": "2024-05-04T19:30:31.385Z"
   },
   {
    "duration": 271,
    "start_time": "2024-05-04T19:30:31.395Z"
   },
   {
    "duration": 23,
    "start_time": "2024-05-04T19:30:31.667Z"
   },
   {
    "duration": 269,
    "start_time": "2024-05-04T19:30:31.691Z"
   },
   {
    "duration": 11,
    "start_time": "2024-05-04T19:30:31.962Z"
   },
   {
    "duration": 12,
    "start_time": "2024-05-04T19:30:31.974Z"
   },
   {
    "duration": 34,
    "start_time": "2024-05-04T19:30:31.988Z"
   },
   {
    "duration": 111,
    "start_time": "2024-05-04T19:30:44.682Z"
   },
   {
    "duration": 14,
    "start_time": "2024-05-04T19:30:54.969Z"
   },
   {
    "duration": 1174,
    "start_time": "2024-05-04T19:32:47.716Z"
   },
   {
    "duration": 74,
    "start_time": "2024-05-04T19:32:48.892Z"
   },
   {
    "duration": 15,
    "start_time": "2024-05-04T19:32:48.967Z"
   },
   {
    "duration": 67,
    "start_time": "2024-05-04T19:32:48.983Z"
   },
   {
    "duration": 14,
    "start_time": "2024-05-04T19:32:49.053Z"
   },
   {
    "duration": 28,
    "start_time": "2024-05-04T19:32:49.069Z"
   },
   {
    "duration": 20,
    "start_time": "2024-05-04T19:32:49.099Z"
   },
   {
    "duration": 22,
    "start_time": "2024-05-04T19:32:49.121Z"
   },
   {
    "duration": 6,
    "start_time": "2024-05-04T19:32:49.145Z"
   },
   {
    "duration": 17,
    "start_time": "2024-05-04T19:32:49.153Z"
   },
   {
    "duration": 21,
    "start_time": "2024-05-04T19:32:49.172Z"
   },
   {
    "duration": 27,
    "start_time": "2024-05-04T19:32:49.194Z"
   },
   {
    "duration": 3,
    "start_time": "2024-05-04T19:32:49.223Z"
   },
   {
    "duration": 10,
    "start_time": "2024-05-04T19:32:49.229Z"
   },
   {
    "duration": 12,
    "start_time": "2024-05-04T19:32:49.240Z"
   },
   {
    "duration": 15,
    "start_time": "2024-05-04T19:32:49.254Z"
   },
   {
    "duration": 7,
    "start_time": "2024-05-04T19:32:49.273Z"
   },
   {
    "duration": 6,
    "start_time": "2024-05-04T19:32:49.281Z"
   },
   {
    "duration": 277,
    "start_time": "2024-05-04T19:32:49.288Z"
   },
   {
    "duration": 11,
    "start_time": "2024-05-04T19:32:49.566Z"
   },
   {
    "duration": 7,
    "start_time": "2024-05-04T19:32:49.579Z"
   },
   {
    "duration": 30,
    "start_time": "2024-05-04T19:32:49.587Z"
   },
   {
    "duration": 252,
    "start_time": "2024-05-04T19:32:49.618Z"
   },
   {
    "duration": 214,
    "start_time": "2024-05-04T19:32:49.871Z"
   },
   {
    "duration": 216,
    "start_time": "2024-05-04T19:32:50.087Z"
   },
   {
    "duration": 203,
    "start_time": "2024-05-04T19:32:50.305Z"
   },
   {
    "duration": 520,
    "start_time": "2024-05-04T19:32:50.509Z"
   },
   {
    "duration": 7,
    "start_time": "2024-05-04T19:32:51.031Z"
   },
   {
    "duration": 397,
    "start_time": "2024-05-04T19:32:51.039Z"
   },
   {
    "duration": 387,
    "start_time": "2024-05-04T19:32:51.437Z"
   },
   {
    "duration": 19,
    "start_time": "2024-05-04T19:32:51.825Z"
   },
   {
    "duration": 215,
    "start_time": "2024-05-04T19:32:51.846Z"
   },
   {
    "duration": 219,
    "start_time": "2024-05-04T19:32:52.063Z"
   },
   {
    "duration": 8,
    "start_time": "2024-05-04T19:32:52.283Z"
   },
   {
    "duration": 224,
    "start_time": "2024-05-04T19:32:52.293Z"
   },
   {
    "duration": 21,
    "start_time": "2024-05-04T19:32:52.519Z"
   },
   {
    "duration": 276,
    "start_time": "2024-05-04T19:32:52.542Z"
   },
   {
    "duration": 8,
    "start_time": "2024-05-04T19:32:52.820Z"
   },
   {
    "duration": 27,
    "start_time": "2024-05-04T19:32:52.830Z"
   },
   {
    "duration": 42,
    "start_time": "2024-05-04T19:32:52.859Z"
   },
   {
    "duration": 120,
    "start_time": "2024-05-04T19:32:56.225Z"
   },
   {
    "duration": 5,
    "start_time": "2024-05-04T19:32:59.381Z"
   },
   {
    "duration": 17,
    "start_time": "2024-05-04T19:33:01.655Z"
   },
   {
    "duration": 13,
    "start_time": "2024-05-04T19:33:04.501Z"
   },
   {
    "duration": 6,
    "start_time": "2024-05-04T19:33:07.003Z"
   },
   {
    "duration": 16,
    "start_time": "2024-05-04T19:33:08.937Z"
   },
   {
    "duration": 17,
    "start_time": "2024-05-04T19:33:35.814Z"
   },
   {
    "duration": 26,
    "start_time": "2024-05-04T19:33:40.211Z"
   },
   {
    "duration": 17,
    "start_time": "2024-05-04T19:34:15.279Z"
   },
   {
    "duration": 22,
    "start_time": "2024-05-04T19:34:21.978Z"
   },
   {
    "duration": 25,
    "start_time": "2024-05-04T19:34:56.091Z"
   },
   {
    "duration": 21,
    "start_time": "2024-05-04T19:35:11.916Z"
   },
   {
    "duration": 20,
    "start_time": "2024-05-04T19:36:14.063Z"
   },
   {
    "duration": 24,
    "start_time": "2024-05-04T19:36:18.669Z"
   },
   {
    "duration": 24,
    "start_time": "2024-05-04T19:36:39.127Z"
   },
   {
    "duration": 1020,
    "start_time": "2024-05-04T19:38:07.811Z"
   },
   {
    "duration": 1077,
    "start_time": "2024-05-04T19:38:26.546Z"
   },
   {
    "duration": 20,
    "start_time": "2024-05-04T19:38:56.307Z"
   },
   {
    "duration": 19,
    "start_time": "2024-05-04T19:39:28.389Z"
   },
   {
    "duration": 25,
    "start_time": "2024-05-04T19:39:32.636Z"
   },
   {
    "duration": 140,
    "start_time": "2024-05-04T19:42:01.044Z"
   },
   {
    "duration": 159,
    "start_time": "2024-05-04T19:42:22.590Z"
   },
   {
    "duration": 1202,
    "start_time": "2024-05-04T19:43:27.847Z"
   },
   {
    "duration": 16,
    "start_time": "2024-05-04T19:43:40.611Z"
   },
   {
    "duration": 24,
    "start_time": "2024-05-04T19:44:08.105Z"
   },
   {
    "duration": 18,
    "start_time": "2024-05-04T19:44:46.227Z"
   },
   {
    "duration": 162,
    "start_time": "2024-05-04T19:44:58.235Z"
   },
   {
    "duration": 1199,
    "start_time": "2024-05-04T19:45:13.284Z"
   },
   {
    "duration": 85,
    "start_time": "2024-05-04T19:45:14.485Z"
   },
   {
    "duration": 15,
    "start_time": "2024-05-04T19:45:14.571Z"
   },
   {
    "duration": 36,
    "start_time": "2024-05-04T19:45:14.588Z"
   },
   {
    "duration": 14,
    "start_time": "2024-05-04T19:45:14.626Z"
   },
   {
    "duration": 32,
    "start_time": "2024-05-04T19:45:14.642Z"
   },
   {
    "duration": 16,
    "start_time": "2024-05-04T19:45:14.676Z"
   },
   {
    "duration": 17,
    "start_time": "2024-05-04T19:45:14.694Z"
   },
   {
    "duration": 26,
    "start_time": "2024-05-04T19:45:14.712Z"
   },
   {
    "duration": 15,
    "start_time": "2024-05-04T19:45:14.740Z"
   },
   {
    "duration": 15,
    "start_time": "2024-05-04T19:45:14.757Z"
   },
   {
    "duration": 24,
    "start_time": "2024-05-04T19:45:14.774Z"
   },
   {
    "duration": 4,
    "start_time": "2024-05-04T19:45:14.800Z"
   },
   {
    "duration": 6,
    "start_time": "2024-05-04T19:45:14.807Z"
   },
   {
    "duration": 24,
    "start_time": "2024-05-04T19:45:14.815Z"
   },
   {
    "duration": 16,
    "start_time": "2024-05-04T19:45:14.841Z"
   },
   {
    "duration": 16,
    "start_time": "2024-05-04T19:45:14.859Z"
   },
   {
    "duration": 6,
    "start_time": "2024-05-04T19:45:14.877Z"
   },
   {
    "duration": 249,
    "start_time": "2024-05-04T19:45:14.884Z"
   },
   {
    "duration": 7,
    "start_time": "2024-05-04T19:45:15.135Z"
   },
   {
    "duration": 34,
    "start_time": "2024-05-04T19:45:15.143Z"
   },
   {
    "duration": 53,
    "start_time": "2024-05-04T19:45:15.178Z"
   },
   {
    "duration": 196,
    "start_time": "2024-05-04T19:45:15.232Z"
   },
   {
    "duration": 211,
    "start_time": "2024-05-04T19:45:15.430Z"
   },
   {
    "duration": 197,
    "start_time": "2024-05-04T19:45:15.642Z"
   },
   {
    "duration": 203,
    "start_time": "2024-05-04T19:45:15.840Z"
   },
   {
    "duration": 530,
    "start_time": "2024-05-04T19:45:16.044Z"
   },
   {
    "duration": 7,
    "start_time": "2024-05-04T19:45:16.575Z"
   },
   {
    "duration": 425,
    "start_time": "2024-05-04T19:45:16.584Z"
   },
   {
    "duration": 410,
    "start_time": "2024-05-04T19:45:17.011Z"
   },
   {
    "duration": 20,
    "start_time": "2024-05-04T19:45:17.422Z"
   },
   {
    "duration": 207,
    "start_time": "2024-05-04T19:45:17.443Z"
   },
   {
    "duration": 207,
    "start_time": "2024-05-04T19:45:17.652Z"
   },
   {
    "duration": 13,
    "start_time": "2024-05-04T19:45:17.860Z"
   },
   {
    "duration": 234,
    "start_time": "2024-05-04T19:45:17.875Z"
   },
   {
    "duration": 24,
    "start_time": "2024-05-04T19:45:18.111Z"
   },
   {
    "duration": 279,
    "start_time": "2024-05-04T19:45:18.136Z"
   },
   {
    "duration": 7,
    "start_time": "2024-05-04T19:45:18.417Z"
   },
   {
    "duration": 21,
    "start_time": "2024-05-04T19:45:18.426Z"
   },
   {
    "duration": 281,
    "start_time": "2024-05-04T19:45:18.449Z"
   },
   {
    "duration": 120,
    "start_time": "2024-05-04T19:45:50.855Z"
   },
   {
    "duration": 151,
    "start_time": "2024-05-04T19:46:24.845Z"
   },
   {
    "duration": 16,
    "start_time": "2024-05-04T20:13:15.733Z"
   },
   {
    "duration": 59,
    "start_time": "2024-05-04T20:13:19.206Z"
   },
   {
    "duration": 13,
    "start_time": "2024-05-04T20:13:35.305Z"
   },
   {
    "duration": 55,
    "start_time": "2024-05-04T20:13:36.893Z"
   },
   {
    "duration": 18,
    "start_time": "2024-05-04T20:13:49.612Z"
   },
   {
    "duration": 17,
    "start_time": "2024-05-04T20:13:57.711Z"
   },
   {
    "duration": 1230,
    "start_time": "2024-05-04T20:14:03.452Z"
   },
   {
    "duration": 73,
    "start_time": "2024-05-04T20:14:04.683Z"
   },
   {
    "duration": 15,
    "start_time": "2024-05-04T20:14:04.757Z"
   },
   {
    "duration": 28,
    "start_time": "2024-05-04T20:14:04.773Z"
   },
   {
    "duration": 14,
    "start_time": "2024-05-04T20:14:04.803Z"
   },
   {
    "duration": 12,
    "start_time": "2024-05-04T20:14:04.818Z"
   },
   {
    "duration": 17,
    "start_time": "2024-05-04T20:14:04.831Z"
   },
   {
    "duration": 30,
    "start_time": "2024-05-04T20:14:04.849Z"
   },
   {
    "duration": 6,
    "start_time": "2024-05-04T20:14:04.881Z"
   },
   {
    "duration": 21,
    "start_time": "2024-05-04T20:14:04.890Z"
   },
   {
    "duration": 12,
    "start_time": "2024-05-04T20:14:04.912Z"
   },
   {
    "duration": 37,
    "start_time": "2024-05-04T20:14:04.925Z"
   },
   {
    "duration": 5,
    "start_time": "2024-05-04T20:14:04.972Z"
   },
   {
    "duration": 11,
    "start_time": "2024-05-04T20:14:04.979Z"
   },
   {
    "duration": 12,
    "start_time": "2024-05-04T20:14:04.992Z"
   },
   {
    "duration": 17,
    "start_time": "2024-05-04T20:14:05.006Z"
   },
   {
    "duration": 9,
    "start_time": "2024-05-04T20:14:05.025Z"
   },
   {
    "duration": 19,
    "start_time": "2024-05-04T20:14:05.036Z"
   },
   {
    "duration": 272,
    "start_time": "2024-05-04T20:14:05.056Z"
   },
   {
    "duration": 8,
    "start_time": "2024-05-04T20:14:05.330Z"
   },
   {
    "duration": 7,
    "start_time": "2024-05-04T20:14:05.340Z"
   },
   {
    "duration": 36,
    "start_time": "2024-05-04T20:14:05.349Z"
   },
   {
    "duration": 197,
    "start_time": "2024-05-04T20:14:05.386Z"
   },
   {
    "duration": 224,
    "start_time": "2024-05-04T20:14:05.584Z"
   },
   {
    "duration": 197,
    "start_time": "2024-05-04T20:14:05.810Z"
   },
   {
    "duration": 213,
    "start_time": "2024-05-04T20:14:06.009Z"
   },
   {
    "duration": 565,
    "start_time": "2024-05-04T20:14:06.224Z"
   },
   {
    "duration": 10,
    "start_time": "2024-05-04T20:14:06.794Z"
   },
   {
    "duration": 442,
    "start_time": "2024-05-04T20:14:06.807Z"
   },
   {
    "duration": 403,
    "start_time": "2024-05-04T20:14:07.251Z"
   },
   {
    "duration": 29,
    "start_time": "2024-05-04T20:14:07.656Z"
   },
   {
    "duration": 209,
    "start_time": "2024-05-04T20:14:07.687Z"
   },
   {
    "duration": 228,
    "start_time": "2024-05-04T20:14:07.897Z"
   },
   {
    "duration": 9,
    "start_time": "2024-05-04T20:14:08.127Z"
   },
   {
    "duration": 288,
    "start_time": "2024-05-04T20:14:08.139Z"
   },
   {
    "duration": 21,
    "start_time": "2024-05-04T20:14:08.429Z"
   },
   {
    "duration": 276,
    "start_time": "2024-05-04T20:14:08.451Z"
   },
   {
    "duration": 7,
    "start_time": "2024-05-04T20:14:08.729Z"
   },
   {
    "duration": 21,
    "start_time": "2024-05-04T20:14:08.737Z"
   },
   {
    "duration": 62,
    "start_time": "2024-05-04T20:14:08.760Z"
   },
   {
    "duration": 1140,
    "start_time": "2024-05-04T20:14:18.114Z"
   },
   {
    "duration": 73,
    "start_time": "2024-05-04T20:14:19.255Z"
   },
   {
    "duration": 15,
    "start_time": "2024-05-04T20:14:19.329Z"
   },
   {
    "duration": 34,
    "start_time": "2024-05-04T20:14:19.347Z"
   },
   {
    "duration": 14,
    "start_time": "2024-05-04T20:14:19.383Z"
   },
   {
    "duration": 20,
    "start_time": "2024-05-04T20:14:19.399Z"
   },
   {
    "duration": 6,
    "start_time": "2024-05-04T20:14:19.421Z"
   },
   {
    "duration": 21,
    "start_time": "2024-05-04T20:14:19.429Z"
   },
   {
    "duration": 27,
    "start_time": "2024-05-04T20:14:19.454Z"
   },
   {
    "duration": 16,
    "start_time": "2024-05-04T20:14:19.483Z"
   },
   {
    "duration": 9,
    "start_time": "2024-05-04T20:14:19.500Z"
   },
   {
    "duration": 24,
    "start_time": "2024-05-04T20:14:19.511Z"
   },
   {
    "duration": 4,
    "start_time": "2024-05-04T20:14:19.536Z"
   },
   {
    "duration": 7,
    "start_time": "2024-05-04T20:14:19.573Z"
   },
   {
    "duration": 7,
    "start_time": "2024-05-04T20:14:19.582Z"
   },
   {
    "duration": 16,
    "start_time": "2024-05-04T20:14:19.590Z"
   },
   {
    "duration": 12,
    "start_time": "2024-05-04T20:14:19.608Z"
   },
   {
    "duration": 5,
    "start_time": "2024-05-04T20:14:19.622Z"
   },
   {
    "duration": 264,
    "start_time": "2024-05-04T20:14:19.629Z"
   },
   {
    "duration": 6,
    "start_time": "2024-05-04T20:14:19.895Z"
   },
   {
    "duration": 16,
    "start_time": "2024-05-04T20:14:19.903Z"
   },
   {
    "duration": 24,
    "start_time": "2024-05-04T20:14:19.920Z"
   },
   {
    "duration": 192,
    "start_time": "2024-05-04T20:14:19.946Z"
   },
   {
    "duration": 216,
    "start_time": "2024-05-04T20:14:20.140Z"
   },
   {
    "duration": 186,
    "start_time": "2024-05-04T20:14:20.358Z"
   },
   {
    "duration": 197,
    "start_time": "2024-05-04T20:14:20.546Z"
   },
   {
    "duration": 500,
    "start_time": "2024-05-04T20:14:20.745Z"
   },
   {
    "duration": 7,
    "start_time": "2024-05-04T20:14:21.247Z"
   },
   {
    "duration": 421,
    "start_time": "2024-05-04T20:14:21.255Z"
   },
   {
    "duration": 398,
    "start_time": "2024-05-04T20:14:21.678Z"
   },
   {
    "duration": 19,
    "start_time": "2024-05-04T20:14:22.078Z"
   },
   {
    "duration": 236,
    "start_time": "2024-05-04T20:14:22.098Z"
   },
   {
    "duration": 211,
    "start_time": "2024-05-04T20:14:22.336Z"
   },
   {
    "duration": 8,
    "start_time": "2024-05-04T20:14:22.549Z"
   },
   {
    "duration": 241,
    "start_time": "2024-05-04T20:14:22.573Z"
   },
   {
    "duration": 21,
    "start_time": "2024-05-04T20:14:22.815Z"
   },
   {
    "duration": 261,
    "start_time": "2024-05-04T20:14:22.838Z"
   },
   {
    "duration": 8,
    "start_time": "2024-05-04T20:14:23.101Z"
   },
   {
    "duration": 43,
    "start_time": "2024-05-04T20:14:23.111Z"
   },
   {
    "duration": 98,
    "start_time": "2024-05-04T20:14:23.156Z"
   },
   {
    "duration": 1376,
    "start_time": "2024-05-05T09:46:36.155Z"
   },
   {
    "duration": 214,
    "start_time": "2024-05-05T09:46:37.533Z"
   },
   {
    "duration": 15,
    "start_time": "2024-05-05T09:46:37.749Z"
   },
   {
    "duration": 29,
    "start_time": "2024-05-05T09:46:37.766Z"
   },
   {
    "duration": 14,
    "start_time": "2024-05-05T09:46:37.798Z"
   },
   {
    "duration": 8,
    "start_time": "2024-05-05T09:46:37.813Z"
   },
   {
    "duration": 8,
    "start_time": "2024-05-05T09:46:37.822Z"
   },
   {
    "duration": 38,
    "start_time": "2024-05-05T09:46:37.832Z"
   },
   {
    "duration": 7,
    "start_time": "2024-05-05T09:46:37.871Z"
   },
   {
    "duration": 15,
    "start_time": "2024-05-05T09:46:37.880Z"
   },
   {
    "duration": 9,
    "start_time": "2024-05-05T09:46:37.896Z"
   },
   {
    "duration": 24,
    "start_time": "2024-05-05T09:46:37.906Z"
   },
   {
    "duration": 3,
    "start_time": "2024-05-05T09:46:37.932Z"
   },
   {
    "duration": 7,
    "start_time": "2024-05-05T09:46:37.971Z"
   },
   {
    "duration": 19,
    "start_time": "2024-05-05T09:46:37.980Z"
   },
   {
    "duration": 21,
    "start_time": "2024-05-05T09:46:38.000Z"
   },
   {
    "duration": 12,
    "start_time": "2024-05-05T09:46:38.022Z"
   },
   {
    "duration": 13,
    "start_time": "2024-05-05T09:46:38.036Z"
   },
   {
    "duration": 261,
    "start_time": "2024-05-05T09:46:38.050Z"
   },
   {
    "duration": 8,
    "start_time": "2024-05-05T09:46:38.312Z"
   },
   {
    "duration": 11,
    "start_time": "2024-05-05T09:46:38.321Z"
   },
   {
    "duration": 36,
    "start_time": "2024-05-05T09:46:38.333Z"
   },
   {
    "duration": 183,
    "start_time": "2024-05-05T09:46:38.370Z"
   },
   {
    "duration": 192,
    "start_time": "2024-05-05T09:46:38.555Z"
   },
   {
    "duration": 182,
    "start_time": "2024-05-05T09:46:38.749Z"
   },
   {
    "duration": 191,
    "start_time": "2024-05-05T09:46:38.933Z"
   },
   {
    "duration": 492,
    "start_time": "2024-05-05T09:46:39.125Z"
   },
   {
    "duration": 7,
    "start_time": "2024-05-05T09:46:39.618Z"
   },
   {
    "duration": 388,
    "start_time": "2024-05-05T09:46:39.627Z"
   },
   {
    "duration": 381,
    "start_time": "2024-05-05T09:46:40.016Z"
   },
   {
    "duration": 23,
    "start_time": "2024-05-05T09:46:40.399Z"
   },
   {
    "duration": 221,
    "start_time": "2024-05-05T09:46:40.423Z"
   },
   {
    "duration": 186,
    "start_time": "2024-05-05T09:46:40.646Z"
   },
   {
    "duration": 8,
    "start_time": "2024-05-05T09:46:40.834Z"
   },
   {
    "duration": 205,
    "start_time": "2024-05-05T09:46:40.844Z"
   },
   {
    "duration": 29,
    "start_time": "2024-05-05T09:46:41.051Z"
   },
   {
    "duration": 234,
    "start_time": "2024-05-05T09:46:41.081Z"
   },
   {
    "duration": 8,
    "start_time": "2024-05-05T09:46:41.316Z"
   },
   {
    "duration": 26,
    "start_time": "2024-05-05T09:46:41.326Z"
   },
   {
    "duration": 102,
    "start_time": "2024-05-05T09:46:41.354Z"
   },
   {
    "duration": 1197,
    "start_time": "2024-05-05T09:47:01.521Z"
   },
   {
    "duration": 68,
    "start_time": "2024-05-05T09:47:02.721Z"
   },
   {
    "duration": 14,
    "start_time": "2024-05-05T09:47:02.790Z"
   },
   {
    "duration": 30,
    "start_time": "2024-05-05T09:47:02.806Z"
   },
   {
    "duration": 15,
    "start_time": "2024-05-05T09:47:02.838Z"
   },
   {
    "duration": 22,
    "start_time": "2024-05-05T09:47:02.870Z"
   },
   {
    "duration": 37,
    "start_time": "2024-05-05T09:47:02.894Z"
   },
   {
    "duration": 27,
    "start_time": "2024-05-05T09:47:02.933Z"
   },
   {
    "duration": 26,
    "start_time": "2024-05-05T09:47:02.962Z"
   },
   {
    "duration": 22,
    "start_time": "2024-05-05T09:47:02.989Z"
   },
   {
    "duration": 29,
    "start_time": "2024-05-05T09:47:03.012Z"
   },
   {
    "duration": 31,
    "start_time": "2024-05-05T09:47:03.043Z"
   },
   {
    "duration": 4,
    "start_time": "2024-05-05T09:47:03.076Z"
   },
   {
    "duration": 16,
    "start_time": "2024-05-05T09:47:03.082Z"
   },
   {
    "duration": 19,
    "start_time": "2024-05-05T09:47:03.099Z"
   },
   {
    "duration": 18,
    "start_time": "2024-05-05T09:47:03.120Z"
   },
   {
    "duration": 21,
    "start_time": "2024-05-05T09:47:03.139Z"
   },
   {
    "duration": 25,
    "start_time": "2024-05-05T09:47:03.162Z"
   },
   {
    "duration": 226,
    "start_time": "2024-05-05T09:47:03.188Z"
   },
   {
    "duration": 7,
    "start_time": "2024-05-05T09:47:03.415Z"
   },
   {
    "duration": 25,
    "start_time": "2024-05-05T09:47:03.424Z"
   },
   {
    "duration": 29,
    "start_time": "2024-05-05T09:47:03.450Z"
   },
   {
    "duration": 184,
    "start_time": "2024-05-05T09:47:03.480Z"
   },
   {
    "duration": 214,
    "start_time": "2024-05-05T09:47:03.665Z"
   },
   {
    "duration": 174,
    "start_time": "2024-05-05T09:47:03.881Z"
   },
   {
    "duration": 201,
    "start_time": "2024-05-05T09:47:04.057Z"
   },
   {
    "duration": 505,
    "start_time": "2024-05-05T09:47:04.260Z"
   },
   {
    "duration": 9,
    "start_time": "2024-05-05T09:47:04.767Z"
   },
   {
    "duration": 413,
    "start_time": "2024-05-05T09:47:04.778Z"
   },
   {
    "duration": 386,
    "start_time": "2024-05-05T09:47:05.192Z"
   },
   {
    "duration": 18,
    "start_time": "2024-05-05T09:47:05.580Z"
   },
   {
    "duration": 185,
    "start_time": "2024-05-05T09:47:05.600Z"
   },
   {
    "duration": 194,
    "start_time": "2024-05-05T09:47:05.786Z"
   },
   {
    "duration": 8,
    "start_time": "2024-05-05T09:47:05.981Z"
   },
   {
    "duration": 239,
    "start_time": "2024-05-05T09:47:05.990Z"
   },
   {
    "duration": 20,
    "start_time": "2024-05-05T09:47:06.231Z"
   },
   {
    "duration": 248,
    "start_time": "2024-05-05T09:47:06.253Z"
   },
   {
    "duration": 7,
    "start_time": "2024-05-05T09:47:06.504Z"
   },
   {
    "duration": 18,
    "start_time": "2024-05-05T09:47:06.513Z"
   },
   {
    "duration": 118,
    "start_time": "2024-05-05T09:47:06.533Z"
   },
   {
    "duration": 18,
    "start_time": "2024-05-05T09:47:12.932Z"
   },
   {
    "duration": 25,
    "start_time": "2024-05-05T10:01:45.574Z"
   },
   {
    "duration": 5,
    "start_time": "2024-05-05T10:04:23.869Z"
   },
   {
    "duration": 9,
    "start_time": "2024-05-05T10:04:29.718Z"
   },
   {
    "duration": 11,
    "start_time": "2024-05-05T10:04:50.589Z"
   },
   {
    "duration": 165,
    "start_time": "2024-05-05T10:04:52.592Z"
   },
   {
    "duration": 1102,
    "start_time": "2024-05-05T10:11:39.801Z"
   },
   {
    "duration": 17,
    "start_time": "2024-05-05T10:12:10.525Z"
   },
   {
    "duration": 9,
    "start_time": "2024-05-05T10:14:15.999Z"
   },
   {
    "duration": 7,
    "start_time": "2024-05-05T10:14:23.594Z"
   },
   {
    "duration": 5,
    "start_time": "2024-05-05T10:14:32.024Z"
   },
   {
    "duration": 5,
    "start_time": "2024-05-05T10:14:52.850Z"
   },
   {
    "duration": 10,
    "start_time": "2024-05-05T10:15:04.295Z"
   },
   {
    "duration": 6,
    "start_time": "2024-05-05T10:15:09.227Z"
   },
   {
    "duration": 10,
    "start_time": "2024-05-05T10:16:08.615Z"
   },
   {
    "duration": 160,
    "start_time": "2024-05-05T10:16:11.369Z"
   },
   {
    "duration": 24,
    "start_time": "2024-05-05T10:25:50.170Z"
   },
   {
    "duration": 22,
    "start_time": "2024-05-05T10:26:53.071Z"
   },
   {
    "duration": 16,
    "start_time": "2024-05-05T10:27:33.071Z"
   },
   {
    "duration": 979,
    "start_time": "2024-05-05T10:27:52.565Z"
   },
   {
    "duration": 130,
    "start_time": "2024-05-05T10:28:06.462Z"
   },
   {
    "duration": 10,
    "start_time": "2024-05-05T10:57:43.518Z"
   },
   {
    "duration": 1081,
    "start_time": "2024-05-05T10:58:27.009Z"
   },
   {
    "duration": 67,
    "start_time": "2024-05-05T10:58:28.092Z"
   },
   {
    "duration": 13,
    "start_time": "2024-05-05T10:58:28.161Z"
   },
   {
    "duration": 35,
    "start_time": "2024-05-05T10:58:28.176Z"
   },
   {
    "duration": 12,
    "start_time": "2024-05-05T10:58:28.213Z"
   },
   {
    "duration": 9,
    "start_time": "2024-05-05T10:58:28.226Z"
   },
   {
    "duration": 16,
    "start_time": "2024-05-05T10:58:28.236Z"
   },
   {
    "duration": 36,
    "start_time": "2024-05-05T10:58:28.253Z"
   },
   {
    "duration": 7,
    "start_time": "2024-05-05T10:58:28.290Z"
   },
   {
    "duration": 15,
    "start_time": "2024-05-05T10:58:28.299Z"
   },
   {
    "duration": 9,
    "start_time": "2024-05-05T10:58:28.315Z"
   },
   {
    "duration": 25,
    "start_time": "2024-05-05T10:58:28.326Z"
   },
   {
    "duration": 3,
    "start_time": "2024-05-05T10:58:28.353Z"
   },
   {
    "duration": 6,
    "start_time": "2024-05-05T10:58:28.369Z"
   },
   {
    "duration": 9,
    "start_time": "2024-05-05T10:58:28.377Z"
   },
   {
    "duration": 15,
    "start_time": "2024-05-05T10:58:28.388Z"
   },
   {
    "duration": 16,
    "start_time": "2024-05-05T10:58:28.405Z"
   },
   {
    "duration": 7,
    "start_time": "2024-05-05T10:58:28.422Z"
   },
   {
    "duration": 243,
    "start_time": "2024-05-05T10:58:28.430Z"
   },
   {
    "duration": 8,
    "start_time": "2024-05-05T10:58:28.675Z"
   },
   {
    "duration": 30,
    "start_time": "2024-05-05T10:58:28.684Z"
   },
   {
    "duration": 21,
    "start_time": "2024-05-05T10:58:28.716Z"
   },
   {
    "duration": 171,
    "start_time": "2024-05-05T10:58:28.738Z"
   },
   {
    "duration": 187,
    "start_time": "2024-05-05T10:58:28.910Z"
   },
   {
    "duration": 171,
    "start_time": "2024-05-05T10:58:29.098Z"
   },
   {
    "duration": 180,
    "start_time": "2024-05-05T10:58:29.271Z"
   },
   {
    "duration": 484,
    "start_time": "2024-05-05T10:58:29.453Z"
   },
   {
    "duration": 7,
    "start_time": "2024-05-05T10:58:29.942Z"
   },
   {
    "duration": 412,
    "start_time": "2024-05-05T10:58:29.950Z"
   },
   {
    "duration": 368,
    "start_time": "2024-05-05T10:58:30.369Z"
   },
   {
    "duration": 19,
    "start_time": "2024-05-05T10:58:30.739Z"
   },
   {
    "duration": 364,
    "start_time": "2024-05-05T10:58:30.759Z"
   },
   {
    "duration": 209,
    "start_time": "2024-05-05T10:58:31.125Z"
   },
   {
    "duration": 9,
    "start_time": "2024-05-05T10:58:31.336Z"
   },
   {
    "duration": 281,
    "start_time": "2024-05-05T10:58:31.346Z"
   },
   {
    "duration": 21,
    "start_time": "2024-05-05T10:58:31.629Z"
   },
   {
    "duration": 260,
    "start_time": "2024-05-05T10:58:31.652Z"
   },
   {
    "duration": 7,
    "start_time": "2024-05-05T10:58:31.914Z"
   },
   {
    "duration": 69,
    "start_time": "2024-05-05T10:58:31.922Z"
   },
   {
    "duration": 37,
    "start_time": "2024-05-05T10:58:31.993Z"
   },
   {
    "duration": 157,
    "start_time": "2024-05-05T10:58:32.032Z"
   },
   {
    "duration": 18,
    "start_time": "2024-05-05T10:58:32.190Z"
   },
   {
    "duration": 21,
    "start_time": "2024-05-05T10:58:32.209Z"
   },
   {
    "duration": 26,
    "start_time": "2024-05-05T10:58:32.232Z"
   },
   {
    "duration": 155,
    "start_time": "2024-05-05T10:58:32.259Z"
   },
   {
    "duration": 15,
    "start_time": "2024-05-05T10:58:32.416Z"
   },
   {
    "duration": 10,
    "start_time": "2024-05-05T10:58:32.433Z"
   },
   {
    "duration": 153,
    "start_time": "2024-05-05T10:58:32.444Z"
   },
   {
    "duration": 18,
    "start_time": "2024-05-05T11:00:30.382Z"
   },
   {
    "duration": 5,
    "start_time": "2024-05-05T11:03:22.644Z"
   },
   {
    "duration": 6,
    "start_time": "2024-05-05T11:03:29.599Z"
   },
   {
    "duration": 4,
    "start_time": "2024-05-05T11:05:33.289Z"
   },
   {
    "duration": 8,
    "start_time": "2024-05-05T11:05:39.343Z"
   },
   {
    "duration": 150,
    "start_time": "2024-05-05T11:06:25.763Z"
   },
   {
    "duration": 16,
    "start_time": "2024-05-05T11:07:30.176Z"
   },
   {
    "duration": 1166,
    "start_time": "2024-05-05T11:07:42.563Z"
   },
   {
    "duration": 68,
    "start_time": "2024-05-05T11:07:43.730Z"
   },
   {
    "duration": 15,
    "start_time": "2024-05-05T11:07:43.799Z"
   },
   {
    "duration": 26,
    "start_time": "2024-05-05T11:07:43.816Z"
   },
   {
    "duration": 31,
    "start_time": "2024-05-05T11:07:43.844Z"
   },
   {
    "duration": 7,
    "start_time": "2024-05-05T11:07:43.876Z"
   },
   {
    "duration": 7,
    "start_time": "2024-05-05T11:07:43.884Z"
   },
   {
    "duration": 14,
    "start_time": "2024-05-05T11:07:43.893Z"
   },
   {
    "duration": 7,
    "start_time": "2024-05-05T11:07:43.908Z"
   },
   {
    "duration": 16,
    "start_time": "2024-05-05T11:07:43.916Z"
   },
   {
    "duration": 39,
    "start_time": "2024-05-05T11:07:43.933Z"
   },
   {
    "duration": 23,
    "start_time": "2024-05-05T11:07:43.973Z"
   },
   {
    "duration": 4,
    "start_time": "2024-05-05T11:07:43.998Z"
   },
   {
    "duration": 7,
    "start_time": "2024-05-05T11:07:44.004Z"
   },
   {
    "duration": 9,
    "start_time": "2024-05-05T11:07:44.013Z"
   },
   {
    "duration": 15,
    "start_time": "2024-05-05T11:07:44.023Z"
   },
   {
    "duration": 33,
    "start_time": "2024-05-05T11:07:44.040Z"
   },
   {
    "duration": 7,
    "start_time": "2024-05-05T11:07:44.074Z"
   },
   {
    "duration": 233,
    "start_time": "2024-05-05T11:07:44.082Z"
   },
   {
    "duration": 7,
    "start_time": "2024-05-05T11:07:44.316Z"
   },
   {
    "duration": 10,
    "start_time": "2024-05-05T11:07:44.324Z"
   },
   {
    "duration": 16,
    "start_time": "2024-05-05T11:07:44.335Z"
   },
   {
    "duration": 189,
    "start_time": "2024-05-05T11:07:44.353Z"
   },
   {
    "duration": 192,
    "start_time": "2024-05-05T11:07:44.544Z"
   },
   {
    "duration": 168,
    "start_time": "2024-05-05T11:07:44.737Z"
   },
   {
    "duration": 192,
    "start_time": "2024-05-05T11:07:44.906Z"
   },
   {
    "duration": 465,
    "start_time": "2024-05-05T11:07:45.100Z"
   },
   {
    "duration": 8,
    "start_time": "2024-05-05T11:07:45.567Z"
   },
   {
    "duration": 375,
    "start_time": "2024-05-05T11:07:45.577Z"
   },
   {
    "duration": 365,
    "start_time": "2024-05-05T11:07:45.954Z"
   },
   {
    "duration": 17,
    "start_time": "2024-05-05T11:07:46.321Z"
   },
   {
    "duration": 176,
    "start_time": "2024-05-05T11:07:46.339Z"
   },
   {
    "duration": 190,
    "start_time": "2024-05-05T11:07:46.517Z"
   },
   {
    "duration": 8,
    "start_time": "2024-05-05T11:07:46.709Z"
   },
   {
    "duration": 206,
    "start_time": "2024-05-05T11:07:46.719Z"
   },
   {
    "duration": 19,
    "start_time": "2024-05-05T11:07:46.927Z"
   },
   {
    "duration": 248,
    "start_time": "2024-05-05T11:07:46.948Z"
   },
   {
    "duration": 6,
    "start_time": "2024-05-05T11:07:47.198Z"
   },
   {
    "duration": 15,
    "start_time": "2024-05-05T11:07:47.206Z"
   },
   {
    "duration": 8,
    "start_time": "2024-05-05T11:07:47.223Z"
   },
   {
    "duration": 167,
    "start_time": "2024-05-05T11:07:47.235Z"
   },
   {
    "duration": 17,
    "start_time": "2024-05-05T11:07:47.404Z"
   },
   {
    "duration": 6,
    "start_time": "2024-05-05T11:07:47.423Z"
   },
   {
    "duration": 15,
    "start_time": "2024-05-05T11:07:47.431Z"
   },
   {
    "duration": 155,
    "start_time": "2024-05-05T11:07:47.448Z"
   },
   {
    "duration": 17,
    "start_time": "2024-05-05T11:07:47.604Z"
   },
   {
    "duration": 11,
    "start_time": "2024-05-05T11:07:47.622Z"
   },
   {
    "duration": 148,
    "start_time": "2024-05-05T11:07:47.635Z"
   },
   {
    "duration": 16,
    "start_time": "2024-05-05T11:07:47.785Z"
   },
   {
    "duration": 6,
    "start_time": "2024-05-05T11:07:47.802Z"
   },
   {
    "duration": 15,
    "start_time": "2024-05-05T11:07:47.809Z"
   },
   {
    "duration": 159,
    "start_time": "2024-05-05T11:07:47.825Z"
   },
   {
    "duration": 15,
    "start_time": "2024-05-05T12:58:56.638Z"
   },
   {
    "duration": 1115,
    "start_time": "2024-05-05T12:59:23.045Z"
   },
   {
    "duration": 13,
    "start_time": "2024-05-05T12:59:48.401Z"
   },
   {
    "duration": 97,
    "start_time": "2024-05-05T12:59:52.357Z"
   },
   {
    "duration": 13,
    "start_time": "2024-05-05T13:31:35.980Z"
   },
   {
    "duration": 96,
    "start_time": "2024-05-05T13:31:38.635Z"
   },
   {
    "duration": 14,
    "start_time": "2024-05-05T13:32:15.816Z"
   },
   {
    "duration": 98,
    "start_time": "2024-05-05T13:32:18.720Z"
   },
   {
    "duration": 10,
    "start_time": "2024-05-05T13:45:27.891Z"
   },
   {
    "duration": 12,
    "start_time": "2024-05-05T13:46:47.803Z"
   },
   {
    "duration": 14,
    "start_time": "2024-05-05T13:47:29.021Z"
   },
   {
    "duration": 97,
    "start_time": "2024-05-05T13:47:31.927Z"
   },
   {
    "duration": 16,
    "start_time": "2024-05-05T13:49:23.553Z"
   },
   {
    "duration": 14,
    "start_time": "2024-05-05T13:50:37.526Z"
   },
   {
    "duration": 30,
    "start_time": "2024-05-05T13:55:14.890Z"
   },
   {
    "duration": 11,
    "start_time": "2024-05-05T13:56:58.395Z"
   },
   {
    "duration": 123,
    "start_time": "2024-05-05T13:57:09.268Z"
   },
   {
    "duration": 24,
    "start_time": "2024-05-05T13:59:03.835Z"
   },
   {
    "duration": 23,
    "start_time": "2024-05-05T14:00:06.961Z"
   },
   {
    "duration": 24,
    "start_time": "2024-05-05T14:00:35.653Z"
   },
   {
    "duration": 19,
    "start_time": "2024-05-05T14:00:50.771Z"
   },
   {
    "duration": 22,
    "start_time": "2024-05-05T14:00:58.314Z"
   },
   {
    "duration": 1178,
    "start_time": "2024-05-05T14:01:16.542Z"
   },
   {
    "duration": 67,
    "start_time": "2024-05-05T14:01:17.722Z"
   },
   {
    "duration": 13,
    "start_time": "2024-05-05T14:01:17.790Z"
   },
   {
    "duration": 43,
    "start_time": "2024-05-05T14:01:17.805Z"
   },
   {
    "duration": 13,
    "start_time": "2024-05-05T14:01:17.849Z"
   },
   {
    "duration": 29,
    "start_time": "2024-05-05T14:01:17.863Z"
   },
   {
    "duration": 20,
    "start_time": "2024-05-05T14:01:17.894Z"
   },
   {
    "duration": 42,
    "start_time": "2024-05-05T14:01:17.916Z"
   },
   {
    "duration": 7,
    "start_time": "2024-05-05T14:01:17.960Z"
   },
   {
    "duration": 44,
    "start_time": "2024-05-05T14:01:17.969Z"
   },
   {
    "duration": 54,
    "start_time": "2024-05-05T14:01:18.014Z"
   },
   {
    "duration": 38,
    "start_time": "2024-05-05T14:01:18.069Z"
   },
   {
    "duration": 4,
    "start_time": "2024-05-05T14:01:18.109Z"
   },
   {
    "duration": 27,
    "start_time": "2024-05-05T14:01:18.114Z"
   },
   {
    "duration": 17,
    "start_time": "2024-05-05T14:01:18.142Z"
   },
   {
    "duration": 36,
    "start_time": "2024-05-05T14:01:18.161Z"
   },
   {
    "duration": 23,
    "start_time": "2024-05-05T14:01:18.199Z"
   },
   {
    "duration": 15,
    "start_time": "2024-05-05T14:01:18.224Z"
   },
   {
    "duration": 244,
    "start_time": "2024-05-05T14:01:18.241Z"
   },
   {
    "duration": 7,
    "start_time": "2024-05-05T14:01:18.486Z"
   },
   {
    "duration": 27,
    "start_time": "2024-05-05T14:01:18.494Z"
   },
   {
    "duration": 30,
    "start_time": "2024-05-05T14:01:18.523Z"
   },
   {
    "duration": 169,
    "start_time": "2024-05-05T14:01:18.554Z"
   },
   {
    "duration": 213,
    "start_time": "2024-05-05T14:01:18.725Z"
   },
   {
    "duration": 173,
    "start_time": "2024-05-05T14:01:18.940Z"
   },
   {
    "duration": 178,
    "start_time": "2024-05-05T14:01:19.114Z"
   },
   {
    "duration": 451,
    "start_time": "2024-05-05T14:01:19.294Z"
   },
   {
    "duration": 7,
    "start_time": "2024-05-05T14:01:19.748Z"
   },
   {
    "duration": 429,
    "start_time": "2024-05-05T14:01:19.756Z"
   },
   {
    "duration": 397,
    "start_time": "2024-05-05T14:01:20.187Z"
   },
   {
    "duration": 19,
    "start_time": "2024-05-05T14:01:20.586Z"
   },
   {
    "duration": 195,
    "start_time": "2024-05-05T14:01:20.606Z"
   },
   {
    "duration": 186,
    "start_time": "2024-05-05T14:01:20.802Z"
   },
   {
    "duration": 8,
    "start_time": "2024-05-05T14:01:20.989Z"
   },
   {
    "duration": 232,
    "start_time": "2024-05-05T14:01:20.999Z"
   },
   {
    "duration": 20,
    "start_time": "2024-05-05T14:01:21.233Z"
   },
   {
    "duration": 243,
    "start_time": "2024-05-05T14:01:21.254Z"
   },
   {
    "duration": 7,
    "start_time": "2024-05-05T14:01:21.499Z"
   },
   {
    "duration": 17,
    "start_time": "2024-05-05T14:01:21.507Z"
   },
   {
    "duration": 9,
    "start_time": "2024-05-05T14:01:21.525Z"
   },
   {
    "duration": 40,
    "start_time": "2024-05-05T14:01:21.535Z"
   },
   {
    "duration": 109,
    "start_time": "2024-05-05T14:01:21.577Z"
   },
   {
    "duration": 17,
    "start_time": "2024-05-05T14:01:21.688Z"
   },
   {
    "duration": 5,
    "start_time": "2024-05-05T14:01:21.706Z"
   },
   {
    "duration": 26,
    "start_time": "2024-05-05T14:01:21.713Z"
   },
   {
    "duration": 111,
    "start_time": "2024-05-05T14:01:21.741Z"
   },
   {
    "duration": 28,
    "start_time": "2024-05-05T14:01:21.853Z"
   },
   {
    "duration": 12,
    "start_time": "2024-05-05T14:01:21.882Z"
   },
   {
    "duration": 14,
    "start_time": "2024-05-05T14:01:21.895Z"
   },
   {
    "duration": 130,
    "start_time": "2024-05-05T14:01:21.910Z"
   },
   {
    "duration": 16,
    "start_time": "2024-05-05T14:01:22.042Z"
   },
   {
    "duration": 6,
    "start_time": "2024-05-05T14:01:22.069Z"
   },
   {
    "duration": 14,
    "start_time": "2024-05-05T14:01:22.077Z"
   },
   {
    "duration": 16,
    "start_time": "2024-05-05T14:01:22.092Z"
   },
   {
    "duration": 117,
    "start_time": "2024-05-05T14:01:22.109Z"
   },
   {
    "duration": 22,
    "start_time": "2024-05-05T14:01:22.228Z"
   },
   {
    "duration": 119,
    "start_time": "2024-05-05T14:01:22.252Z"
   },
   {
    "duration": 23,
    "start_time": "2024-05-05T14:01:22.373Z"
   },
   {
    "duration": 108,
    "start_time": "2024-05-05T14:02:21.865Z"
   },
   {
    "duration": 17,
    "start_time": "2024-05-05T15:31:40.275Z"
   },
   {
    "duration": 17,
    "start_time": "2024-05-05T15:32:07.399Z"
   },
   {
    "duration": 14,
    "start_time": "2024-05-05T15:32:33.570Z"
   },
   {
    "duration": 11,
    "start_time": "2024-05-05T15:33:36.123Z"
   },
   {
    "duration": 14,
    "start_time": "2024-05-05T15:33:42.400Z"
   },
   {
    "duration": 17,
    "start_time": "2024-05-05T15:34:19.269Z"
   },
   {
    "duration": 16,
    "start_time": "2024-05-05T15:35:00.852Z"
   },
   {
    "duration": 17,
    "start_time": "2024-05-05T15:35:50.704Z"
   },
   {
    "duration": 19,
    "start_time": "2024-05-05T15:36:03.711Z"
   },
   {
    "duration": 12,
    "start_time": "2024-05-05T15:37:33.196Z"
   },
   {
    "duration": 17,
    "start_time": "2024-05-05T15:37:40.969Z"
   },
   {
    "duration": 3,
    "start_time": "2024-05-05T15:39:38.044Z"
   },
   {
    "duration": 11,
    "start_time": "2024-05-05T15:40:44.617Z"
   },
   {
    "duration": 4,
    "start_time": "2024-05-05T15:40:47.625Z"
   },
   {
    "duration": 18,
    "start_time": "2024-05-05T15:41:38.235Z"
   },
   {
    "duration": 19,
    "start_time": "2024-05-05T15:42:16.290Z"
   },
   {
    "duration": 137,
    "start_time": "2024-05-05T16:05:38.500Z"
   },
   {
    "duration": 138,
    "start_time": "2024-05-05T16:05:47.708Z"
   },
   {
    "duration": 1260,
    "start_time": "2024-05-05T16:08:07.102Z"
   },
   {
    "duration": 22,
    "start_time": "2024-05-05T16:08:14.135Z"
   },
   {
    "duration": 1161,
    "start_time": "2024-05-05T16:08:16.921Z"
   },
   {
    "duration": 14,
    "start_time": "2024-05-05T16:08:26.401Z"
   },
   {
    "duration": 193,
    "start_time": "2024-05-05T16:08:28.468Z"
   },
   {
    "duration": 185,
    "start_time": "2024-05-05T16:09:30.092Z"
   },
   {
    "duration": 17,
    "start_time": "2024-05-05T16:09:50.190Z"
   },
   {
    "duration": 22,
    "start_time": "2024-05-05T16:10:10.500Z"
   },
   {
    "duration": 300,
    "start_time": "2024-05-05T16:10:43.100Z"
   },
   {
    "duration": 19,
    "start_time": "2024-05-05T16:12:48.558Z"
   },
   {
    "duration": 156,
    "start_time": "2024-05-05T16:13:01.466Z"
   },
   {
    "duration": 154,
    "start_time": "2024-05-05T16:13:56.316Z"
   },
   {
    "duration": 4,
    "start_time": "2024-05-05T16:23:15.415Z"
   },
   {
    "duration": 4,
    "start_time": "2024-05-05T16:23:32.060Z"
   },
   {
    "duration": 4,
    "start_time": "2024-05-05T16:23:45.057Z"
   },
   {
    "duration": 4,
    "start_time": "2024-05-05T16:23:48.617Z"
   },
   {
    "duration": 187,
    "start_time": "2024-05-05T17:14:58.534Z"
   },
   {
    "duration": 172,
    "start_time": "2024-05-05T17:15:49.266Z"
   },
   {
    "duration": 201,
    "start_time": "2024-05-05T17:16:27.783Z"
   },
   {
    "duration": 199,
    "start_time": "2024-05-05T17:16:53.123Z"
   },
   {
    "duration": 221,
    "start_time": "2024-05-05T17:17:25.074Z"
   },
   {
    "duration": 206,
    "start_time": "2024-05-05T17:19:03.597Z"
   },
   {
    "duration": 200,
    "start_time": "2024-05-05T17:19:08.811Z"
   },
   {
    "duration": 235,
    "start_time": "2024-05-05T17:19:29.146Z"
   },
   {
    "duration": 222,
    "start_time": "2024-05-05T17:20:05.947Z"
   },
   {
    "duration": 198,
    "start_time": "2024-05-05T17:20:18.442Z"
   },
   {
    "duration": 230,
    "start_time": "2024-05-05T17:21:58.919Z"
   },
   {
    "duration": 160,
    "start_time": "2024-05-05T17:22:43.681Z"
   },
   {
    "duration": 193,
    "start_time": "2024-05-05T17:23:14.271Z"
   },
   {
    "duration": 185,
    "start_time": "2024-05-05T17:23:31.378Z"
   },
   {
    "duration": 237,
    "start_time": "2024-05-05T17:24:08.358Z"
   },
   {
    "duration": 340,
    "start_time": "2024-05-05T17:24:27.559Z"
   },
   {
    "duration": 248,
    "start_time": "2024-05-05T17:24:37.298Z"
   },
   {
    "duration": 239,
    "start_time": "2024-05-05T17:26:09.431Z"
   },
   {
    "duration": 3,
    "start_time": "2024-05-05T17:31:27.036Z"
   },
   {
    "duration": 31,
    "start_time": "2024-05-05T17:39:20.964Z"
   },
   {
    "duration": 9,
    "start_time": "2024-05-05T17:40:34.344Z"
   },
   {
    "duration": 9,
    "start_time": "2024-05-05T17:40:57.913Z"
   },
   {
    "duration": 1058,
    "start_time": "2024-05-05T17:42:01.377Z"
   },
   {
    "duration": 1067,
    "start_time": "2024-05-05T17:42:07.453Z"
   },
   {
    "duration": 10,
    "start_time": "2024-05-05T17:42:37.230Z"
   },
   {
    "duration": 9,
    "start_time": "2024-05-05T17:43:00.624Z"
   },
   {
    "duration": 5,
    "start_time": "2024-05-05T17:58:32.555Z"
   },
   {
    "duration": 11,
    "start_time": "2024-05-05T18:00:16.057Z"
   },
   {
    "duration": 10,
    "start_time": "2024-05-05T18:00:25.801Z"
   },
   {
    "duration": 9,
    "start_time": "2024-05-05T18:00:48.532Z"
   },
   {
    "duration": 9,
    "start_time": "2024-05-05T18:01:33.675Z"
   },
   {
    "duration": 9,
    "start_time": "2024-05-05T18:01:41.246Z"
   },
   {
    "duration": 4,
    "start_time": "2024-05-05T18:02:37.455Z"
   },
   {
    "duration": 11,
    "start_time": "2024-05-05T18:03:00.107Z"
   },
   {
    "duration": 7,
    "start_time": "2024-05-05T18:03:18.567Z"
   },
   {
    "duration": 11,
    "start_time": "2024-05-05T18:05:06.151Z"
   },
   {
    "duration": 9,
    "start_time": "2024-05-05T18:05:14.765Z"
   },
   {
    "duration": 10,
    "start_time": "2024-05-05T18:05:40.302Z"
   },
   {
    "duration": 1218,
    "start_time": "2024-05-05T18:05:49.044Z"
   },
   {
    "duration": 70,
    "start_time": "2024-05-05T18:05:50.264Z"
   },
   {
    "duration": 15,
    "start_time": "2024-05-05T18:05:50.335Z"
   },
   {
    "duration": 28,
    "start_time": "2024-05-05T18:05:50.352Z"
   },
   {
    "duration": 14,
    "start_time": "2024-05-05T18:05:50.382Z"
   },
   {
    "duration": 9,
    "start_time": "2024-05-05T18:05:50.398Z"
   },
   {
    "duration": 7,
    "start_time": "2024-05-05T18:05:50.409Z"
   },
   {
    "duration": 23,
    "start_time": "2024-05-05T18:05:50.418Z"
   },
   {
    "duration": 34,
    "start_time": "2024-05-05T18:05:50.443Z"
   },
   {
    "duration": 25,
    "start_time": "2024-05-05T18:05:50.480Z"
   },
   {
    "duration": 18,
    "start_time": "2024-05-05T18:05:50.507Z"
   },
   {
    "duration": 27,
    "start_time": "2024-05-05T18:05:50.527Z"
   },
   {
    "duration": 14,
    "start_time": "2024-05-05T18:05:50.556Z"
   },
   {
    "duration": 7,
    "start_time": "2024-05-05T18:05:50.572Z"
   },
   {
    "duration": 6,
    "start_time": "2024-05-05T18:05:50.581Z"
   },
   {
    "duration": 18,
    "start_time": "2024-05-05T18:05:50.589Z"
   },
   {
    "duration": 7,
    "start_time": "2024-05-05T18:05:50.609Z"
   },
   {
    "duration": 6,
    "start_time": "2024-05-05T18:05:50.618Z"
   },
   {
    "duration": 260,
    "start_time": "2024-05-05T18:05:50.626Z"
   },
   {
    "duration": 7,
    "start_time": "2024-05-05T18:05:50.888Z"
   },
   {
    "duration": 40,
    "start_time": "2024-05-05T18:05:50.897Z"
   },
   {
    "duration": 17,
    "start_time": "2024-05-05T18:05:50.938Z"
   },
   {
    "duration": 181,
    "start_time": "2024-05-05T18:05:50.956Z"
   },
   {
    "duration": 199,
    "start_time": "2024-05-05T18:05:51.139Z"
   },
   {
    "duration": 175,
    "start_time": "2024-05-05T18:05:51.340Z"
   },
   {
    "duration": 179,
    "start_time": "2024-05-05T18:05:51.516Z"
   },
   {
    "duration": 472,
    "start_time": "2024-05-05T18:05:51.697Z"
   },
   {
    "duration": 6,
    "start_time": "2024-05-05T18:05:52.172Z"
   },
   {
    "duration": 382,
    "start_time": "2024-05-05T18:05:52.180Z"
   },
   {
    "duration": 370,
    "start_time": "2024-05-05T18:05:52.563Z"
   },
   {
    "duration": 19,
    "start_time": "2024-05-05T18:05:52.935Z"
   },
   {
    "duration": 191,
    "start_time": "2024-05-05T18:05:52.955Z"
   },
   {
    "duration": 196,
    "start_time": "2024-05-05T18:05:53.148Z"
   },
   {
    "duration": 8,
    "start_time": "2024-05-05T18:05:53.346Z"
   },
   {
    "duration": 220,
    "start_time": "2024-05-05T18:05:53.356Z"
   },
   {
    "duration": 21,
    "start_time": "2024-05-05T18:05:53.578Z"
   },
   {
    "duration": 241,
    "start_time": "2024-05-05T18:05:53.601Z"
   },
   {
    "duration": 7,
    "start_time": "2024-05-05T18:05:53.843Z"
   },
   {
    "duration": 28,
    "start_time": "2024-05-05T18:05:53.852Z"
   },
   {
    "duration": 9,
    "start_time": "2024-05-05T18:05:53.881Z"
   },
   {
    "duration": 15,
    "start_time": "2024-05-05T18:05:53.892Z"
   },
   {
    "duration": 109,
    "start_time": "2024-05-05T18:05:53.908Z"
   },
   {
    "duration": 17,
    "start_time": "2024-05-05T18:05:54.019Z"
   },
   {
    "duration": 6,
    "start_time": "2024-05-05T18:05:54.038Z"
   },
   {
    "duration": 40,
    "start_time": "2024-05-05T18:05:54.045Z"
   },
   {
    "duration": 128,
    "start_time": "2024-05-05T18:05:54.087Z"
   },
   {
    "duration": 22,
    "start_time": "2024-05-05T18:05:54.217Z"
   },
   {
    "duration": 28,
    "start_time": "2024-05-05T18:05:54.241Z"
   },
   {
    "duration": 14,
    "start_time": "2024-05-05T18:05:54.271Z"
   },
   {
    "duration": 112,
    "start_time": "2024-05-05T18:05:54.286Z"
   },
   {
    "duration": 15,
    "start_time": "2024-05-05T18:05:54.400Z"
   },
   {
    "duration": 8,
    "start_time": "2024-05-05T18:05:54.416Z"
   },
   {
    "duration": 8,
    "start_time": "2024-05-05T18:05:54.426Z"
   },
   {
    "duration": 34,
    "start_time": "2024-05-05T18:05:54.435Z"
   },
   {
    "duration": 103,
    "start_time": "2024-05-05T18:05:54.471Z"
   },
   {
    "duration": 23,
    "start_time": "2024-05-05T18:05:54.576Z"
   },
   {
    "duration": 114,
    "start_time": "2024-05-05T18:05:54.600Z"
   },
   {
    "duration": 21,
    "start_time": "2024-05-05T18:05:54.715Z"
   },
   {
    "duration": 106,
    "start_time": "2024-05-05T18:05:54.737Z"
   },
   {
    "duration": 27,
    "start_time": "2024-05-05T18:05:54.845Z"
   },
   {
    "duration": 241,
    "start_time": "2024-05-05T18:05:54.873Z"
   },
   {
    "duration": 9,
    "start_time": "2024-05-05T18:05:55.116Z"
   },
   {
    "duration": 12,
    "start_time": "2024-05-05T18:05:55.127Z"
   },
   {
    "duration": 4,
    "start_time": "2024-05-05T18:05:55.140Z"
   },
   {
    "duration": 4,
    "start_time": "2024-05-05T18:06:42.934Z"
   },
   {
    "duration": 10,
    "start_time": "2024-05-05T18:41:43.523Z"
   },
   {
    "duration": 109,
    "start_time": "2024-05-05T18:42:47.881Z"
   },
   {
    "duration": 11,
    "start_time": "2024-05-05T18:42:56.295Z"
   },
   {
    "duration": 11,
    "start_time": "2024-05-05T18:44:27.209Z"
   },
   {
    "duration": 10,
    "start_time": "2024-05-05T18:44:49.565Z"
   },
   {
    "duration": 4,
    "start_time": "2024-05-05T18:45:09.108Z"
   },
   {
    "duration": 11,
    "start_time": "2024-05-05T18:45:45.968Z"
   },
   {
    "duration": 5,
    "start_time": "2024-05-05T18:45:50.760Z"
   },
   {
    "duration": 1538,
    "start_time": "2024-05-06T04:17:43.071Z"
   },
   {
    "duration": 222,
    "start_time": "2024-05-06T04:17:44.611Z"
   },
   {
    "duration": 13,
    "start_time": "2024-05-06T04:17:44.834Z"
   },
   {
    "duration": 28,
    "start_time": "2024-05-06T04:17:44.849Z"
   },
   {
    "duration": 21,
    "start_time": "2024-05-06T04:17:44.880Z"
   },
   {
    "duration": 23,
    "start_time": "2024-05-06T04:17:44.902Z"
   },
   {
    "duration": 15,
    "start_time": "2024-05-06T04:17:44.927Z"
   },
   {
    "duration": 49,
    "start_time": "2024-05-06T04:17:44.944Z"
   },
   {
    "duration": 8,
    "start_time": "2024-05-06T04:17:44.995Z"
   },
   {
    "duration": 65,
    "start_time": "2024-05-06T04:17:45.005Z"
   },
   {
    "duration": 24,
    "start_time": "2024-05-06T04:17:45.072Z"
   },
   {
    "duration": 36,
    "start_time": "2024-05-06T04:17:45.098Z"
   },
   {
    "duration": 29,
    "start_time": "2024-05-06T04:17:45.136Z"
   },
   {
    "duration": 39,
    "start_time": "2024-05-06T04:17:45.167Z"
   },
   {
    "duration": 16,
    "start_time": "2024-05-06T04:17:45.208Z"
   },
   {
    "duration": 35,
    "start_time": "2024-05-06T04:17:45.226Z"
   },
   {
    "duration": 61,
    "start_time": "2024-05-06T04:17:45.263Z"
   },
   {
    "duration": 19,
    "start_time": "2024-05-06T04:17:45.326Z"
   },
   {
    "duration": 268,
    "start_time": "2024-05-06T04:17:45.346Z"
   },
   {
    "duration": 8,
    "start_time": "2024-05-06T04:17:45.615Z"
   },
   {
    "duration": 21,
    "start_time": "2024-05-06T04:17:45.624Z"
   },
   {
    "duration": 43,
    "start_time": "2024-05-06T04:17:45.647Z"
   },
   {
    "duration": 190,
    "start_time": "2024-05-06T04:17:45.692Z"
   },
   {
    "duration": 214,
    "start_time": "2024-05-06T04:17:45.883Z"
   },
   {
    "duration": 202,
    "start_time": "2024-05-06T04:17:46.099Z"
   },
   {
    "duration": 225,
    "start_time": "2024-05-06T04:17:46.303Z"
   },
   {
    "duration": 569,
    "start_time": "2024-05-06T04:17:46.530Z"
   },
   {
    "duration": 7,
    "start_time": "2024-05-06T04:17:47.103Z"
   },
   {
    "duration": 419,
    "start_time": "2024-05-06T04:17:47.112Z"
   },
   {
    "duration": 402,
    "start_time": "2024-05-06T04:17:47.534Z"
   },
   {
    "duration": 20,
    "start_time": "2024-05-06T04:17:47.938Z"
   },
   {
    "duration": 241,
    "start_time": "2024-05-06T04:17:47.959Z"
   },
   {
    "duration": 242,
    "start_time": "2024-05-06T04:17:48.203Z"
   },
   {
    "duration": 9,
    "start_time": "2024-05-06T04:17:48.447Z"
   },
   {
    "duration": 254,
    "start_time": "2024-05-06T04:17:48.458Z"
   },
   {
    "duration": 36,
    "start_time": "2024-05-06T04:17:48.714Z"
   },
   {
    "duration": 269,
    "start_time": "2024-05-06T04:17:48.752Z"
   },
   {
    "duration": 7,
    "start_time": "2024-05-06T04:17:49.023Z"
   },
   {
    "duration": 27,
    "start_time": "2024-05-06T04:17:49.031Z"
   },
   {
    "duration": 14,
    "start_time": "2024-05-06T04:17:49.059Z"
   },
   {
    "duration": 25,
    "start_time": "2024-05-06T04:17:49.075Z"
   },
   {
    "duration": 123,
    "start_time": "2024-05-06T04:17:49.102Z"
   },
   {
    "duration": 18,
    "start_time": "2024-05-06T04:17:49.227Z"
   },
   {
    "duration": 15,
    "start_time": "2024-05-06T04:17:49.247Z"
   },
   {
    "duration": 31,
    "start_time": "2024-05-06T04:17:49.264Z"
   },
   {
    "duration": 113,
    "start_time": "2024-05-06T04:17:49.296Z"
   },
   {
    "duration": 19,
    "start_time": "2024-05-06T04:17:49.411Z"
   },
   {
    "duration": 37,
    "start_time": "2024-05-06T04:17:49.431Z"
   },
   {
    "duration": 22,
    "start_time": "2024-05-06T04:17:49.470Z"
   },
   {
    "duration": 110,
    "start_time": "2024-05-06T04:17:49.494Z"
   },
   {
    "duration": 15,
    "start_time": "2024-05-06T04:17:49.606Z"
   },
   {
    "duration": 24,
    "start_time": "2024-05-06T04:17:49.623Z"
   },
   {
    "duration": 9,
    "start_time": "2024-05-06T04:17:49.649Z"
   },
   {
    "duration": 22,
    "start_time": "2024-05-06T04:17:49.659Z"
   },
   {
    "duration": 123,
    "start_time": "2024-05-06T04:17:49.682Z"
   },
   {
    "duration": 29,
    "start_time": "2024-05-06T04:17:49.807Z"
   },
   {
    "duration": 124,
    "start_time": "2024-05-06T04:17:49.838Z"
   },
   {
    "duration": 34,
    "start_time": "2024-05-06T04:17:49.964Z"
   },
   {
    "duration": 121,
    "start_time": "2024-05-06T04:17:49.999Z"
   },
   {
    "duration": 19,
    "start_time": "2024-05-06T04:17:50.122Z"
   },
   {
    "duration": 286,
    "start_time": "2024-05-06T04:17:50.142Z"
   },
   {
    "duration": 11,
    "start_time": "2024-05-06T04:17:50.429Z"
   },
   {
    "duration": 9,
    "start_time": "2024-05-06T04:17:50.442Z"
   },
   {
    "duration": 41,
    "start_time": "2024-05-06T04:17:50.453Z"
   },
   {
    "duration": 10,
    "start_time": "2024-05-06T04:17:50.496Z"
   },
   {
    "duration": 19,
    "start_time": "2024-05-06T04:17:50.508Z"
   },
   {
    "duration": 68,
    "start_time": "2024-05-06T04:17:50.528Z"
   },
   {
    "duration": 68,
    "start_time": "2024-05-06T04:44:20.048Z"
   },
   {
    "duration": 309,
    "start_time": "2024-05-06T04:44:25.977Z"
   },
   {
    "duration": 419,
    "start_time": "2024-05-06T04:44:46.676Z"
   },
   {
    "duration": 21,
    "start_time": "2024-05-06T05:01:19.604Z"
   },
   {
    "duration": 100,
    "start_time": "2024-05-06T05:08:54.221Z"
   },
   {
    "duration": 251,
    "start_time": "2024-05-06T05:09:32.636Z"
   },
   {
    "duration": 12,
    "start_time": "2024-05-06T05:11:59.738Z"
   },
   {
    "duration": 1065,
    "start_time": "2024-05-06T06:08:42.819Z"
   },
   {
    "duration": 120,
    "start_time": "2024-05-06T06:08:43.886Z"
   },
   {
    "duration": 13,
    "start_time": "2024-05-06T06:08:44.007Z"
   },
   {
    "duration": 25,
    "start_time": "2024-05-06T06:08:44.021Z"
   },
   {
    "duration": 17,
    "start_time": "2024-05-06T06:08:44.048Z"
   },
   {
    "duration": 11,
    "start_time": "2024-05-06T06:08:44.066Z"
   },
   {
    "duration": 5,
    "start_time": "2024-05-06T06:08:44.079Z"
   },
   {
    "duration": 28,
    "start_time": "2024-05-06T06:08:44.086Z"
   },
   {
    "duration": 6,
    "start_time": "2024-05-06T06:08:44.115Z"
   },
   {
    "duration": 21,
    "start_time": "2024-05-06T06:08:44.123Z"
   },
   {
    "duration": 8,
    "start_time": "2024-05-06T06:08:44.145Z"
   },
   {
    "duration": 26,
    "start_time": "2024-05-06T06:08:44.154Z"
   },
   {
    "duration": 3,
    "start_time": "2024-05-06T06:08:44.181Z"
   },
   {
    "duration": 16,
    "start_time": "2024-05-06T06:08:44.185Z"
   },
   {
    "duration": 5,
    "start_time": "2024-05-06T06:08:44.203Z"
   },
   {
    "duration": 13,
    "start_time": "2024-05-06T06:08:44.209Z"
   },
   {
    "duration": 17,
    "start_time": "2024-05-06T06:08:44.223Z"
   },
   {
    "duration": 11,
    "start_time": "2024-05-06T06:08:44.242Z"
   },
   {
    "duration": 212,
    "start_time": "2024-05-06T06:08:44.255Z"
   },
   {
    "duration": 6,
    "start_time": "2024-05-06T06:08:44.469Z"
   },
   {
    "duration": 8,
    "start_time": "2024-05-06T06:08:44.477Z"
   },
   {
    "duration": 23,
    "start_time": "2024-05-06T06:08:44.486Z"
   },
   {
    "duration": 178,
    "start_time": "2024-05-06T06:08:44.511Z"
   },
   {
    "duration": 202,
    "start_time": "2024-05-06T06:08:44.691Z"
   },
   {
    "duration": 183,
    "start_time": "2024-05-06T06:08:44.894Z"
   },
   {
    "duration": 170,
    "start_time": "2024-05-06T06:08:45.078Z"
   },
   {
    "duration": 405,
    "start_time": "2024-05-06T06:08:45.250Z"
   },
   {
    "duration": 6,
    "start_time": "2024-05-06T06:08:45.659Z"
   },
   {
    "duration": 343,
    "start_time": "2024-05-06T06:08:45.666Z"
   },
   {
    "duration": 336,
    "start_time": "2024-05-06T06:08:46.011Z"
   },
   {
    "duration": 24,
    "start_time": "2024-05-06T06:08:46.349Z"
   },
   {
    "duration": 179,
    "start_time": "2024-05-06T06:08:46.374Z"
   },
   {
    "duration": 175,
    "start_time": "2024-05-06T06:08:46.554Z"
   },
   {
    "duration": 7,
    "start_time": "2024-05-06T06:08:46.730Z"
   },
   {
    "duration": 195,
    "start_time": "2024-05-06T06:08:46.738Z"
   },
   {
    "duration": 17,
    "start_time": "2024-05-06T06:08:46.935Z"
   },
   {
    "duration": 208,
    "start_time": "2024-05-06T06:08:46.953Z"
   },
   {
    "duration": 6,
    "start_time": "2024-05-06T06:08:47.164Z"
   },
   {
    "duration": 15,
    "start_time": "2024-05-06T06:08:47.171Z"
   },
   {
    "duration": 10,
    "start_time": "2024-05-06T06:08:47.187Z"
   },
   {
    "duration": 28,
    "start_time": "2024-05-06T06:08:47.198Z"
   },
   {
    "duration": 92,
    "start_time": "2024-05-06T06:08:47.227Z"
   },
   {
    "duration": 15,
    "start_time": "2024-05-06T06:08:47.321Z"
   },
   {
    "duration": 12,
    "start_time": "2024-05-06T06:08:47.337Z"
   },
   {
    "duration": 20,
    "start_time": "2024-05-06T06:08:47.351Z"
   },
   {
    "duration": 84,
    "start_time": "2024-05-06T06:08:47.373Z"
   },
   {
    "duration": 15,
    "start_time": "2024-05-06T06:08:47.464Z"
   },
   {
    "duration": 14,
    "start_time": "2024-05-06T06:08:47.480Z"
   },
   {
    "duration": 26,
    "start_time": "2024-05-06T06:08:47.496Z"
   },
   {
    "duration": 91,
    "start_time": "2024-05-06T06:08:47.524Z"
   },
   {
    "duration": 16,
    "start_time": "2024-05-06T06:08:47.616Z"
   },
   {
    "duration": 8,
    "start_time": "2024-05-06T06:08:47.633Z"
   },
   {
    "duration": 28,
    "start_time": "2024-05-06T06:08:47.642Z"
   },
   {
    "duration": 13,
    "start_time": "2024-05-06T06:08:47.671Z"
   },
   {
    "duration": 112,
    "start_time": "2024-05-06T06:08:47.686Z"
   },
   {
    "duration": 29,
    "start_time": "2024-05-06T06:08:47.799Z"
   },
   {
    "duration": 118,
    "start_time": "2024-05-06T06:08:47.836Z"
   },
   {
    "duration": 28,
    "start_time": "2024-05-06T06:08:47.956Z"
   },
   {
    "duration": 101,
    "start_time": "2024-05-06T06:08:47.986Z"
   },
   {
    "duration": 16,
    "start_time": "2024-05-06T06:08:48.088Z"
   },
   {
    "duration": 226,
    "start_time": "2024-05-06T06:08:48.105Z"
   },
   {
    "duration": 9,
    "start_time": "2024-05-06T06:08:48.333Z"
   },
   {
    "duration": 22,
    "start_time": "2024-05-06T06:08:48.343Z"
   },
   {
    "duration": 4,
    "start_time": "2024-05-06T06:08:48.367Z"
   },
   {
    "duration": 12,
    "start_time": "2024-05-06T06:08:48.372Z"
   },
   {
    "duration": 9,
    "start_time": "2024-05-06T06:08:48.385Z"
   },
   {
    "duration": 4,
    "start_time": "2024-05-06T06:08:48.396Z"
   },
   {
    "duration": 284,
    "start_time": "2024-05-06T06:28:50.722Z"
   },
   {
    "duration": 401,
    "start_time": "2024-05-06T06:30:02.784Z"
   },
   {
    "duration": 1090,
    "start_time": "2024-05-06T06:30:10.189Z"
   },
   {
    "duration": 67,
    "start_time": "2024-05-06T06:30:11.281Z"
   },
   {
    "duration": 13,
    "start_time": "2024-05-06T06:30:11.349Z"
   },
   {
    "duration": 29,
    "start_time": "2024-05-06T06:30:11.363Z"
   },
   {
    "duration": 11,
    "start_time": "2024-05-06T06:30:11.394Z"
   },
   {
    "duration": 6,
    "start_time": "2024-05-06T06:30:11.407Z"
   },
   {
    "duration": 5,
    "start_time": "2024-05-06T06:30:11.415Z"
   },
   {
    "duration": 14,
    "start_time": "2024-05-06T06:30:11.421Z"
   },
   {
    "duration": 5,
    "start_time": "2024-05-06T06:30:11.437Z"
   },
   {
    "duration": 31,
    "start_time": "2024-05-06T06:30:11.466Z"
   },
   {
    "duration": 8,
    "start_time": "2024-05-06T06:30:11.498Z"
   },
   {
    "duration": 20,
    "start_time": "2024-05-06T06:30:11.507Z"
   },
   {
    "duration": 4,
    "start_time": "2024-05-06T06:30:11.528Z"
   },
   {
    "duration": 36,
    "start_time": "2024-05-06T06:30:11.533Z"
   },
   {
    "duration": 17,
    "start_time": "2024-05-06T06:30:11.570Z"
   },
   {
    "duration": 17,
    "start_time": "2024-05-06T06:30:11.588Z"
   },
   {
    "duration": 7,
    "start_time": "2024-05-06T06:30:11.607Z"
   },
   {
    "duration": 8,
    "start_time": "2024-05-06T06:30:11.616Z"
   },
   {
    "duration": 226,
    "start_time": "2024-05-06T06:30:11.626Z"
   },
   {
    "duration": 13,
    "start_time": "2024-05-06T06:30:11.853Z"
   },
   {
    "duration": 22,
    "start_time": "2024-05-06T06:30:11.868Z"
   },
   {
    "duration": 24,
    "start_time": "2024-05-06T06:30:11.892Z"
   },
   {
    "duration": 175,
    "start_time": "2024-05-06T06:30:11.918Z"
   },
   {
    "duration": 174,
    "start_time": "2024-05-06T06:30:12.094Z"
   },
   {
    "duration": 165,
    "start_time": "2024-05-06T06:30:12.269Z"
   },
   {
    "duration": 165,
    "start_time": "2024-05-06T06:30:12.436Z"
   },
   {
    "duration": 438,
    "start_time": "2024-05-06T06:30:12.602Z"
   },
   {
    "duration": 7,
    "start_time": "2024-05-06T06:30:13.043Z"
   },
   {
    "duration": 338,
    "start_time": "2024-05-06T06:30:13.051Z"
   },
   {
    "duration": 332,
    "start_time": "2024-05-06T06:30:13.390Z"
   },
   {
    "duration": 281,
    "start_time": "2024-05-06T06:30:13.723Z"
   },
   {
    "duration": 17,
    "start_time": "2024-05-06T06:30:14.005Z"
   },
   {
    "duration": 166,
    "start_time": "2024-05-06T06:30:14.023Z"
   },
   {
    "duration": 165,
    "start_time": "2024-05-06T06:30:14.190Z"
   },
   {
    "duration": 11,
    "start_time": "2024-05-06T06:30:14.357Z"
   },
   {
    "duration": 188,
    "start_time": "2024-05-06T06:30:14.370Z"
   },
   {
    "duration": 19,
    "start_time": "2024-05-06T06:30:14.560Z"
   },
   {
    "duration": 218,
    "start_time": "2024-05-06T06:30:14.581Z"
   },
   {
    "duration": 6,
    "start_time": "2024-05-06T06:30:14.801Z"
   },
   {
    "duration": 26,
    "start_time": "2024-05-06T06:30:14.809Z"
   },
   {
    "duration": 9,
    "start_time": "2024-05-06T06:30:14.837Z"
   },
   {
    "duration": 23,
    "start_time": "2024-05-06T06:30:14.864Z"
   },
   {
    "duration": 116,
    "start_time": "2024-05-06T06:30:14.888Z"
   },
   {
    "duration": 17,
    "start_time": "2024-05-06T06:30:15.005Z"
   },
   {
    "duration": 72,
    "start_time": "2024-05-06T06:30:15.023Z"
   },
   {
    "duration": 18,
    "start_time": "2024-05-06T06:30:15.097Z"
   },
   {
    "duration": 90,
    "start_time": "2024-05-06T06:30:15.117Z"
   },
   {
    "duration": 16,
    "start_time": "2024-05-06T06:30:15.209Z"
   },
   {
    "duration": 18,
    "start_time": "2024-05-06T06:30:15.227Z"
   },
   {
    "duration": 32,
    "start_time": "2024-05-06T06:30:15.247Z"
   },
   {
    "duration": 117,
    "start_time": "2024-05-06T06:30:15.280Z"
   },
   {
    "duration": 14,
    "start_time": "2024-05-06T06:30:15.399Z"
   },
   {
    "duration": 5,
    "start_time": "2024-05-06T06:30:15.415Z"
   },
   {
    "duration": 10,
    "start_time": "2024-05-06T06:30:15.421Z"
   },
   {
    "duration": 16,
    "start_time": "2024-05-06T06:30:15.433Z"
   },
   {
    "duration": 104,
    "start_time": "2024-05-06T06:30:15.450Z"
   },
   {
    "duration": 30,
    "start_time": "2024-05-06T06:30:15.555Z"
   },
   {
    "duration": 106,
    "start_time": "2024-05-06T06:30:15.587Z"
   },
   {
    "duration": 20,
    "start_time": "2024-05-06T06:30:15.694Z"
   },
   {
    "duration": 104,
    "start_time": "2024-05-06T06:30:15.715Z"
   },
   {
    "duration": 16,
    "start_time": "2024-05-06T06:30:15.821Z"
   },
   {
    "duration": 235,
    "start_time": "2024-05-06T06:30:15.839Z"
   },
   {
    "duration": 10,
    "start_time": "2024-05-06T06:30:16.075Z"
   },
   {
    "duration": 28,
    "start_time": "2024-05-06T06:30:16.086Z"
   },
   {
    "duration": 4,
    "start_time": "2024-05-06T06:30:16.115Z"
   },
   {
    "duration": 25,
    "start_time": "2024-05-06T06:30:16.121Z"
   },
   {
    "duration": 9,
    "start_time": "2024-05-06T06:30:16.147Z"
   },
   {
    "duration": 9,
    "start_time": "2024-05-06T06:30:16.157Z"
   },
   {
    "duration": 46,
    "start_time": "2024-05-07T07:27:37.560Z"
   },
   {
    "duration": 1304,
    "start_time": "2024-05-07T07:27:41.239Z"
   },
   {
    "duration": 123,
    "start_time": "2024-05-07T07:27:42.545Z"
   },
   {
    "duration": 18,
    "start_time": "2024-05-07T07:27:42.670Z"
   },
   {
    "duration": 26,
    "start_time": "2024-05-07T07:27:42.690Z"
   },
   {
    "duration": 14,
    "start_time": "2024-05-07T07:27:42.717Z"
   },
   {
    "duration": 7,
    "start_time": "2024-05-07T07:27:42.732Z"
   },
   {
    "duration": 6,
    "start_time": "2024-05-07T07:27:42.766Z"
   },
   {
    "duration": 21,
    "start_time": "2024-05-07T07:27:42.773Z"
   },
   {
    "duration": 15,
    "start_time": "2024-05-07T07:27:42.796Z"
   },
   {
    "duration": 19,
    "start_time": "2024-05-07T07:27:42.814Z"
   },
   {
    "duration": 14,
    "start_time": "2024-05-07T07:27:42.834Z"
   },
   {
    "duration": 27,
    "start_time": "2024-05-07T07:27:42.849Z"
   },
   {
    "duration": 7,
    "start_time": "2024-05-07T07:27:42.878Z"
   },
   {
    "duration": 10,
    "start_time": "2024-05-07T07:27:42.886Z"
   },
   {
    "duration": 9,
    "start_time": "2024-05-07T07:27:42.897Z"
   },
   {
    "duration": 8,
    "start_time": "2024-05-07T07:27:42.907Z"
   },
   {
    "duration": 19,
    "start_time": "2024-05-07T07:27:42.916Z"
   },
   {
    "duration": 7,
    "start_time": "2024-05-07T07:27:42.937Z"
   },
   {
    "duration": 21,
    "start_time": "2024-05-07T07:27:42.945Z"
   },
   {
    "duration": 229,
    "start_time": "2024-05-07T07:27:42.967Z"
   },
   {
    "duration": 6,
    "start_time": "2024-05-07T07:27:43.198Z"
   },
   {
    "duration": 7,
    "start_time": "2024-05-07T07:27:43.205Z"
   },
   {
    "duration": 15,
    "start_time": "2024-05-07T07:27:43.214Z"
   },
   {
    "duration": 185,
    "start_time": "2024-05-07T07:27:43.230Z"
   },
   {
    "duration": 176,
    "start_time": "2024-05-07T07:27:43.416Z"
   },
   {
    "duration": 168,
    "start_time": "2024-05-07T07:27:43.594Z"
   },
   {
    "duration": 182,
    "start_time": "2024-05-07T07:27:43.764Z"
   },
   {
    "duration": 427,
    "start_time": "2024-05-07T07:27:43.949Z"
   },
   {
    "duration": 6,
    "start_time": "2024-05-07T07:27:44.377Z"
   },
   {
    "duration": 364,
    "start_time": "2024-05-07T07:27:44.384Z"
   },
   {
    "duration": 329,
    "start_time": "2024-05-07T07:27:44.749Z"
   },
   {
    "duration": 16,
    "start_time": "2024-05-07T07:27:45.079Z"
   },
   {
    "duration": 175,
    "start_time": "2024-05-07T07:27:45.096Z"
   },
   {
    "duration": 169,
    "start_time": "2024-05-07T07:27:45.273Z"
   },
   {
    "duration": 7,
    "start_time": "2024-05-07T07:27:45.443Z"
   },
   {
    "duration": 182,
    "start_time": "2024-05-07T07:27:45.451Z"
   },
   {
    "duration": 17,
    "start_time": "2024-05-07T07:27:45.634Z"
   },
   {
    "duration": 214,
    "start_time": "2024-05-07T07:27:45.664Z"
   },
   {
    "duration": 6,
    "start_time": "2024-05-07T07:27:45.879Z"
   },
   {
    "duration": 49,
    "start_time": "2024-05-07T07:27:45.886Z"
   },
   {
    "duration": 8,
    "start_time": "2024-05-07T07:27:45.936Z"
   },
   {
    "duration": 15,
    "start_time": "2024-05-07T07:27:45.946Z"
   },
   {
    "duration": 103,
    "start_time": "2024-05-07T07:27:45.963Z"
   },
   {
    "duration": 15,
    "start_time": "2024-05-07T07:27:46.068Z"
   },
   {
    "duration": 16,
    "start_time": "2024-05-07T07:27:46.084Z"
   },
   {
    "duration": 13,
    "start_time": "2024-05-07T07:27:46.101Z"
   },
   {
    "duration": 118,
    "start_time": "2024-05-07T07:27:46.115Z"
   },
   {
    "duration": 15,
    "start_time": "2024-05-07T07:27:46.234Z"
   },
   {
    "duration": 21,
    "start_time": "2024-05-07T07:27:46.250Z"
   },
   {
    "duration": 15,
    "start_time": "2024-05-07T07:27:46.272Z"
   },
   {
    "duration": 110,
    "start_time": "2024-05-07T07:27:46.288Z"
   },
   {
    "duration": 15,
    "start_time": "2024-05-07T07:27:46.399Z"
   },
   {
    "duration": 18,
    "start_time": "2024-05-07T07:27:46.415Z"
   },
   {
    "duration": 17,
    "start_time": "2024-05-07T07:27:46.435Z"
   },
   {
    "duration": 11,
    "start_time": "2024-05-07T07:27:46.453Z"
   },
   {
    "duration": 85,
    "start_time": "2024-05-07T07:27:46.465Z"
   },
   {
    "duration": 29,
    "start_time": "2024-05-07T07:27:46.552Z"
   },
   {
    "duration": 97,
    "start_time": "2024-05-07T07:27:46.582Z"
   },
   {
    "duration": 20,
    "start_time": "2024-05-07T07:27:46.680Z"
   },
   {
    "duration": 102,
    "start_time": "2024-05-07T07:27:46.701Z"
   },
   {
    "duration": 16,
    "start_time": "2024-05-07T07:27:46.804Z"
   },
   {
    "duration": 224,
    "start_time": "2024-05-07T07:27:46.821Z"
   },
   {
    "duration": 23,
    "start_time": "2024-05-07T07:27:47.047Z"
   },
   {
    "duration": 8,
    "start_time": "2024-05-07T07:27:47.072Z"
   },
   {
    "duration": 4,
    "start_time": "2024-05-07T07:27:47.081Z"
   },
   {
    "duration": 14,
    "start_time": "2024-05-07T07:27:47.086Z"
   },
   {
    "duration": 8,
    "start_time": "2024-05-07T07:27:47.101Z"
   },
   {
    "duration": 4,
    "start_time": "2024-05-07T07:27:47.110Z"
   },
   {
    "duration": 93,
    "start_time": "2024-05-07T07:33:55.424Z"
   },
   {
    "duration": 21,
    "start_time": "2024-05-07T07:34:03.506Z"
   },
   {
    "duration": 1107,
    "start_time": "2024-05-07T07:34:12.995Z"
   },
   {
    "duration": 63,
    "start_time": "2024-05-07T07:34:14.104Z"
   },
   {
    "duration": 13,
    "start_time": "2024-05-07T07:34:14.168Z"
   },
   {
    "duration": 23,
    "start_time": "2024-05-07T07:34:14.182Z"
   },
   {
    "duration": 12,
    "start_time": "2024-05-07T07:34:14.206Z"
   },
   {
    "duration": 9,
    "start_time": "2024-05-07T07:34:14.219Z"
   },
   {
    "duration": 7,
    "start_time": "2024-05-07T07:34:14.229Z"
   },
   {
    "duration": 39,
    "start_time": "2024-05-07T07:34:14.237Z"
   },
   {
    "duration": 12,
    "start_time": "2024-05-07T07:34:14.277Z"
   },
   {
    "duration": 16,
    "start_time": "2024-05-07T07:34:14.291Z"
   },
   {
    "duration": 7,
    "start_time": "2024-05-07T07:34:14.309Z"
   },
   {
    "duration": 22,
    "start_time": "2024-05-07T07:34:14.318Z"
   },
   {
    "duration": 25,
    "start_time": "2024-05-07T07:34:14.341Z"
   },
   {
    "duration": 3,
    "start_time": "2024-05-07T07:34:14.367Z"
   },
   {
    "duration": 9,
    "start_time": "2024-05-07T07:34:14.372Z"
   },
   {
    "duration": 114,
    "start_time": "2024-05-07T07:34:14.382Z"
   },
   {
    "duration": 0,
    "start_time": "2024-05-07T07:34:14.499Z"
   },
   {
    "duration": 0,
    "start_time": "2024-05-07T07:34:14.500Z"
   },
   {
    "duration": 0,
    "start_time": "2024-05-07T07:34:14.501Z"
   },
   {
    "duration": 0,
    "start_time": "2024-05-07T07:34:14.502Z"
   },
   {
    "duration": 0,
    "start_time": "2024-05-07T07:34:14.503Z"
   },
   {
    "duration": 0,
    "start_time": "2024-05-07T07:34:14.504Z"
   },
   {
    "duration": 0,
    "start_time": "2024-05-07T07:34:14.505Z"
   },
   {
    "duration": 0,
    "start_time": "2024-05-07T07:34:14.506Z"
   },
   {
    "duration": 0,
    "start_time": "2024-05-07T07:34:14.507Z"
   },
   {
    "duration": 0,
    "start_time": "2024-05-07T07:34:14.508Z"
   },
   {
    "duration": 0,
    "start_time": "2024-05-07T07:34:14.509Z"
   },
   {
    "duration": 0,
    "start_time": "2024-05-07T07:34:14.510Z"
   },
   {
    "duration": 0,
    "start_time": "2024-05-07T07:34:14.511Z"
   },
   {
    "duration": 0,
    "start_time": "2024-05-07T07:34:14.512Z"
   },
   {
    "duration": 1,
    "start_time": "2024-05-07T07:34:14.512Z"
   },
   {
    "duration": 0,
    "start_time": "2024-05-07T07:34:14.513Z"
   },
   {
    "duration": 0,
    "start_time": "2024-05-07T07:34:14.515Z"
   },
   {
    "duration": 0,
    "start_time": "2024-05-07T07:34:14.516Z"
   },
   {
    "duration": 0,
    "start_time": "2024-05-07T07:34:14.517Z"
   },
   {
    "duration": 0,
    "start_time": "2024-05-07T07:34:14.518Z"
   },
   {
    "duration": 0,
    "start_time": "2024-05-07T07:34:14.519Z"
   },
   {
    "duration": 0,
    "start_time": "2024-05-07T07:34:14.519Z"
   },
   {
    "duration": 0,
    "start_time": "2024-05-07T07:34:14.521Z"
   },
   {
    "duration": 0,
    "start_time": "2024-05-07T07:34:14.522Z"
   },
   {
    "duration": 0,
    "start_time": "2024-05-07T07:34:14.523Z"
   },
   {
    "duration": 0,
    "start_time": "2024-05-07T07:34:14.524Z"
   },
   {
    "duration": 0,
    "start_time": "2024-05-07T07:34:14.525Z"
   },
   {
    "duration": 0,
    "start_time": "2024-05-07T07:34:14.526Z"
   },
   {
    "duration": 0,
    "start_time": "2024-05-07T07:34:14.527Z"
   },
   {
    "duration": 0,
    "start_time": "2024-05-07T07:34:14.564Z"
   },
   {
    "duration": 0,
    "start_time": "2024-05-07T07:34:14.566Z"
   },
   {
    "duration": 0,
    "start_time": "2024-05-07T07:34:14.567Z"
   },
   {
    "duration": 0,
    "start_time": "2024-05-07T07:34:14.568Z"
   },
   {
    "duration": 0,
    "start_time": "2024-05-07T07:34:14.569Z"
   },
   {
    "duration": 0,
    "start_time": "2024-05-07T07:34:14.569Z"
   },
   {
    "duration": 0,
    "start_time": "2024-05-07T07:34:14.571Z"
   },
   {
    "duration": 0,
    "start_time": "2024-05-07T07:34:14.572Z"
   },
   {
    "duration": 0,
    "start_time": "2024-05-07T07:34:14.573Z"
   },
   {
    "duration": 0,
    "start_time": "2024-05-07T07:34:14.574Z"
   },
   {
    "duration": 0,
    "start_time": "2024-05-07T07:34:14.575Z"
   },
   {
    "duration": 0,
    "start_time": "2024-05-07T07:34:14.576Z"
   },
   {
    "duration": 0,
    "start_time": "2024-05-07T07:34:14.576Z"
   },
   {
    "duration": 0,
    "start_time": "2024-05-07T07:34:14.578Z"
   },
   {
    "duration": 0,
    "start_time": "2024-05-07T07:34:14.578Z"
   },
   {
    "duration": 0,
    "start_time": "2024-05-07T07:34:14.579Z"
   },
   {
    "duration": 0,
    "start_time": "2024-05-07T07:34:14.580Z"
   },
   {
    "duration": 0,
    "start_time": "2024-05-07T07:34:14.581Z"
   },
   {
    "duration": 0,
    "start_time": "2024-05-07T07:34:14.582Z"
   },
   {
    "duration": 0,
    "start_time": "2024-05-07T07:34:14.583Z"
   },
   {
    "duration": 0,
    "start_time": "2024-05-07T07:34:14.585Z"
   },
   {
    "duration": 0,
    "start_time": "2024-05-07T07:34:14.586Z"
   },
   {
    "duration": 0,
    "start_time": "2024-05-07T07:34:14.587Z"
   },
   {
    "duration": 0,
    "start_time": "2024-05-07T07:34:14.588Z"
   },
   {
    "duration": 5,
    "start_time": "2024-05-07T07:36:25.074Z"
   },
   {
    "duration": 5,
    "start_time": "2024-05-07T07:36:59.240Z"
   },
   {
    "duration": 5,
    "start_time": "2024-05-07T07:37:16.451Z"
   },
   {
    "duration": 12,
    "start_time": "2024-05-07T07:37:17.289Z"
   },
   {
    "duration": 21,
    "start_time": "2024-05-07T07:38:59.224Z"
   },
   {
    "duration": 19,
    "start_time": "2024-05-07T07:40:08.786Z"
   },
   {
    "duration": 19,
    "start_time": "2024-05-07T07:40:19.254Z"
   },
   {
    "duration": 19,
    "start_time": "2024-05-07T07:40:22.747Z"
   },
   {
    "duration": 4,
    "start_time": "2024-05-07T08:12:44.216Z"
   },
   {
    "duration": 10,
    "start_time": "2024-05-07T08:13:32.311Z"
   },
   {
    "duration": 5,
    "start_time": "2024-05-07T08:13:48.903Z"
   },
   {
    "duration": 10,
    "start_time": "2024-05-07T08:16:28.237Z"
   },
   {
    "duration": 4,
    "start_time": "2024-05-07T08:16:28.760Z"
   },
   {
    "duration": 14,
    "start_time": "2024-05-07T08:17:06.264Z"
   },
   {
    "duration": 3,
    "start_time": "2024-05-07T08:17:06.693Z"
   },
   {
    "duration": 32,
    "start_time": "2024-05-07T08:18:42.628Z"
   },
   {
    "duration": 25,
    "start_time": "2024-05-07T08:19:08.035Z"
   },
   {
    "duration": 27,
    "start_time": "2024-05-07T08:19:31.597Z"
   },
   {
    "duration": 18,
    "start_time": "2024-05-07T08:19:41.670Z"
   },
   {
    "duration": 3,
    "start_time": "2024-05-07T08:19:43.637Z"
   },
   {
    "duration": 19,
    "start_time": "2024-05-07T08:19:51.462Z"
   },
   {
    "duration": 22,
    "start_time": "2024-05-07T08:20:11.913Z"
   },
   {
    "duration": 1115,
    "start_time": "2024-05-07T08:20:30.064Z"
   },
   {
    "duration": 65,
    "start_time": "2024-05-07T08:20:31.181Z"
   },
   {
    "duration": 13,
    "start_time": "2024-05-07T08:20:31.248Z"
   },
   {
    "duration": 105,
    "start_time": "2024-05-07T08:20:31.263Z"
   },
   {
    "duration": 27,
    "start_time": "2024-05-07T08:20:31.370Z"
   },
   {
    "duration": 82,
    "start_time": "2024-05-07T08:20:31.399Z"
   },
   {
    "duration": 106,
    "start_time": "2024-05-07T08:20:31.483Z"
   },
   {
    "duration": 50,
    "start_time": "2024-05-07T08:20:31.591Z"
   },
   {
    "duration": 24,
    "start_time": "2024-05-07T08:20:31.642Z"
   },
   {
    "duration": 42,
    "start_time": "2024-05-07T08:20:31.668Z"
   },
   {
    "duration": 21,
    "start_time": "2024-05-07T08:20:31.711Z"
   },
   {
    "duration": 33,
    "start_time": "2024-05-07T08:20:31.733Z"
   },
   {
    "duration": 8,
    "start_time": "2024-05-07T08:20:31.767Z"
   },
   {
    "duration": 19,
    "start_time": "2024-05-07T08:20:31.776Z"
   },
   {
    "duration": 42,
    "start_time": "2024-05-07T08:20:31.796Z"
   },
   {
    "duration": 14,
    "start_time": "2024-05-07T08:20:31.839Z"
   },
   {
    "duration": 27,
    "start_time": "2024-05-07T08:20:31.855Z"
   },
   {
    "duration": 33,
    "start_time": "2024-05-07T08:20:31.884Z"
   },
   {
    "duration": 33,
    "start_time": "2024-05-07T08:20:31.919Z"
   },
   {
    "duration": 5,
    "start_time": "2024-05-07T08:20:31.953Z"
   },
   {
    "duration": 53,
    "start_time": "2024-05-07T08:20:31.959Z"
   },
   {
    "duration": 10,
    "start_time": "2024-05-07T08:20:32.013Z"
   },
   {
    "duration": 42,
    "start_time": "2024-05-07T08:20:32.024Z"
   },
   {
    "duration": 0,
    "start_time": "2024-05-07T08:20:32.069Z"
   },
   {
    "duration": 0,
    "start_time": "2024-05-07T08:20:32.070Z"
   },
   {
    "duration": 0,
    "start_time": "2024-05-07T08:20:32.071Z"
   },
   {
    "duration": 0,
    "start_time": "2024-05-07T08:20:32.072Z"
   },
   {
    "duration": 0,
    "start_time": "2024-05-07T08:20:32.073Z"
   },
   {
    "duration": 0,
    "start_time": "2024-05-07T08:20:32.074Z"
   },
   {
    "duration": 0,
    "start_time": "2024-05-07T08:20:32.075Z"
   },
   {
    "duration": 0,
    "start_time": "2024-05-07T08:20:32.076Z"
   },
   {
    "duration": 0,
    "start_time": "2024-05-07T08:20:32.077Z"
   },
   {
    "duration": 0,
    "start_time": "2024-05-07T08:20:32.077Z"
   },
   {
    "duration": 0,
    "start_time": "2024-05-07T08:20:32.078Z"
   },
   {
    "duration": 0,
    "start_time": "2024-05-07T08:20:32.079Z"
   },
   {
    "duration": 0,
    "start_time": "2024-05-07T08:20:32.080Z"
   },
   {
    "duration": 0,
    "start_time": "2024-05-07T08:20:32.081Z"
   },
   {
    "duration": 0,
    "start_time": "2024-05-07T08:20:32.082Z"
   },
   {
    "duration": 0,
    "start_time": "2024-05-07T08:20:32.083Z"
   },
   {
    "duration": 0,
    "start_time": "2024-05-07T08:20:32.084Z"
   },
   {
    "duration": 0,
    "start_time": "2024-05-07T08:20:32.085Z"
   },
   {
    "duration": 0,
    "start_time": "2024-05-07T08:20:32.086Z"
   },
   {
    "duration": 0,
    "start_time": "2024-05-07T08:20:32.087Z"
   },
   {
    "duration": 0,
    "start_time": "2024-05-07T08:20:32.088Z"
   },
   {
    "duration": 0,
    "start_time": "2024-05-07T08:20:32.089Z"
   },
   {
    "duration": 0,
    "start_time": "2024-05-07T08:20:32.089Z"
   },
   {
    "duration": 0,
    "start_time": "2024-05-07T08:20:32.090Z"
   },
   {
    "duration": 0,
    "start_time": "2024-05-07T08:20:32.091Z"
   },
   {
    "duration": 0,
    "start_time": "2024-05-07T08:20:32.093Z"
   },
   {
    "duration": 0,
    "start_time": "2024-05-07T08:20:32.094Z"
   },
   {
    "duration": 0,
    "start_time": "2024-05-07T08:20:32.095Z"
   },
   {
    "duration": 0,
    "start_time": "2024-05-07T08:20:32.096Z"
   },
   {
    "duration": 0,
    "start_time": "2024-05-07T08:20:32.097Z"
   },
   {
    "duration": 0,
    "start_time": "2024-05-07T08:20:32.098Z"
   },
   {
    "duration": 0,
    "start_time": "2024-05-07T08:20:32.099Z"
   },
   {
    "duration": 1,
    "start_time": "2024-05-07T08:20:32.099Z"
   },
   {
    "duration": 0,
    "start_time": "2024-05-07T08:20:32.100Z"
   },
   {
    "duration": 0,
    "start_time": "2024-05-07T08:20:32.102Z"
   },
   {
    "duration": 0,
    "start_time": "2024-05-07T08:20:32.102Z"
   },
   {
    "duration": 0,
    "start_time": "2024-05-07T08:20:32.103Z"
   },
   {
    "duration": 0,
    "start_time": "2024-05-07T08:20:32.104Z"
   },
   {
    "duration": 0,
    "start_time": "2024-05-07T08:20:32.105Z"
   },
   {
    "duration": 0,
    "start_time": "2024-05-07T08:20:32.106Z"
   },
   {
    "duration": 0,
    "start_time": "2024-05-07T08:20:32.165Z"
   },
   {
    "duration": 0,
    "start_time": "2024-05-07T08:20:32.166Z"
   },
   {
    "duration": 0,
    "start_time": "2024-05-07T08:20:32.167Z"
   },
   {
    "duration": 0,
    "start_time": "2024-05-07T08:20:32.168Z"
   },
   {
    "duration": 0,
    "start_time": "2024-05-07T08:20:32.169Z"
   },
   {
    "duration": 0,
    "start_time": "2024-05-07T08:20:32.169Z"
   },
   {
    "duration": 0,
    "start_time": "2024-05-07T08:20:32.170Z"
   },
   {
    "duration": 0,
    "start_time": "2024-05-07T08:20:32.171Z"
   },
   {
    "duration": 0,
    "start_time": "2024-05-07T08:20:32.172Z"
   },
   {
    "duration": 0,
    "start_time": "2024-05-07T08:20:32.173Z"
   },
   {
    "duration": 0,
    "start_time": "2024-05-07T08:20:32.174Z"
   },
   {
    "duration": 1082,
    "start_time": "2024-05-07T08:21:17.498Z"
   },
   {
    "duration": 65,
    "start_time": "2024-05-07T08:21:18.582Z"
   },
   {
    "duration": 14,
    "start_time": "2024-05-07T08:21:18.648Z"
   },
   {
    "duration": 31,
    "start_time": "2024-05-07T08:21:18.664Z"
   },
   {
    "duration": 13,
    "start_time": "2024-05-07T08:21:18.696Z"
   },
   {
    "duration": 8,
    "start_time": "2024-05-07T08:21:18.710Z"
   },
   {
    "duration": 19,
    "start_time": "2024-05-07T08:21:18.719Z"
   },
   {
    "duration": 14,
    "start_time": "2024-05-07T08:21:18.740Z"
   },
   {
    "duration": 12,
    "start_time": "2024-05-07T08:21:18.755Z"
   },
   {
    "duration": 14,
    "start_time": "2024-05-07T08:21:18.770Z"
   },
   {
    "duration": 10,
    "start_time": "2024-05-07T08:21:18.785Z"
   },
   {
    "duration": 21,
    "start_time": "2024-05-07T08:21:18.796Z"
   },
   {
    "duration": 9,
    "start_time": "2024-05-07T08:21:18.818Z"
   },
   {
    "duration": 4,
    "start_time": "2024-05-07T08:21:18.828Z"
   },
   {
    "duration": 34,
    "start_time": "2024-05-07T08:21:18.833Z"
   },
   {
    "duration": 10,
    "start_time": "2024-05-07T08:21:18.869Z"
   },
   {
    "duration": 11,
    "start_time": "2024-05-07T08:21:18.881Z"
   },
   {
    "duration": 36,
    "start_time": "2024-05-07T08:21:18.893Z"
   },
   {
    "duration": 46,
    "start_time": "2024-05-07T08:21:18.932Z"
   },
   {
    "duration": 4,
    "start_time": "2024-05-07T08:21:18.980Z"
   },
   {
    "duration": 25,
    "start_time": "2024-05-07T08:21:18.986Z"
   },
   {
    "duration": 4,
    "start_time": "2024-05-07T08:21:19.013Z"
   },
   {
    "duration": 39,
    "start_time": "2024-05-07T08:21:19.018Z"
   },
   {
    "duration": 0,
    "start_time": "2024-05-07T08:21:19.060Z"
   },
   {
    "duration": 0,
    "start_time": "2024-05-07T08:21:19.061Z"
   },
   {
    "duration": 0,
    "start_time": "2024-05-07T08:21:19.062Z"
   },
   {
    "duration": 0,
    "start_time": "2024-05-07T08:21:19.063Z"
   },
   {
    "duration": 0,
    "start_time": "2024-05-07T08:21:19.064Z"
   },
   {
    "duration": 0,
    "start_time": "2024-05-07T08:21:19.065Z"
   },
   {
    "duration": 0,
    "start_time": "2024-05-07T08:21:19.066Z"
   },
   {
    "duration": 0,
    "start_time": "2024-05-07T08:21:19.066Z"
   },
   {
    "duration": 1,
    "start_time": "2024-05-07T08:21:19.067Z"
   },
   {
    "duration": 0,
    "start_time": "2024-05-07T08:21:19.068Z"
   },
   {
    "duration": 0,
    "start_time": "2024-05-07T08:21:19.069Z"
   },
   {
    "duration": 0,
    "start_time": "2024-05-07T08:21:19.070Z"
   },
   {
    "duration": 0,
    "start_time": "2024-05-07T08:21:19.071Z"
   },
   {
    "duration": 0,
    "start_time": "2024-05-07T08:21:19.072Z"
   },
   {
    "duration": 0,
    "start_time": "2024-05-07T08:21:19.073Z"
   },
   {
    "duration": 0,
    "start_time": "2024-05-07T08:21:19.073Z"
   },
   {
    "duration": 0,
    "start_time": "2024-05-07T08:21:19.075Z"
   },
   {
    "duration": 0,
    "start_time": "2024-05-07T08:21:19.076Z"
   },
   {
    "duration": 0,
    "start_time": "2024-05-07T08:21:19.076Z"
   },
   {
    "duration": 0,
    "start_time": "2024-05-07T08:21:19.077Z"
   },
   {
    "duration": 0,
    "start_time": "2024-05-07T08:21:19.078Z"
   },
   {
    "duration": 0,
    "start_time": "2024-05-07T08:21:19.079Z"
   },
   {
    "duration": 0,
    "start_time": "2024-05-07T08:21:19.080Z"
   },
   {
    "duration": 0,
    "start_time": "2024-05-07T08:21:19.081Z"
   },
   {
    "duration": 0,
    "start_time": "2024-05-07T08:21:19.082Z"
   },
   {
    "duration": 0,
    "start_time": "2024-05-07T08:21:19.083Z"
   },
   {
    "duration": 0,
    "start_time": "2024-05-07T08:21:19.085Z"
   },
   {
    "duration": 0,
    "start_time": "2024-05-07T08:21:19.086Z"
   },
   {
    "duration": 0,
    "start_time": "2024-05-07T08:21:19.087Z"
   },
   {
    "duration": 0,
    "start_time": "2024-05-07T08:21:19.088Z"
   },
   {
    "duration": 0,
    "start_time": "2024-05-07T08:21:19.089Z"
   },
   {
    "duration": 0,
    "start_time": "2024-05-07T08:21:19.090Z"
   },
   {
    "duration": 0,
    "start_time": "2024-05-07T08:21:19.091Z"
   },
   {
    "duration": 0,
    "start_time": "2024-05-07T08:21:19.092Z"
   },
   {
    "duration": 0,
    "start_time": "2024-05-07T08:21:19.093Z"
   },
   {
    "duration": 0,
    "start_time": "2024-05-07T08:21:19.094Z"
   },
   {
    "duration": 0,
    "start_time": "2024-05-07T08:21:19.095Z"
   },
   {
    "duration": 0,
    "start_time": "2024-05-07T08:21:19.096Z"
   },
   {
    "duration": 0,
    "start_time": "2024-05-07T08:21:19.097Z"
   },
   {
    "duration": 0,
    "start_time": "2024-05-07T08:21:19.098Z"
   },
   {
    "duration": 0,
    "start_time": "2024-05-07T08:21:19.099Z"
   },
   {
    "duration": 0,
    "start_time": "2024-05-07T08:21:19.100Z"
   },
   {
    "duration": 0,
    "start_time": "2024-05-07T08:21:19.101Z"
   },
   {
    "duration": 0,
    "start_time": "2024-05-07T08:21:19.102Z"
   },
   {
    "duration": 0,
    "start_time": "2024-05-07T08:21:19.102Z"
   },
   {
    "duration": 0,
    "start_time": "2024-05-07T08:21:19.103Z"
   },
   {
    "duration": 0,
    "start_time": "2024-05-07T08:21:19.105Z"
   },
   {
    "duration": 0,
    "start_time": "2024-05-07T08:21:19.165Z"
   },
   {
    "duration": 0,
    "start_time": "2024-05-07T08:21:19.166Z"
   },
   {
    "duration": 0,
    "start_time": "2024-05-07T08:21:19.167Z"
   },
   {
    "duration": 0,
    "start_time": "2024-05-07T08:21:19.168Z"
   },
   {
    "duration": 1139,
    "start_time": "2024-05-07T08:23:07.973Z"
   },
   {
    "duration": 66,
    "start_time": "2024-05-07T08:23:09.114Z"
   },
   {
    "duration": 15,
    "start_time": "2024-05-07T08:23:09.182Z"
   },
   {
    "duration": 34,
    "start_time": "2024-05-07T08:23:09.199Z"
   },
   {
    "duration": 13,
    "start_time": "2024-05-07T08:23:09.235Z"
   },
   {
    "duration": 16,
    "start_time": "2024-05-07T08:23:09.249Z"
   },
   {
    "duration": 5,
    "start_time": "2024-05-07T08:23:09.267Z"
   },
   {
    "duration": 16,
    "start_time": "2024-05-07T08:23:09.274Z"
   },
   {
    "duration": 6,
    "start_time": "2024-05-07T08:23:09.291Z"
   },
   {
    "duration": 19,
    "start_time": "2024-05-07T08:23:09.299Z"
   },
   {
    "duration": 14,
    "start_time": "2024-05-07T08:23:09.319Z"
   },
   {
    "duration": 40,
    "start_time": "2024-05-07T08:23:09.335Z"
   },
   {
    "duration": 7,
    "start_time": "2024-05-07T08:23:09.377Z"
   },
   {
    "duration": 4,
    "start_time": "2024-05-07T08:23:09.385Z"
   },
   {
    "duration": 11,
    "start_time": "2024-05-07T08:23:09.390Z"
   },
   {
    "duration": 8,
    "start_time": "2024-05-07T08:23:09.402Z"
   },
   {
    "duration": 5,
    "start_time": "2024-05-07T08:23:09.411Z"
   },
   {
    "duration": 23,
    "start_time": "2024-05-07T08:23:09.418Z"
   },
   {
    "duration": 51,
    "start_time": "2024-05-07T08:23:09.443Z"
   },
   {
    "duration": 4,
    "start_time": "2024-05-07T08:23:09.496Z"
   },
   {
    "duration": 27,
    "start_time": "2024-05-07T08:23:09.501Z"
   },
   {
    "duration": 3,
    "start_time": "2024-05-07T08:23:09.530Z"
   },
   {
    "duration": 35,
    "start_time": "2024-05-07T08:23:09.534Z"
   },
   {
    "duration": 8,
    "start_time": "2024-05-07T08:23:09.571Z"
   },
   {
    "duration": 24,
    "start_time": "2024-05-07T08:23:09.581Z"
   },
   {
    "duration": 215,
    "start_time": "2024-05-07T08:23:09.606Z"
   },
   {
    "duration": 7,
    "start_time": "2024-05-07T08:23:09.823Z"
   },
   {
    "duration": 11,
    "start_time": "2024-05-07T08:23:09.833Z"
   },
   {
    "duration": 29,
    "start_time": "2024-05-07T08:23:09.846Z"
   },
   {
    "duration": 170,
    "start_time": "2024-05-07T08:23:09.877Z"
   },
   {
    "duration": 177,
    "start_time": "2024-05-07T08:23:10.049Z"
   },
   {
    "duration": 168,
    "start_time": "2024-05-07T08:23:10.228Z"
   },
   {
    "duration": 159,
    "start_time": "2024-05-07T08:23:10.397Z"
   },
   {
    "duration": 459,
    "start_time": "2024-05-07T08:23:10.557Z"
   },
   {
    "duration": 8,
    "start_time": "2024-05-07T08:23:11.017Z"
   },
   {
    "duration": 365,
    "start_time": "2024-05-07T08:23:11.027Z"
   },
   {
    "duration": 345,
    "start_time": "2024-05-07T08:23:11.393Z"
   },
   {
    "duration": 25,
    "start_time": "2024-05-07T08:23:11.740Z"
   },
   {
    "duration": 217,
    "start_time": "2024-05-07T08:23:11.766Z"
   },
   {
    "duration": 0,
    "start_time": "2024-05-07T08:23:11.985Z"
   },
   {
    "duration": 0,
    "start_time": "2024-05-07T08:23:11.986Z"
   },
   {
    "duration": 0,
    "start_time": "2024-05-07T08:23:11.987Z"
   },
   {
    "duration": 0,
    "start_time": "2024-05-07T08:23:11.988Z"
   },
   {
    "duration": 0,
    "start_time": "2024-05-07T08:23:11.989Z"
   },
   {
    "duration": 0,
    "start_time": "2024-05-07T08:23:11.990Z"
   },
   {
    "duration": 0,
    "start_time": "2024-05-07T08:23:11.991Z"
   },
   {
    "duration": 0,
    "start_time": "2024-05-07T08:23:11.992Z"
   },
   {
    "duration": 0,
    "start_time": "2024-05-07T08:23:11.993Z"
   },
   {
    "duration": 0,
    "start_time": "2024-05-07T08:23:11.993Z"
   },
   {
    "duration": 0,
    "start_time": "2024-05-07T08:23:11.995Z"
   },
   {
    "duration": 0,
    "start_time": "2024-05-07T08:23:11.996Z"
   },
   {
    "duration": 0,
    "start_time": "2024-05-07T08:23:11.996Z"
   },
   {
    "duration": 0,
    "start_time": "2024-05-07T08:23:11.997Z"
   },
   {
    "duration": 0,
    "start_time": "2024-05-07T08:23:11.998Z"
   },
   {
    "duration": 0,
    "start_time": "2024-05-07T08:23:11.999Z"
   },
   {
    "duration": 0,
    "start_time": "2024-05-07T08:23:12.000Z"
   },
   {
    "duration": 0,
    "start_time": "2024-05-07T08:23:12.001Z"
   },
   {
    "duration": 0,
    "start_time": "2024-05-07T08:23:12.002Z"
   },
   {
    "duration": 0,
    "start_time": "2024-05-07T08:23:12.003Z"
   },
   {
    "duration": 0,
    "start_time": "2024-05-07T08:23:12.004Z"
   },
   {
    "duration": 0,
    "start_time": "2024-05-07T08:23:12.005Z"
   },
   {
    "duration": 1,
    "start_time": "2024-05-07T08:23:12.005Z"
   },
   {
    "duration": 0,
    "start_time": "2024-05-07T08:23:12.006Z"
   },
   {
    "duration": 0,
    "start_time": "2024-05-07T08:23:12.007Z"
   },
   {
    "duration": 0,
    "start_time": "2024-05-07T08:23:12.008Z"
   },
   {
    "duration": 0,
    "start_time": "2024-05-07T08:23:12.009Z"
   },
   {
    "duration": 0,
    "start_time": "2024-05-07T08:23:12.010Z"
   },
   {
    "duration": 0,
    "start_time": "2024-05-07T08:23:12.011Z"
   },
   {
    "duration": 0,
    "start_time": "2024-05-07T08:23:12.012Z"
   },
   {
    "duration": 0,
    "start_time": "2024-05-07T08:23:12.013Z"
   },
   {
    "duration": 0,
    "start_time": "2024-05-07T08:23:12.064Z"
   },
   {
    "duration": 0,
    "start_time": "2024-05-07T08:23:12.066Z"
   },
   {
    "duration": 0,
    "start_time": "2024-05-07T08:23:12.067Z"
   },
   {
    "duration": 0,
    "start_time": "2024-05-07T08:23:12.068Z"
   },
   {
    "duration": 1109,
    "start_time": "2024-05-07T08:23:20.668Z"
   },
   {
    "duration": 65,
    "start_time": "2024-05-07T08:23:21.779Z"
   },
   {
    "duration": 13,
    "start_time": "2024-05-07T08:23:21.845Z"
   },
   {
    "duration": 24,
    "start_time": "2024-05-07T08:23:21.860Z"
   },
   {
    "duration": 12,
    "start_time": "2024-05-07T08:23:21.886Z"
   },
   {
    "duration": 24,
    "start_time": "2024-05-07T08:23:21.900Z"
   },
   {
    "duration": 7,
    "start_time": "2024-05-07T08:23:21.926Z"
   },
   {
    "duration": 18,
    "start_time": "2024-05-07T08:23:21.934Z"
   },
   {
    "duration": 6,
    "start_time": "2024-05-07T08:23:21.954Z"
   },
   {
    "duration": 13,
    "start_time": "2024-05-07T08:23:21.965Z"
   },
   {
    "duration": 10,
    "start_time": "2024-05-07T08:23:21.980Z"
   },
   {
    "duration": 23,
    "start_time": "2024-05-07T08:23:21.991Z"
   },
   {
    "duration": 7,
    "start_time": "2024-05-07T08:23:22.015Z"
   },
   {
    "duration": 4,
    "start_time": "2024-05-07T08:23:22.023Z"
   },
   {
    "duration": 37,
    "start_time": "2024-05-07T08:23:22.028Z"
   },
   {
    "duration": 5,
    "start_time": "2024-05-07T08:23:22.066Z"
   },
   {
    "duration": 6,
    "start_time": "2024-05-07T08:23:22.072Z"
   },
   {
    "duration": 17,
    "start_time": "2024-05-07T08:23:22.080Z"
   },
   {
    "duration": 29,
    "start_time": "2024-05-07T08:23:22.099Z"
   },
   {
    "duration": 3,
    "start_time": "2024-05-07T08:23:22.129Z"
   },
   {
    "duration": 32,
    "start_time": "2024-05-07T08:23:22.133Z"
   },
   {
    "duration": 4,
    "start_time": "2024-05-07T08:23:22.166Z"
   },
   {
    "duration": 17,
    "start_time": "2024-05-07T08:23:22.171Z"
   },
   {
    "duration": 7,
    "start_time": "2024-05-07T08:23:22.189Z"
   },
   {
    "duration": 5,
    "start_time": "2024-05-07T08:23:22.198Z"
   },
   {
    "duration": 222,
    "start_time": "2024-05-07T08:23:22.205Z"
   },
   {
    "duration": 7,
    "start_time": "2024-05-07T08:23:22.429Z"
   },
   {
    "duration": 18,
    "start_time": "2024-05-07T08:23:22.439Z"
   },
   {
    "duration": 14,
    "start_time": "2024-05-07T08:23:22.465Z"
   },
   {
    "duration": 184,
    "start_time": "2024-05-07T08:23:22.481Z"
   },
   {
    "duration": 173,
    "start_time": "2024-05-07T08:23:22.666Z"
   },
   {
    "duration": 162,
    "start_time": "2024-05-07T08:23:22.841Z"
   },
   {
    "duration": 178,
    "start_time": "2024-05-07T08:23:23.004Z"
   },
   {
    "duration": 453,
    "start_time": "2024-05-07T08:23:23.183Z"
   },
   {
    "duration": 9,
    "start_time": "2024-05-07T08:23:23.638Z"
   },
   {
    "duration": 372,
    "start_time": "2024-05-07T08:23:23.649Z"
   },
   {
    "duration": 347,
    "start_time": "2024-05-07T08:23:24.022Z"
   },
   {
    "duration": 15,
    "start_time": "2024-05-07T08:23:24.370Z"
   },
   {
    "duration": 252,
    "start_time": "2024-05-07T08:23:24.387Z"
   },
   {
    "duration": 0,
    "start_time": "2024-05-07T08:23:24.641Z"
   },
   {
    "duration": 0,
    "start_time": "2024-05-07T08:23:24.642Z"
   },
   {
    "duration": 0,
    "start_time": "2024-05-07T08:23:24.643Z"
   },
   {
    "duration": 0,
    "start_time": "2024-05-07T08:23:24.644Z"
   },
   {
    "duration": 0,
    "start_time": "2024-05-07T08:23:24.645Z"
   },
   {
    "duration": 0,
    "start_time": "2024-05-07T08:23:24.646Z"
   },
   {
    "duration": 0,
    "start_time": "2024-05-07T08:23:24.646Z"
   },
   {
    "duration": 0,
    "start_time": "2024-05-07T08:23:24.647Z"
   },
   {
    "duration": 0,
    "start_time": "2024-05-07T08:23:24.648Z"
   },
   {
    "duration": 0,
    "start_time": "2024-05-07T08:23:24.648Z"
   },
   {
    "duration": 0,
    "start_time": "2024-05-07T08:23:24.649Z"
   },
   {
    "duration": 0,
    "start_time": "2024-05-07T08:23:24.649Z"
   },
   {
    "duration": 0,
    "start_time": "2024-05-07T08:23:24.649Z"
   },
   {
    "duration": 0,
    "start_time": "2024-05-07T08:23:24.650Z"
   },
   {
    "duration": 0,
    "start_time": "2024-05-07T08:23:24.665Z"
   },
   {
    "duration": 0,
    "start_time": "2024-05-07T08:23:24.666Z"
   },
   {
    "duration": 0,
    "start_time": "2024-05-07T08:23:24.667Z"
   },
   {
    "duration": 0,
    "start_time": "2024-05-07T08:23:24.668Z"
   },
   {
    "duration": 0,
    "start_time": "2024-05-07T08:23:24.669Z"
   },
   {
    "duration": 0,
    "start_time": "2024-05-07T08:23:24.670Z"
   },
   {
    "duration": 0,
    "start_time": "2024-05-07T08:23:24.671Z"
   },
   {
    "duration": 0,
    "start_time": "2024-05-07T08:23:24.672Z"
   },
   {
    "duration": 0,
    "start_time": "2024-05-07T08:23:24.673Z"
   },
   {
    "duration": 0,
    "start_time": "2024-05-07T08:23:24.674Z"
   },
   {
    "duration": 0,
    "start_time": "2024-05-07T08:23:24.675Z"
   },
   {
    "duration": 0,
    "start_time": "2024-05-07T08:23:24.677Z"
   },
   {
    "duration": 0,
    "start_time": "2024-05-07T08:23:24.678Z"
   },
   {
    "duration": 0,
    "start_time": "2024-05-07T08:23:24.679Z"
   },
   {
    "duration": 0,
    "start_time": "2024-05-07T08:23:24.680Z"
   },
   {
    "duration": 0,
    "start_time": "2024-05-07T08:23:24.681Z"
   },
   {
    "duration": 0,
    "start_time": "2024-05-07T08:23:24.682Z"
   },
   {
    "duration": 0,
    "start_time": "2024-05-07T08:23:24.683Z"
   },
   {
    "duration": 0,
    "start_time": "2024-05-07T08:23:24.684Z"
   },
   {
    "duration": 0,
    "start_time": "2024-05-07T08:23:24.685Z"
   },
   {
    "duration": 0,
    "start_time": "2024-05-07T08:23:24.686Z"
   },
   {
    "duration": 6,
    "start_time": "2024-05-07T08:27:56.594Z"
   },
   {
    "duration": 1102,
    "start_time": "2024-05-07T08:28:04.364Z"
   },
   {
    "duration": 67,
    "start_time": "2024-05-07T08:28:05.468Z"
   },
   {
    "duration": 12,
    "start_time": "2024-05-07T08:28:05.537Z"
   },
   {
    "duration": 26,
    "start_time": "2024-05-07T08:28:05.551Z"
   },
   {
    "duration": 22,
    "start_time": "2024-05-07T08:28:05.579Z"
   },
   {
    "duration": 13,
    "start_time": "2024-05-07T08:28:05.603Z"
   },
   {
    "duration": 12,
    "start_time": "2024-05-07T08:28:05.617Z"
   },
   {
    "duration": 16,
    "start_time": "2024-05-07T08:28:05.630Z"
   },
   {
    "duration": 11,
    "start_time": "2024-05-07T08:28:05.648Z"
   },
   {
    "duration": 38,
    "start_time": "2024-05-07T08:28:05.662Z"
   },
   {
    "duration": 8,
    "start_time": "2024-05-07T08:28:05.701Z"
   },
   {
    "duration": 24,
    "start_time": "2024-05-07T08:28:05.710Z"
   },
   {
    "duration": 7,
    "start_time": "2024-05-07T08:28:05.736Z"
   },
   {
    "duration": 17,
    "start_time": "2024-05-07T08:28:05.745Z"
   },
   {
    "duration": 15,
    "start_time": "2024-05-07T08:28:05.764Z"
   },
   {
    "duration": 21,
    "start_time": "2024-05-07T08:28:05.780Z"
   },
   {
    "duration": 8,
    "start_time": "2024-05-07T08:28:05.803Z"
   },
   {
    "duration": 38,
    "start_time": "2024-05-07T08:28:05.812Z"
   },
   {
    "duration": 37,
    "start_time": "2024-05-07T08:28:05.851Z"
   },
   {
    "duration": 4,
    "start_time": "2024-05-07T08:28:05.889Z"
   },
   {
    "duration": 16,
    "start_time": "2024-05-07T08:28:05.895Z"
   },
   {
    "duration": 5,
    "start_time": "2024-05-07T08:28:05.913Z"
   },
   {
    "duration": 14,
    "start_time": "2024-05-07T08:28:05.920Z"
   },
   {
    "duration": 7,
    "start_time": "2024-05-07T08:28:05.935Z"
   },
   {
    "duration": 22,
    "start_time": "2024-05-07T08:28:05.944Z"
   },
   {
    "duration": 220,
    "start_time": "2024-05-07T08:28:05.967Z"
   },
   {
    "duration": 8,
    "start_time": "2024-05-07T08:28:06.189Z"
   },
   {
    "duration": 8,
    "start_time": "2024-05-07T08:28:06.203Z"
   },
   {
    "duration": 23,
    "start_time": "2024-05-07T08:28:06.212Z"
   },
   {
    "duration": 179,
    "start_time": "2024-05-07T08:28:06.237Z"
   },
   {
    "duration": 190,
    "start_time": "2024-05-07T08:28:06.417Z"
   },
   {
    "duration": 159,
    "start_time": "2024-05-07T08:28:06.609Z"
   },
   {
    "duration": 167,
    "start_time": "2024-05-07T08:28:06.770Z"
   },
   {
    "duration": 410,
    "start_time": "2024-05-07T08:28:06.938Z"
   },
   {
    "duration": 6,
    "start_time": "2024-05-07T08:28:07.349Z"
   },
   {
    "duration": 368,
    "start_time": "2024-05-07T08:28:07.356Z"
   },
   {
    "duration": 361,
    "start_time": "2024-05-07T08:28:07.725Z"
   },
   {
    "duration": 17,
    "start_time": "2024-05-07T08:28:08.087Z"
   },
   {
    "duration": 176,
    "start_time": "2024-05-07T08:28:08.105Z"
   },
   {
    "duration": 178,
    "start_time": "2024-05-07T08:28:08.283Z"
   },
   {
    "duration": 8,
    "start_time": "2024-05-07T08:28:08.462Z"
   },
   {
    "duration": 202,
    "start_time": "2024-05-07T08:28:08.472Z"
   },
   {
    "duration": 19,
    "start_time": "2024-05-07T08:28:08.675Z"
   },
   {
    "duration": 237,
    "start_time": "2024-05-07T08:28:08.695Z"
   },
   {
    "duration": 9,
    "start_time": "2024-05-07T08:28:08.933Z"
   },
   {
    "duration": 32,
    "start_time": "2024-05-07T08:28:08.944Z"
   },
   {
    "duration": 9,
    "start_time": "2024-05-07T08:28:08.977Z"
   },
   {
    "duration": 22,
    "start_time": "2024-05-07T08:28:08.987Z"
   },
   {
    "duration": 99,
    "start_time": "2024-05-07T08:28:09.011Z"
   },
   {
    "duration": 17,
    "start_time": "2024-05-07T08:28:09.111Z"
   },
   {
    "duration": 6,
    "start_time": "2024-05-07T08:28:09.129Z"
   },
   {
    "duration": 34,
    "start_time": "2024-05-07T08:28:09.136Z"
   },
   {
    "duration": 99,
    "start_time": "2024-05-07T08:28:09.171Z"
   },
   {
    "duration": 16,
    "start_time": "2024-05-07T08:28:09.272Z"
   },
   {
    "duration": 10,
    "start_time": "2024-05-07T08:28:09.289Z"
   },
   {
    "duration": 12,
    "start_time": "2024-05-07T08:28:09.301Z"
   },
   {
    "duration": 122,
    "start_time": "2024-05-07T08:28:09.315Z"
   },
   {
    "duration": 15,
    "start_time": "2024-05-07T08:28:09.439Z"
   },
   {
    "duration": 5,
    "start_time": "2024-05-07T08:28:09.465Z"
   },
   {
    "duration": 12,
    "start_time": "2024-05-07T08:28:09.472Z"
   },
   {
    "duration": 13,
    "start_time": "2024-05-07T08:28:09.485Z"
   },
   {
    "duration": 118,
    "start_time": "2024-05-07T08:28:09.499Z"
   },
   {
    "duration": 22,
    "start_time": "2024-05-07T08:28:09.619Z"
   },
   {
    "duration": 101,
    "start_time": "2024-05-07T08:28:09.643Z"
   },
   {
    "duration": 36,
    "start_time": "2024-05-07T08:28:09.746Z"
   },
   {
    "duration": 105,
    "start_time": "2024-05-07T08:28:09.783Z"
   },
   {
    "duration": 17,
    "start_time": "2024-05-07T08:28:09.890Z"
   },
   {
    "duration": 234,
    "start_time": "2024-05-07T08:28:09.908Z"
   },
   {
    "duration": 9,
    "start_time": "2024-05-07T08:28:10.143Z"
   },
   {
    "duration": 16,
    "start_time": "2024-05-07T08:28:10.154Z"
   },
   {
    "duration": 4,
    "start_time": "2024-05-07T08:28:10.171Z"
   },
   {
    "duration": 14,
    "start_time": "2024-05-07T08:28:10.177Z"
   },
   {
    "duration": 8,
    "start_time": "2024-05-07T08:28:10.192Z"
   },
   {
    "duration": 5,
    "start_time": "2024-05-07T08:28:10.201Z"
   },
   {
    "duration": 43,
    "start_time": "2024-05-07T08:32:02.616Z"
   },
   {
    "duration": 94,
    "start_time": "2024-05-07T08:35:24.908Z"
   },
   {
    "duration": 5,
    "start_time": "2024-05-07T08:35:55.910Z"
   },
   {
    "duration": 10,
    "start_time": "2024-05-07T09:05:46.974Z"
   },
   {
    "duration": 13,
    "start_time": "2024-05-07T09:05:58.007Z"
   },
   {
    "duration": 4,
    "start_time": "2024-05-07T09:06:53.752Z"
   },
   {
    "duration": 6,
    "start_time": "2024-05-07T09:06:59.515Z"
   },
   {
    "duration": 4,
    "start_time": "2024-05-07T09:07:29.151Z"
   },
   {
    "duration": 7,
    "start_time": "2024-05-07T09:07:36.329Z"
   },
   {
    "duration": 7,
    "start_time": "2024-05-07T09:08:21.557Z"
   },
   {
    "duration": 10,
    "start_time": "2024-05-07T09:08:36.336Z"
   },
   {
    "duration": 149,
    "start_time": "2024-05-07T09:09:05.961Z"
   },
   {
    "duration": 158,
    "start_time": "2024-05-07T09:09:23.811Z"
   },
   {
    "duration": 150,
    "start_time": "2024-05-07T09:09:57.215Z"
   },
   {
    "duration": 10,
    "start_time": "2024-05-07T09:10:13.678Z"
   },
   {
    "duration": 1343,
    "start_time": "2024-05-07T14:18:50.133Z"
   },
   {
    "duration": 129,
    "start_time": "2024-05-07T14:18:51.478Z"
   },
   {
    "duration": 14,
    "start_time": "2024-05-07T14:18:51.609Z"
   },
   {
    "duration": 25,
    "start_time": "2024-05-07T14:18:51.625Z"
   },
   {
    "duration": 18,
    "start_time": "2024-05-07T14:18:51.651Z"
   },
   {
    "duration": 12,
    "start_time": "2024-05-07T14:18:51.671Z"
   },
   {
    "duration": 16,
    "start_time": "2024-05-07T14:18:51.685Z"
   },
   {
    "duration": 17,
    "start_time": "2024-05-07T14:18:51.703Z"
   },
   {
    "duration": 28,
    "start_time": "2024-05-07T14:18:51.722Z"
   },
   {
    "duration": 19,
    "start_time": "2024-05-07T14:18:51.753Z"
   },
   {
    "duration": 9,
    "start_time": "2024-05-07T14:18:51.774Z"
   },
   {
    "duration": 30,
    "start_time": "2024-05-07T14:18:51.784Z"
   },
   {
    "duration": 10,
    "start_time": "2024-05-07T14:18:51.816Z"
   },
   {
    "duration": 4,
    "start_time": "2024-05-07T14:18:51.827Z"
   },
   {
    "duration": 13,
    "start_time": "2024-05-07T14:18:51.832Z"
   },
   {
    "duration": 20,
    "start_time": "2024-05-07T14:18:51.847Z"
   },
   {
    "duration": 18,
    "start_time": "2024-05-07T14:18:51.869Z"
   },
   {
    "duration": 9,
    "start_time": "2024-05-07T14:18:51.889Z"
   },
   {
    "duration": 24,
    "start_time": "2024-05-07T14:18:51.900Z"
   },
   {
    "duration": 18,
    "start_time": "2024-05-07T14:18:51.925Z"
   },
   {
    "duration": 3,
    "start_time": "2024-05-07T14:18:51.945Z"
   },
   {
    "duration": 19,
    "start_time": "2024-05-07T14:18:51.949Z"
   },
   {
    "duration": 46,
    "start_time": "2024-05-07T14:18:51.969Z"
   },
   {
    "duration": 18,
    "start_time": "2024-05-07T14:18:52.016Z"
   },
   {
    "duration": 13,
    "start_time": "2024-05-07T14:18:52.036Z"
   },
   {
    "duration": 210,
    "start_time": "2024-05-07T14:18:52.051Z"
   },
   {
    "duration": 110,
    "start_time": "2024-05-07T14:18:52.263Z"
   },
   {
    "duration": 0,
    "start_time": "2024-05-07T14:18:52.377Z"
   },
   {
    "duration": 0,
    "start_time": "2024-05-07T14:18:52.378Z"
   },
   {
    "duration": 0,
    "start_time": "2024-05-07T14:18:52.379Z"
   },
   {
    "duration": 0,
    "start_time": "2024-05-07T14:18:52.381Z"
   },
   {
    "duration": 0,
    "start_time": "2024-05-07T14:18:52.382Z"
   },
   {
    "duration": 0,
    "start_time": "2024-05-07T14:18:52.383Z"
   },
   {
    "duration": 0,
    "start_time": "2024-05-07T14:18:52.385Z"
   },
   {
    "duration": 0,
    "start_time": "2024-05-07T14:18:52.386Z"
   },
   {
    "duration": 0,
    "start_time": "2024-05-07T14:18:52.387Z"
   },
   {
    "duration": 0,
    "start_time": "2024-05-07T14:18:52.388Z"
   },
   {
    "duration": 0,
    "start_time": "2024-05-07T14:18:52.390Z"
   },
   {
    "duration": 0,
    "start_time": "2024-05-07T14:18:52.391Z"
   },
   {
    "duration": 0,
    "start_time": "2024-05-07T14:18:52.393Z"
   },
   {
    "duration": 0,
    "start_time": "2024-05-07T14:18:52.394Z"
   },
   {
    "duration": 0,
    "start_time": "2024-05-07T14:18:52.395Z"
   },
   {
    "duration": 0,
    "start_time": "2024-05-07T14:18:52.396Z"
   },
   {
    "duration": 0,
    "start_time": "2024-05-07T14:18:52.397Z"
   },
   {
    "duration": 0,
    "start_time": "2024-05-07T14:18:52.399Z"
   },
   {
    "duration": 1,
    "start_time": "2024-05-07T14:18:52.399Z"
   },
   {
    "duration": 0,
    "start_time": "2024-05-07T14:18:52.400Z"
   },
   {
    "duration": 0,
    "start_time": "2024-05-07T14:18:52.402Z"
   },
   {
    "duration": 0,
    "start_time": "2024-05-07T14:18:52.403Z"
   },
   {
    "duration": 0,
    "start_time": "2024-05-07T14:18:52.404Z"
   },
   {
    "duration": 0,
    "start_time": "2024-05-07T14:18:52.405Z"
   },
   {
    "duration": 0,
    "start_time": "2024-05-07T14:18:52.405Z"
   },
   {
    "duration": 0,
    "start_time": "2024-05-07T14:18:52.406Z"
   },
   {
    "duration": 0,
    "start_time": "2024-05-07T14:18:52.407Z"
   },
   {
    "duration": 0,
    "start_time": "2024-05-07T14:18:52.408Z"
   },
   {
    "duration": 0,
    "start_time": "2024-05-07T14:18:52.409Z"
   },
   {
    "duration": 0,
    "start_time": "2024-05-07T14:18:52.410Z"
   },
   {
    "duration": 0,
    "start_time": "2024-05-07T14:18:52.465Z"
   },
   {
    "duration": 0,
    "start_time": "2024-05-07T14:18:52.467Z"
   },
   {
    "duration": 0,
    "start_time": "2024-05-07T14:18:52.468Z"
   },
   {
    "duration": 0,
    "start_time": "2024-05-07T14:18:52.469Z"
   },
   {
    "duration": 0,
    "start_time": "2024-05-07T14:18:52.470Z"
   },
   {
    "duration": 0,
    "start_time": "2024-05-07T14:18:52.471Z"
   },
   {
    "duration": 0,
    "start_time": "2024-05-07T14:18:52.472Z"
   },
   {
    "duration": 0,
    "start_time": "2024-05-07T14:18:52.474Z"
   },
   {
    "duration": 0,
    "start_time": "2024-05-07T14:18:52.475Z"
   },
   {
    "duration": 0,
    "start_time": "2024-05-07T14:18:52.476Z"
   },
   {
    "duration": 0,
    "start_time": "2024-05-07T14:18:52.477Z"
   },
   {
    "duration": 0,
    "start_time": "2024-05-07T14:18:52.478Z"
   },
   {
    "duration": 0,
    "start_time": "2024-05-07T14:18:52.479Z"
   },
   {
    "duration": 0,
    "start_time": "2024-05-07T14:18:52.480Z"
   },
   {
    "duration": 0,
    "start_time": "2024-05-07T14:18:52.481Z"
   },
   {
    "duration": 0,
    "start_time": "2024-05-07T14:18:52.482Z"
   },
   {
    "duration": 0,
    "start_time": "2024-05-07T14:18:52.483Z"
   },
   {
    "duration": 0,
    "start_time": "2024-05-07T14:18:52.484Z"
   },
   {
    "duration": 407,
    "start_time": "2024-05-07T14:19:56.029Z"
   },
   {
    "duration": 6,
    "start_time": "2024-05-07T14:26:29.132Z"
   },
   {
    "duration": 197,
    "start_time": "2024-05-07T14:27:53.135Z"
   },
   {
    "duration": 404,
    "start_time": "2024-05-07T14:28:21.194Z"
   },
   {
    "duration": 422,
    "start_time": "2024-05-07T14:30:04.143Z"
   },
   {
    "duration": 515,
    "start_time": "2024-05-07T14:30:32.875Z"
   },
   {
    "duration": 414,
    "start_time": "2024-05-07T14:30:44.020Z"
   },
   {
    "duration": 411,
    "start_time": "2024-05-07T14:30:53.099Z"
   },
   {
    "duration": 199,
    "start_time": "2024-05-07T14:31:00.200Z"
   },
   {
    "duration": 209,
    "start_time": "2024-05-07T14:31:09.856Z"
   },
   {
    "duration": 203,
    "start_time": "2024-05-07T14:31:17.507Z"
   },
   {
    "duration": 192,
    "start_time": "2024-05-07T14:31:27.421Z"
   },
   {
    "duration": 249,
    "start_time": "2024-05-07T14:32:45.364Z"
   },
   {
    "duration": 487,
    "start_time": "2024-05-07T14:33:47.904Z"
   },
   {
    "duration": 196,
    "start_time": "2024-05-07T14:33:50.934Z"
   },
   {
    "duration": 7,
    "start_time": "2024-05-07T14:34:19.257Z"
   },
   {
    "duration": 8,
    "start_time": "2024-05-07T14:39:49.680Z"
   },
   {
    "duration": 17,
    "start_time": "2024-05-07T14:39:52.387Z"
   },
   {
    "duration": 160,
    "start_time": "2024-05-07T14:39:54.950Z"
   },
   {
    "duration": 195,
    "start_time": "2024-05-07T14:40:00.206Z"
   },
   {
    "duration": 7,
    "start_time": "2024-05-07T16:16:38.565Z"
   },
   {
    "duration": 4,
    "start_time": "2024-05-07T16:16:45.243Z"
   },
   {
    "duration": 3,
    "start_time": "2024-05-07T16:16:59.706Z"
   },
   {
    "duration": 1114,
    "start_time": "2024-05-07T16:17:09.014Z"
   },
   {
    "duration": 69,
    "start_time": "2024-05-07T16:17:10.130Z"
   },
   {
    "duration": 15,
    "start_time": "2024-05-07T16:17:10.201Z"
   },
   {
    "duration": 28,
    "start_time": "2024-05-07T16:17:10.219Z"
   },
   {
    "duration": 28,
    "start_time": "2024-05-07T16:17:10.249Z"
   },
   {
    "duration": 7,
    "start_time": "2024-05-07T16:17:10.279Z"
   },
   {
    "duration": 11,
    "start_time": "2024-05-07T16:17:10.288Z"
   },
   {
    "duration": 19,
    "start_time": "2024-05-07T16:17:10.301Z"
   },
   {
    "duration": 7,
    "start_time": "2024-05-07T16:17:10.322Z"
   },
   {
    "duration": 35,
    "start_time": "2024-05-07T16:17:10.331Z"
   },
   {
    "duration": 8,
    "start_time": "2024-05-07T16:17:10.368Z"
   },
   {
    "duration": 22,
    "start_time": "2024-05-07T16:17:10.378Z"
   },
   {
    "duration": 8,
    "start_time": "2024-05-07T16:17:10.401Z"
   },
   {
    "duration": 4,
    "start_time": "2024-05-07T16:17:10.410Z"
   },
   {
    "duration": 7,
    "start_time": "2024-05-07T16:17:10.415Z"
   },
   {
    "duration": 6,
    "start_time": "2024-05-07T16:17:10.424Z"
   },
   {
    "duration": 37,
    "start_time": "2024-05-07T16:17:10.431Z"
   },
   {
    "duration": 11,
    "start_time": "2024-05-07T16:17:10.470Z"
   },
   {
    "duration": 21,
    "start_time": "2024-05-07T16:17:10.482Z"
   },
   {
    "duration": 22,
    "start_time": "2024-05-07T16:17:10.505Z"
   },
   {
    "duration": 4,
    "start_time": "2024-05-07T16:17:10.529Z"
   },
   {
    "duration": 15,
    "start_time": "2024-05-07T16:17:10.564Z"
   },
   {
    "duration": 7,
    "start_time": "2024-05-07T16:17:10.581Z"
   },
   {
    "duration": 8,
    "start_time": "2024-05-07T16:17:10.590Z"
   },
   {
    "duration": 16,
    "start_time": "2024-05-07T16:17:10.599Z"
   },
   {
    "duration": 14,
    "start_time": "2024-05-07T16:17:10.616Z"
   },
   {
    "duration": 455,
    "start_time": "2024-05-07T16:17:10.632Z"
   },
   {
    "duration": 222,
    "start_time": "2024-05-07T16:17:11.091Z"
   },
   {
    "duration": 7,
    "start_time": "2024-05-07T16:17:11.314Z"
   },
   {
    "duration": 7,
    "start_time": "2024-05-07T16:17:11.322Z"
   },
   {
    "duration": 17,
    "start_time": "2024-05-07T16:17:11.330Z"
   },
   {
    "duration": 189,
    "start_time": "2024-05-07T16:17:11.365Z"
   },
   {
    "duration": 209,
    "start_time": "2024-05-07T16:17:11.556Z"
   },
   {
    "duration": 176,
    "start_time": "2024-05-07T16:17:11.766Z"
   },
   {
    "duration": 176,
    "start_time": "2024-05-07T16:17:11.944Z"
   },
   {
    "duration": 431,
    "start_time": "2024-05-07T16:17:12.121Z"
   },
   {
    "duration": 6,
    "start_time": "2024-05-07T16:17:12.553Z"
   },
   {
    "duration": 433,
    "start_time": "2024-05-07T16:17:12.561Z"
   },
   {
    "duration": 294,
    "start_time": "2024-05-07T16:17:12.996Z"
   },
   {
    "duration": 18,
    "start_time": "2024-05-07T16:17:13.292Z"
   },
   {
    "duration": 183,
    "start_time": "2024-05-07T16:17:13.312Z"
   },
   {
    "duration": 184,
    "start_time": "2024-05-07T16:17:13.496Z"
   },
   {
    "duration": 9,
    "start_time": "2024-05-07T16:17:13.681Z"
   },
   {
    "duration": 216,
    "start_time": "2024-05-07T16:17:13.691Z"
   },
   {
    "duration": 19,
    "start_time": "2024-05-07T16:17:13.908Z"
   },
   {
    "duration": 229,
    "start_time": "2024-05-07T16:17:13.928Z"
   },
   {
    "duration": 11,
    "start_time": "2024-05-07T16:17:14.158Z"
   },
   {
    "duration": 19,
    "start_time": "2024-05-07T16:17:14.170Z"
   },
   {
    "duration": 8,
    "start_time": "2024-05-07T16:17:14.190Z"
   },
   {
    "duration": 25,
    "start_time": "2024-05-07T16:17:14.200Z"
   },
   {
    "duration": 101,
    "start_time": "2024-05-07T16:17:14.227Z"
   },
   {
    "duration": 17,
    "start_time": "2024-05-07T16:17:14.330Z"
   },
   {
    "duration": 20,
    "start_time": "2024-05-07T16:17:14.349Z"
   },
   {
    "duration": 21,
    "start_time": "2024-05-07T16:17:14.371Z"
   },
   {
    "duration": 105,
    "start_time": "2024-05-07T16:17:14.393Z"
   },
   {
    "duration": 16,
    "start_time": "2024-05-07T16:17:14.499Z"
   },
   {
    "duration": 25,
    "start_time": "2024-05-07T16:17:14.517Z"
   },
   {
    "duration": 25,
    "start_time": "2024-05-07T16:17:14.543Z"
   },
   {
    "duration": 112,
    "start_time": "2024-05-07T16:17:14.569Z"
   },
   {
    "duration": 15,
    "start_time": "2024-05-07T16:17:14.683Z"
   },
   {
    "duration": 23,
    "start_time": "2024-05-07T16:17:14.699Z"
   },
   {
    "duration": 11,
    "start_time": "2024-05-07T16:17:14.723Z"
   },
   {
    "duration": 29,
    "start_time": "2024-05-07T16:17:14.736Z"
   },
   {
    "duration": 105,
    "start_time": "2024-05-07T16:17:14.766Z"
   },
   {
    "duration": 22,
    "start_time": "2024-05-07T16:17:14.872Z"
   },
   {
    "duration": 109,
    "start_time": "2024-05-07T16:17:14.895Z"
   },
   {
    "duration": 22,
    "start_time": "2024-05-07T16:17:15.005Z"
   },
   {
    "duration": 119,
    "start_time": "2024-05-07T16:17:15.029Z"
   },
   {
    "duration": 24,
    "start_time": "2024-05-07T16:17:15.150Z"
   },
   {
    "duration": 338,
    "start_time": "2024-05-07T16:17:15.175Z"
   },
   {
    "duration": 10,
    "start_time": "2024-05-07T16:17:15.515Z"
   },
   {
    "duration": 23,
    "start_time": "2024-05-07T16:17:15.527Z"
   },
   {
    "duration": 23,
    "start_time": "2024-05-07T16:17:15.552Z"
   },
   {
    "duration": 30,
    "start_time": "2024-05-07T16:17:15.576Z"
   },
   {
    "duration": 17,
    "start_time": "2024-05-07T16:17:15.608Z"
   },
   {
    "duration": 16,
    "start_time": "2024-05-07T16:17:15.627Z"
   },
   {
    "duration": 41,
    "start_time": "2024-05-07T16:18:06.657Z"
   },
   {
    "duration": 1124,
    "start_time": "2024-05-07T16:18:11.365Z"
   },
   {
    "duration": 66,
    "start_time": "2024-05-07T16:18:12.491Z"
   },
   {
    "duration": 15,
    "start_time": "2024-05-07T16:18:12.558Z"
   },
   {
    "duration": 28,
    "start_time": "2024-05-07T16:18:12.575Z"
   },
   {
    "duration": 13,
    "start_time": "2024-05-07T16:18:12.605Z"
   },
   {
    "duration": 7,
    "start_time": "2024-05-07T16:18:12.619Z"
   },
   {
    "duration": 7,
    "start_time": "2024-05-07T16:18:12.628Z"
   },
   {
    "duration": 39,
    "start_time": "2024-05-07T16:18:12.636Z"
   },
   {
    "duration": 9,
    "start_time": "2024-05-07T16:18:12.677Z"
   },
   {
    "duration": 15,
    "start_time": "2024-05-07T16:18:12.689Z"
   },
   {
    "duration": 14,
    "start_time": "2024-05-07T16:18:12.706Z"
   },
   {
    "duration": 30,
    "start_time": "2024-05-07T16:18:12.722Z"
   },
   {
    "duration": 19,
    "start_time": "2024-05-07T16:18:12.754Z"
   },
   {
    "duration": 14,
    "start_time": "2024-05-07T16:18:12.774Z"
   },
   {
    "duration": 25,
    "start_time": "2024-05-07T16:18:12.790Z"
   },
   {
    "duration": 7,
    "start_time": "2024-05-07T16:18:12.816Z"
   },
   {
    "duration": 13,
    "start_time": "2024-05-07T16:18:12.824Z"
   },
   {
    "duration": 22,
    "start_time": "2024-05-07T16:18:12.838Z"
   },
   {
    "duration": 35,
    "start_time": "2024-05-07T16:18:12.861Z"
   },
   {
    "duration": 19,
    "start_time": "2024-05-07T16:18:12.898Z"
   },
   {
    "duration": 3,
    "start_time": "2024-05-07T16:18:12.919Z"
   },
   {
    "duration": 13,
    "start_time": "2024-05-07T16:18:12.924Z"
   },
   {
    "duration": 41,
    "start_time": "2024-05-07T16:18:12.938Z"
   },
   {
    "duration": 0,
    "start_time": "2024-05-07T16:18:12.982Z"
   },
   {
    "duration": 0,
    "start_time": "2024-05-07T16:18:12.983Z"
   },
   {
    "duration": 0,
    "start_time": "2024-05-07T16:18:12.984Z"
   },
   {
    "duration": 0,
    "start_time": "2024-05-07T16:18:12.985Z"
   },
   {
    "duration": 0,
    "start_time": "2024-05-07T16:18:12.986Z"
   },
   {
    "duration": 0,
    "start_time": "2024-05-07T16:18:12.987Z"
   },
   {
    "duration": 0,
    "start_time": "2024-05-07T16:18:12.988Z"
   },
   {
    "duration": 0,
    "start_time": "2024-05-07T16:18:12.989Z"
   },
   {
    "duration": 0,
    "start_time": "2024-05-07T16:18:12.990Z"
   },
   {
    "duration": 0,
    "start_time": "2024-05-07T16:18:12.991Z"
   },
   {
    "duration": 0,
    "start_time": "2024-05-07T16:18:12.992Z"
   },
   {
    "duration": 0,
    "start_time": "2024-05-07T16:18:12.993Z"
   },
   {
    "duration": 0,
    "start_time": "2024-05-07T16:18:12.994Z"
   },
   {
    "duration": 0,
    "start_time": "2024-05-07T16:18:12.995Z"
   },
   {
    "duration": 0,
    "start_time": "2024-05-07T16:18:12.996Z"
   },
   {
    "duration": 0,
    "start_time": "2024-05-07T16:18:12.996Z"
   },
   {
    "duration": 0,
    "start_time": "2024-05-07T16:18:12.997Z"
   },
   {
    "duration": 0,
    "start_time": "2024-05-07T16:18:12.998Z"
   },
   {
    "duration": 0,
    "start_time": "2024-05-07T16:18:12.999Z"
   },
   {
    "duration": 0,
    "start_time": "2024-05-07T16:18:13.001Z"
   },
   {
    "duration": 0,
    "start_time": "2024-05-07T16:18:13.001Z"
   },
   {
    "duration": 0,
    "start_time": "2024-05-07T16:18:13.002Z"
   },
   {
    "duration": 0,
    "start_time": "2024-05-07T16:18:13.003Z"
   },
   {
    "duration": 0,
    "start_time": "2024-05-07T16:18:13.004Z"
   },
   {
    "duration": 0,
    "start_time": "2024-05-07T16:18:13.005Z"
   },
   {
    "duration": 0,
    "start_time": "2024-05-07T16:18:13.006Z"
   },
   {
    "duration": 0,
    "start_time": "2024-05-07T16:18:13.007Z"
   },
   {
    "duration": 0,
    "start_time": "2024-05-07T16:18:13.009Z"
   },
   {
    "duration": 0,
    "start_time": "2024-05-07T16:18:13.010Z"
   },
   {
    "duration": 0,
    "start_time": "2024-05-07T16:18:13.011Z"
   },
   {
    "duration": 0,
    "start_time": "2024-05-07T16:18:13.012Z"
   },
   {
    "duration": 0,
    "start_time": "2024-05-07T16:18:13.013Z"
   },
   {
    "duration": 0,
    "start_time": "2024-05-07T16:18:13.014Z"
   },
   {
    "duration": 0,
    "start_time": "2024-05-07T16:18:13.015Z"
   },
   {
    "duration": 0,
    "start_time": "2024-05-07T16:18:13.016Z"
   },
   {
    "duration": 0,
    "start_time": "2024-05-07T16:18:13.017Z"
   },
   {
    "duration": 0,
    "start_time": "2024-05-07T16:18:13.065Z"
   },
   {
    "duration": 0,
    "start_time": "2024-05-07T16:18:13.067Z"
   },
   {
    "duration": 0,
    "start_time": "2024-05-07T16:18:13.068Z"
   },
   {
    "duration": 0,
    "start_time": "2024-05-07T16:18:13.069Z"
   },
   {
    "duration": 0,
    "start_time": "2024-05-07T16:18:13.069Z"
   },
   {
    "duration": 0,
    "start_time": "2024-05-07T16:18:13.070Z"
   },
   {
    "duration": 0,
    "start_time": "2024-05-07T16:18:13.071Z"
   },
   {
    "duration": 0,
    "start_time": "2024-05-07T16:18:13.072Z"
   },
   {
    "duration": 0,
    "start_time": "2024-05-07T16:18:13.073Z"
   },
   {
    "duration": 0,
    "start_time": "2024-05-07T16:18:13.074Z"
   },
   {
    "duration": 0,
    "start_time": "2024-05-07T16:18:13.075Z"
   },
   {
    "duration": 0,
    "start_time": "2024-05-07T16:18:13.076Z"
   },
   {
    "duration": 0,
    "start_time": "2024-05-07T16:18:13.077Z"
   },
   {
    "duration": 0,
    "start_time": "2024-05-07T16:18:13.078Z"
   },
   {
    "duration": 0,
    "start_time": "2024-05-07T16:18:13.079Z"
   },
   {
    "duration": 0,
    "start_time": "2024-05-07T16:18:13.080Z"
   },
   {
    "duration": 0,
    "start_time": "2024-05-07T16:18:13.081Z"
   },
   {
    "duration": 4,
    "start_time": "2024-05-07T16:18:24.273Z"
   },
   {
    "duration": 33,
    "start_time": "2024-05-07T16:19:44.555Z"
   },
   {
    "duration": 167,
    "start_time": "2024-05-07T16:20:52.885Z"
   },
   {
    "duration": 20,
    "start_time": "2024-05-07T16:21:00.436Z"
   },
   {
    "duration": 87,
    "start_time": "2024-05-07T16:21:58.823Z"
   },
   {
    "duration": 36,
    "start_time": "2024-05-07T16:22:30.652Z"
   },
   {
    "duration": 25,
    "start_time": "2024-05-07T16:24:05.706Z"
   },
   {
    "duration": 19,
    "start_time": "2024-05-07T16:24:27.536Z"
   },
   {
    "duration": 11,
    "start_time": "2024-05-07T16:25:06.450Z"
   },
   {
    "duration": 17,
    "start_time": "2024-05-07T16:29:55.091Z"
   },
   {
    "duration": 19,
    "start_time": "2024-05-07T16:29:58.952Z"
   },
   {
    "duration": 9,
    "start_time": "2024-05-07T16:29:59.495Z"
   },
   {
    "duration": 4,
    "start_time": "2024-05-07T16:32:13.250Z"
   },
   {
    "duration": 15,
    "start_time": "2024-05-07T16:32:13.846Z"
   },
   {
    "duration": 8,
    "start_time": "2024-05-07T16:32:31.264Z"
   },
   {
    "duration": 14,
    "start_time": "2024-05-07T16:32:33.576Z"
   },
   {
    "duration": 194,
    "start_time": "2024-05-07T16:32:35.836Z"
   },
   {
    "duration": 11,
    "start_time": "2024-05-07T16:32:46.612Z"
   },
   {
    "duration": 1144,
    "start_time": "2024-05-07T16:33:14.155Z"
   },
   {
    "duration": 67,
    "start_time": "2024-05-07T16:33:15.301Z"
   },
   {
    "duration": 14,
    "start_time": "2024-05-07T16:33:15.372Z"
   },
   {
    "duration": 29,
    "start_time": "2024-05-07T16:33:15.387Z"
   },
   {
    "duration": 13,
    "start_time": "2024-05-07T16:33:15.417Z"
   },
   {
    "duration": 40,
    "start_time": "2024-05-07T16:33:15.431Z"
   },
   {
    "duration": 14,
    "start_time": "2024-05-07T16:33:15.472Z"
   },
   {
    "duration": 17,
    "start_time": "2024-05-07T16:33:15.488Z"
   },
   {
    "duration": 6,
    "start_time": "2024-05-07T16:33:15.508Z"
   },
   {
    "duration": 34,
    "start_time": "2024-05-07T16:33:15.516Z"
   },
   {
    "duration": 15,
    "start_time": "2024-05-07T16:33:15.552Z"
   },
   {
    "duration": 24,
    "start_time": "2024-05-07T16:33:15.569Z"
   },
   {
    "duration": 7,
    "start_time": "2024-05-07T16:33:15.595Z"
   },
   {
    "duration": 11,
    "start_time": "2024-05-07T16:33:15.604Z"
   },
   {
    "duration": 11,
    "start_time": "2024-05-07T16:33:15.616Z"
   },
   {
    "duration": 9,
    "start_time": "2024-05-07T16:33:15.629Z"
   },
   {
    "duration": 10,
    "start_time": "2024-05-07T16:33:15.640Z"
   },
   {
    "duration": 14,
    "start_time": "2024-05-07T16:33:15.665Z"
   },
   {
    "duration": 22,
    "start_time": "2024-05-07T16:33:15.680Z"
   },
   {
    "duration": 20,
    "start_time": "2024-05-07T16:33:15.704Z"
   },
   {
    "duration": 4,
    "start_time": "2024-05-07T16:33:15.725Z"
   },
   {
    "duration": 18,
    "start_time": "2024-05-07T16:33:15.730Z"
   },
   {
    "duration": 31,
    "start_time": "2024-05-07T16:33:15.750Z"
   },
   {
    "duration": 9,
    "start_time": "2024-05-07T16:33:15.783Z"
   },
   {
    "duration": 9,
    "start_time": "2024-05-07T16:33:15.793Z"
   },
   {
    "duration": 28,
    "start_time": "2024-05-07T16:33:15.804Z"
   },
   {
    "duration": 28,
    "start_time": "2024-05-07T16:33:15.838Z"
   },
   {
    "duration": 461,
    "start_time": "2024-05-07T16:33:15.868Z"
   },
   {
    "duration": 237,
    "start_time": "2024-05-07T16:33:16.330Z"
   },
   {
    "duration": 6,
    "start_time": "2024-05-07T16:33:16.569Z"
   },
   {
    "duration": 11,
    "start_time": "2024-05-07T16:33:16.576Z"
   },
   {
    "duration": 16,
    "start_time": "2024-05-07T16:33:16.588Z"
   },
   {
    "duration": 200,
    "start_time": "2024-05-07T16:33:16.605Z"
   },
   {
    "duration": 194,
    "start_time": "2024-05-07T16:33:16.807Z"
   },
   {
    "duration": 175,
    "start_time": "2024-05-07T16:33:17.002Z"
   },
   {
    "duration": 165,
    "start_time": "2024-05-07T16:33:17.179Z"
   },
   {
    "duration": 446,
    "start_time": "2024-05-07T16:33:17.346Z"
   },
   {
    "duration": 8,
    "start_time": "2024-05-07T16:33:17.793Z"
   },
   {
    "duration": 432,
    "start_time": "2024-05-07T16:33:17.802Z"
   },
   {
    "duration": 274,
    "start_time": "2024-05-07T16:33:18.235Z"
   },
   {
    "duration": 19,
    "start_time": "2024-05-07T16:33:18.510Z"
   },
   {
    "duration": 180,
    "start_time": "2024-05-07T16:33:18.531Z"
   },
   {
    "duration": 191,
    "start_time": "2024-05-07T16:33:18.713Z"
   },
   {
    "duration": 8,
    "start_time": "2024-05-07T16:33:18.906Z"
   },
   {
    "duration": 207,
    "start_time": "2024-05-07T16:33:18.915Z"
   },
   {
    "duration": 19,
    "start_time": "2024-05-07T16:33:19.123Z"
   },
   {
    "duration": 242,
    "start_time": "2024-05-07T16:33:19.144Z"
   },
   {
    "duration": 7,
    "start_time": "2024-05-07T16:33:19.387Z"
   },
   {
    "duration": 23,
    "start_time": "2024-05-07T16:33:19.396Z"
   },
   {
    "duration": 12,
    "start_time": "2024-05-07T16:33:19.421Z"
   },
   {
    "duration": 41,
    "start_time": "2024-05-07T16:33:19.434Z"
   },
   {
    "duration": 108,
    "start_time": "2024-05-07T16:33:19.477Z"
   },
   {
    "duration": 17,
    "start_time": "2024-05-07T16:33:19.587Z"
   },
   {
    "duration": 6,
    "start_time": "2024-05-07T16:33:19.605Z"
   },
   {
    "duration": 50,
    "start_time": "2024-05-07T16:33:19.612Z"
   },
   {
    "duration": 96,
    "start_time": "2024-05-07T16:33:19.663Z"
   },
   {
    "duration": 21,
    "start_time": "2024-05-07T16:33:19.761Z"
   },
   {
    "duration": 24,
    "start_time": "2024-05-07T16:33:19.784Z"
   },
   {
    "duration": 34,
    "start_time": "2024-05-07T16:33:19.809Z"
   },
   {
    "duration": 112,
    "start_time": "2024-05-07T16:33:19.844Z"
   },
   {
    "duration": 17,
    "start_time": "2024-05-07T16:33:19.958Z"
   },
   {
    "duration": 24,
    "start_time": "2024-05-07T16:33:19.976Z"
   },
   {
    "duration": 30,
    "start_time": "2024-05-07T16:33:20.001Z"
   },
   {
    "duration": 25,
    "start_time": "2024-05-07T16:33:20.033Z"
   },
   {
    "duration": 106,
    "start_time": "2024-05-07T16:33:20.060Z"
   },
   {
    "duration": 22,
    "start_time": "2024-05-07T16:33:20.168Z"
   },
   {
    "duration": 104,
    "start_time": "2024-05-07T16:33:20.191Z"
   },
   {
    "duration": 22,
    "start_time": "2024-05-07T16:33:20.296Z"
   },
   {
    "duration": 111,
    "start_time": "2024-05-07T16:33:20.319Z"
   },
   {
    "duration": 17,
    "start_time": "2024-05-07T16:33:20.431Z"
   },
   {
    "duration": 338,
    "start_time": "2024-05-07T16:33:20.449Z"
   },
   {
    "duration": 10,
    "start_time": "2024-05-07T16:33:20.789Z"
   },
   {
    "duration": 9,
    "start_time": "2024-05-07T16:33:20.801Z"
   },
   {
    "duration": 4,
    "start_time": "2024-05-07T16:33:20.812Z"
   },
   {
    "duration": 22,
    "start_time": "2024-05-07T16:33:20.817Z"
   },
   {
    "duration": 29,
    "start_time": "2024-05-07T16:33:20.840Z"
   },
   {
    "duration": 14,
    "start_time": "2024-05-07T16:33:20.870Z"
   },
   {
    "duration": 11,
    "start_time": "2024-05-07T16:44:34.449Z"
   },
   {
    "duration": 97,
    "start_time": "2024-05-07T16:44:35.888Z"
   },
   {
    "duration": 11,
    "start_time": "2024-05-07T16:44:47.725Z"
   },
   {
    "duration": 1086,
    "start_time": "2024-05-07T16:45:02.408Z"
   },
   {
    "duration": 67,
    "start_time": "2024-05-07T16:45:03.495Z"
   },
   {
    "duration": 14,
    "start_time": "2024-05-07T16:45:03.564Z"
   },
   {
    "duration": 33,
    "start_time": "2024-05-07T16:45:03.580Z"
   },
   {
    "duration": 13,
    "start_time": "2024-05-07T16:45:03.615Z"
   },
   {
    "duration": 15,
    "start_time": "2024-05-07T16:45:03.630Z"
   },
   {
    "duration": 20,
    "start_time": "2024-05-07T16:45:03.647Z"
   },
   {
    "duration": 16,
    "start_time": "2024-05-07T16:45:03.669Z"
   },
   {
    "duration": 15,
    "start_time": "2024-05-07T16:45:03.686Z"
   },
   {
    "duration": 17,
    "start_time": "2024-05-07T16:45:03.704Z"
   },
   {
    "duration": 15,
    "start_time": "2024-05-07T16:45:03.723Z"
   },
   {
    "duration": 30,
    "start_time": "2024-05-07T16:45:03.739Z"
   },
   {
    "duration": 9,
    "start_time": "2024-05-07T16:45:03.771Z"
   },
   {
    "duration": 5,
    "start_time": "2024-05-07T16:45:03.781Z"
   },
   {
    "duration": 13,
    "start_time": "2024-05-07T16:45:03.787Z"
   },
   {
    "duration": 6,
    "start_time": "2024-05-07T16:45:03.802Z"
   },
   {
    "duration": 9,
    "start_time": "2024-05-07T16:45:03.810Z"
   },
   {
    "duration": 6,
    "start_time": "2024-05-07T16:45:03.821Z"
   },
   {
    "duration": 62,
    "start_time": "2024-05-07T16:45:03.829Z"
   },
   {
    "duration": 20,
    "start_time": "2024-05-07T16:45:03.892Z"
   },
   {
    "duration": 4,
    "start_time": "2024-05-07T16:45:03.913Z"
   },
   {
    "duration": 14,
    "start_time": "2024-05-07T16:45:03.919Z"
   },
   {
    "duration": 37,
    "start_time": "2024-05-07T16:45:03.934Z"
   },
   {
    "duration": 9,
    "start_time": "2024-05-07T16:45:03.973Z"
   },
   {
    "duration": 16,
    "start_time": "2024-05-07T16:45:03.983Z"
   },
   {
    "duration": 30,
    "start_time": "2024-05-07T16:45:04.000Z"
   },
   {
    "duration": 12,
    "start_time": "2024-05-07T16:45:04.032Z"
   },
   {
    "duration": 419,
    "start_time": "2024-05-07T16:45:04.048Z"
   },
   {
    "duration": 215,
    "start_time": "2024-05-07T16:45:04.469Z"
   },
   {
    "duration": 7,
    "start_time": "2024-05-07T16:45:04.685Z"
   },
   {
    "duration": 8,
    "start_time": "2024-05-07T16:45:04.693Z"
   },
   {
    "duration": 15,
    "start_time": "2024-05-07T16:45:04.702Z"
   },
   {
    "duration": 11,
    "start_time": "2024-05-07T16:45:04.718Z"
   },
   {
    "duration": 243,
    "start_time": "2024-05-07T16:45:04.730Z"
   },
   {
    "duration": 200,
    "start_time": "2024-05-07T16:45:04.975Z"
   },
   {
    "duration": 183,
    "start_time": "2024-05-07T16:45:05.176Z"
   },
   {
    "duration": 187,
    "start_time": "2024-05-07T16:45:05.361Z"
   },
   {
    "duration": 458,
    "start_time": "2024-05-07T16:45:05.550Z"
   },
   {
    "duration": 8,
    "start_time": "2024-05-07T16:45:06.010Z"
   },
   {
    "duration": 419,
    "start_time": "2024-05-07T16:45:06.020Z"
   },
   {
    "duration": 302,
    "start_time": "2024-05-07T16:45:06.441Z"
   },
   {
    "duration": 23,
    "start_time": "2024-05-07T16:45:06.745Z"
   },
   {
    "duration": 179,
    "start_time": "2024-05-07T16:45:06.770Z"
   },
   {
    "duration": 180,
    "start_time": "2024-05-07T16:45:06.950Z"
   },
   {
    "duration": 6,
    "start_time": "2024-05-07T16:45:07.132Z"
   },
   {
    "duration": 193,
    "start_time": "2024-05-07T16:45:07.140Z"
   },
   {
    "duration": 18,
    "start_time": "2024-05-07T16:45:07.335Z"
   },
   {
    "duration": 219,
    "start_time": "2024-05-07T16:45:07.365Z"
   },
   {
    "duration": 7,
    "start_time": "2024-05-07T16:45:07.585Z"
   },
   {
    "duration": 16,
    "start_time": "2024-05-07T16:45:07.593Z"
   },
   {
    "duration": 8,
    "start_time": "2024-05-07T16:45:07.611Z"
   },
   {
    "duration": 15,
    "start_time": "2024-05-07T16:45:07.620Z"
   },
   {
    "duration": 115,
    "start_time": "2024-05-07T16:45:07.636Z"
   },
   {
    "duration": 26,
    "start_time": "2024-05-07T16:45:07.753Z"
   },
   {
    "duration": 6,
    "start_time": "2024-05-07T16:45:07.780Z"
   },
   {
    "duration": 14,
    "start_time": "2024-05-07T16:45:07.787Z"
   },
   {
    "duration": 115,
    "start_time": "2024-05-07T16:45:07.803Z"
   },
   {
    "duration": 17,
    "start_time": "2024-05-07T16:45:07.919Z"
   },
   {
    "duration": 28,
    "start_time": "2024-05-07T16:45:07.937Z"
   },
   {
    "duration": 13,
    "start_time": "2024-05-07T16:45:07.967Z"
   },
   {
    "duration": 102,
    "start_time": "2024-05-07T16:45:07.981Z"
   },
   {
    "duration": 16,
    "start_time": "2024-05-07T16:45:08.085Z"
   },
   {
    "duration": 6,
    "start_time": "2024-05-07T16:45:08.102Z"
   },
   {
    "duration": 29,
    "start_time": "2024-05-07T16:45:08.109Z"
   },
   {
    "duration": 15,
    "start_time": "2024-05-07T16:45:08.139Z"
   },
   {
    "duration": 117,
    "start_time": "2024-05-07T16:45:08.156Z"
   },
   {
    "duration": 22,
    "start_time": "2024-05-07T16:45:08.275Z"
   },
   {
    "duration": 130,
    "start_time": "2024-05-07T16:45:08.298Z"
   },
   {
    "duration": 22,
    "start_time": "2024-05-07T16:45:08.430Z"
   },
   {
    "duration": 113,
    "start_time": "2024-05-07T16:45:08.454Z"
   },
   {
    "duration": 19,
    "start_time": "2024-05-07T16:45:08.568Z"
   },
   {
    "duration": 353,
    "start_time": "2024-05-07T16:45:08.589Z"
   },
   {
    "duration": 24,
    "start_time": "2024-05-07T16:45:08.944Z"
   },
   {
    "duration": 12,
    "start_time": "2024-05-07T16:45:08.970Z"
   },
   {
    "duration": 9,
    "start_time": "2024-05-07T16:45:08.985Z"
   },
   {
    "duration": 29,
    "start_time": "2024-05-07T16:45:08.996Z"
   },
   {
    "duration": 18,
    "start_time": "2024-05-07T16:45:09.026Z"
   },
   {
    "duration": 4,
    "start_time": "2024-05-07T16:45:09.046Z"
   },
   {
    "duration": 163,
    "start_time": "2024-05-07T16:47:10.146Z"
   },
   {
    "duration": 102,
    "start_time": "2024-05-07T16:48:10.427Z"
   },
   {
    "duration": 14,
    "start_time": "2024-05-07T16:48:15.544Z"
   },
   {
    "duration": 1116,
    "start_time": "2024-05-07T16:48:31.876Z"
   },
   {
    "duration": 67,
    "start_time": "2024-05-07T16:48:32.994Z"
   },
   {
    "duration": 14,
    "start_time": "2024-05-07T16:48:33.062Z"
   },
   {
    "duration": 25,
    "start_time": "2024-05-07T16:48:33.078Z"
   },
   {
    "duration": 12,
    "start_time": "2024-05-07T16:48:33.105Z"
   },
   {
    "duration": 6,
    "start_time": "2024-05-07T16:48:33.119Z"
   },
   {
    "duration": 38,
    "start_time": "2024-05-07T16:48:33.127Z"
   },
   {
    "duration": 24,
    "start_time": "2024-05-07T16:48:33.167Z"
   },
   {
    "duration": 9,
    "start_time": "2024-05-07T16:48:33.193Z"
   },
   {
    "duration": 14,
    "start_time": "2024-05-07T16:48:33.204Z"
   },
   {
    "duration": 9,
    "start_time": "2024-05-07T16:48:33.219Z"
   },
   {
    "duration": 48,
    "start_time": "2024-05-07T16:48:33.229Z"
   },
   {
    "duration": 8,
    "start_time": "2024-05-07T16:48:33.278Z"
   },
   {
    "duration": 9,
    "start_time": "2024-05-07T16:48:33.287Z"
   },
   {
    "duration": 13,
    "start_time": "2024-05-07T16:48:33.298Z"
   },
   {
    "duration": 6,
    "start_time": "2024-05-07T16:48:33.312Z"
   },
   {
    "duration": 5,
    "start_time": "2024-05-07T16:48:33.319Z"
   },
   {
    "duration": 5,
    "start_time": "2024-05-07T16:48:33.326Z"
   },
   {
    "duration": 51,
    "start_time": "2024-05-07T16:48:33.332Z"
   },
   {
    "duration": 29,
    "start_time": "2024-05-07T16:48:33.384Z"
   },
   {
    "duration": 4,
    "start_time": "2024-05-07T16:48:33.415Z"
   },
   {
    "duration": 17,
    "start_time": "2024-05-07T16:48:33.420Z"
   },
   {
    "duration": 42,
    "start_time": "2024-05-07T16:48:33.439Z"
   },
   {
    "duration": 9,
    "start_time": "2024-05-07T16:48:33.482Z"
   },
   {
    "duration": 4,
    "start_time": "2024-05-07T16:48:33.492Z"
   },
   {
    "duration": 14,
    "start_time": "2024-05-07T16:48:33.497Z"
   },
   {
    "duration": 11,
    "start_time": "2024-05-07T16:48:33.512Z"
   },
   {
    "duration": 455,
    "start_time": "2024-05-07T16:48:33.527Z"
   },
   {
    "duration": 213,
    "start_time": "2024-05-07T16:48:33.984Z"
   },
   {
    "duration": 6,
    "start_time": "2024-05-07T16:48:34.199Z"
   },
   {
    "duration": 8,
    "start_time": "2024-05-07T16:48:34.207Z"
   },
   {
    "duration": 20,
    "start_time": "2024-05-07T16:48:34.216Z"
   },
   {
    "duration": 28,
    "start_time": "2024-05-07T16:48:34.238Z"
   },
   {
    "duration": 214,
    "start_time": "2024-05-07T16:48:34.267Z"
   },
   {
    "duration": 233,
    "start_time": "2024-05-07T16:48:34.483Z"
   },
   {
    "duration": 54,
    "start_time": "2024-05-07T16:48:34.717Z"
   },
   {
    "duration": 0,
    "start_time": "2024-05-07T16:48:34.772Z"
   },
   {
    "duration": 1,
    "start_time": "2024-05-07T16:48:34.773Z"
   },
   {
    "duration": 0,
    "start_time": "2024-05-07T16:48:34.774Z"
   },
   {
    "duration": 0,
    "start_time": "2024-05-07T16:48:34.775Z"
   },
   {
    "duration": 0,
    "start_time": "2024-05-07T16:48:34.776Z"
   },
   {
    "duration": 0,
    "start_time": "2024-05-07T16:48:34.777Z"
   },
   {
    "duration": 0,
    "start_time": "2024-05-07T16:48:34.778Z"
   },
   {
    "duration": 0,
    "start_time": "2024-05-07T16:48:34.780Z"
   },
   {
    "duration": 0,
    "start_time": "2024-05-07T16:48:34.782Z"
   },
   {
    "duration": 0,
    "start_time": "2024-05-07T16:48:34.783Z"
   },
   {
    "duration": 0,
    "start_time": "2024-05-07T16:48:34.784Z"
   },
   {
    "duration": 0,
    "start_time": "2024-05-07T16:48:34.786Z"
   },
   {
    "duration": 0,
    "start_time": "2024-05-07T16:48:34.787Z"
   },
   {
    "duration": 0,
    "start_time": "2024-05-07T16:48:34.788Z"
   },
   {
    "duration": 0,
    "start_time": "2024-05-07T16:48:34.790Z"
   },
   {
    "duration": 0,
    "start_time": "2024-05-07T16:48:34.791Z"
   },
   {
    "duration": 0,
    "start_time": "2024-05-07T16:48:34.792Z"
   },
   {
    "duration": 0,
    "start_time": "2024-05-07T16:48:34.793Z"
   },
   {
    "duration": 0,
    "start_time": "2024-05-07T16:48:34.794Z"
   },
   {
    "duration": 0,
    "start_time": "2024-05-07T16:48:34.795Z"
   },
   {
    "duration": 0,
    "start_time": "2024-05-07T16:48:34.796Z"
   },
   {
    "duration": 0,
    "start_time": "2024-05-07T16:48:34.797Z"
   },
   {
    "duration": 0,
    "start_time": "2024-05-07T16:48:34.798Z"
   },
   {
    "duration": 0,
    "start_time": "2024-05-07T16:48:34.799Z"
   },
   {
    "duration": 0,
    "start_time": "2024-05-07T16:48:34.800Z"
   },
   {
    "duration": 0,
    "start_time": "2024-05-07T16:48:34.801Z"
   },
   {
    "duration": 0,
    "start_time": "2024-05-07T16:48:34.803Z"
   },
   {
    "duration": 0,
    "start_time": "2024-05-07T16:48:34.804Z"
   },
   {
    "duration": 0,
    "start_time": "2024-05-07T16:48:34.805Z"
   },
   {
    "duration": 0,
    "start_time": "2024-05-07T16:48:34.806Z"
   },
   {
    "duration": 0,
    "start_time": "2024-05-07T16:48:34.807Z"
   },
   {
    "duration": 0,
    "start_time": "2024-05-07T16:48:34.808Z"
   },
   {
    "duration": 0,
    "start_time": "2024-05-07T16:48:34.809Z"
   },
   {
    "duration": 0,
    "start_time": "2024-05-07T16:48:34.811Z"
   },
   {
    "duration": 0,
    "start_time": "2024-05-07T16:48:34.865Z"
   },
   {
    "duration": 0,
    "start_time": "2024-05-07T16:48:34.866Z"
   },
   {
    "duration": 0,
    "start_time": "2024-05-07T16:48:34.867Z"
   },
   {
    "duration": 0,
    "start_time": "2024-05-07T16:48:34.868Z"
   },
   {
    "duration": 0,
    "start_time": "2024-05-07T16:48:34.869Z"
   },
   {
    "duration": 0,
    "start_time": "2024-05-07T16:48:34.871Z"
   },
   {
    "duration": 0,
    "start_time": "2024-05-07T16:48:34.872Z"
   },
   {
    "duration": 0,
    "start_time": "2024-05-07T16:48:34.873Z"
   },
   {
    "duration": 0,
    "start_time": "2024-05-07T16:48:34.874Z"
   },
   {
    "duration": 206,
    "start_time": "2024-05-07T16:49:52.271Z"
   },
   {
    "duration": 8,
    "start_time": "2024-05-07T16:51:47.362Z"
   },
   {
    "duration": 236,
    "start_time": "2024-05-07T16:51:58.766Z"
   },
   {
    "duration": 92,
    "start_time": "2024-05-07T16:52:15.986Z"
   },
   {
    "duration": 196,
    "start_time": "2024-05-07T16:52:16.534Z"
   },
   {
    "duration": 13,
    "start_time": "2024-05-07T16:53:10.772Z"
   },
   {
    "duration": 7,
    "start_time": "2024-05-07T16:53:57.389Z"
   },
   {
    "duration": 9,
    "start_time": "2024-05-07T16:53:58.595Z"
   },
   {
    "duration": 1082,
    "start_time": "2024-05-07T16:54:11.805Z"
   },
   {
    "duration": 65,
    "start_time": "2024-05-07T16:54:12.889Z"
   },
   {
    "duration": 14,
    "start_time": "2024-05-07T16:54:12.955Z"
   },
   {
    "duration": 34,
    "start_time": "2024-05-07T16:54:12.970Z"
   },
   {
    "duration": 13,
    "start_time": "2024-05-07T16:54:13.005Z"
   },
   {
    "duration": 17,
    "start_time": "2024-05-07T16:54:13.019Z"
   },
   {
    "duration": 7,
    "start_time": "2024-05-07T16:54:13.037Z"
   },
   {
    "duration": 20,
    "start_time": "2024-05-07T16:54:13.045Z"
   },
   {
    "duration": 9,
    "start_time": "2024-05-07T16:54:13.067Z"
   },
   {
    "duration": 44,
    "start_time": "2024-05-07T16:54:13.078Z"
   },
   {
    "duration": 19,
    "start_time": "2024-05-07T16:54:13.124Z"
   },
   {
    "duration": 22,
    "start_time": "2024-05-07T16:54:13.145Z"
   },
   {
    "duration": 7,
    "start_time": "2024-05-07T16:54:13.169Z"
   },
   {
    "duration": 3,
    "start_time": "2024-05-07T16:54:13.177Z"
   },
   {
    "duration": 21,
    "start_time": "2024-05-07T16:54:13.182Z"
   },
   {
    "duration": 4,
    "start_time": "2024-05-07T16:54:13.205Z"
   },
   {
    "duration": 16,
    "start_time": "2024-05-07T16:54:13.210Z"
   },
   {
    "duration": 5,
    "start_time": "2024-05-07T16:54:13.228Z"
   },
   {
    "duration": 18,
    "start_time": "2024-05-07T16:54:13.234Z"
   },
   {
    "duration": 30,
    "start_time": "2024-05-07T16:54:13.253Z"
   },
   {
    "duration": 3,
    "start_time": "2024-05-07T16:54:13.285Z"
   },
   {
    "duration": 15,
    "start_time": "2024-05-07T16:54:13.290Z"
   },
   {
    "duration": 40,
    "start_time": "2024-05-07T16:54:13.306Z"
   },
   {
    "duration": 10,
    "start_time": "2024-05-07T16:54:13.347Z"
   },
   {
    "duration": 3,
    "start_time": "2024-05-07T16:54:13.358Z"
   },
   {
    "duration": 15,
    "start_time": "2024-05-07T16:54:13.364Z"
   },
   {
    "duration": 22,
    "start_time": "2024-05-07T16:54:13.380Z"
   },
   {
    "duration": 439,
    "start_time": "2024-05-07T16:54:13.407Z"
   },
   {
    "duration": 252,
    "start_time": "2024-05-07T16:54:13.848Z"
   },
   {
    "duration": 7,
    "start_time": "2024-05-07T16:54:14.101Z"
   },
   {
    "duration": 8,
    "start_time": "2024-05-07T16:54:14.109Z"
   },
   {
    "duration": 16,
    "start_time": "2024-05-07T16:54:14.118Z"
   },
   {
    "duration": 37,
    "start_time": "2024-05-07T16:54:14.135Z"
   },
   {
    "duration": 226,
    "start_time": "2024-05-07T16:54:14.174Z"
   },
   {
    "duration": 217,
    "start_time": "2024-05-07T16:54:14.401Z"
   },
   {
    "duration": 7,
    "start_time": "2024-05-07T16:54:14.619Z"
   },
   {
    "duration": 14,
    "start_time": "2024-05-07T16:54:14.627Z"
   },
   {
    "duration": 57,
    "start_time": "2024-05-07T16:54:14.642Z"
   },
   {
    "duration": 0,
    "start_time": "2024-05-07T16:54:14.700Z"
   },
   {
    "duration": 0,
    "start_time": "2024-05-07T16:54:14.701Z"
   },
   {
    "duration": 0,
    "start_time": "2024-05-07T16:54:14.703Z"
   },
   {
    "duration": 0,
    "start_time": "2024-05-07T16:54:14.704Z"
   },
   {
    "duration": 0,
    "start_time": "2024-05-07T16:54:14.705Z"
   },
   {
    "duration": 0,
    "start_time": "2024-05-07T16:54:14.706Z"
   },
   {
    "duration": 0,
    "start_time": "2024-05-07T16:54:14.708Z"
   },
   {
    "duration": 0,
    "start_time": "2024-05-07T16:54:14.709Z"
   },
   {
    "duration": 0,
    "start_time": "2024-05-07T16:54:14.710Z"
   },
   {
    "duration": 0,
    "start_time": "2024-05-07T16:54:14.711Z"
   },
   {
    "duration": 0,
    "start_time": "2024-05-07T16:54:14.712Z"
   },
   {
    "duration": 0,
    "start_time": "2024-05-07T16:54:14.713Z"
   },
   {
    "duration": 0,
    "start_time": "2024-05-07T16:54:14.715Z"
   },
   {
    "duration": 0,
    "start_time": "2024-05-07T16:54:14.716Z"
   },
   {
    "duration": 0,
    "start_time": "2024-05-07T16:54:14.717Z"
   },
   {
    "duration": 0,
    "start_time": "2024-05-07T16:54:14.719Z"
   },
   {
    "duration": 0,
    "start_time": "2024-05-07T16:54:14.720Z"
   },
   {
    "duration": 0,
    "start_time": "2024-05-07T16:54:14.721Z"
   },
   {
    "duration": 0,
    "start_time": "2024-05-07T16:54:14.722Z"
   },
   {
    "duration": 0,
    "start_time": "2024-05-07T16:54:14.723Z"
   },
   {
    "duration": 0,
    "start_time": "2024-05-07T16:54:14.724Z"
   },
   {
    "duration": 0,
    "start_time": "2024-05-07T16:54:14.726Z"
   },
   {
    "duration": 0,
    "start_time": "2024-05-07T16:54:14.727Z"
   },
   {
    "duration": 0,
    "start_time": "2024-05-07T16:54:14.728Z"
   },
   {
    "duration": 0,
    "start_time": "2024-05-07T16:54:14.729Z"
   },
   {
    "duration": 0,
    "start_time": "2024-05-07T16:54:14.730Z"
   },
   {
    "duration": 0,
    "start_time": "2024-05-07T16:54:14.731Z"
   },
   {
    "duration": 0,
    "start_time": "2024-05-07T16:54:14.732Z"
   },
   {
    "duration": 0,
    "start_time": "2024-05-07T16:54:14.733Z"
   },
   {
    "duration": 0,
    "start_time": "2024-05-07T16:54:14.734Z"
   },
   {
    "duration": 0,
    "start_time": "2024-05-07T16:54:14.736Z"
   },
   {
    "duration": 0,
    "start_time": "2024-05-07T16:54:14.765Z"
   },
   {
    "duration": 0,
    "start_time": "2024-05-07T16:54:14.766Z"
   },
   {
    "duration": 0,
    "start_time": "2024-05-07T16:54:14.767Z"
   },
   {
    "duration": 0,
    "start_time": "2024-05-07T16:54:14.768Z"
   },
   {
    "duration": 0,
    "start_time": "2024-05-07T16:54:14.769Z"
   },
   {
    "duration": 0,
    "start_time": "2024-05-07T16:54:14.769Z"
   },
   {
    "duration": 0,
    "start_time": "2024-05-07T16:54:14.770Z"
   },
   {
    "duration": 0,
    "start_time": "2024-05-07T16:54:14.771Z"
   },
   {
    "duration": 0,
    "start_time": "2024-05-07T16:54:14.772Z"
   },
   {
    "duration": 0,
    "start_time": "2024-05-07T16:54:14.773Z"
   },
   {
    "duration": 0,
    "start_time": "2024-05-07T16:54:14.774Z"
   },
   {
    "duration": 0,
    "start_time": "2024-05-07T16:54:14.775Z"
   },
   {
    "duration": 1167,
    "start_time": "2024-05-07T16:54:46.137Z"
   },
   {
    "duration": 66,
    "start_time": "2024-05-07T16:54:47.306Z"
   },
   {
    "duration": 12,
    "start_time": "2024-05-07T16:54:47.374Z"
   },
   {
    "duration": 26,
    "start_time": "2024-05-07T16:54:47.388Z"
   },
   {
    "duration": 13,
    "start_time": "2024-05-07T16:54:47.415Z"
   },
   {
    "duration": 9,
    "start_time": "2024-05-07T16:54:47.429Z"
   },
   {
    "duration": 26,
    "start_time": "2024-05-07T16:54:47.439Z"
   },
   {
    "duration": 16,
    "start_time": "2024-05-07T16:54:47.466Z"
   },
   {
    "duration": 7,
    "start_time": "2024-05-07T16:54:47.483Z"
   },
   {
    "duration": 13,
    "start_time": "2024-05-07T16:54:47.492Z"
   },
   {
    "duration": 10,
    "start_time": "2024-05-07T16:54:47.507Z"
   },
   {
    "duration": 48,
    "start_time": "2024-05-07T16:54:47.518Z"
   },
   {
    "duration": 8,
    "start_time": "2024-05-07T16:54:47.567Z"
   },
   {
    "duration": 3,
    "start_time": "2024-05-07T16:54:47.577Z"
   },
   {
    "duration": 11,
    "start_time": "2024-05-07T16:54:47.582Z"
   },
   {
    "duration": 7,
    "start_time": "2024-05-07T16:54:47.595Z"
   },
   {
    "duration": 21,
    "start_time": "2024-05-07T16:54:47.604Z"
   },
   {
    "duration": 4,
    "start_time": "2024-05-07T16:54:47.627Z"
   },
   {
    "duration": 19,
    "start_time": "2024-05-07T16:54:47.632Z"
   },
   {
    "duration": 22,
    "start_time": "2024-05-07T16:54:47.665Z"
   },
   {
    "duration": 3,
    "start_time": "2024-05-07T16:54:47.689Z"
   },
   {
    "duration": 17,
    "start_time": "2024-05-07T16:54:47.694Z"
   },
   {
    "duration": 18,
    "start_time": "2024-05-07T16:54:47.712Z"
   },
   {
    "duration": 33,
    "start_time": "2024-05-07T16:54:47.732Z"
   },
   {
    "duration": 4,
    "start_time": "2024-05-07T16:54:47.767Z"
   },
   {
    "duration": 19,
    "start_time": "2024-05-07T16:54:47.772Z"
   },
   {
    "duration": 12,
    "start_time": "2024-05-07T16:54:47.792Z"
   },
   {
    "duration": 460,
    "start_time": "2024-05-07T16:54:47.809Z"
   },
   {
    "duration": 224,
    "start_time": "2024-05-07T16:54:48.270Z"
   },
   {
    "duration": 6,
    "start_time": "2024-05-07T16:54:48.496Z"
   },
   {
    "duration": 7,
    "start_time": "2024-05-07T16:54:48.503Z"
   },
   {
    "duration": 14,
    "start_time": "2024-05-07T16:54:48.512Z"
   },
   {
    "duration": 14,
    "start_time": "2024-05-07T16:54:48.527Z"
   },
   {
    "duration": 224,
    "start_time": "2024-05-07T16:54:48.565Z"
   },
   {
    "duration": 242,
    "start_time": "2024-05-07T16:54:48.790Z"
   },
   {
    "duration": 8,
    "start_time": "2024-05-07T16:54:49.033Z"
   },
   {
    "duration": 25,
    "start_time": "2024-05-07T16:54:49.043Z"
   },
   {
    "duration": 39,
    "start_time": "2024-05-07T16:54:49.069Z"
   },
   {
    "duration": 0,
    "start_time": "2024-05-07T16:54:49.110Z"
   },
   {
    "duration": 0,
    "start_time": "2024-05-07T16:54:49.111Z"
   },
   {
    "duration": 0,
    "start_time": "2024-05-07T16:54:49.112Z"
   },
   {
    "duration": 0,
    "start_time": "2024-05-07T16:54:49.113Z"
   },
   {
    "duration": 0,
    "start_time": "2024-05-07T16:54:49.114Z"
   },
   {
    "duration": 0,
    "start_time": "2024-05-07T16:54:49.115Z"
   },
   {
    "duration": 0,
    "start_time": "2024-05-07T16:54:49.116Z"
   },
   {
    "duration": 0,
    "start_time": "2024-05-07T16:54:49.117Z"
   },
   {
    "duration": 0,
    "start_time": "2024-05-07T16:54:49.118Z"
   },
   {
    "duration": 0,
    "start_time": "2024-05-07T16:54:49.119Z"
   },
   {
    "duration": 0,
    "start_time": "2024-05-07T16:54:49.120Z"
   },
   {
    "duration": 0,
    "start_time": "2024-05-07T16:54:49.121Z"
   },
   {
    "duration": 0,
    "start_time": "2024-05-07T16:54:49.122Z"
   },
   {
    "duration": 0,
    "start_time": "2024-05-07T16:54:49.123Z"
   },
   {
    "duration": 0,
    "start_time": "2024-05-07T16:54:49.124Z"
   },
   {
    "duration": 0,
    "start_time": "2024-05-07T16:54:49.125Z"
   },
   {
    "duration": 0,
    "start_time": "2024-05-07T16:54:49.126Z"
   },
   {
    "duration": 0,
    "start_time": "2024-05-07T16:54:49.127Z"
   },
   {
    "duration": 0,
    "start_time": "2024-05-07T16:54:49.128Z"
   },
   {
    "duration": 0,
    "start_time": "2024-05-07T16:54:49.129Z"
   },
   {
    "duration": 0,
    "start_time": "2024-05-07T16:54:49.130Z"
   },
   {
    "duration": 0,
    "start_time": "2024-05-07T16:54:49.131Z"
   },
   {
    "duration": 0,
    "start_time": "2024-05-07T16:54:49.132Z"
   },
   {
    "duration": 0,
    "start_time": "2024-05-07T16:54:49.133Z"
   },
   {
    "duration": 0,
    "start_time": "2024-05-07T16:54:49.134Z"
   },
   {
    "duration": 0,
    "start_time": "2024-05-07T16:54:49.135Z"
   },
   {
    "duration": 0,
    "start_time": "2024-05-07T16:54:49.136Z"
   },
   {
    "duration": 0,
    "start_time": "2024-05-07T16:54:49.137Z"
   },
   {
    "duration": 0,
    "start_time": "2024-05-07T16:54:49.138Z"
   },
   {
    "duration": 0,
    "start_time": "2024-05-07T16:54:49.139Z"
   },
   {
    "duration": 0,
    "start_time": "2024-05-07T16:54:49.140Z"
   },
   {
    "duration": 0,
    "start_time": "2024-05-07T16:54:49.141Z"
   },
   {
    "duration": 0,
    "start_time": "2024-05-07T16:54:49.164Z"
   },
   {
    "duration": 0,
    "start_time": "2024-05-07T16:54:49.165Z"
   },
   {
    "duration": 0,
    "start_time": "2024-05-07T16:54:49.167Z"
   },
   {
    "duration": 0,
    "start_time": "2024-05-07T16:54:49.168Z"
   },
   {
    "duration": 0,
    "start_time": "2024-05-07T16:54:49.169Z"
   },
   {
    "duration": 0,
    "start_time": "2024-05-07T16:54:49.170Z"
   },
   {
    "duration": 0,
    "start_time": "2024-05-07T16:54:49.171Z"
   },
   {
    "duration": 0,
    "start_time": "2024-05-07T16:54:49.172Z"
   },
   {
    "duration": 0,
    "start_time": "2024-05-07T16:54:49.172Z"
   },
   {
    "duration": 0,
    "start_time": "2024-05-07T16:54:49.173Z"
   },
   {
    "duration": 0,
    "start_time": "2024-05-07T16:54:49.175Z"
   },
   {
    "duration": 200,
    "start_time": "2024-05-07T16:54:59.584Z"
   },
   {
    "duration": 6,
    "start_time": "2024-05-07T16:55:54.334Z"
   },
   {
    "duration": 209,
    "start_time": "2024-05-07T16:56:48.824Z"
   },
   {
    "duration": 204,
    "start_time": "2024-05-07T16:58:35.887Z"
   },
   {
    "duration": 200,
    "start_time": "2024-05-07T16:58:55.157Z"
   },
   {
    "duration": 391,
    "start_time": "2024-05-07T16:59:15.789Z"
   },
   {
    "duration": 219,
    "start_time": "2024-05-07T16:59:48.583Z"
   },
   {
    "duration": 210,
    "start_time": "2024-05-07T17:00:32.585Z"
   },
   {
    "duration": 166,
    "start_time": "2024-05-07T17:01:04.840Z"
   },
   {
    "duration": 223,
    "start_time": "2024-05-07T17:01:24.656Z"
   },
   {
    "duration": 212,
    "start_time": "2024-05-07T17:02:53.024Z"
   },
   {
    "duration": 211,
    "start_time": "2024-05-07T17:04:55.523Z"
   },
   {
    "duration": 202,
    "start_time": "2024-05-07T17:25:23.485Z"
   },
   {
    "duration": 436,
    "start_time": "2024-05-07T17:25:43.692Z"
   },
   {
    "duration": 207,
    "start_time": "2024-05-07T17:27:06.401Z"
   },
   {
    "duration": 309,
    "start_time": "2024-05-07T17:27:18.604Z"
   },
   {
    "duration": 190,
    "start_time": "2024-05-07T17:27:57.015Z"
   },
   {
    "duration": 257,
    "start_time": "2024-05-07T17:28:18.903Z"
   },
   {
    "duration": 203,
    "start_time": "2024-05-07T17:29:27.372Z"
   },
   {
    "duration": 201,
    "start_time": "2024-05-07T17:29:49.421Z"
   },
   {
    "duration": 7,
    "start_time": "2024-05-07T17:35:57.152Z"
   },
   {
    "duration": 370,
    "start_time": "2024-05-07T17:36:12.469Z"
   },
   {
    "duration": 331,
    "start_time": "2024-05-07T17:36:43.100Z"
   },
   {
    "duration": 228,
    "start_time": "2024-05-07T17:38:18.663Z"
   },
   {
    "duration": 242,
    "start_time": "2024-05-07T17:52:39.207Z"
   },
   {
    "duration": 38,
    "start_time": "2024-05-07T17:53:28.500Z"
   },
   {
    "duration": 251,
    "start_time": "2024-05-07T17:53:34.609Z"
   },
   {
    "duration": 365,
    "start_time": "2024-05-07T17:54:33.769Z"
   },
   {
    "duration": 234,
    "start_time": "2024-05-07T17:56:22.821Z"
   },
   {
    "duration": 235,
    "start_time": "2024-05-07T17:56:29.446Z"
   },
   {
    "duration": 253,
    "start_time": "2024-05-07T17:56:41.246Z"
   },
   {
    "duration": 220,
    "start_time": "2024-05-07T17:57:22.741Z"
   },
   {
    "duration": 224,
    "start_time": "2024-05-07T17:57:32.905Z"
   },
   {
    "duration": 269,
    "start_time": "2024-05-07T17:57:38.337Z"
   },
   {
    "duration": 1114,
    "start_time": "2024-05-07T17:58:00.003Z"
   },
   {
    "duration": 69,
    "start_time": "2024-05-07T17:58:01.119Z"
   },
   {
    "duration": 14,
    "start_time": "2024-05-07T17:58:01.192Z"
   },
   {
    "duration": 58,
    "start_time": "2024-05-07T17:58:01.208Z"
   },
   {
    "duration": 34,
    "start_time": "2024-05-07T17:58:01.268Z"
   },
   {
    "duration": 97,
    "start_time": "2024-05-07T17:58:01.304Z"
   },
   {
    "duration": 88,
    "start_time": "2024-05-07T17:58:01.403Z"
   },
   {
    "duration": 74,
    "start_time": "2024-05-07T17:58:01.493Z"
   },
   {
    "duration": 63,
    "start_time": "2024-05-07T17:58:01.570Z"
   },
   {
    "duration": 75,
    "start_time": "2024-05-07T17:58:01.635Z"
   },
   {
    "duration": 43,
    "start_time": "2024-05-07T17:58:01.711Z"
   },
   {
    "duration": 74,
    "start_time": "2024-05-07T17:58:01.755Z"
   },
   {
    "duration": 62,
    "start_time": "2024-05-07T17:58:01.831Z"
   },
   {
    "duration": 25,
    "start_time": "2024-05-07T17:58:01.895Z"
   },
   {
    "duration": 43,
    "start_time": "2024-05-07T17:58:01.921Z"
   },
   {
    "duration": 20,
    "start_time": "2024-05-07T17:58:01.966Z"
   },
   {
    "duration": 15,
    "start_time": "2024-05-07T17:58:01.987Z"
   },
   {
    "duration": 27,
    "start_time": "2024-05-07T17:58:02.004Z"
   },
   {
    "duration": 47,
    "start_time": "2024-05-07T17:58:02.033Z"
   },
   {
    "duration": 21,
    "start_time": "2024-05-07T17:58:02.083Z"
   },
   {
    "duration": 12,
    "start_time": "2024-05-07T17:58:02.105Z"
   },
   {
    "duration": 47,
    "start_time": "2024-05-07T17:58:02.119Z"
   },
   {
    "duration": 56,
    "start_time": "2024-05-07T17:58:02.168Z"
   },
   {
    "duration": 45,
    "start_time": "2024-05-07T17:58:02.226Z"
   },
   {
    "duration": 7,
    "start_time": "2024-05-07T17:58:02.272Z"
   },
   {
    "duration": 46,
    "start_time": "2024-05-07T17:58:02.280Z"
   },
   {
    "duration": 20,
    "start_time": "2024-05-07T17:58:02.330Z"
   },
   {
    "duration": 462,
    "start_time": "2024-05-07T17:58:02.352Z"
   },
   {
    "duration": 205,
    "start_time": "2024-05-07T17:58:02.815Z"
   },
   {
    "duration": 6,
    "start_time": "2024-05-07T17:58:03.022Z"
   },
   {
    "duration": 12,
    "start_time": "2024-05-07T17:58:03.029Z"
   },
   {
    "duration": 24,
    "start_time": "2024-05-07T17:58:03.042Z"
   },
   {
    "duration": 14,
    "start_time": "2024-05-07T17:58:03.067Z"
   },
   {
    "duration": 307,
    "start_time": "2024-05-07T17:58:03.082Z"
   },
   {
    "duration": 0,
    "start_time": "2024-05-07T17:58:03.390Z"
   },
   {
    "duration": 0,
    "start_time": "2024-05-07T17:58:03.391Z"
   },
   {
    "duration": 0,
    "start_time": "2024-05-07T17:58:03.393Z"
   },
   {
    "duration": 0,
    "start_time": "2024-05-07T17:58:03.393Z"
   },
   {
    "duration": 0,
    "start_time": "2024-05-07T17:58:03.395Z"
   },
   {
    "duration": 0,
    "start_time": "2024-05-07T17:58:03.396Z"
   },
   {
    "duration": 0,
    "start_time": "2024-05-07T17:58:03.396Z"
   },
   {
    "duration": 0,
    "start_time": "2024-05-07T17:58:03.398Z"
   },
   {
    "duration": 0,
    "start_time": "2024-05-07T17:58:03.399Z"
   },
   {
    "duration": 0,
    "start_time": "2024-05-07T17:58:03.400Z"
   },
   {
    "duration": 0,
    "start_time": "2024-05-07T17:58:03.401Z"
   },
   {
    "duration": 0,
    "start_time": "2024-05-07T17:58:03.402Z"
   },
   {
    "duration": 0,
    "start_time": "2024-05-07T17:58:03.403Z"
   },
   {
    "duration": 0,
    "start_time": "2024-05-07T17:58:03.404Z"
   },
   {
    "duration": 0,
    "start_time": "2024-05-07T17:58:03.405Z"
   },
   {
    "duration": 0,
    "start_time": "2024-05-07T17:58:03.406Z"
   },
   {
    "duration": 0,
    "start_time": "2024-05-07T17:58:03.407Z"
   },
   {
    "duration": 0,
    "start_time": "2024-05-07T17:58:03.408Z"
   },
   {
    "duration": 0,
    "start_time": "2024-05-07T17:58:03.409Z"
   },
   {
    "duration": 0,
    "start_time": "2024-05-07T17:58:03.410Z"
   },
   {
    "duration": 0,
    "start_time": "2024-05-07T17:58:03.411Z"
   },
   {
    "duration": 0,
    "start_time": "2024-05-07T17:58:03.412Z"
   },
   {
    "duration": 0,
    "start_time": "2024-05-07T17:58:03.413Z"
   },
   {
    "duration": 0,
    "start_time": "2024-05-07T17:58:03.414Z"
   },
   {
    "duration": 0,
    "start_time": "2024-05-07T17:58:03.415Z"
   },
   {
    "duration": 0,
    "start_time": "2024-05-07T17:58:03.416Z"
   },
   {
    "duration": 0,
    "start_time": "2024-05-07T17:58:03.417Z"
   },
   {
    "duration": 0,
    "start_time": "2024-05-07T17:58:03.419Z"
   },
   {
    "duration": 0,
    "start_time": "2024-05-07T17:58:03.465Z"
   },
   {
    "duration": 0,
    "start_time": "2024-05-07T17:58:03.466Z"
   },
   {
    "duration": 0,
    "start_time": "2024-05-07T17:58:03.467Z"
   },
   {
    "duration": 0,
    "start_time": "2024-05-07T17:58:03.468Z"
   },
   {
    "duration": 0,
    "start_time": "2024-05-07T17:58:03.469Z"
   },
   {
    "duration": 0,
    "start_time": "2024-05-07T17:58:03.470Z"
   },
   {
    "duration": 0,
    "start_time": "2024-05-07T17:58:03.471Z"
   },
   {
    "duration": 0,
    "start_time": "2024-05-07T17:58:03.473Z"
   },
   {
    "duration": 0,
    "start_time": "2024-05-07T17:58:03.474Z"
   },
   {
    "duration": 0,
    "start_time": "2024-05-07T17:58:03.475Z"
   },
   {
    "duration": 0,
    "start_time": "2024-05-07T17:58:03.476Z"
   },
   {
    "duration": 0,
    "start_time": "2024-05-07T17:58:03.477Z"
   },
   {
    "duration": 0,
    "start_time": "2024-05-07T17:58:03.478Z"
   },
   {
    "duration": 0,
    "start_time": "2024-05-07T17:58:03.479Z"
   },
   {
    "duration": 0,
    "start_time": "2024-05-07T17:58:03.480Z"
   },
   {
    "duration": 0,
    "start_time": "2024-05-07T17:58:03.481Z"
   },
   {
    "duration": 0,
    "start_time": "2024-05-07T17:58:03.483Z"
   },
   {
    "duration": 1160,
    "start_time": "2024-05-07T17:58:19.834Z"
   },
   {
    "duration": 64,
    "start_time": "2024-05-07T17:58:20.996Z"
   },
   {
    "duration": 13,
    "start_time": "2024-05-07T17:58:21.062Z"
   },
   {
    "duration": 26,
    "start_time": "2024-05-07T17:58:21.077Z"
   },
   {
    "duration": 12,
    "start_time": "2024-05-07T17:58:21.105Z"
   },
   {
    "duration": 9,
    "start_time": "2024-05-07T17:58:21.118Z"
   },
   {
    "duration": 16,
    "start_time": "2024-05-07T17:58:21.129Z"
   },
   {
    "duration": 34,
    "start_time": "2024-05-07T17:58:21.146Z"
   },
   {
    "duration": 7,
    "start_time": "2024-05-07T17:58:21.181Z"
   },
   {
    "duration": 21,
    "start_time": "2024-05-07T17:58:21.191Z"
   },
   {
    "duration": 10,
    "start_time": "2024-05-07T17:58:21.213Z"
   },
   {
    "duration": 42,
    "start_time": "2024-05-07T17:58:21.224Z"
   },
   {
    "duration": 9,
    "start_time": "2024-05-07T17:58:21.268Z"
   },
   {
    "duration": 4,
    "start_time": "2024-05-07T17:58:21.278Z"
   },
   {
    "duration": 6,
    "start_time": "2024-05-07T17:58:21.284Z"
   },
   {
    "duration": 6,
    "start_time": "2024-05-07T17:58:21.292Z"
   },
   {
    "duration": 10,
    "start_time": "2024-05-07T17:58:21.299Z"
   },
   {
    "duration": 4,
    "start_time": "2024-05-07T17:58:21.311Z"
   },
   {
    "duration": 50,
    "start_time": "2024-05-07T17:58:21.316Z"
   },
   {
    "duration": 19,
    "start_time": "2024-05-07T17:58:21.367Z"
   },
   {
    "duration": 5,
    "start_time": "2024-05-07T17:58:21.388Z"
   },
   {
    "duration": 21,
    "start_time": "2024-05-07T17:58:21.394Z"
   },
   {
    "duration": 18,
    "start_time": "2024-05-07T17:58:21.416Z"
   },
   {
    "duration": 9,
    "start_time": "2024-05-07T17:58:21.436Z"
   },
   {
    "duration": 37,
    "start_time": "2024-05-07T17:58:21.446Z"
   },
   {
    "duration": 36,
    "start_time": "2024-05-07T17:58:21.485Z"
   },
   {
    "duration": 21,
    "start_time": "2024-05-07T17:58:21.523Z"
   },
   {
    "duration": 438,
    "start_time": "2024-05-07T17:58:21.548Z"
   },
   {
    "duration": 219,
    "start_time": "2024-05-07T17:58:21.988Z"
   },
   {
    "duration": 7,
    "start_time": "2024-05-07T17:58:22.209Z"
   },
   {
    "duration": 9,
    "start_time": "2024-05-07T17:58:22.217Z"
   },
   {
    "duration": 18,
    "start_time": "2024-05-07T17:58:22.228Z"
   },
   {
    "duration": 32,
    "start_time": "2024-05-07T17:58:22.248Z"
   },
   {
    "duration": 225,
    "start_time": "2024-05-07T17:58:22.281Z"
   },
   {
    "duration": 219,
    "start_time": "2024-05-07T17:58:22.508Z"
   },
   {
    "duration": 9,
    "start_time": "2024-05-07T17:58:22.728Z"
   },
   {
    "duration": 208,
    "start_time": "2024-05-07T17:58:22.739Z"
   },
   {
    "duration": 222,
    "start_time": "2024-05-07T17:58:22.949Z"
   },
   {
    "duration": 480,
    "start_time": "2024-05-07T17:58:23.172Z"
   },
   {
    "duration": 7,
    "start_time": "2024-05-07T17:58:23.654Z"
   },
   {
    "duration": 409,
    "start_time": "2024-05-07T17:58:23.662Z"
   },
   {
    "duration": 224,
    "start_time": "2024-05-07T17:58:24.072Z"
   },
   {
    "duration": 16,
    "start_time": "2024-05-07T17:58:24.297Z"
   },
   {
    "duration": 36,
    "start_time": "2024-05-07T17:58:24.314Z"
   },
   {
    "duration": 0,
    "start_time": "2024-05-07T17:58:24.352Z"
   },
   {
    "duration": 0,
    "start_time": "2024-05-07T17:58:24.353Z"
   },
   {
    "duration": 0,
    "start_time": "2024-05-07T17:58:24.354Z"
   },
   {
    "duration": 0,
    "start_time": "2024-05-07T17:58:24.355Z"
   },
   {
    "duration": 0,
    "start_time": "2024-05-07T17:58:24.356Z"
   },
   {
    "duration": 0,
    "start_time": "2024-05-07T17:58:24.357Z"
   },
   {
    "duration": 0,
    "start_time": "2024-05-07T17:58:24.358Z"
   },
   {
    "duration": 0,
    "start_time": "2024-05-07T17:58:24.359Z"
   },
   {
    "duration": 0,
    "start_time": "2024-05-07T17:58:24.360Z"
   },
   {
    "duration": 0,
    "start_time": "2024-05-07T17:58:24.361Z"
   },
   {
    "duration": 0,
    "start_time": "2024-05-07T17:58:24.362Z"
   },
   {
    "duration": 0,
    "start_time": "2024-05-07T17:58:24.363Z"
   },
   {
    "duration": 0,
    "start_time": "2024-05-07T17:58:24.364Z"
   },
   {
    "duration": 0,
    "start_time": "2024-05-07T17:58:24.365Z"
   },
   {
    "duration": 0,
    "start_time": "2024-05-07T17:58:24.366Z"
   },
   {
    "duration": 0,
    "start_time": "2024-05-07T17:58:24.368Z"
   },
   {
    "duration": 0,
    "start_time": "2024-05-07T17:58:24.368Z"
   },
   {
    "duration": 0,
    "start_time": "2024-05-07T17:58:24.369Z"
   },
   {
    "duration": 0,
    "start_time": "2024-05-07T17:58:24.370Z"
   },
   {
    "duration": 0,
    "start_time": "2024-05-07T17:58:24.371Z"
   },
   {
    "duration": 0,
    "start_time": "2024-05-07T17:58:24.372Z"
   },
   {
    "duration": 0,
    "start_time": "2024-05-07T17:58:24.373Z"
   },
   {
    "duration": 0,
    "start_time": "2024-05-07T17:58:24.374Z"
   },
   {
    "duration": 0,
    "start_time": "2024-05-07T17:58:24.375Z"
   },
   {
    "duration": 0,
    "start_time": "2024-05-07T17:58:24.377Z"
   },
   {
    "duration": 0,
    "start_time": "2024-05-07T17:58:24.377Z"
   },
   {
    "duration": 0,
    "start_time": "2024-05-07T17:58:24.378Z"
   },
   {
    "duration": 0,
    "start_time": "2024-05-07T17:58:24.379Z"
   },
   {
    "duration": 0,
    "start_time": "2024-05-07T17:58:24.380Z"
   },
   {
    "duration": 0,
    "start_time": "2024-05-07T17:58:24.382Z"
   },
   {
    "duration": 0,
    "start_time": "2024-05-07T17:58:24.383Z"
   },
   {
    "duration": 0,
    "start_time": "2024-05-07T17:58:24.384Z"
   },
   {
    "duration": 0,
    "start_time": "2024-05-07T17:58:24.385Z"
   },
   {
    "duration": 0,
    "start_time": "2024-05-07T17:58:24.386Z"
   },
   {
    "duration": 0,
    "start_time": "2024-05-07T17:58:24.387Z"
   },
   {
    "duration": 231,
    "start_time": "2024-05-07T17:59:50.490Z"
   },
   {
    "duration": 308,
    "start_time": "2024-05-07T18:00:32.690Z"
   },
   {
    "duration": 323,
    "start_time": "2024-05-07T18:00:55.125Z"
   },
   {
    "duration": 345,
    "start_time": "2024-05-07T18:01:32.390Z"
   },
   {
    "duration": 148,
    "start_time": "2024-05-07T18:01:52.912Z"
   },
   {
    "duration": 136,
    "start_time": "2024-05-07T18:02:02.075Z"
   },
   {
    "duration": 107,
    "start_time": "2024-05-07T18:02:10.690Z"
   },
   {
    "duration": 1166,
    "start_time": "2024-05-07T18:02:26.229Z"
   },
   {
    "duration": 67,
    "start_time": "2024-05-07T18:02:27.397Z"
   },
   {
    "duration": 13,
    "start_time": "2024-05-07T18:02:27.466Z"
   },
   {
    "duration": 28,
    "start_time": "2024-05-07T18:02:27.480Z"
   },
   {
    "duration": 13,
    "start_time": "2024-05-07T18:02:27.509Z"
   },
   {
    "duration": 8,
    "start_time": "2024-05-07T18:02:27.524Z"
   },
   {
    "duration": 32,
    "start_time": "2024-05-07T18:02:27.533Z"
   },
   {
    "duration": 16,
    "start_time": "2024-05-07T18:02:27.567Z"
   },
   {
    "duration": 7,
    "start_time": "2024-05-07T18:02:27.584Z"
   },
   {
    "duration": 28,
    "start_time": "2024-05-07T18:02:27.593Z"
   },
   {
    "duration": 14,
    "start_time": "2024-05-07T18:02:27.623Z"
   },
   {
    "duration": 47,
    "start_time": "2024-05-07T18:02:27.639Z"
   },
   {
    "duration": 8,
    "start_time": "2024-05-07T18:02:27.687Z"
   },
   {
    "duration": 6,
    "start_time": "2024-05-07T18:02:27.696Z"
   },
   {
    "duration": 6,
    "start_time": "2024-05-07T18:02:27.704Z"
   },
   {
    "duration": 6,
    "start_time": "2024-05-07T18:02:27.711Z"
   },
   {
    "duration": 6,
    "start_time": "2024-05-07T18:02:27.719Z"
   },
   {
    "duration": 16,
    "start_time": "2024-05-07T18:02:27.727Z"
   },
   {
    "duration": 48,
    "start_time": "2024-05-07T18:02:27.744Z"
   },
   {
    "duration": 20,
    "start_time": "2024-05-07T18:02:27.794Z"
   },
   {
    "duration": 4,
    "start_time": "2024-05-07T18:02:27.816Z"
   },
   {
    "duration": 20,
    "start_time": "2024-05-07T18:02:27.821Z"
   },
   {
    "duration": 18,
    "start_time": "2024-05-07T18:02:27.864Z"
   },
   {
    "duration": 13,
    "start_time": "2024-05-07T18:02:27.883Z"
   },
   {
    "duration": 3,
    "start_time": "2024-05-07T18:02:27.897Z"
   },
   {
    "duration": 12,
    "start_time": "2024-05-07T18:02:27.902Z"
   },
   {
    "duration": 10,
    "start_time": "2024-05-07T18:02:27.916Z"
   },
   {
    "duration": 459,
    "start_time": "2024-05-07T18:02:27.964Z"
   },
   {
    "duration": 236,
    "start_time": "2024-05-07T18:02:28.425Z"
   },
   {
    "duration": 7,
    "start_time": "2024-05-07T18:02:28.665Z"
   },
   {
    "duration": 7,
    "start_time": "2024-05-07T18:02:28.673Z"
   },
   {
    "duration": 15,
    "start_time": "2024-05-07T18:02:28.681Z"
   },
   {
    "duration": 14,
    "start_time": "2024-05-07T18:02:28.698Z"
   },
   {
    "duration": 273,
    "start_time": "2024-05-07T18:02:28.713Z"
   },
   {
    "duration": 219,
    "start_time": "2024-05-07T18:02:28.988Z"
   },
   {
    "duration": 9,
    "start_time": "2024-05-07T18:02:29.208Z"
   },
   {
    "duration": 223,
    "start_time": "2024-05-07T18:02:29.218Z"
   },
   {
    "duration": 227,
    "start_time": "2024-05-07T18:02:29.443Z"
   },
   {
    "duration": 480,
    "start_time": "2024-05-07T18:02:29.672Z"
   },
   {
    "duration": 7,
    "start_time": "2024-05-07T18:02:30.154Z"
   },
   {
    "duration": 431,
    "start_time": "2024-05-07T18:02:30.163Z"
   },
   {
    "duration": 247,
    "start_time": "2024-05-07T18:02:30.596Z"
   },
   {
    "duration": 25,
    "start_time": "2024-05-07T18:02:30.844Z"
   },
   {
    "duration": 60,
    "start_time": "2024-05-07T18:02:30.870Z"
   },
   {
    "duration": 0,
    "start_time": "2024-05-07T18:02:30.932Z"
   },
   {
    "duration": 0,
    "start_time": "2024-05-07T18:02:30.933Z"
   },
   {
    "duration": 0,
    "start_time": "2024-05-07T18:02:30.934Z"
   },
   {
    "duration": 0,
    "start_time": "2024-05-07T18:02:30.935Z"
   },
   {
    "duration": 0,
    "start_time": "2024-05-07T18:02:30.936Z"
   },
   {
    "duration": 0,
    "start_time": "2024-05-07T18:02:30.937Z"
   },
   {
    "duration": 0,
    "start_time": "2024-05-07T18:02:30.938Z"
   },
   {
    "duration": 0,
    "start_time": "2024-05-07T18:02:30.939Z"
   },
   {
    "duration": 0,
    "start_time": "2024-05-07T18:02:30.940Z"
   },
   {
    "duration": 0,
    "start_time": "2024-05-07T18:02:30.942Z"
   },
   {
    "duration": 0,
    "start_time": "2024-05-07T18:02:30.942Z"
   },
   {
    "duration": 0,
    "start_time": "2024-05-07T18:02:30.944Z"
   },
   {
    "duration": 0,
    "start_time": "2024-05-07T18:02:30.945Z"
   },
   {
    "duration": 0,
    "start_time": "2024-05-07T18:02:30.946Z"
   },
   {
    "duration": 0,
    "start_time": "2024-05-07T18:02:30.947Z"
   },
   {
    "duration": 0,
    "start_time": "2024-05-07T18:02:30.948Z"
   },
   {
    "duration": 0,
    "start_time": "2024-05-07T18:02:30.950Z"
   },
   {
    "duration": 0,
    "start_time": "2024-05-07T18:02:30.951Z"
   },
   {
    "duration": 0,
    "start_time": "2024-05-07T18:02:30.952Z"
   },
   {
    "duration": 0,
    "start_time": "2024-05-07T18:02:30.953Z"
   },
   {
    "duration": 0,
    "start_time": "2024-05-07T18:02:30.954Z"
   },
   {
    "duration": 0,
    "start_time": "2024-05-07T18:02:30.955Z"
   },
   {
    "duration": 0,
    "start_time": "2024-05-07T18:02:30.956Z"
   },
   {
    "duration": 0,
    "start_time": "2024-05-07T18:02:30.957Z"
   },
   {
    "duration": 0,
    "start_time": "2024-05-07T18:02:30.958Z"
   },
   {
    "duration": 0,
    "start_time": "2024-05-07T18:02:30.960Z"
   },
   {
    "duration": 0,
    "start_time": "2024-05-07T18:02:30.961Z"
   },
   {
    "duration": 0,
    "start_time": "2024-05-07T18:02:30.961Z"
   },
   {
    "duration": 0,
    "start_time": "2024-05-07T18:02:30.964Z"
   },
   {
    "duration": 0,
    "start_time": "2024-05-07T18:02:30.965Z"
   },
   {
    "duration": 0,
    "start_time": "2024-05-07T18:02:30.966Z"
   },
   {
    "duration": 0,
    "start_time": "2024-05-07T18:02:30.967Z"
   },
   {
    "duration": 0,
    "start_time": "2024-05-07T18:02:30.969Z"
   },
   {
    "duration": 0,
    "start_time": "2024-05-07T18:02:30.970Z"
   },
   {
    "duration": 0,
    "start_time": "2024-05-07T18:02:30.971Z"
   },
   {
    "duration": 1295,
    "start_time": "2024-05-08T08:04:10.825Z"
   },
   {
    "duration": 221,
    "start_time": "2024-05-08T08:04:12.122Z"
   },
   {
    "duration": 15,
    "start_time": "2024-05-08T08:04:12.344Z"
   },
   {
    "duration": 51,
    "start_time": "2024-05-08T08:04:12.361Z"
   },
   {
    "duration": 17,
    "start_time": "2024-05-08T08:04:12.414Z"
   },
   {
    "duration": 11,
    "start_time": "2024-05-08T08:04:12.433Z"
   },
   {
    "duration": 14,
    "start_time": "2024-05-08T08:04:12.446Z"
   },
   {
    "duration": 49,
    "start_time": "2024-05-08T08:04:12.462Z"
   },
   {
    "duration": 29,
    "start_time": "2024-05-08T08:04:12.512Z"
   },
   {
    "duration": 26,
    "start_time": "2024-05-08T08:04:12.544Z"
   },
   {
    "duration": 30,
    "start_time": "2024-05-08T08:04:12.571Z"
   },
   {
    "duration": 34,
    "start_time": "2024-05-08T08:04:12.602Z"
   },
   {
    "duration": 20,
    "start_time": "2024-05-08T08:04:12.637Z"
   },
   {
    "duration": 18,
    "start_time": "2024-05-08T08:04:12.658Z"
   },
   {
    "duration": 49,
    "start_time": "2024-05-08T08:04:12.677Z"
   },
   {
    "duration": 54,
    "start_time": "2024-05-08T08:04:12.727Z"
   },
   {
    "duration": 16,
    "start_time": "2024-05-08T08:04:12.782Z"
   },
   {
    "duration": 23,
    "start_time": "2024-05-08T08:04:12.800Z"
   },
   {
    "duration": 30,
    "start_time": "2024-05-08T08:04:12.824Z"
   },
   {
    "duration": 21,
    "start_time": "2024-05-08T08:04:12.856Z"
   },
   {
    "duration": 27,
    "start_time": "2024-05-08T08:04:12.879Z"
   },
   {
    "duration": 39,
    "start_time": "2024-05-08T08:04:12.908Z"
   },
   {
    "duration": 48,
    "start_time": "2024-05-08T08:04:12.949Z"
   },
   {
    "duration": 19,
    "start_time": "2024-05-08T08:04:12.998Z"
   },
   {
    "duration": 16,
    "start_time": "2024-05-08T08:04:13.019Z"
   },
   {
    "duration": 54,
    "start_time": "2024-05-08T08:04:13.036Z"
   },
   {
    "duration": 33,
    "start_time": "2024-05-08T08:04:13.092Z"
   },
   {
    "duration": 480,
    "start_time": "2024-05-08T08:04:13.129Z"
   },
   {
    "duration": 234,
    "start_time": "2024-05-08T08:04:13.612Z"
   },
   {
    "duration": 6,
    "start_time": "2024-05-08T08:04:13.847Z"
   },
   {
    "duration": 19,
    "start_time": "2024-05-08T08:04:13.855Z"
   },
   {
    "duration": 15,
    "start_time": "2024-05-08T08:04:13.876Z"
   },
   {
    "duration": 13,
    "start_time": "2024-05-08T08:04:13.893Z"
   },
   {
    "duration": 232,
    "start_time": "2024-05-08T08:04:13.908Z"
   },
   {
    "duration": 235,
    "start_time": "2024-05-08T08:04:14.141Z"
   },
   {
    "duration": 9,
    "start_time": "2024-05-08T08:04:14.378Z"
   },
   {
    "duration": 231,
    "start_time": "2024-05-08T08:04:14.389Z"
   },
   {
    "duration": 243,
    "start_time": "2024-05-08T08:04:14.621Z"
   },
   {
    "duration": 479,
    "start_time": "2024-05-08T08:04:14.866Z"
   },
   {
    "duration": 8,
    "start_time": "2024-05-08T08:04:15.346Z"
   },
   {
    "duration": 434,
    "start_time": "2024-05-08T08:04:15.356Z"
   },
   {
    "duration": 241,
    "start_time": "2024-05-08T08:04:15.791Z"
   },
   {
    "duration": 19,
    "start_time": "2024-05-08T08:04:16.033Z"
   },
   {
    "duration": 74,
    "start_time": "2024-05-08T08:04:16.054Z"
   },
   {
    "duration": 0,
    "start_time": "2024-05-08T08:04:16.130Z"
   },
   {
    "duration": 0,
    "start_time": "2024-05-08T08:04:16.131Z"
   },
   {
    "duration": 0,
    "start_time": "2024-05-08T08:04:16.132Z"
   },
   {
    "duration": 0,
    "start_time": "2024-05-08T08:04:16.133Z"
   },
   {
    "duration": 0,
    "start_time": "2024-05-08T08:04:16.134Z"
   },
   {
    "duration": 0,
    "start_time": "2024-05-08T08:04:16.135Z"
   },
   {
    "duration": 0,
    "start_time": "2024-05-08T08:04:16.136Z"
   },
   {
    "duration": 0,
    "start_time": "2024-05-08T08:04:16.138Z"
   },
   {
    "duration": 0,
    "start_time": "2024-05-08T08:04:16.139Z"
   },
   {
    "duration": 0,
    "start_time": "2024-05-08T08:04:16.141Z"
   },
   {
    "duration": 0,
    "start_time": "2024-05-08T08:04:16.142Z"
   },
   {
    "duration": 1,
    "start_time": "2024-05-08T08:04:16.142Z"
   },
   {
    "duration": 0,
    "start_time": "2024-05-08T08:04:16.144Z"
   },
   {
    "duration": 0,
    "start_time": "2024-05-08T08:04:16.145Z"
   },
   {
    "duration": 0,
    "start_time": "2024-05-08T08:04:16.146Z"
   },
   {
    "duration": 0,
    "start_time": "2024-05-08T08:04:16.147Z"
   },
   {
    "duration": 0,
    "start_time": "2024-05-08T08:04:16.148Z"
   },
   {
    "duration": 0,
    "start_time": "2024-05-08T08:04:16.149Z"
   },
   {
    "duration": 0,
    "start_time": "2024-05-08T08:04:16.151Z"
   },
   {
    "duration": 0,
    "start_time": "2024-05-08T08:04:16.152Z"
   },
   {
    "duration": 0,
    "start_time": "2024-05-08T08:04:16.154Z"
   },
   {
    "duration": 0,
    "start_time": "2024-05-08T08:04:16.155Z"
   },
   {
    "duration": 0,
    "start_time": "2024-05-08T08:04:16.157Z"
   },
   {
    "duration": 0,
    "start_time": "2024-05-08T08:04:16.158Z"
   },
   {
    "duration": 0,
    "start_time": "2024-05-08T08:04:16.160Z"
   },
   {
    "duration": 0,
    "start_time": "2024-05-08T08:04:16.161Z"
   },
   {
    "duration": 0,
    "start_time": "2024-05-08T08:04:16.162Z"
   },
   {
    "duration": 0,
    "start_time": "2024-05-08T08:04:16.164Z"
   },
   {
    "duration": 0,
    "start_time": "2024-05-08T08:04:16.170Z"
   },
   {
    "duration": 0,
    "start_time": "2024-05-08T08:04:16.172Z"
   },
   {
    "duration": 0,
    "start_time": "2024-05-08T08:04:16.173Z"
   },
   {
    "duration": 0,
    "start_time": "2024-05-08T08:04:16.175Z"
   },
   {
    "duration": 0,
    "start_time": "2024-05-08T08:04:16.176Z"
   },
   {
    "duration": 0,
    "start_time": "2024-05-08T08:04:16.177Z"
   },
   {
    "duration": 0,
    "start_time": "2024-05-08T08:04:16.179Z"
   },
   {
    "duration": 209,
    "start_time": "2024-05-08T08:05:00.265Z"
   },
   {
    "duration": 180,
    "start_time": "2024-05-08T08:05:08.446Z"
   },
   {
    "duration": 8,
    "start_time": "2024-05-08T08:05:14.941Z"
   },
   {
    "duration": 218,
    "start_time": "2024-05-08T08:06:35.619Z"
   },
   {
    "duration": 280,
    "start_time": "2024-05-08T08:12:23.864Z"
   },
   {
    "duration": 412,
    "start_time": "2024-05-08T08:12:38.306Z"
   },
   {
    "duration": 216,
    "start_time": "2024-05-08T08:13:24.004Z"
   },
   {
    "duration": 176,
    "start_time": "2024-05-08T08:13:27.441Z"
   },
   {
    "duration": 4,
    "start_time": "2024-05-08T08:21:36.835Z"
   },
   {
    "duration": 5,
    "start_time": "2024-05-08T08:21:45.703Z"
   },
   {
    "duration": 172,
    "start_time": "2024-05-08T08:23:06.626Z"
   },
   {
    "duration": 80,
    "start_time": "2024-05-08T08:24:23.979Z"
   },
   {
    "duration": 72,
    "start_time": "2024-05-08T08:25:13.276Z"
   },
   {
    "duration": 77,
    "start_time": "2024-05-08T08:25:17.445Z"
   },
   {
    "duration": 83,
    "start_time": "2024-05-08T08:25:30.388Z"
   },
   {
    "duration": 4,
    "start_time": "2024-05-08T08:28:06.011Z"
   },
   {
    "duration": 4,
    "start_time": "2024-05-08T08:28:10.274Z"
   },
   {
    "duration": 66,
    "start_time": "2024-05-08T08:28:58.333Z"
   },
   {
    "duration": 316,
    "start_time": "2024-05-08T08:29:50.059Z"
   },
   {
    "duration": 304,
    "start_time": "2024-05-08T08:30:01.441Z"
   },
   {
    "duration": 309,
    "start_time": "2024-05-08T08:30:27.322Z"
   },
   {
    "duration": 1673,
    "start_time": "2024-05-08T08:35:48.489Z"
   },
   {
    "duration": 1585,
    "start_time": "2024-05-08T08:37:13.532Z"
   },
   {
    "duration": 1719,
    "start_time": "2024-05-08T08:39:07.111Z"
   },
   {
    "duration": 1757,
    "start_time": "2024-05-08T08:40:07.021Z"
   },
   {
    "duration": 1789,
    "start_time": "2024-05-08T08:41:17.940Z"
   },
   {
    "duration": 1640,
    "start_time": "2024-05-08T08:41:31.791Z"
   },
   {
    "duration": 19,
    "start_time": "2024-05-08T08:42:12.100Z"
   },
   {
    "duration": 1719,
    "start_time": "2024-05-08T08:42:17.414Z"
   },
   {
    "duration": 1651,
    "start_time": "2024-05-08T08:42:45.325Z"
   },
   {
    "duration": 1287,
    "start_time": "2024-05-08T08:45:09.043Z"
   },
   {
    "duration": 1372,
    "start_time": "2024-05-08T08:45:12.604Z"
   },
   {
    "duration": 20,
    "start_time": "2024-05-08T08:57:39.173Z"
   },
   {
    "duration": 249,
    "start_time": "2024-05-08T08:57:52.209Z"
   },
   {
    "duration": 7,
    "start_time": "2024-05-08T08:58:13.962Z"
   },
   {
    "duration": 13,
    "start_time": "2024-05-08T09:01:37.391Z"
   },
   {
    "duration": 21,
    "start_time": "2024-05-08T09:02:02.896Z"
   },
   {
    "duration": 12,
    "start_time": "2024-05-08T09:02:05.719Z"
   },
   {
    "duration": 15,
    "start_time": "2024-05-08T09:02:14.219Z"
   },
   {
    "duration": 289,
    "start_time": "2024-05-08T09:02:14.744Z"
   },
   {
    "duration": 291,
    "start_time": "2024-05-08T09:43:19.276Z"
   },
   {
    "duration": 25,
    "start_time": "2024-05-08T09:43:38.634Z"
   },
   {
    "duration": 25,
    "start_time": "2024-05-08T09:44:09.105Z"
   },
   {
    "duration": 335,
    "start_time": "2024-05-08T09:44:31.548Z"
   },
   {
    "duration": 194,
    "start_time": "2024-05-08T09:44:56.867Z"
   },
   {
    "duration": 267,
    "start_time": "2024-05-08T09:45:08.452Z"
   },
   {
    "duration": 246,
    "start_time": "2024-05-08T09:45:49.854Z"
   },
   {
    "duration": 253,
    "start_time": "2024-05-08T09:46:02.244Z"
   },
   {
    "duration": 336,
    "start_time": "2024-05-08T09:46:22.685Z"
   },
   {
    "duration": 236,
    "start_time": "2024-05-08T09:46:38.946Z"
   },
   {
    "duration": 276,
    "start_time": "2024-05-08T09:47:09.338Z"
   },
   {
    "duration": 266,
    "start_time": "2024-05-08T09:47:19.807Z"
   },
   {
    "duration": 260,
    "start_time": "2024-05-08T09:48:38.811Z"
   },
   {
    "duration": 257,
    "start_time": "2024-05-08T09:50:28.308Z"
   },
   {
    "duration": 290,
    "start_time": "2024-05-08T09:50:49.662Z"
   },
   {
    "duration": 257,
    "start_time": "2024-05-08T09:52:03.898Z"
   },
   {
    "duration": 13,
    "start_time": "2024-05-08T09:53:03.141Z"
   },
   {
    "duration": 247,
    "start_time": "2024-05-08T09:53:12.302Z"
   },
   {
    "duration": 251,
    "start_time": "2024-05-08T09:53:24.914Z"
   },
   {
    "duration": 253,
    "start_time": "2024-05-08T09:53:57.399Z"
   },
   {
    "duration": 13,
    "start_time": "2024-05-08T09:56:03.088Z"
   },
   {
    "duration": 20,
    "start_time": "2024-05-08T09:56:07.362Z"
   },
   {
    "duration": 20,
    "start_time": "2024-05-08T09:56:51.365Z"
   },
   {
    "duration": 439,
    "start_time": "2024-05-08T09:57:31.697Z"
   },
   {
    "duration": 352,
    "start_time": "2024-05-08T09:58:05.520Z"
   },
   {
    "duration": 317,
    "start_time": "2024-05-08T09:58:10.342Z"
   },
   {
    "duration": 314,
    "start_time": "2024-05-08T10:13:15.355Z"
   },
   {
    "duration": 311,
    "start_time": "2024-05-08T10:13:42.001Z"
   },
   {
    "duration": 297,
    "start_time": "2024-05-08T10:13:55.497Z"
   },
   {
    "duration": 315,
    "start_time": "2024-05-08T10:14:02.519Z"
   },
   {
    "duration": 343,
    "start_time": "2024-05-08T10:14:09.625Z"
   },
   {
    "duration": 21,
    "start_time": "2024-05-08T10:15:06.003Z"
   },
   {
    "duration": 510,
    "start_time": "2024-05-08T10:15:15.129Z"
   },
   {
    "duration": 85,
    "start_time": "2024-05-08T10:21:13.234Z"
   },
   {
    "duration": 1299,
    "start_time": "2024-05-08T10:21:32.993Z"
   },
   {
    "duration": 71,
    "start_time": "2024-05-08T10:21:34.295Z"
   },
   {
    "duration": 23,
    "start_time": "2024-05-08T10:21:34.368Z"
   },
   {
    "duration": 35,
    "start_time": "2024-05-08T10:21:34.393Z"
   },
   {
    "duration": 13,
    "start_time": "2024-05-08T10:21:34.429Z"
   },
   {
    "duration": 30,
    "start_time": "2024-05-08T10:21:34.444Z"
   },
   {
    "duration": 16,
    "start_time": "2024-05-08T10:21:34.476Z"
   },
   {
    "duration": 28,
    "start_time": "2024-05-08T10:21:34.493Z"
   },
   {
    "duration": 8,
    "start_time": "2024-05-08T10:21:34.523Z"
   },
   {
    "duration": 30,
    "start_time": "2024-05-08T10:21:34.534Z"
   },
   {
    "duration": 14,
    "start_time": "2024-05-08T10:21:34.566Z"
   },
   {
    "duration": 26,
    "start_time": "2024-05-08T10:21:34.583Z"
   },
   {
    "duration": 9,
    "start_time": "2024-05-08T10:21:34.610Z"
   },
   {
    "duration": 10,
    "start_time": "2024-05-08T10:21:34.620Z"
   },
   {
    "duration": 11,
    "start_time": "2024-05-08T10:21:34.631Z"
   },
   {
    "duration": 10,
    "start_time": "2024-05-08T10:21:34.643Z"
   },
   {
    "duration": 9,
    "start_time": "2024-05-08T10:21:34.669Z"
   },
   {
    "duration": 8,
    "start_time": "2024-05-08T10:21:34.680Z"
   },
   {
    "duration": 26,
    "start_time": "2024-05-08T10:21:34.689Z"
   },
   {
    "duration": 20,
    "start_time": "2024-05-08T10:21:34.716Z"
   },
   {
    "duration": 3,
    "start_time": "2024-05-08T10:21:34.738Z"
   },
   {
    "duration": 51,
    "start_time": "2024-05-08T10:21:34.742Z"
   },
   {
    "duration": 20,
    "start_time": "2024-05-08T10:21:34.795Z"
   },
   {
    "duration": 11,
    "start_time": "2024-05-08T10:21:34.816Z"
   },
   {
    "duration": 20,
    "start_time": "2024-05-08T10:21:34.828Z"
   },
   {
    "duration": 27,
    "start_time": "2024-05-08T10:21:34.849Z"
   },
   {
    "duration": 27,
    "start_time": "2024-05-08T10:21:34.878Z"
   },
   {
    "duration": 504,
    "start_time": "2024-05-08T10:21:34.909Z"
   },
   {
    "duration": 258,
    "start_time": "2024-05-08T10:21:35.415Z"
   },
   {
    "duration": 10,
    "start_time": "2024-05-08T10:21:35.675Z"
   },
   {
    "duration": 43,
    "start_time": "2024-05-08T10:21:35.687Z"
   },
   {
    "duration": 35,
    "start_time": "2024-05-08T10:21:35.731Z"
   },
   {
    "duration": 29,
    "start_time": "2024-05-08T10:21:35.768Z"
   },
   {
    "duration": 249,
    "start_time": "2024-05-08T10:21:35.798Z"
   },
   {
    "duration": 264,
    "start_time": "2024-05-08T10:21:36.049Z"
   },
   {
    "duration": 10,
    "start_time": "2024-05-08T10:21:36.315Z"
   },
   {
    "duration": 238,
    "start_time": "2024-05-08T10:21:36.327Z"
   },
   {
    "duration": 263,
    "start_time": "2024-05-08T10:21:36.566Z"
   },
   {
    "duration": 514,
    "start_time": "2024-05-08T10:21:36.831Z"
   },
   {
    "duration": 8,
    "start_time": "2024-05-08T10:21:37.347Z"
   },
   {
    "duration": 460,
    "start_time": "2024-05-08T10:21:37.357Z"
   },
   {
    "duration": 298,
    "start_time": "2024-05-08T10:21:37.819Z"
   },
   {
    "duration": 1392,
    "start_time": "2024-05-08T10:21:38.119Z"
   },
   {
    "duration": 1558,
    "start_time": "2024-05-08T10:21:39.513Z"
   },
   {
    "duration": 11,
    "start_time": "2024-05-08T10:21:41.073Z"
   },
   {
    "duration": 28,
    "start_time": "2024-05-08T10:21:41.088Z"
   },
   {
    "duration": 292,
    "start_time": "2024-05-08T10:21:41.118Z"
   },
   {
    "duration": 295,
    "start_time": "2024-05-08T10:21:41.412Z"
   },
   {
    "duration": 21,
    "start_time": "2024-05-08T10:21:41.708Z"
   },
   {
    "duration": 378,
    "start_time": "2024-05-08T10:21:41.731Z"
   },
   {
    "duration": 68,
    "start_time": "2024-05-08T10:21:42.112Z"
   },
   {
    "duration": 0,
    "start_time": "2024-05-08T10:21:42.182Z"
   },
   {
    "duration": 0,
    "start_time": "2024-05-08T10:21:42.183Z"
   },
   {
    "duration": 0,
    "start_time": "2024-05-08T10:21:42.185Z"
   },
   {
    "duration": 0,
    "start_time": "2024-05-08T10:21:42.186Z"
   },
   {
    "duration": 0,
    "start_time": "2024-05-08T10:21:42.187Z"
   },
   {
    "duration": 0,
    "start_time": "2024-05-08T10:21:42.189Z"
   },
   {
    "duration": 0,
    "start_time": "2024-05-08T10:21:42.190Z"
   },
   {
    "duration": 0,
    "start_time": "2024-05-08T10:21:42.191Z"
   },
   {
    "duration": 0,
    "start_time": "2024-05-08T10:21:42.192Z"
   },
   {
    "duration": 0,
    "start_time": "2024-05-08T10:21:42.193Z"
   },
   {
    "duration": 0,
    "start_time": "2024-05-08T10:21:42.194Z"
   },
   {
    "duration": 0,
    "start_time": "2024-05-08T10:21:42.196Z"
   },
   {
    "duration": 0,
    "start_time": "2024-05-08T10:21:42.196Z"
   },
   {
    "duration": 0,
    "start_time": "2024-05-08T10:21:42.197Z"
   },
   {
    "duration": 0,
    "start_time": "2024-05-08T10:21:42.199Z"
   },
   {
    "duration": 0,
    "start_time": "2024-05-08T10:21:42.200Z"
   },
   {
    "duration": 0,
    "start_time": "2024-05-08T10:21:42.201Z"
   },
   {
    "duration": 0,
    "start_time": "2024-05-08T10:21:42.202Z"
   },
   {
    "duration": 0,
    "start_time": "2024-05-08T10:21:42.203Z"
   },
   {
    "duration": 0,
    "start_time": "2024-05-08T10:21:42.204Z"
   },
   {
    "duration": 0,
    "start_time": "2024-05-08T10:21:42.205Z"
   },
   {
    "duration": 0,
    "start_time": "2024-05-08T10:21:42.206Z"
   },
   {
    "duration": 0,
    "start_time": "2024-05-08T10:21:42.207Z"
   },
   {
    "duration": 0,
    "start_time": "2024-05-08T10:21:42.208Z"
   },
   {
    "duration": 0,
    "start_time": "2024-05-08T10:21:42.210Z"
   },
   {
    "duration": 0,
    "start_time": "2024-05-08T10:21:42.211Z"
   },
   {
    "duration": 0,
    "start_time": "2024-05-08T10:21:42.212Z"
   },
   {
    "duration": 0,
    "start_time": "2024-05-08T10:21:42.213Z"
   },
   {
    "duration": 269,
    "start_time": "2024-05-08T10:23:06.249Z"
   },
   {
    "duration": 1160,
    "start_time": "2024-05-08T11:26:44.704Z"
   },
   {
    "duration": 83,
    "start_time": "2024-05-08T11:26:45.866Z"
   },
   {
    "duration": 14,
    "start_time": "2024-05-08T11:26:45.951Z"
   },
   {
    "duration": 41,
    "start_time": "2024-05-08T11:26:45.966Z"
   },
   {
    "duration": 14,
    "start_time": "2024-05-08T11:26:46.009Z"
   },
   {
    "duration": 28,
    "start_time": "2024-05-08T11:26:46.024Z"
   },
   {
    "duration": 27,
    "start_time": "2024-05-08T11:26:46.054Z"
   },
   {
    "duration": 32,
    "start_time": "2024-05-08T11:26:46.083Z"
   },
   {
    "duration": 28,
    "start_time": "2024-05-08T11:26:46.117Z"
   },
   {
    "duration": 28,
    "start_time": "2024-05-08T11:26:46.146Z"
   },
   {
    "duration": 23,
    "start_time": "2024-05-08T11:26:46.175Z"
   },
   {
    "duration": 48,
    "start_time": "2024-05-08T11:26:46.200Z"
   },
   {
    "duration": 8,
    "start_time": "2024-05-08T11:26:46.250Z"
   },
   {
    "duration": 15,
    "start_time": "2024-05-08T11:26:46.261Z"
   },
   {
    "duration": 28,
    "start_time": "2024-05-08T11:26:46.277Z"
   },
   {
    "duration": 24,
    "start_time": "2024-05-08T11:26:46.306Z"
   },
   {
    "duration": 38,
    "start_time": "2024-05-08T11:26:46.331Z"
   },
   {
    "duration": 15,
    "start_time": "2024-05-08T11:26:46.371Z"
   },
   {
    "duration": 37,
    "start_time": "2024-05-08T11:26:46.387Z"
   },
   {
    "duration": 43,
    "start_time": "2024-05-08T11:26:46.426Z"
   },
   {
    "duration": 4,
    "start_time": "2024-05-08T11:26:46.470Z"
   },
   {
    "duration": 28,
    "start_time": "2024-05-08T11:26:46.476Z"
   },
   {
    "duration": 34,
    "start_time": "2024-05-08T11:26:46.506Z"
   },
   {
    "duration": 10,
    "start_time": "2024-05-08T11:26:46.542Z"
   },
   {
    "duration": 90,
    "start_time": "2024-05-08T11:26:46.553Z"
   },
   {
    "duration": 48,
    "start_time": "2024-05-08T11:26:46.644Z"
   },
   {
    "duration": 18,
    "start_time": "2024-05-08T11:26:46.694Z"
   },
   {
    "duration": 543,
    "start_time": "2024-05-08T11:26:46.713Z"
   },
   {
    "duration": 244,
    "start_time": "2024-05-08T11:26:47.258Z"
   },
   {
    "duration": 7,
    "start_time": "2024-05-08T11:26:47.503Z"
   },
   {
    "duration": 7,
    "start_time": "2024-05-08T11:26:47.512Z"
   },
   {
    "duration": 23,
    "start_time": "2024-05-08T11:26:47.521Z"
   },
   {
    "duration": 34,
    "start_time": "2024-05-08T11:26:47.545Z"
   },
   {
    "duration": 247,
    "start_time": "2024-05-08T11:26:47.581Z"
   },
   {
    "duration": 242,
    "start_time": "2024-05-08T11:26:47.830Z"
   },
   {
    "duration": 10,
    "start_time": "2024-05-08T11:26:48.074Z"
   },
   {
    "duration": 251,
    "start_time": "2024-05-08T11:26:48.086Z"
   },
   {
    "duration": 257,
    "start_time": "2024-05-08T11:26:48.338Z"
   },
   {
    "duration": 492,
    "start_time": "2024-05-08T11:26:48.597Z"
   },
   {
    "duration": 8,
    "start_time": "2024-05-08T11:26:49.090Z"
   },
   {
    "duration": 443,
    "start_time": "2024-05-08T11:26:49.102Z"
   },
   {
    "duration": 272,
    "start_time": "2024-05-08T11:26:49.547Z"
   },
   {
    "duration": 1312,
    "start_time": "2024-05-08T11:26:49.821Z"
   },
   {
    "duration": 1421,
    "start_time": "2024-05-08T11:26:51.135Z"
   },
   {
    "duration": 13,
    "start_time": "2024-05-08T11:26:52.558Z"
   },
   {
    "duration": 44,
    "start_time": "2024-05-08T11:26:52.572Z"
   },
   {
    "duration": 238,
    "start_time": "2024-05-08T11:26:52.618Z"
   },
   {
    "duration": 260,
    "start_time": "2024-05-08T11:26:52.858Z"
   },
   {
    "duration": 20,
    "start_time": "2024-05-08T11:26:53.120Z"
   },
   {
    "duration": 329,
    "start_time": "2024-05-08T11:26:53.142Z"
   },
   {
    "duration": 67,
    "start_time": "2024-05-08T11:26:53.472Z"
   },
   {
    "duration": 0,
    "start_time": "2024-05-08T11:26:53.541Z"
   },
   {
    "duration": 0,
    "start_time": "2024-05-08T11:26:53.542Z"
   },
   {
    "duration": 0,
    "start_time": "2024-05-08T11:26:53.543Z"
   },
   {
    "duration": 0,
    "start_time": "2024-05-08T11:26:53.544Z"
   },
   {
    "duration": 0,
    "start_time": "2024-05-08T11:26:53.546Z"
   },
   {
    "duration": 0,
    "start_time": "2024-05-08T11:26:53.547Z"
   },
   {
    "duration": 0,
    "start_time": "2024-05-08T11:26:53.548Z"
   },
   {
    "duration": 0,
    "start_time": "2024-05-08T11:26:53.549Z"
   },
   {
    "duration": 0,
    "start_time": "2024-05-08T11:26:53.550Z"
   },
   {
    "duration": 0,
    "start_time": "2024-05-08T11:26:53.551Z"
   },
   {
    "duration": 0,
    "start_time": "2024-05-08T11:26:53.552Z"
   },
   {
    "duration": 0,
    "start_time": "2024-05-08T11:26:53.553Z"
   },
   {
    "duration": 0,
    "start_time": "2024-05-08T11:26:53.555Z"
   },
   {
    "duration": 0,
    "start_time": "2024-05-08T11:26:53.556Z"
   },
   {
    "duration": 0,
    "start_time": "2024-05-08T11:26:53.557Z"
   },
   {
    "duration": 0,
    "start_time": "2024-05-08T11:26:53.558Z"
   },
   {
    "duration": 0,
    "start_time": "2024-05-08T11:26:53.559Z"
   },
   {
    "duration": 0,
    "start_time": "2024-05-08T11:26:53.560Z"
   },
   {
    "duration": 0,
    "start_time": "2024-05-08T11:26:53.561Z"
   },
   {
    "duration": 0,
    "start_time": "2024-05-08T11:26:53.562Z"
   },
   {
    "duration": 0,
    "start_time": "2024-05-08T11:26:53.563Z"
   },
   {
    "duration": 0,
    "start_time": "2024-05-08T11:26:53.564Z"
   },
   {
    "duration": 0,
    "start_time": "2024-05-08T11:26:53.565Z"
   },
   {
    "duration": 0,
    "start_time": "2024-05-08T11:26:53.566Z"
   },
   {
    "duration": 0,
    "start_time": "2024-05-08T11:26:53.567Z"
   },
   {
    "duration": 0,
    "start_time": "2024-05-08T11:26:53.568Z"
   },
   {
    "duration": 0,
    "start_time": "2024-05-08T11:26:53.569Z"
   },
   {
    "duration": 0,
    "start_time": "2024-05-08T11:26:53.570Z"
   },
   {
    "duration": 18,
    "start_time": "2024-05-08T11:33:43.600Z"
   },
   {
    "duration": 18,
    "start_time": "2024-05-08T11:35:20.875Z"
   },
   {
    "duration": 10,
    "start_time": "2024-05-08T11:35:21.764Z"
   },
   {
    "duration": 15,
    "start_time": "2024-05-08T11:35:24.131Z"
   },
   {
    "duration": 107,
    "start_time": "2024-05-08T11:35:25.875Z"
   },
   {
    "duration": 65,
    "start_time": "2024-05-08T11:39:34.884Z"
   },
   {
    "duration": 123,
    "start_time": "2024-05-08T11:39:41.320Z"
   },
   {
    "duration": 85,
    "start_time": "2024-05-08T11:43:47.838Z"
   },
   {
    "duration": 119,
    "start_time": "2024-05-08T11:44:13.109Z"
   },
   {
    "duration": 19,
    "start_time": "2024-05-08T11:50:32.904Z"
   },
   {
    "duration": 6,
    "start_time": "2024-05-08T11:50:34.924Z"
   },
   {
    "duration": 17,
    "start_time": "2024-05-08T11:50:37.324Z"
   },
   {
    "duration": 104,
    "start_time": "2024-05-08T11:50:40.822Z"
   },
   {
    "duration": 118,
    "start_time": "2024-05-08T11:51:04.709Z"
   },
   {
    "duration": 18,
    "start_time": "2024-05-08T11:55:19.023Z"
   },
   {
    "duration": 12,
    "start_time": "2024-05-08T11:55:20.684Z"
   },
   {
    "duration": 15,
    "start_time": "2024-05-08T11:55:21.643Z"
   },
   {
    "duration": 116,
    "start_time": "2024-05-08T11:55:45.887Z"
   },
   {
    "duration": 17,
    "start_time": "2024-05-08T11:58:26.499Z"
   },
   {
    "duration": 7,
    "start_time": "2024-05-08T11:58:28.677Z"
   },
   {
    "duration": 10,
    "start_time": "2024-05-08T11:58:30.597Z"
   },
   {
    "duration": 15,
    "start_time": "2024-05-08T11:58:31.640Z"
   },
   {
    "duration": 109,
    "start_time": "2024-05-08T11:58:34.365Z"
   },
   {
    "duration": 129,
    "start_time": "2024-05-08T11:58:48.647Z"
   },
   {
    "duration": 120,
    "start_time": "2024-05-08T11:59:28.847Z"
   },
   {
    "duration": 25,
    "start_time": "2024-05-08T11:59:31.801Z"
   },
   {
    "duration": 229,
    "start_time": "2024-05-08T11:59:32.401Z"
   },
   {
    "duration": 25,
    "start_time": "2024-05-08T11:59:35.868Z"
   },
   {
    "duration": 124,
    "start_time": "2024-05-08T11:59:36.407Z"
   },
   {
    "duration": 1154,
    "start_time": "2024-05-08T12:02:05.727Z"
   },
   {
    "duration": 1640,
    "start_time": "2024-05-08T12:02:41.419Z"
   },
   {
    "duration": 69,
    "start_time": "2024-05-08T12:02:43.061Z"
   },
   {
    "duration": 14,
    "start_time": "2024-05-08T12:02:43.132Z"
   },
   {
    "duration": 46,
    "start_time": "2024-05-08T12:02:43.149Z"
   },
   {
    "duration": 13,
    "start_time": "2024-05-08T12:02:43.196Z"
   },
   {
    "duration": 14,
    "start_time": "2024-05-08T12:02:43.211Z"
   },
   {
    "duration": 8,
    "start_time": "2024-05-08T12:02:43.227Z"
   },
   {
    "duration": 16,
    "start_time": "2024-05-08T12:02:43.236Z"
   },
   {
    "duration": 18,
    "start_time": "2024-05-08T12:02:43.253Z"
   },
   {
    "duration": 15,
    "start_time": "2024-05-08T12:02:43.274Z"
   },
   {
    "duration": 19,
    "start_time": "2024-05-08T12:02:43.292Z"
   },
   {
    "duration": 31,
    "start_time": "2024-05-08T12:02:43.313Z"
   },
   {
    "duration": 31,
    "start_time": "2024-05-08T12:02:43.346Z"
   },
   {
    "duration": 4,
    "start_time": "2024-05-08T12:02:43.378Z"
   },
   {
    "duration": 23,
    "start_time": "2024-05-08T12:02:43.383Z"
   },
   {
    "duration": 14,
    "start_time": "2024-05-08T12:02:43.407Z"
   },
   {
    "duration": 10,
    "start_time": "2024-05-08T12:02:43.422Z"
   },
   {
    "duration": 11,
    "start_time": "2024-05-08T12:02:43.433Z"
   },
   {
    "duration": 40,
    "start_time": "2024-05-08T12:02:43.446Z"
   },
   {
    "duration": 21,
    "start_time": "2024-05-08T12:02:43.488Z"
   },
   {
    "duration": 3,
    "start_time": "2024-05-08T12:02:43.511Z"
   },
   {
    "duration": 21,
    "start_time": "2024-05-08T12:02:43.516Z"
   },
   {
    "duration": 46,
    "start_time": "2024-05-08T12:02:43.539Z"
   },
   {
    "duration": 10,
    "start_time": "2024-05-08T12:02:43.586Z"
   },
   {
    "duration": 4,
    "start_time": "2024-05-08T12:02:43.597Z"
   },
   {
    "duration": 16,
    "start_time": "2024-05-08T12:02:43.602Z"
   },
   {
    "duration": 13,
    "start_time": "2024-05-08T12:02:43.619Z"
   },
   {
    "duration": 507,
    "start_time": "2024-05-08T12:02:43.669Z"
   },
   {
    "duration": 246,
    "start_time": "2024-05-08T12:02:44.178Z"
   },
   {
    "duration": 7,
    "start_time": "2024-05-08T12:02:44.426Z"
   },
   {
    "duration": 13,
    "start_time": "2024-05-08T12:02:44.434Z"
   },
   {
    "duration": 32,
    "start_time": "2024-05-08T12:02:44.448Z"
   },
   {
    "duration": 38,
    "start_time": "2024-05-08T12:02:44.482Z"
   },
   {
    "duration": 233,
    "start_time": "2024-05-08T12:02:44.522Z"
   },
   {
    "duration": 246,
    "start_time": "2024-05-08T12:02:44.757Z"
   },
   {
    "duration": 10,
    "start_time": "2024-05-08T12:02:45.005Z"
   },
   {
    "duration": 360,
    "start_time": "2024-05-08T12:02:45.017Z"
   },
   {
    "duration": 256,
    "start_time": "2024-05-08T12:02:45.380Z"
   },
   {
    "duration": 487,
    "start_time": "2024-05-08T12:02:45.638Z"
   },
   {
    "duration": 7,
    "start_time": "2024-05-08T12:02:46.127Z"
   },
   {
    "duration": 461,
    "start_time": "2024-05-08T12:02:46.137Z"
   },
   {
    "duration": 278,
    "start_time": "2024-05-08T12:02:46.600Z"
   },
   {
    "duration": 1276,
    "start_time": "2024-05-08T12:02:46.880Z"
   },
   {
    "duration": 1432,
    "start_time": "2024-05-08T12:02:48.158Z"
   },
   {
    "duration": 7,
    "start_time": "2024-05-08T12:02:49.592Z"
   },
   {
    "duration": 32,
    "start_time": "2024-05-08T12:02:49.600Z"
   },
   {
    "duration": 280,
    "start_time": "2024-05-08T12:02:49.633Z"
   },
   {
    "duration": 263,
    "start_time": "2024-05-08T12:02:49.914Z"
   },
   {
    "duration": 32,
    "start_time": "2024-05-08T12:02:50.180Z"
   },
   {
    "duration": 381,
    "start_time": "2024-05-08T12:02:50.213Z"
   },
   {
    "duration": 22,
    "start_time": "2024-05-08T12:02:50.597Z"
   },
   {
    "duration": 14,
    "start_time": "2024-05-08T12:02:50.621Z"
   },
   {
    "duration": 35,
    "start_time": "2024-05-08T12:02:50.637Z"
   },
   {
    "duration": 160,
    "start_time": "2024-05-08T12:02:50.674Z"
   },
   {
    "duration": 18,
    "start_time": "2024-05-08T12:02:50.836Z"
   },
   {
    "duration": 17,
    "start_time": "2024-05-08T12:02:50.856Z"
   },
   {
    "duration": 39,
    "start_time": "2024-05-08T12:02:50.874Z"
   },
   {
    "duration": 127,
    "start_time": "2024-05-08T12:02:50.915Z"
   },
   {
    "duration": 19,
    "start_time": "2024-05-08T12:02:51.043Z"
   },
   {
    "duration": 13,
    "start_time": "2024-05-08T12:02:51.064Z"
   },
   {
    "duration": 18,
    "start_time": "2024-05-08T12:02:51.079Z"
   },
   {
    "duration": 135,
    "start_time": "2024-05-08T12:02:51.098Z"
   },
   {
    "duration": 16,
    "start_time": "2024-05-08T12:02:51.235Z"
   },
   {
    "duration": 20,
    "start_time": "2024-05-08T12:02:51.252Z"
   },
   {
    "duration": 32,
    "start_time": "2024-05-08T12:02:51.273Z"
   },
   {
    "duration": 15,
    "start_time": "2024-05-08T12:02:51.307Z"
   },
   {
    "duration": 129,
    "start_time": "2024-05-08T12:02:51.324Z"
   },
   {
    "duration": 33,
    "start_time": "2024-05-08T12:02:51.455Z"
   },
   {
    "duration": 136,
    "start_time": "2024-05-08T12:02:51.490Z"
   },
   {
    "duration": 41,
    "start_time": "2024-05-08T12:02:51.628Z"
   },
   {
    "duration": 155,
    "start_time": "2024-05-08T12:02:51.671Z"
   },
   {
    "duration": 65,
    "start_time": "2024-05-08T12:02:51.828Z"
   },
   {
    "duration": 0,
    "start_time": "2024-05-08T12:02:51.894Z"
   },
   {
    "duration": 0,
    "start_time": "2024-05-08T12:02:51.896Z"
   },
   {
    "duration": 0,
    "start_time": "2024-05-08T12:02:51.897Z"
   },
   {
    "duration": 0,
    "start_time": "2024-05-08T12:02:51.899Z"
   },
   {
    "duration": 0,
    "start_time": "2024-05-08T12:02:51.900Z"
   },
   {
    "duration": 0,
    "start_time": "2024-05-08T12:02:51.901Z"
   },
   {
    "duration": 0,
    "start_time": "2024-05-08T12:02:51.903Z"
   },
   {
    "duration": 1133,
    "start_time": "2024-05-08T12:03:16.917Z"
   },
   {
    "duration": 1078,
    "start_time": "2024-05-08T12:03:34.823Z"
   },
   {
    "duration": 147,
    "start_time": "2024-05-08T12:03:59.033Z"
   },
   {
    "duration": 154,
    "start_time": "2024-05-08T12:04:13.264Z"
   },
   {
    "duration": 144,
    "start_time": "2024-05-08T12:04:24.605Z"
   },
   {
    "duration": 1174,
    "start_time": "2024-05-08T12:04:35.064Z"
   },
   {
    "duration": 71,
    "start_time": "2024-05-08T12:04:36.240Z"
   },
   {
    "duration": 14,
    "start_time": "2024-05-08T12:04:36.313Z"
   },
   {
    "duration": 60,
    "start_time": "2024-05-08T12:04:36.329Z"
   },
   {
    "duration": 18,
    "start_time": "2024-05-08T12:04:36.391Z"
   },
   {
    "duration": 16,
    "start_time": "2024-05-08T12:04:36.410Z"
   },
   {
    "duration": 29,
    "start_time": "2024-05-08T12:04:36.428Z"
   },
   {
    "duration": 27,
    "start_time": "2024-05-08T12:04:36.458Z"
   },
   {
    "duration": 17,
    "start_time": "2024-05-08T12:04:36.487Z"
   },
   {
    "duration": 51,
    "start_time": "2024-05-08T12:04:36.506Z"
   },
   {
    "duration": 10,
    "start_time": "2024-05-08T12:04:36.559Z"
   },
   {
    "duration": 65,
    "start_time": "2024-05-08T12:04:36.572Z"
   },
   {
    "duration": 8,
    "start_time": "2024-05-08T12:04:36.639Z"
   },
   {
    "duration": 4,
    "start_time": "2024-05-08T12:04:36.650Z"
   },
   {
    "duration": 23,
    "start_time": "2024-05-08T12:04:36.655Z"
   },
   {
    "duration": 18,
    "start_time": "2024-05-08T12:04:36.680Z"
   },
   {
    "duration": 13,
    "start_time": "2024-05-08T12:04:36.700Z"
   },
   {
    "duration": 6,
    "start_time": "2024-05-08T12:04:36.715Z"
   },
   {
    "duration": 27,
    "start_time": "2024-05-08T12:04:36.723Z"
   },
   {
    "duration": 31,
    "start_time": "2024-05-08T12:04:36.752Z"
   },
   {
    "duration": 4,
    "start_time": "2024-05-08T12:04:36.784Z"
   },
   {
    "duration": 27,
    "start_time": "2024-05-08T12:04:36.790Z"
   },
   {
    "duration": 21,
    "start_time": "2024-05-08T12:04:36.819Z"
   },
   {
    "duration": 11,
    "start_time": "2024-05-08T12:04:36.842Z"
   },
   {
    "duration": 3,
    "start_time": "2024-05-08T12:04:36.855Z"
   },
   {
    "duration": 15,
    "start_time": "2024-05-08T12:04:36.870Z"
   },
   {
    "duration": 14,
    "start_time": "2024-05-08T12:04:36.887Z"
   },
   {
    "duration": 492,
    "start_time": "2024-05-08T12:04:36.902Z"
   },
   {
    "duration": 238,
    "start_time": "2024-05-08T12:04:37.396Z"
   },
   {
    "duration": 7,
    "start_time": "2024-05-08T12:04:37.635Z"
   },
   {
    "duration": 11,
    "start_time": "2024-05-08T12:04:37.644Z"
   },
   {
    "duration": 17,
    "start_time": "2024-05-08T12:04:37.670Z"
   },
   {
    "duration": 16,
    "start_time": "2024-05-08T12:04:37.689Z"
   },
   {
    "duration": 272,
    "start_time": "2024-05-08T12:04:37.707Z"
   },
   {
    "duration": 253,
    "start_time": "2024-05-08T12:04:37.981Z"
   },
   {
    "duration": 10,
    "start_time": "2024-05-08T12:04:38.236Z"
   },
   {
    "duration": 246,
    "start_time": "2024-05-08T12:04:38.248Z"
   },
   {
    "duration": 244,
    "start_time": "2024-05-08T12:04:38.496Z"
   },
   {
    "duration": 496,
    "start_time": "2024-05-08T12:04:38.741Z"
   },
   {
    "duration": 8,
    "start_time": "2024-05-08T12:04:39.239Z"
   },
   {
    "duration": 467,
    "start_time": "2024-05-08T12:04:39.252Z"
   },
   {
    "duration": 281,
    "start_time": "2024-05-08T12:04:39.721Z"
   },
   {
    "duration": 1326,
    "start_time": "2024-05-08T12:04:40.003Z"
   },
   {
    "duration": 1432,
    "start_time": "2024-05-08T12:04:41.331Z"
   },
   {
    "duration": 9,
    "start_time": "2024-05-08T12:04:42.765Z"
   },
   {
    "duration": 31,
    "start_time": "2024-05-08T12:04:42.775Z"
   },
   {
    "duration": 279,
    "start_time": "2024-05-08T12:04:42.808Z"
   },
   {
    "duration": 278,
    "start_time": "2024-05-08T12:04:43.089Z"
   },
   {
    "duration": 22,
    "start_time": "2024-05-08T12:04:43.370Z"
   },
   {
    "duration": 350,
    "start_time": "2024-05-08T12:04:43.394Z"
   },
   {
    "duration": 24,
    "start_time": "2024-05-08T12:04:43.746Z"
   },
   {
    "duration": 29,
    "start_time": "2024-05-08T12:04:43.772Z"
   },
   {
    "duration": 30,
    "start_time": "2024-05-08T12:04:43.802Z"
   },
   {
    "duration": 146,
    "start_time": "2024-05-08T12:04:43.833Z"
   },
   {
    "duration": 28,
    "start_time": "2024-05-08T12:04:43.982Z"
   },
   {
    "duration": 12,
    "start_time": "2024-05-08T12:04:44.012Z"
   },
   {
    "duration": 45,
    "start_time": "2024-05-08T12:04:44.025Z"
   },
   {
    "duration": 177,
    "start_time": "2024-05-08T12:04:44.072Z"
   },
   {
    "duration": 23,
    "start_time": "2024-05-08T12:04:44.250Z"
   },
   {
    "duration": 15,
    "start_time": "2024-05-08T12:04:44.275Z"
   },
   {
    "duration": 41,
    "start_time": "2024-05-08T12:04:44.291Z"
   },
   {
    "duration": 145,
    "start_time": "2024-05-08T12:04:44.334Z"
   },
   {
    "duration": 17,
    "start_time": "2024-05-08T12:04:44.481Z"
   },
   {
    "duration": 52,
    "start_time": "2024-05-08T12:04:44.500Z"
   },
   {
    "duration": 33,
    "start_time": "2024-05-08T12:04:44.554Z"
   },
   {
    "duration": 31,
    "start_time": "2024-05-08T12:04:44.589Z"
   },
   {
    "duration": 156,
    "start_time": "2024-05-08T12:04:44.622Z"
   },
   {
    "duration": 25,
    "start_time": "2024-05-08T12:04:44.780Z"
   },
   {
    "duration": 197,
    "start_time": "2024-05-08T12:04:44.807Z"
   },
   {
    "duration": 25,
    "start_time": "2024-05-08T12:04:45.005Z"
   },
   {
    "duration": 239,
    "start_time": "2024-05-08T12:04:45.032Z"
   },
   {
    "duration": 68,
    "start_time": "2024-05-08T12:04:45.273Z"
   },
   {
    "duration": 0,
    "start_time": "2024-05-08T12:04:45.343Z"
   },
   {
    "duration": 0,
    "start_time": "2024-05-08T12:04:45.344Z"
   },
   {
    "duration": 0,
    "start_time": "2024-05-08T12:04:45.346Z"
   },
   {
    "duration": 0,
    "start_time": "2024-05-08T12:04:45.349Z"
   },
   {
    "duration": 0,
    "start_time": "2024-05-08T12:04:45.350Z"
   },
   {
    "duration": 0,
    "start_time": "2024-05-08T12:04:45.351Z"
   },
   {
    "duration": 0,
    "start_time": "2024-05-08T12:04:45.352Z"
   },
   {
    "duration": 1302,
    "start_time": "2024-05-08T12:09:44.641Z"
   },
   {
    "duration": 74,
    "start_time": "2024-05-08T12:09:45.945Z"
   },
   {
    "duration": 25,
    "start_time": "2024-05-08T12:09:46.021Z"
   },
   {
    "duration": 43,
    "start_time": "2024-05-08T12:09:46.048Z"
   },
   {
    "duration": 14,
    "start_time": "2024-05-08T12:09:46.094Z"
   },
   {
    "duration": 10,
    "start_time": "2024-05-08T12:09:46.109Z"
   },
   {
    "duration": 18,
    "start_time": "2024-05-08T12:09:46.121Z"
   },
   {
    "duration": 35,
    "start_time": "2024-05-08T12:09:46.142Z"
   },
   {
    "duration": 9,
    "start_time": "2024-05-08T12:09:46.180Z"
   },
   {
    "duration": 42,
    "start_time": "2024-05-08T12:09:46.192Z"
   },
   {
    "duration": 20,
    "start_time": "2024-05-08T12:09:46.235Z"
   },
   {
    "duration": 28,
    "start_time": "2024-05-08T12:09:46.257Z"
   },
   {
    "duration": 9,
    "start_time": "2024-05-08T12:09:46.287Z"
   },
   {
    "duration": 10,
    "start_time": "2024-05-08T12:09:46.299Z"
   },
   {
    "duration": 9,
    "start_time": "2024-05-08T12:09:46.311Z"
   },
   {
    "duration": 7,
    "start_time": "2024-05-08T12:09:46.322Z"
   },
   {
    "duration": 11,
    "start_time": "2024-05-08T12:09:46.330Z"
   },
   {
    "duration": 6,
    "start_time": "2024-05-08T12:09:46.342Z"
   },
   {
    "duration": 22,
    "start_time": "2024-05-08T12:09:46.370Z"
   },
   {
    "duration": 21,
    "start_time": "2024-05-08T12:09:46.394Z"
   },
   {
    "duration": 4,
    "start_time": "2024-05-08T12:09:46.417Z"
   },
   {
    "duration": 20,
    "start_time": "2024-05-08T12:09:46.422Z"
   },
   {
    "duration": 41,
    "start_time": "2024-05-08T12:09:46.444Z"
   },
   {
    "duration": 10,
    "start_time": "2024-05-08T12:09:46.487Z"
   },
   {
    "duration": 15,
    "start_time": "2024-05-08T12:09:46.499Z"
   },
   {
    "duration": 17,
    "start_time": "2024-05-08T12:09:46.515Z"
   },
   {
    "duration": 12,
    "start_time": "2024-05-08T12:09:46.534Z"
   },
   {
    "duration": 534,
    "start_time": "2024-05-08T12:09:46.548Z"
   },
   {
    "duration": 242,
    "start_time": "2024-05-08T12:09:47.084Z"
   },
   {
    "duration": 7,
    "start_time": "2024-05-08T12:09:47.328Z"
   },
   {
    "duration": 33,
    "start_time": "2024-05-08T12:09:47.336Z"
   },
   {
    "duration": 26,
    "start_time": "2024-05-08T12:09:47.370Z"
   },
   {
    "duration": 39,
    "start_time": "2024-05-08T12:09:47.398Z"
   },
   {
    "duration": 241,
    "start_time": "2024-05-08T12:09:47.438Z"
   },
   {
    "duration": 249,
    "start_time": "2024-05-08T12:09:47.681Z"
   },
   {
    "duration": 14,
    "start_time": "2024-05-08T12:09:47.932Z"
   },
   {
    "duration": 270,
    "start_time": "2024-05-08T12:09:47.949Z"
   },
   {
    "duration": 254,
    "start_time": "2024-05-08T12:09:48.221Z"
   },
   {
    "duration": 512,
    "start_time": "2024-05-08T12:09:48.477Z"
   },
   {
    "duration": 9,
    "start_time": "2024-05-08T12:09:48.991Z"
   },
   {
    "duration": 507,
    "start_time": "2024-05-08T12:09:49.008Z"
   },
   {
    "duration": 290,
    "start_time": "2024-05-08T12:09:49.517Z"
   },
   {
    "duration": 1405,
    "start_time": "2024-05-08T12:09:49.809Z"
   },
   {
    "duration": 1514,
    "start_time": "2024-05-08T12:09:51.217Z"
   },
   {
    "duration": 7,
    "start_time": "2024-05-08T12:09:52.733Z"
   },
   {
    "duration": 40,
    "start_time": "2024-05-08T12:09:52.742Z"
   },
   {
    "duration": 272,
    "start_time": "2024-05-08T12:09:52.784Z"
   },
   {
    "duration": 280,
    "start_time": "2024-05-08T12:09:53.058Z"
   },
   {
    "duration": 32,
    "start_time": "2024-05-08T12:09:53.340Z"
   },
   {
    "duration": 358,
    "start_time": "2024-05-08T12:09:53.374Z"
   },
   {
    "duration": 20,
    "start_time": "2024-05-08T12:09:53.734Z"
   },
   {
    "duration": 22,
    "start_time": "2024-05-08T12:09:53.756Z"
   },
   {
    "duration": 64,
    "start_time": "2024-05-08T12:09:53.780Z"
   },
   {
    "duration": 184,
    "start_time": "2024-05-08T12:09:53.846Z"
   },
   {
    "duration": 22,
    "start_time": "2024-05-08T12:09:54.032Z"
   },
   {
    "duration": 19,
    "start_time": "2024-05-08T12:09:54.070Z"
   },
   {
    "duration": 59,
    "start_time": "2024-05-08T12:09:54.091Z"
   },
   {
    "duration": 152,
    "start_time": "2024-05-08T12:09:54.152Z"
   },
   {
    "duration": 17,
    "start_time": "2024-05-08T12:09:54.305Z"
   },
   {
    "duration": 41,
    "start_time": "2024-05-08T12:09:54.324Z"
   },
   {
    "duration": 34,
    "start_time": "2024-05-08T12:09:54.367Z"
   },
   {
    "duration": 160,
    "start_time": "2024-05-08T12:09:54.403Z"
   },
   {
    "duration": 21,
    "start_time": "2024-05-08T12:09:54.565Z"
   },
   {
    "duration": 38,
    "start_time": "2024-05-08T12:09:54.589Z"
   },
   {
    "duration": 30,
    "start_time": "2024-05-08T12:09:54.629Z"
   },
   {
    "duration": 61,
    "start_time": "2024-05-08T12:09:54.661Z"
   },
   {
    "duration": 144,
    "start_time": "2024-05-08T12:09:54.724Z"
   },
   {
    "duration": 22,
    "start_time": "2024-05-08T12:09:54.870Z"
   },
   {
    "duration": 165,
    "start_time": "2024-05-08T12:09:54.893Z"
   },
   {
    "duration": 26,
    "start_time": "2024-05-08T12:09:55.059Z"
   },
   {
    "duration": 151,
    "start_time": "2024-05-08T12:09:55.086Z"
   },
   {
    "duration": 67,
    "start_time": "2024-05-08T12:09:55.239Z"
   },
   {
    "duration": 0,
    "start_time": "2024-05-08T12:09:55.308Z"
   },
   {
    "duration": 0,
    "start_time": "2024-05-08T12:09:55.309Z"
   },
   {
    "duration": 0,
    "start_time": "2024-05-08T12:09:55.310Z"
   },
   {
    "duration": 0,
    "start_time": "2024-05-08T12:09:55.311Z"
   },
   {
    "duration": 0,
    "start_time": "2024-05-08T12:09:55.313Z"
   },
   {
    "duration": 0,
    "start_time": "2024-05-08T12:09:55.314Z"
   },
   {
    "duration": 0,
    "start_time": "2024-05-08T12:09:55.315Z"
   },
   {
    "duration": 24,
    "start_time": "2024-05-08T12:10:09.038Z"
   },
   {
    "duration": 241,
    "start_time": "2024-05-08T12:10:25.009Z"
   },
   {
    "duration": 254,
    "start_time": "2024-05-08T12:12:25.201Z"
   },
   {
    "duration": 17,
    "start_time": "2024-05-08T12:18:21.523Z"
   },
   {
    "duration": 14,
    "start_time": "2024-05-08T12:18:22.483Z"
   },
   {
    "duration": 5,
    "start_time": "2024-05-08T12:18:26.896Z"
   },
   {
    "duration": 11,
    "start_time": "2024-05-08T12:18:39.222Z"
   },
   {
    "duration": 10,
    "start_time": "2024-05-08T12:18:39.822Z"
   },
   {
    "duration": 5,
    "start_time": "2024-05-08T12:18:40.302Z"
   },
   {
    "duration": 1188,
    "start_time": "2024-05-08T12:19:57.263Z"
   },
   {
    "duration": 74,
    "start_time": "2024-05-08T12:19:58.453Z"
   },
   {
    "duration": 15,
    "start_time": "2024-05-08T12:19:58.529Z"
   },
   {
    "duration": 55,
    "start_time": "2024-05-08T12:19:58.546Z"
   },
   {
    "duration": 14,
    "start_time": "2024-05-08T12:19:58.604Z"
   },
   {
    "duration": 23,
    "start_time": "2024-05-08T12:19:58.620Z"
   },
   {
    "duration": 8,
    "start_time": "2024-05-08T12:19:58.645Z"
   },
   {
    "duration": 28,
    "start_time": "2024-05-08T12:19:58.655Z"
   },
   {
    "duration": 14,
    "start_time": "2024-05-08T12:19:58.684Z"
   },
   {
    "duration": 19,
    "start_time": "2024-05-08T12:19:58.700Z"
   },
   {
    "duration": 16,
    "start_time": "2024-05-08T12:19:58.720Z"
   },
   {
    "duration": 34,
    "start_time": "2024-05-08T12:19:58.738Z"
   },
   {
    "duration": 8,
    "start_time": "2024-05-08T12:19:58.774Z"
   },
   {
    "duration": 14,
    "start_time": "2024-05-08T12:19:58.785Z"
   },
   {
    "duration": 13,
    "start_time": "2024-05-08T12:19:58.800Z"
   },
   {
    "duration": 20,
    "start_time": "2024-05-08T12:19:58.814Z"
   },
   {
    "duration": 30,
    "start_time": "2024-05-08T12:19:58.836Z"
   },
   {
    "duration": 15,
    "start_time": "2024-05-08T12:19:58.868Z"
   },
   {
    "duration": 48,
    "start_time": "2024-05-08T12:19:58.885Z"
   },
   {
    "duration": 21,
    "start_time": "2024-05-08T12:19:58.935Z"
   },
   {
    "duration": 4,
    "start_time": "2024-05-08T12:19:58.957Z"
   },
   {
    "duration": 17,
    "start_time": "2024-05-08T12:19:58.963Z"
   },
   {
    "duration": 26,
    "start_time": "2024-05-08T12:19:58.982Z"
   },
   {
    "duration": 11,
    "start_time": "2024-05-08T12:19:59.009Z"
   },
   {
    "duration": 5,
    "start_time": "2024-05-08T12:19:59.021Z"
   },
   {
    "duration": 21,
    "start_time": "2024-05-08T12:19:59.027Z"
   },
   {
    "duration": 27,
    "start_time": "2024-05-08T12:19:59.050Z"
   },
   {
    "duration": 484,
    "start_time": "2024-05-08T12:19:59.078Z"
   },
   {
    "duration": 256,
    "start_time": "2024-05-08T12:19:59.564Z"
   },
   {
    "duration": 7,
    "start_time": "2024-05-08T12:19:59.821Z"
   },
   {
    "duration": 9,
    "start_time": "2024-05-08T12:19:59.830Z"
   },
   {
    "duration": 37,
    "start_time": "2024-05-08T12:19:59.840Z"
   },
   {
    "duration": 17,
    "start_time": "2024-05-08T12:19:59.878Z"
   },
   {
    "duration": 252,
    "start_time": "2024-05-08T12:19:59.896Z"
   },
   {
    "duration": 249,
    "start_time": "2024-05-08T12:20:00.150Z"
   },
   {
    "duration": 13,
    "start_time": "2024-05-08T12:20:00.402Z"
   },
   {
    "duration": 293,
    "start_time": "2024-05-08T12:20:00.417Z"
   },
   {
    "duration": 254,
    "start_time": "2024-05-08T12:20:00.711Z"
   },
   {
    "duration": 523,
    "start_time": "2024-05-08T12:20:00.970Z"
   },
   {
    "duration": 7,
    "start_time": "2024-05-08T12:20:01.495Z"
   },
   {
    "duration": 535,
    "start_time": "2024-05-08T12:20:01.507Z"
   },
   {
    "duration": 307,
    "start_time": "2024-05-08T12:20:02.044Z"
   },
   {
    "duration": 1331,
    "start_time": "2024-05-08T12:20:02.353Z"
   },
   {
    "duration": 1445,
    "start_time": "2024-05-08T12:20:03.686Z"
   },
   {
    "duration": 7,
    "start_time": "2024-05-08T12:20:05.134Z"
   },
   {
    "duration": 47,
    "start_time": "2024-05-08T12:20:05.143Z"
   },
   {
    "duration": 271,
    "start_time": "2024-05-08T12:20:05.192Z"
   },
   {
    "duration": 283,
    "start_time": "2024-05-08T12:20:05.465Z"
   },
   {
    "duration": 31,
    "start_time": "2024-05-08T12:20:05.749Z"
   },
   {
    "duration": 339,
    "start_time": "2024-05-08T12:20:05.782Z"
   },
   {
    "duration": 20,
    "start_time": "2024-05-08T12:20:06.123Z"
   },
   {
    "duration": 35,
    "start_time": "2024-05-08T12:20:06.145Z"
   },
   {
    "duration": 34,
    "start_time": "2024-05-08T12:20:06.182Z"
   },
   {
    "duration": 155,
    "start_time": "2024-05-08T12:20:06.218Z"
   },
   {
    "duration": 18,
    "start_time": "2024-05-08T12:20:06.375Z"
   },
   {
    "duration": 7,
    "start_time": "2024-05-08T12:20:06.395Z"
   },
   {
    "duration": 49,
    "start_time": "2024-05-08T12:20:06.404Z"
   },
   {
    "duration": 177,
    "start_time": "2024-05-08T12:20:06.455Z"
   },
   {
    "duration": 17,
    "start_time": "2024-05-08T12:20:06.634Z"
   },
   {
    "duration": 24,
    "start_time": "2024-05-08T12:20:06.653Z"
   },
   {
    "duration": 29,
    "start_time": "2024-05-08T12:20:06.678Z"
   },
   {
    "duration": 147,
    "start_time": "2024-05-08T12:20:06.709Z"
   },
   {
    "duration": 19,
    "start_time": "2024-05-08T12:20:06.858Z"
   },
   {
    "duration": 19,
    "start_time": "2024-05-08T12:20:06.878Z"
   },
   {
    "duration": 39,
    "start_time": "2024-05-08T12:20:06.899Z"
   },
   {
    "duration": 31,
    "start_time": "2024-05-08T12:20:06.940Z"
   },
   {
    "duration": 151,
    "start_time": "2024-05-08T12:20:06.972Z"
   },
   {
    "duration": 25,
    "start_time": "2024-05-08T12:20:07.125Z"
   },
   {
    "duration": 153,
    "start_time": "2024-05-08T12:20:07.152Z"
   },
   {
    "duration": 26,
    "start_time": "2024-05-08T12:20:07.307Z"
   },
   {
    "duration": 160,
    "start_time": "2024-05-08T12:20:07.334Z"
   },
   {
    "duration": 20,
    "start_time": "2024-05-08T12:20:07.496Z"
   },
   {
    "duration": 288,
    "start_time": "2024-05-08T12:20:07.517Z"
   },
   {
    "duration": 11,
    "start_time": "2024-05-08T12:20:07.806Z"
   },
   {
    "duration": 12,
    "start_time": "2024-05-08T12:20:07.819Z"
   },
   {
    "duration": 5,
    "start_time": "2024-05-08T12:20:07.832Z"
   },
   {
    "duration": 36,
    "start_time": "2024-05-08T12:20:07.838Z"
   },
   {
    "duration": 9,
    "start_time": "2024-05-08T12:20:07.876Z"
   },
   {
    "duration": 6,
    "start_time": "2024-05-08T12:20:07.887Z"
   },
   {
    "duration": 4,
    "start_time": "2024-05-08T12:21:20.370Z"
   },
   {
    "duration": 72,
    "start_time": "2024-05-08T12:24:01.514Z"
   },
   {
    "duration": 65,
    "start_time": "2024-05-08T12:24:11.722Z"
   },
   {
    "duration": 6,
    "start_time": "2024-05-08T12:24:17.282Z"
   },
   {
    "duration": 7,
    "start_time": "2024-05-08T12:24:39.302Z"
   },
   {
    "duration": 6,
    "start_time": "2024-05-08T12:24:49.435Z"
   },
   {
    "duration": 6,
    "start_time": "2024-05-08T12:24:55.696Z"
   },
   {
    "duration": 6,
    "start_time": "2024-05-08T12:25:00.630Z"
   },
   {
    "duration": 6,
    "start_time": "2024-05-08T12:26:06.797Z"
   },
   {
    "duration": 1310,
    "start_time": "2024-05-08T12:34:58.654Z"
   },
   {
    "duration": 74,
    "start_time": "2024-05-08T12:34:59.967Z"
   },
   {
    "duration": 19,
    "start_time": "2024-05-08T12:35:00.043Z"
   },
   {
    "duration": 106,
    "start_time": "2024-05-08T12:35:00.064Z"
   },
   {
    "duration": 36,
    "start_time": "2024-05-08T12:35:00.172Z"
   },
   {
    "duration": 54,
    "start_time": "2024-05-08T12:35:00.209Z"
   },
   {
    "duration": 37,
    "start_time": "2024-05-08T12:35:00.265Z"
   },
   {
    "duration": 83,
    "start_time": "2024-05-08T12:35:00.304Z"
   },
   {
    "duration": 44,
    "start_time": "2024-05-08T12:35:00.389Z"
   },
   {
    "duration": 81,
    "start_time": "2024-05-08T12:35:00.437Z"
   },
   {
    "duration": 126,
    "start_time": "2024-05-08T12:35:00.520Z"
   },
   {
    "duration": 49,
    "start_time": "2024-05-08T12:35:00.648Z"
   },
   {
    "duration": 58,
    "start_time": "2024-05-08T12:35:00.699Z"
   },
   {
    "duration": 120,
    "start_time": "2024-05-08T12:35:00.759Z"
   },
   {
    "duration": 86,
    "start_time": "2024-05-08T12:35:00.881Z"
   },
   {
    "duration": 82,
    "start_time": "2024-05-08T12:35:00.969Z"
   },
   {
    "duration": 84,
    "start_time": "2024-05-08T12:35:01.053Z"
   },
   {
    "duration": 90,
    "start_time": "2024-05-08T12:35:01.139Z"
   },
   {
    "duration": 252,
    "start_time": "2024-05-08T12:35:01.231Z"
   },
   {
    "duration": 201,
    "start_time": "2024-05-08T12:35:01.485Z"
   },
   {
    "duration": 77,
    "start_time": "2024-05-08T12:35:01.688Z"
   },
   {
    "duration": 91,
    "start_time": "2024-05-08T12:35:01.767Z"
   },
   {
    "duration": 176,
    "start_time": "2024-05-08T12:35:01.859Z"
   },
   {
    "duration": 160,
    "start_time": "2024-05-08T12:35:02.037Z"
   },
   {
    "duration": 154,
    "start_time": "2024-05-08T12:35:02.199Z"
   },
   {
    "duration": 88,
    "start_time": "2024-05-08T12:35:02.355Z"
   },
   {
    "duration": 291,
    "start_time": "2024-05-08T12:35:02.445Z"
   },
   {
    "duration": 489,
    "start_time": "2024-05-08T12:35:02.741Z"
   },
   {
    "duration": 231,
    "start_time": "2024-05-08T12:35:03.232Z"
   },
   {
    "duration": 10,
    "start_time": "2024-05-08T12:35:03.464Z"
   },
   {
    "duration": 47,
    "start_time": "2024-05-08T12:35:03.475Z"
   },
   {
    "duration": 44,
    "start_time": "2024-05-08T12:35:03.524Z"
   },
   {
    "duration": 25,
    "start_time": "2024-05-08T12:35:03.570Z"
   },
   {
    "duration": 235,
    "start_time": "2024-05-08T12:35:03.597Z"
   },
   {
    "duration": 232,
    "start_time": "2024-05-08T12:35:03.834Z"
   },
   {
    "duration": 11,
    "start_time": "2024-05-08T12:35:04.068Z"
   },
   {
    "duration": 257,
    "start_time": "2024-05-08T12:35:04.080Z"
   },
   {
    "duration": 248,
    "start_time": "2024-05-08T12:35:04.339Z"
   },
   {
    "duration": 493,
    "start_time": "2024-05-08T12:35:04.588Z"
   },
   {
    "duration": 7,
    "start_time": "2024-05-08T12:35:05.083Z"
   },
   {
    "duration": 490,
    "start_time": "2024-05-08T12:35:05.091Z"
   },
   {
    "duration": 270,
    "start_time": "2024-05-08T12:35:05.583Z"
   },
   {
    "duration": 1291,
    "start_time": "2024-05-08T12:35:05.855Z"
   },
   {
    "duration": 1412,
    "start_time": "2024-05-08T12:35:07.148Z"
   },
   {
    "duration": 12,
    "start_time": "2024-05-08T12:35:08.562Z"
   },
   {
    "duration": 118,
    "start_time": "2024-05-08T12:35:08.575Z"
   },
   {
    "duration": 268,
    "start_time": "2024-05-08T12:35:08.695Z"
   },
   {
    "duration": 261,
    "start_time": "2024-05-08T12:35:08.965Z"
   },
   {
    "duration": 19,
    "start_time": "2024-05-08T12:35:09.228Z"
   },
   {
    "duration": 319,
    "start_time": "2024-05-08T12:35:09.248Z"
   },
   {
    "duration": 17,
    "start_time": "2024-05-08T12:35:09.568Z"
   },
   {
    "duration": 28,
    "start_time": "2024-05-08T12:35:09.587Z"
   },
   {
    "duration": 43,
    "start_time": "2024-05-08T12:35:09.616Z"
   },
   {
    "duration": 140,
    "start_time": "2024-05-08T12:35:09.661Z"
   },
   {
    "duration": 16,
    "start_time": "2024-05-08T12:35:09.803Z"
   },
   {
    "duration": 6,
    "start_time": "2024-05-08T12:35:09.820Z"
   },
   {
    "duration": 26,
    "start_time": "2024-05-08T12:35:09.827Z"
   },
   {
    "duration": 148,
    "start_time": "2024-05-08T12:35:09.855Z"
   },
   {
    "duration": 18,
    "start_time": "2024-05-08T12:35:10.006Z"
   },
   {
    "duration": 32,
    "start_time": "2024-05-08T12:35:10.025Z"
   },
   {
    "duration": 38,
    "start_time": "2024-05-08T12:35:10.059Z"
   },
   {
    "duration": 146,
    "start_time": "2024-05-08T12:35:10.099Z"
   },
   {
    "duration": 24,
    "start_time": "2024-05-08T12:35:10.246Z"
   },
   {
    "duration": 37,
    "start_time": "2024-05-08T12:35:10.272Z"
   },
   {
    "duration": 35,
    "start_time": "2024-05-08T12:35:10.310Z"
   },
   {
    "duration": 52,
    "start_time": "2024-05-08T12:35:10.346Z"
   },
   {
    "duration": 151,
    "start_time": "2024-05-08T12:35:10.401Z"
   },
   {
    "duration": 25,
    "start_time": "2024-05-08T12:35:10.554Z"
   },
   {
    "duration": 140,
    "start_time": "2024-05-08T12:35:10.581Z"
   },
   {
    "duration": 32,
    "start_time": "2024-05-08T12:35:10.723Z"
   },
   {
    "duration": 153,
    "start_time": "2024-05-08T12:35:10.757Z"
   },
   {
    "duration": 19,
    "start_time": "2024-05-08T12:35:10.912Z"
   },
   {
    "duration": 246,
    "start_time": "2024-05-08T12:35:10.932Z"
   },
   {
    "duration": 11,
    "start_time": "2024-05-08T12:35:11.180Z"
   },
   {
    "duration": 38,
    "start_time": "2024-05-08T12:35:11.193Z"
   },
   {
    "duration": 27,
    "start_time": "2024-05-08T12:35:11.233Z"
   },
   {
    "duration": 32,
    "start_time": "2024-05-08T12:35:11.261Z"
   },
   {
    "duration": 52,
    "start_time": "2024-05-08T12:35:11.295Z"
   },
   {
    "duration": 31,
    "start_time": "2024-05-08T12:35:11.349Z"
   },
   {
    "duration": 1071,
    "start_time": "2024-05-08T12:55:31.628Z"
   },
   {
    "duration": 67,
    "start_time": "2024-05-08T12:55:32.701Z"
   },
   {
    "duration": 14,
    "start_time": "2024-05-08T12:55:32.769Z"
   },
   {
    "duration": 67,
    "start_time": "2024-05-08T12:55:32.785Z"
   },
   {
    "duration": 13,
    "start_time": "2024-05-08T12:55:32.853Z"
   },
   {
    "duration": 22,
    "start_time": "2024-05-08T12:55:32.867Z"
   },
   {
    "duration": 35,
    "start_time": "2024-05-08T12:55:32.891Z"
   },
   {
    "duration": 55,
    "start_time": "2024-05-08T12:55:32.927Z"
   },
   {
    "duration": 15,
    "start_time": "2024-05-08T12:55:32.984Z"
   },
   {
    "duration": 21,
    "start_time": "2024-05-08T12:55:33.001Z"
   },
   {
    "duration": 27,
    "start_time": "2024-05-08T12:55:33.023Z"
   },
   {
    "duration": 32,
    "start_time": "2024-05-08T12:55:33.051Z"
   },
   {
    "duration": 37,
    "start_time": "2024-05-08T12:55:33.084Z"
   },
   {
    "duration": 24,
    "start_time": "2024-05-08T12:55:33.123Z"
   },
   {
    "duration": 11,
    "start_time": "2024-05-08T12:55:33.148Z"
   },
   {
    "duration": 26,
    "start_time": "2024-05-08T12:55:33.161Z"
   },
   {
    "duration": 33,
    "start_time": "2024-05-08T12:55:33.189Z"
   },
   {
    "duration": 40,
    "start_time": "2024-05-08T12:55:33.223Z"
   },
   {
    "duration": 33,
    "start_time": "2024-05-08T12:55:33.265Z"
   },
   {
    "duration": 32,
    "start_time": "2024-05-08T12:55:33.300Z"
   },
   {
    "duration": 3,
    "start_time": "2024-05-08T12:55:33.334Z"
   },
   {
    "duration": 52,
    "start_time": "2024-05-08T12:55:33.339Z"
   },
   {
    "duration": 31,
    "start_time": "2024-05-08T12:55:33.393Z"
   },
   {
    "duration": 18,
    "start_time": "2024-05-08T12:55:33.426Z"
   },
   {
    "duration": 25,
    "start_time": "2024-05-08T12:55:33.445Z"
   },
   {
    "duration": 32,
    "start_time": "2024-05-08T12:55:33.471Z"
   },
   {
    "duration": 37,
    "start_time": "2024-05-08T12:55:33.505Z"
   },
   {
    "duration": 421,
    "start_time": "2024-05-08T12:55:33.546Z"
   },
   {
    "duration": 226,
    "start_time": "2024-05-08T12:55:33.968Z"
   },
   {
    "duration": 7,
    "start_time": "2024-05-08T12:55:34.195Z"
   },
   {
    "duration": 23,
    "start_time": "2024-05-08T12:55:34.204Z"
   },
   {
    "duration": 33,
    "start_time": "2024-05-08T12:55:34.229Z"
   },
   {
    "duration": 30,
    "start_time": "2024-05-08T12:55:34.263Z"
   },
   {
    "duration": 199,
    "start_time": "2024-05-08T12:55:34.295Z"
   },
   {
    "duration": 236,
    "start_time": "2024-05-08T12:55:34.496Z"
   },
   {
    "duration": 9,
    "start_time": "2024-05-08T12:55:34.734Z"
   },
   {
    "duration": 207,
    "start_time": "2024-05-08T12:55:34.745Z"
   },
   {
    "duration": 205,
    "start_time": "2024-05-08T12:55:34.954Z"
   },
   {
    "duration": 406,
    "start_time": "2024-05-08T12:55:35.165Z"
   },
   {
    "duration": 6,
    "start_time": "2024-05-08T12:55:35.573Z"
   },
   {
    "duration": 519,
    "start_time": "2024-05-08T12:55:35.581Z"
   },
   {
    "duration": 251,
    "start_time": "2024-05-08T12:55:36.101Z"
   },
   {
    "duration": 1122,
    "start_time": "2024-05-08T12:55:36.354Z"
   },
   {
    "duration": 1264,
    "start_time": "2024-05-08T12:55:37.477Z"
   },
   {
    "duration": 7,
    "start_time": "2024-05-08T12:55:38.742Z"
   },
   {
    "duration": 51,
    "start_time": "2024-05-08T12:55:38.750Z"
   },
   {
    "duration": 258,
    "start_time": "2024-05-08T12:55:38.803Z"
   },
   {
    "duration": 241,
    "start_time": "2024-05-08T12:55:39.064Z"
   },
   {
    "duration": 19,
    "start_time": "2024-05-08T12:55:39.306Z"
   },
   {
    "duration": 300,
    "start_time": "2024-05-08T12:55:39.327Z"
   },
   {
    "duration": 17,
    "start_time": "2024-05-08T12:55:39.629Z"
   },
   {
    "duration": 23,
    "start_time": "2024-05-08T12:55:39.648Z"
   },
   {
    "duration": 35,
    "start_time": "2024-05-08T12:55:39.673Z"
   },
   {
    "duration": 133,
    "start_time": "2024-05-08T12:55:39.710Z"
   },
   {
    "duration": 25,
    "start_time": "2024-05-08T12:55:39.845Z"
   },
   {
    "duration": 5,
    "start_time": "2024-05-08T12:55:39.871Z"
   },
   {
    "duration": 44,
    "start_time": "2024-05-08T12:55:39.877Z"
   },
   {
    "duration": 110,
    "start_time": "2024-05-08T12:55:39.922Z"
   },
   {
    "duration": 15,
    "start_time": "2024-05-08T12:55:40.034Z"
   },
   {
    "duration": 22,
    "start_time": "2024-05-08T12:55:40.050Z"
   },
   {
    "duration": 17,
    "start_time": "2024-05-08T12:55:40.074Z"
   },
   {
    "duration": 125,
    "start_time": "2024-05-08T12:55:40.093Z"
   },
   {
    "duration": 14,
    "start_time": "2024-05-08T12:55:40.220Z"
   },
   {
    "duration": 15,
    "start_time": "2024-05-08T12:55:40.235Z"
   },
   {
    "duration": 17,
    "start_time": "2024-05-08T12:55:40.252Z"
   },
   {
    "duration": 26,
    "start_time": "2024-05-08T12:55:40.270Z"
   },
   {
    "duration": 161,
    "start_time": "2024-05-08T12:55:40.298Z"
   },
   {
    "duration": 23,
    "start_time": "2024-05-08T12:55:40.460Z"
   },
   {
    "duration": 137,
    "start_time": "2024-05-08T12:55:40.484Z"
   },
   {
    "duration": 23,
    "start_time": "2024-05-08T12:55:40.623Z"
   },
   {
    "duration": 148,
    "start_time": "2024-05-08T12:55:40.648Z"
   },
   {
    "duration": 18,
    "start_time": "2024-05-08T12:55:40.798Z"
   },
   {
    "duration": 225,
    "start_time": "2024-05-08T12:55:40.817Z"
   },
   {
    "duration": 10,
    "start_time": "2024-05-08T12:55:41.043Z"
   },
   {
    "duration": 18,
    "start_time": "2024-05-08T12:55:41.054Z"
   },
   {
    "duration": 5,
    "start_time": "2024-05-08T12:55:41.073Z"
   },
   {
    "duration": 12,
    "start_time": "2024-05-08T12:55:41.079Z"
   },
   {
    "duration": 15,
    "start_time": "2024-05-08T12:55:41.093Z"
   },
   {
    "duration": 8,
    "start_time": "2024-05-08T12:55:41.109Z"
   },
   {
    "duration": 11,
    "start_time": "2024-05-08T12:56:18.648Z"
   },
   {
    "duration": 1133,
    "start_time": "2024-05-08T12:56:24.473Z"
   },
   {
    "duration": 65,
    "start_time": "2024-05-08T12:56:25.608Z"
   },
   {
    "duration": 13,
    "start_time": "2024-05-08T12:56:25.675Z"
   },
   {
    "duration": 27,
    "start_time": "2024-05-08T12:56:25.690Z"
   },
   {
    "duration": 14,
    "start_time": "2024-05-08T12:56:25.719Z"
   },
   {
    "duration": 8,
    "start_time": "2024-05-08T12:56:25.734Z"
   },
   {
    "duration": 6,
    "start_time": "2024-05-08T12:56:25.766Z"
   },
   {
    "duration": 16,
    "start_time": "2024-05-08T12:56:25.773Z"
   },
   {
    "duration": 6,
    "start_time": "2024-05-08T12:56:25.790Z"
   },
   {
    "duration": 13,
    "start_time": "2024-05-08T12:56:25.799Z"
   },
   {
    "duration": 18,
    "start_time": "2024-05-08T12:56:25.814Z"
   },
   {
    "duration": 47,
    "start_time": "2024-05-08T12:56:25.833Z"
   },
   {
    "duration": 9,
    "start_time": "2024-05-08T12:56:25.882Z"
   },
   {
    "duration": 6,
    "start_time": "2024-05-08T12:56:25.892Z"
   },
   {
    "duration": 9,
    "start_time": "2024-05-08T12:56:25.900Z"
   },
   {
    "duration": 6,
    "start_time": "2024-05-08T12:56:25.910Z"
   },
   {
    "duration": 9,
    "start_time": "2024-05-08T12:56:25.918Z"
   },
   {
    "duration": 8,
    "start_time": "2024-05-08T12:56:25.928Z"
   },
   {
    "duration": 44,
    "start_time": "2024-05-08T12:56:25.937Z"
   },
   {
    "duration": 20,
    "start_time": "2024-05-08T12:56:25.983Z"
   },
   {
    "duration": 4,
    "start_time": "2024-05-08T12:56:26.004Z"
   },
   {
    "duration": 14,
    "start_time": "2024-05-08T12:56:26.010Z"
   },
   {
    "duration": 40,
    "start_time": "2024-05-08T12:56:26.025Z"
   },
   {
    "duration": 9,
    "start_time": "2024-05-08T12:56:26.067Z"
   },
   {
    "duration": 4,
    "start_time": "2024-05-08T12:56:26.077Z"
   },
   {
    "duration": 12,
    "start_time": "2024-05-08T12:56:26.082Z"
   },
   {
    "duration": 34,
    "start_time": "2024-05-08T12:56:26.096Z"
   },
   {
    "duration": 10,
    "start_time": "2024-05-08T12:56:26.134Z"
   },
   {
    "duration": 441,
    "start_time": "2024-05-08T12:56:26.145Z"
   },
   {
    "duration": 213,
    "start_time": "2024-05-08T12:56:26.588Z"
   },
   {
    "duration": 7,
    "start_time": "2024-05-08T12:56:26.802Z"
   },
   {
    "duration": 20,
    "start_time": "2024-05-08T12:56:26.810Z"
   },
   {
    "duration": 14,
    "start_time": "2024-05-08T12:56:26.831Z"
   },
   {
    "duration": 27,
    "start_time": "2024-05-08T12:56:26.847Z"
   },
   {
    "duration": 236,
    "start_time": "2024-05-08T12:56:26.875Z"
   },
   {
    "duration": 216,
    "start_time": "2024-05-08T12:56:27.113Z"
   },
   {
    "duration": 8,
    "start_time": "2024-05-08T12:56:27.331Z"
   },
   {
    "duration": 225,
    "start_time": "2024-05-08T12:56:27.341Z"
   },
   {
    "duration": 230,
    "start_time": "2024-05-08T12:56:27.568Z"
   },
   {
    "duration": 414,
    "start_time": "2024-05-08T12:56:27.800Z"
   },
   {
    "duration": 7,
    "start_time": "2024-05-08T12:56:28.215Z"
   },
   {
    "duration": 436,
    "start_time": "2024-05-08T12:56:28.223Z"
   },
   {
    "duration": 238,
    "start_time": "2024-05-08T12:56:28.661Z"
   },
   {
    "duration": 1178,
    "start_time": "2024-05-08T12:56:28.901Z"
   },
   {
    "duration": 1270,
    "start_time": "2024-05-08T12:56:30.081Z"
   },
   {
    "duration": 13,
    "start_time": "2024-05-08T12:56:31.353Z"
   },
   {
    "duration": 56,
    "start_time": "2024-05-08T12:56:31.367Z"
   },
   {
    "duration": 264,
    "start_time": "2024-05-08T12:56:31.425Z"
   },
   {
    "duration": 249,
    "start_time": "2024-05-08T12:56:31.690Z"
   },
   {
    "duration": 25,
    "start_time": "2024-05-08T12:56:31.941Z"
   },
   {
    "duration": 288,
    "start_time": "2024-05-08T12:56:31.968Z"
   },
   {
    "duration": 21,
    "start_time": "2024-05-08T12:56:32.257Z"
   },
   {
    "duration": 8,
    "start_time": "2024-05-08T12:56:32.279Z"
   },
   {
    "duration": 13,
    "start_time": "2024-05-08T12:56:32.288Z"
   },
   {
    "duration": 129,
    "start_time": "2024-05-08T12:56:32.303Z"
   },
   {
    "duration": 15,
    "start_time": "2024-05-08T12:56:32.434Z"
   },
   {
    "duration": 18,
    "start_time": "2024-05-08T12:56:32.450Z"
   },
   {
    "duration": 12,
    "start_time": "2024-05-08T12:56:32.470Z"
   },
   {
    "duration": 121,
    "start_time": "2024-05-08T12:56:32.484Z"
   },
   {
    "duration": 15,
    "start_time": "2024-05-08T12:56:32.607Z"
   },
   {
    "duration": 9,
    "start_time": "2024-05-08T12:56:32.623Z"
   },
   {
    "duration": 34,
    "start_time": "2024-05-08T12:56:32.634Z"
   },
   {
    "duration": 121,
    "start_time": "2024-05-08T12:56:32.669Z"
   },
   {
    "duration": 16,
    "start_time": "2024-05-08T12:56:32.792Z"
   },
   {
    "duration": 19,
    "start_time": "2024-05-08T12:56:32.809Z"
   },
   {
    "duration": 18,
    "start_time": "2024-05-08T12:56:32.830Z"
   },
   {
    "duration": 20,
    "start_time": "2024-05-08T12:56:32.849Z"
   },
   {
    "duration": 126,
    "start_time": "2024-05-08T12:56:32.870Z"
   },
   {
    "duration": 22,
    "start_time": "2024-05-08T12:56:32.998Z"
   },
   {
    "duration": 137,
    "start_time": "2024-05-08T12:56:33.021Z"
   },
   {
    "duration": 20,
    "start_time": "2024-05-08T12:56:33.164Z"
   },
   {
    "duration": 128,
    "start_time": "2024-05-08T12:56:33.185Z"
   },
   {
    "duration": 17,
    "start_time": "2024-05-08T12:56:33.315Z"
   },
   {
    "duration": 219,
    "start_time": "2024-05-08T12:56:33.334Z"
   },
   {
    "duration": 15,
    "start_time": "2024-05-08T12:56:33.554Z"
   },
   {
    "duration": 24,
    "start_time": "2024-05-08T12:56:33.570Z"
   },
   {
    "duration": 6,
    "start_time": "2024-05-08T12:56:33.596Z"
   },
   {
    "duration": 14,
    "start_time": "2024-05-08T12:56:33.603Z"
   },
   {
    "duration": 18,
    "start_time": "2024-05-08T12:56:33.618Z"
   },
   {
    "duration": 5,
    "start_time": "2024-05-08T12:56:33.637Z"
   },
   {
    "duration": 358,
    "start_time": "2024-05-08T12:59:30.443Z"
   },
   {
    "duration": 1106,
    "start_time": "2024-05-08T12:59:37.600Z"
   },
   {
    "duration": 64,
    "start_time": "2024-05-08T12:59:38.707Z"
   },
   {
    "duration": 12,
    "start_time": "2024-05-08T12:59:38.773Z"
   },
   {
    "duration": 28,
    "start_time": "2024-05-08T12:59:38.787Z"
   },
   {
    "duration": 13,
    "start_time": "2024-05-08T12:59:38.817Z"
   },
   {
    "duration": 12,
    "start_time": "2024-05-08T12:59:38.831Z"
   },
   {
    "duration": 25,
    "start_time": "2024-05-08T12:59:38.844Z"
   },
   {
    "duration": 28,
    "start_time": "2024-05-08T12:59:38.871Z"
   },
   {
    "duration": 58,
    "start_time": "2024-05-08T12:59:38.900Z"
   },
   {
    "duration": 37,
    "start_time": "2024-05-08T12:59:38.960Z"
   },
   {
    "duration": 9,
    "start_time": "2024-05-08T12:59:38.999Z"
   },
   {
    "duration": 32,
    "start_time": "2024-05-08T12:59:39.009Z"
   },
   {
    "duration": 7,
    "start_time": "2024-05-08T12:59:39.042Z"
   },
   {
    "duration": 8,
    "start_time": "2024-05-08T12:59:39.051Z"
   },
   {
    "duration": 11,
    "start_time": "2024-05-08T12:59:39.061Z"
   },
   {
    "duration": 7,
    "start_time": "2024-05-08T12:59:39.073Z"
   },
   {
    "duration": 8,
    "start_time": "2024-05-08T12:59:39.081Z"
   },
   {
    "duration": 6,
    "start_time": "2024-05-08T12:59:39.091Z"
   },
   {
    "duration": 39,
    "start_time": "2024-05-08T12:59:39.098Z"
   },
   {
    "duration": 18,
    "start_time": "2024-05-08T12:59:39.138Z"
   },
   {
    "duration": 3,
    "start_time": "2024-05-08T12:59:39.158Z"
   },
   {
    "duration": 18,
    "start_time": "2024-05-08T12:59:39.162Z"
   },
   {
    "duration": 18,
    "start_time": "2024-05-08T12:59:39.181Z"
   },
   {
    "duration": 9,
    "start_time": "2024-05-08T12:59:39.200Z"
   },
   {
    "duration": 3,
    "start_time": "2024-05-08T12:59:39.210Z"
   },
   {
    "duration": 16,
    "start_time": "2024-05-08T12:59:39.214Z"
   },
   {
    "duration": 36,
    "start_time": "2024-05-08T12:59:39.232Z"
   },
   {
    "duration": 9,
    "start_time": "2024-05-08T12:59:39.272Z"
   },
   {
    "duration": 458,
    "start_time": "2024-05-08T12:59:39.283Z"
   },
   {
    "duration": 239,
    "start_time": "2024-05-08T12:59:39.742Z"
   },
   {
    "duration": 6,
    "start_time": "2024-05-08T12:59:39.983Z"
   },
   {
    "duration": 12,
    "start_time": "2024-05-08T12:59:39.991Z"
   },
   {
    "duration": 46,
    "start_time": "2024-05-08T12:59:40.004Z"
   },
   {
    "duration": 14,
    "start_time": "2024-05-08T12:59:40.051Z"
   },
   {
    "duration": 212,
    "start_time": "2024-05-08T12:59:40.066Z"
   },
   {
    "duration": 213,
    "start_time": "2024-05-08T12:59:40.279Z"
   },
   {
    "duration": 9,
    "start_time": "2024-05-08T12:59:40.494Z"
   },
   {
    "duration": 219,
    "start_time": "2024-05-08T12:59:40.504Z"
   },
   {
    "duration": 219,
    "start_time": "2024-05-08T12:59:40.724Z"
   },
   {
    "duration": 427,
    "start_time": "2024-05-08T12:59:40.944Z"
   },
   {
    "duration": 6,
    "start_time": "2024-05-08T12:59:41.372Z"
   },
   {
    "duration": 399,
    "start_time": "2024-05-08T12:59:41.379Z"
   },
   {
    "duration": 228,
    "start_time": "2024-05-08T12:59:41.780Z"
   },
   {
    "duration": 257,
    "start_time": "2024-05-08T12:59:42.009Z"
   },
   {
    "duration": 1126,
    "start_time": "2024-05-08T12:59:42.268Z"
   },
   {
    "duration": 1244,
    "start_time": "2024-05-08T12:59:43.395Z"
   },
   {
    "duration": 7,
    "start_time": "2024-05-08T12:59:44.641Z"
   },
   {
    "duration": 37,
    "start_time": "2024-05-08T12:59:44.649Z"
   },
   {
    "duration": 216,
    "start_time": "2024-05-08T12:59:44.688Z"
   },
   {
    "duration": 231,
    "start_time": "2024-05-08T12:59:44.905Z"
   },
   {
    "duration": 19,
    "start_time": "2024-05-08T12:59:45.137Z"
   },
   {
    "duration": 296,
    "start_time": "2024-05-08T12:59:45.157Z"
   },
   {
    "duration": 23,
    "start_time": "2024-05-08T12:59:45.454Z"
   },
   {
    "duration": 24,
    "start_time": "2024-05-08T12:59:45.479Z"
   },
   {
    "duration": 41,
    "start_time": "2024-05-08T12:59:45.505Z"
   },
   {
    "duration": 146,
    "start_time": "2024-05-08T12:59:45.547Z"
   },
   {
    "duration": 16,
    "start_time": "2024-05-08T12:59:45.694Z"
   },
   {
    "duration": 10,
    "start_time": "2024-05-08T12:59:45.711Z"
   },
   {
    "duration": 42,
    "start_time": "2024-05-08T12:59:45.723Z"
   },
   {
    "duration": 153,
    "start_time": "2024-05-08T12:59:45.766Z"
   },
   {
    "duration": 16,
    "start_time": "2024-05-08T12:59:45.921Z"
   },
   {
    "duration": 25,
    "start_time": "2024-05-08T12:59:45.939Z"
   },
   {
    "duration": 36,
    "start_time": "2024-05-08T12:59:45.966Z"
   },
   {
    "duration": 117,
    "start_time": "2024-05-08T12:59:46.003Z"
   },
   {
    "duration": 15,
    "start_time": "2024-05-08T12:59:46.122Z"
   },
   {
    "duration": 15,
    "start_time": "2024-05-08T12:59:46.138Z"
   },
   {
    "duration": 33,
    "start_time": "2024-05-08T12:59:46.154Z"
   },
   {
    "duration": 22,
    "start_time": "2024-05-08T12:59:46.189Z"
   },
   {
    "duration": 137,
    "start_time": "2024-05-08T12:59:46.213Z"
   },
   {
    "duration": 29,
    "start_time": "2024-05-08T12:59:46.352Z"
   },
   {
    "duration": 134,
    "start_time": "2024-05-08T12:59:46.382Z"
   },
   {
    "duration": 22,
    "start_time": "2024-05-08T12:59:46.517Z"
   },
   {
    "duration": 142,
    "start_time": "2024-05-08T12:59:46.540Z"
   },
   {
    "duration": 18,
    "start_time": "2024-05-08T12:59:46.684Z"
   },
   {
    "duration": 340,
    "start_time": "2024-05-08T12:59:46.704Z"
   },
   {
    "duration": 20,
    "start_time": "2024-05-08T12:59:47.046Z"
   },
   {
    "duration": 13,
    "start_time": "2024-05-08T12:59:47.067Z"
   },
   {
    "duration": 14,
    "start_time": "2024-05-08T12:59:47.082Z"
   },
   {
    "duration": 36,
    "start_time": "2024-05-08T12:59:47.097Z"
   },
   {
    "duration": 19,
    "start_time": "2024-05-08T12:59:47.135Z"
   },
   {
    "duration": 22,
    "start_time": "2024-05-08T12:59:47.156Z"
   },
   {
    "duration": 1136,
    "start_time": "2024-05-08T13:00:30.652Z"
   },
   {
    "duration": 69,
    "start_time": "2024-05-08T13:00:31.790Z"
   },
   {
    "duration": 14,
    "start_time": "2024-05-08T13:00:31.860Z"
   },
   {
    "duration": 71,
    "start_time": "2024-05-08T13:00:31.876Z"
   },
   {
    "duration": 14,
    "start_time": "2024-05-08T13:00:31.948Z"
   },
   {
    "duration": 80,
    "start_time": "2024-05-08T13:00:31.964Z"
   },
   {
    "duration": 54,
    "start_time": "2024-05-08T13:00:32.046Z"
   },
   {
    "duration": 60,
    "start_time": "2024-05-08T13:00:32.101Z"
   },
   {
    "duration": 26,
    "start_time": "2024-05-08T13:00:32.163Z"
   },
   {
    "duration": 47,
    "start_time": "2024-05-08T13:00:32.192Z"
   },
   {
    "duration": 73,
    "start_time": "2024-05-08T13:00:32.240Z"
   },
   {
    "duration": 34,
    "start_time": "2024-05-08T13:00:32.315Z"
   },
   {
    "duration": 17,
    "start_time": "2024-05-08T13:00:32.351Z"
   },
   {
    "duration": 38,
    "start_time": "2024-05-08T13:00:32.369Z"
   },
   {
    "duration": 26,
    "start_time": "2024-05-08T13:00:32.408Z"
   },
   {
    "duration": 28,
    "start_time": "2024-05-08T13:00:32.435Z"
   },
   {
    "duration": 21,
    "start_time": "2024-05-08T13:00:32.464Z"
   },
   {
    "duration": 31,
    "start_time": "2024-05-08T13:00:32.486Z"
   },
   {
    "duration": 60,
    "start_time": "2024-05-08T13:00:32.519Z"
   },
   {
    "duration": 19,
    "start_time": "2024-05-08T13:00:32.580Z"
   },
   {
    "duration": 5,
    "start_time": "2024-05-08T13:00:32.600Z"
   },
   {
    "duration": 28,
    "start_time": "2024-05-08T13:00:32.607Z"
   },
   {
    "duration": 19,
    "start_time": "2024-05-08T13:00:32.636Z"
   },
   {
    "duration": 12,
    "start_time": "2024-05-08T13:00:32.656Z"
   },
   {
    "duration": 3,
    "start_time": "2024-05-08T13:00:32.669Z"
   },
   {
    "duration": 14,
    "start_time": "2024-05-08T13:00:32.673Z"
   },
   {
    "duration": 21,
    "start_time": "2024-05-08T13:00:32.688Z"
   },
   {
    "duration": 10,
    "start_time": "2024-05-08T13:00:32.713Z"
   },
   {
    "duration": 359,
    "start_time": "2024-05-08T13:00:32.724Z"
   },
   {
    "duration": 149,
    "start_time": "2024-05-08T13:00:33.085Z"
   },
   {
    "duration": 7,
    "start_time": "2024-05-08T13:00:33.235Z"
   },
   {
    "duration": 7,
    "start_time": "2024-05-08T13:00:33.243Z"
   },
   {
    "duration": 14,
    "start_time": "2024-05-08T13:00:33.265Z"
   },
   {
    "duration": 13,
    "start_time": "2024-05-08T13:00:33.281Z"
   },
   {
    "duration": 175,
    "start_time": "2024-05-08T13:00:33.296Z"
   },
   {
    "duration": 168,
    "start_time": "2024-05-08T13:00:33.473Z"
   },
   {
    "duration": 10,
    "start_time": "2024-05-08T13:00:33.642Z"
   },
   {
    "duration": 190,
    "start_time": "2024-05-08T13:00:33.653Z"
   },
   {
    "duration": 191,
    "start_time": "2024-05-08T13:00:33.845Z"
   },
   {
    "duration": 381,
    "start_time": "2024-05-08T13:00:34.037Z"
   },
   {
    "duration": 6,
    "start_time": "2024-05-08T13:00:34.420Z"
   },
   {
    "duration": 345,
    "start_time": "2024-05-08T13:00:34.427Z"
   },
   {
    "duration": 203,
    "start_time": "2024-05-08T13:00:34.773Z"
   },
   {
    "duration": 250,
    "start_time": "2024-05-08T13:00:34.978Z"
   },
   {
    "duration": 865,
    "start_time": "2024-05-08T13:00:35.230Z"
   },
   {
    "duration": 946,
    "start_time": "2024-05-08T13:00:36.097Z"
   },
   {
    "duration": 6,
    "start_time": "2024-05-08T13:00:37.045Z"
   },
   {
    "duration": 36,
    "start_time": "2024-05-08T13:00:37.052Z"
   },
   {
    "duration": 184,
    "start_time": "2024-05-08T13:00:37.089Z"
   },
   {
    "duration": 182,
    "start_time": "2024-05-08T13:00:37.275Z"
   },
   {
    "duration": 21,
    "start_time": "2024-05-08T13:00:37.459Z"
   },
   {
    "duration": 241,
    "start_time": "2024-05-08T13:00:37.482Z"
   },
   {
    "duration": 16,
    "start_time": "2024-05-08T13:00:37.725Z"
   },
   {
    "duration": 23,
    "start_time": "2024-05-08T13:00:37.743Z"
   },
   {
    "duration": 35,
    "start_time": "2024-05-08T13:00:37.768Z"
   },
   {
    "duration": 110,
    "start_time": "2024-05-08T13:00:37.805Z"
   },
   {
    "duration": 16,
    "start_time": "2024-05-08T13:00:37.916Z"
   },
   {
    "duration": 5,
    "start_time": "2024-05-08T13:00:37.933Z"
   },
   {
    "duration": 28,
    "start_time": "2024-05-08T13:00:37.940Z"
   },
   {
    "duration": 114,
    "start_time": "2024-05-08T13:00:37.970Z"
   },
   {
    "duration": 16,
    "start_time": "2024-05-08T13:00:38.086Z"
   },
   {
    "duration": 10,
    "start_time": "2024-05-08T13:00:38.104Z"
   },
   {
    "duration": 17,
    "start_time": "2024-05-08T13:00:38.115Z"
   },
   {
    "duration": 133,
    "start_time": "2024-05-08T13:00:38.133Z"
   },
   {
    "duration": 15,
    "start_time": "2024-05-08T13:00:38.268Z"
   },
   {
    "duration": 6,
    "start_time": "2024-05-08T13:00:38.284Z"
   },
   {
    "duration": 12,
    "start_time": "2024-05-08T13:00:38.292Z"
   },
   {
    "duration": 14,
    "start_time": "2024-05-08T13:00:38.305Z"
   },
   {
    "duration": 147,
    "start_time": "2024-05-08T13:00:38.321Z"
   },
   {
    "duration": 24,
    "start_time": "2024-05-08T13:00:38.470Z"
   },
   {
    "duration": 121,
    "start_time": "2024-05-08T13:00:38.496Z"
   },
   {
    "duration": 22,
    "start_time": "2024-05-08T13:00:38.619Z"
   },
   {
    "duration": 128,
    "start_time": "2024-05-08T13:00:38.643Z"
   },
   {
    "duration": 17,
    "start_time": "2024-05-08T13:00:38.773Z"
   },
   {
    "duration": 313,
    "start_time": "2024-05-08T13:00:38.792Z"
   },
   {
    "duration": 10,
    "start_time": "2024-05-08T13:00:39.106Z"
   },
   {
    "duration": 10,
    "start_time": "2024-05-08T13:00:39.117Z"
   },
   {
    "duration": 10,
    "start_time": "2024-05-08T13:00:39.128Z"
   },
   {
    "duration": 33,
    "start_time": "2024-05-08T13:00:39.139Z"
   },
   {
    "duration": 10,
    "start_time": "2024-05-08T13:00:39.173Z"
   },
   {
    "duration": 5,
    "start_time": "2024-05-08T13:00:39.185Z"
   },
   {
    "duration": 1133,
    "start_time": "2024-05-08T13:00:51.356Z"
   },
   {
    "duration": 69,
    "start_time": "2024-05-08T13:00:52.491Z"
   },
   {
    "duration": 14,
    "start_time": "2024-05-08T13:00:52.561Z"
   },
   {
    "duration": 28,
    "start_time": "2024-05-08T13:00:52.577Z"
   },
   {
    "duration": 12,
    "start_time": "2024-05-08T13:00:52.607Z"
   },
   {
    "duration": 17,
    "start_time": "2024-05-08T13:00:52.621Z"
   },
   {
    "duration": 16,
    "start_time": "2024-05-08T13:00:52.639Z"
   },
   {
    "duration": 21,
    "start_time": "2024-05-08T13:00:52.657Z"
   },
   {
    "duration": 7,
    "start_time": "2024-05-08T13:00:52.680Z"
   },
   {
    "duration": 14,
    "start_time": "2024-05-08T13:00:52.689Z"
   },
   {
    "duration": 13,
    "start_time": "2024-05-08T13:00:52.705Z"
   },
   {
    "duration": 32,
    "start_time": "2024-05-08T13:00:52.719Z"
   },
   {
    "duration": 17,
    "start_time": "2024-05-08T13:00:52.753Z"
   },
   {
    "duration": 4,
    "start_time": "2024-05-08T13:00:52.772Z"
   },
   {
    "duration": 7,
    "start_time": "2024-05-08T13:00:52.777Z"
   },
   {
    "duration": 15,
    "start_time": "2024-05-08T13:00:52.785Z"
   },
   {
    "duration": 10,
    "start_time": "2024-05-08T13:00:52.802Z"
   },
   {
    "duration": 19,
    "start_time": "2024-05-08T13:00:52.813Z"
   },
   {
    "duration": 20,
    "start_time": "2024-05-08T13:00:52.834Z"
   },
   {
    "duration": 30,
    "start_time": "2024-05-08T13:00:52.855Z"
   },
   {
    "duration": 4,
    "start_time": "2024-05-08T13:00:52.886Z"
   },
   {
    "duration": 13,
    "start_time": "2024-05-08T13:00:52.891Z"
   },
   {
    "duration": 19,
    "start_time": "2024-05-08T13:00:52.905Z"
   },
   {
    "duration": 9,
    "start_time": "2024-05-08T13:00:52.925Z"
   },
   {
    "duration": 3,
    "start_time": "2024-05-08T13:00:52.936Z"
   },
   {
    "duration": 36,
    "start_time": "2024-05-08T13:00:52.940Z"
   },
   {
    "duration": 21,
    "start_time": "2024-05-08T13:00:52.978Z"
   },
   {
    "duration": 9,
    "start_time": "2024-05-08T13:00:53.003Z"
   },
   {
    "duration": 448,
    "start_time": "2024-05-08T13:00:53.013Z"
   },
   {
    "duration": 232,
    "start_time": "2024-05-08T13:00:53.462Z"
   },
   {
    "duration": 6,
    "start_time": "2024-05-08T13:00:53.696Z"
   },
   {
    "duration": 9,
    "start_time": "2024-05-08T13:00:53.704Z"
   },
   {
    "duration": 24,
    "start_time": "2024-05-08T13:00:53.715Z"
   },
   {
    "duration": 25,
    "start_time": "2024-05-08T13:00:53.740Z"
   },
   {
    "duration": 226,
    "start_time": "2024-05-08T13:00:53.767Z"
   },
   {
    "duration": 216,
    "start_time": "2024-05-08T13:00:53.994Z"
   },
   {
    "duration": 10,
    "start_time": "2024-05-08T13:00:54.212Z"
   },
   {
    "duration": 219,
    "start_time": "2024-05-08T13:00:54.223Z"
   },
   {
    "duration": 221,
    "start_time": "2024-05-08T13:00:54.444Z"
   },
   {
    "duration": 436,
    "start_time": "2024-05-08T13:00:54.666Z"
   },
   {
    "duration": 7,
    "start_time": "2024-05-08T13:00:55.103Z"
   },
   {
    "duration": 453,
    "start_time": "2024-05-08T13:00:55.112Z"
   },
   {
    "duration": 250,
    "start_time": "2024-05-08T13:00:55.566Z"
   },
   {
    "duration": 251,
    "start_time": "2024-05-08T13:00:55.818Z"
   },
   {
    "duration": 1141,
    "start_time": "2024-05-08T13:00:56.070Z"
   },
   {
    "duration": 1303,
    "start_time": "2024-05-08T13:00:57.213Z"
   },
   {
    "duration": 6,
    "start_time": "2024-05-08T13:00:58.518Z"
   },
   {
    "duration": 47,
    "start_time": "2024-05-08T13:00:58.525Z"
   },
   {
    "duration": 233,
    "start_time": "2024-05-08T13:00:58.573Z"
   },
   {
    "duration": 259,
    "start_time": "2024-05-08T13:00:58.807Z"
   },
   {
    "duration": 18,
    "start_time": "2024-05-08T13:00:59.068Z"
   },
   {
    "duration": 294,
    "start_time": "2024-05-08T13:00:59.088Z"
   },
   {
    "duration": 15,
    "start_time": "2024-05-08T13:00:59.384Z"
   },
   {
    "duration": 10,
    "start_time": "2024-05-08T13:00:59.400Z"
   },
   {
    "duration": 14,
    "start_time": "2024-05-08T13:00:59.411Z"
   },
   {
    "duration": 145,
    "start_time": "2024-05-08T13:00:59.427Z"
   },
   {
    "duration": 20,
    "start_time": "2024-05-08T13:00:59.574Z"
   },
   {
    "duration": 6,
    "start_time": "2024-05-08T13:00:59.596Z"
   },
   {
    "duration": 18,
    "start_time": "2024-05-08T13:00:59.604Z"
   },
   {
    "duration": 158,
    "start_time": "2024-05-08T13:00:59.623Z"
   },
   {
    "duration": 23,
    "start_time": "2024-05-08T13:00:59.783Z"
   },
   {
    "duration": 11,
    "start_time": "2024-05-08T13:00:59.807Z"
   },
   {
    "duration": 26,
    "start_time": "2024-05-08T13:00:59.820Z"
   },
   {
    "duration": 130,
    "start_time": "2024-05-08T13:00:59.848Z"
   },
   {
    "duration": 17,
    "start_time": "2024-05-08T13:00:59.980Z"
   },
   {
    "duration": 5,
    "start_time": "2024-05-08T13:00:59.999Z"
   },
   {
    "duration": 64,
    "start_time": "2024-05-08T13:01:00.006Z"
   },
   {
    "duration": 48,
    "start_time": "2024-05-08T13:01:00.072Z"
   },
   {
    "duration": 167,
    "start_time": "2024-05-08T13:01:00.122Z"
   },
   {
    "duration": 23,
    "start_time": "2024-05-08T13:01:00.291Z"
   },
   {
    "duration": 158,
    "start_time": "2024-05-08T13:01:00.316Z"
   },
   {
    "duration": 23,
    "start_time": "2024-05-08T13:01:00.476Z"
   },
   {
    "duration": 183,
    "start_time": "2024-05-08T13:01:00.501Z"
   },
   {
    "duration": 22,
    "start_time": "2024-05-08T13:01:00.686Z"
   },
   {
    "duration": 339,
    "start_time": "2024-05-08T13:01:00.715Z"
   },
   {
    "duration": 17,
    "start_time": "2024-05-08T13:01:01.056Z"
   },
   {
    "duration": 62,
    "start_time": "2024-05-08T13:01:01.075Z"
   },
   {
    "duration": 46,
    "start_time": "2024-05-08T13:01:01.139Z"
   },
   {
    "duration": 51,
    "start_time": "2024-05-08T13:01:01.187Z"
   },
   {
    "duration": 67,
    "start_time": "2024-05-08T13:01:01.240Z"
   },
   {
    "duration": 43,
    "start_time": "2024-05-08T13:01:01.308Z"
   },
   {
    "duration": 288,
    "start_time": "2024-05-08T13:01:14.416Z"
   },
   {
    "duration": 1104,
    "start_time": "2024-05-08T13:02:14.693Z"
   },
   {
    "duration": 69,
    "start_time": "2024-05-08T13:02:15.799Z"
   },
   {
    "duration": 14,
    "start_time": "2024-05-08T13:02:15.869Z"
   },
   {
    "duration": 27,
    "start_time": "2024-05-08T13:02:15.885Z"
   },
   {
    "duration": 13,
    "start_time": "2024-05-08T13:02:15.913Z"
   },
   {
    "duration": 7,
    "start_time": "2024-05-08T13:02:15.927Z"
   },
   {
    "duration": 8,
    "start_time": "2024-05-08T13:02:15.935Z"
   },
   {
    "duration": 15,
    "start_time": "2024-05-08T13:02:15.966Z"
   },
   {
    "duration": 12,
    "start_time": "2024-05-08T13:02:15.982Z"
   },
   {
    "duration": 19,
    "start_time": "2024-05-08T13:02:15.997Z"
   },
   {
    "duration": 18,
    "start_time": "2024-05-08T13:02:16.018Z"
   },
   {
    "duration": 45,
    "start_time": "2024-05-08T13:02:16.037Z"
   },
   {
    "duration": 15,
    "start_time": "2024-05-08T13:02:16.084Z"
   },
   {
    "duration": 8,
    "start_time": "2024-05-08T13:02:16.101Z"
   },
   {
    "duration": 11,
    "start_time": "2024-05-08T13:02:16.110Z"
   },
   {
    "duration": 12,
    "start_time": "2024-05-08T13:02:16.122Z"
   },
   {
    "duration": 6,
    "start_time": "2024-05-08T13:02:16.136Z"
   },
   {
    "duration": 14,
    "start_time": "2024-05-08T13:02:16.143Z"
   },
   {
    "duration": 25,
    "start_time": "2024-05-08T13:02:16.158Z"
   },
   {
    "duration": 17,
    "start_time": "2024-05-08T13:02:16.185Z"
   },
   {
    "duration": 3,
    "start_time": "2024-05-08T13:02:16.204Z"
   },
   {
    "duration": 46,
    "start_time": "2024-05-08T13:02:16.209Z"
   },
   {
    "duration": 24,
    "start_time": "2024-05-08T13:02:16.257Z"
   },
   {
    "duration": 13,
    "start_time": "2024-05-08T13:02:16.283Z"
   },
   {
    "duration": 3,
    "start_time": "2024-05-08T13:02:16.297Z"
   },
   {
    "duration": 27,
    "start_time": "2024-05-08T13:02:16.302Z"
   },
   {
    "duration": 44,
    "start_time": "2024-05-08T13:02:16.331Z"
   },
   {
    "duration": 13,
    "start_time": "2024-05-08T13:02:16.381Z"
   },
   {
    "duration": 518,
    "start_time": "2024-05-08T13:02:16.395Z"
   },
   {
    "duration": 236,
    "start_time": "2024-05-08T13:02:16.915Z"
   },
   {
    "duration": 13,
    "start_time": "2024-05-08T13:02:17.153Z"
   },
   {
    "duration": 9,
    "start_time": "2024-05-08T13:02:17.167Z"
   },
   {
    "duration": 19,
    "start_time": "2024-05-08T13:02:17.178Z"
   },
   {
    "duration": 13,
    "start_time": "2024-05-08T13:02:17.199Z"
   },
   {
    "duration": 259,
    "start_time": "2024-05-08T13:02:17.214Z"
   },
   {
    "duration": 245,
    "start_time": "2024-05-08T13:02:17.475Z"
   },
   {
    "duration": 9,
    "start_time": "2024-05-08T13:02:17.722Z"
   },
   {
    "duration": 250,
    "start_time": "2024-05-08T13:02:17.733Z"
   },
   {
    "duration": 245,
    "start_time": "2024-05-08T13:02:17.985Z"
   },
   {
    "duration": 457,
    "start_time": "2024-05-08T13:02:18.231Z"
   },
   {
    "duration": 7,
    "start_time": "2024-05-08T13:02:18.689Z"
   },
   {
    "duration": 433,
    "start_time": "2024-05-08T13:02:18.697Z"
   },
   {
    "duration": 242,
    "start_time": "2024-05-08T13:02:19.132Z"
   },
   {
    "duration": 98,
    "start_time": "2024-05-08T13:02:19.376Z"
   },
   {
    "duration": 0,
    "start_time": "2024-05-08T13:02:19.476Z"
   },
   {
    "duration": 0,
    "start_time": "2024-05-08T13:02:19.477Z"
   },
   {
    "duration": 0,
    "start_time": "2024-05-08T13:02:19.478Z"
   },
   {
    "duration": 0,
    "start_time": "2024-05-08T13:02:19.479Z"
   },
   {
    "duration": 0,
    "start_time": "2024-05-08T13:02:19.480Z"
   },
   {
    "duration": 0,
    "start_time": "2024-05-08T13:02:19.481Z"
   },
   {
    "duration": 0,
    "start_time": "2024-05-08T13:02:19.482Z"
   },
   {
    "duration": 0,
    "start_time": "2024-05-08T13:02:19.483Z"
   },
   {
    "duration": 0,
    "start_time": "2024-05-08T13:02:19.484Z"
   },
   {
    "duration": 0,
    "start_time": "2024-05-08T13:02:19.486Z"
   },
   {
    "duration": 1,
    "start_time": "2024-05-08T13:02:19.486Z"
   },
   {
    "duration": 0,
    "start_time": "2024-05-08T13:02:19.488Z"
   },
   {
    "duration": 0,
    "start_time": "2024-05-08T13:02:19.489Z"
   },
   {
    "duration": 0,
    "start_time": "2024-05-08T13:02:19.489Z"
   },
   {
    "duration": 0,
    "start_time": "2024-05-08T13:02:19.490Z"
   },
   {
    "duration": 0,
    "start_time": "2024-05-08T13:02:19.491Z"
   },
   {
    "duration": 0,
    "start_time": "2024-05-08T13:02:19.492Z"
   },
   {
    "duration": 0,
    "start_time": "2024-05-08T13:02:19.493Z"
   },
   {
    "duration": 0,
    "start_time": "2024-05-08T13:02:19.494Z"
   },
   {
    "duration": 0,
    "start_time": "2024-05-08T13:02:19.495Z"
   },
   {
    "duration": 0,
    "start_time": "2024-05-08T13:02:19.496Z"
   },
   {
    "duration": 0,
    "start_time": "2024-05-08T13:02:19.498Z"
   },
   {
    "duration": 0,
    "start_time": "2024-05-08T13:02:19.499Z"
   },
   {
    "duration": 0,
    "start_time": "2024-05-08T13:02:19.501Z"
   },
   {
    "duration": 0,
    "start_time": "2024-05-08T13:02:19.503Z"
   },
   {
    "duration": 0,
    "start_time": "2024-05-08T13:02:19.504Z"
   },
   {
    "duration": 0,
    "start_time": "2024-05-08T13:02:19.505Z"
   },
   {
    "duration": 0,
    "start_time": "2024-05-08T13:02:19.507Z"
   },
   {
    "duration": 0,
    "start_time": "2024-05-08T13:02:19.508Z"
   },
   {
    "duration": 0,
    "start_time": "2024-05-08T13:02:19.509Z"
   },
   {
    "duration": 0,
    "start_time": "2024-05-08T13:02:19.511Z"
   },
   {
    "duration": 0,
    "start_time": "2024-05-08T13:02:19.564Z"
   },
   {
    "duration": 0,
    "start_time": "2024-05-08T13:02:19.566Z"
   },
   {
    "duration": 0,
    "start_time": "2024-05-08T13:02:19.567Z"
   },
   {
    "duration": 0,
    "start_time": "2024-05-08T13:02:19.568Z"
   },
   {
    "duration": 0,
    "start_time": "2024-05-08T13:02:19.570Z"
   },
   {
    "duration": 0,
    "start_time": "2024-05-08T13:02:19.571Z"
   },
   {
    "duration": 0,
    "start_time": "2024-05-08T13:02:19.572Z"
   },
   {
    "duration": 1075,
    "start_time": "2024-05-08T13:02:33.816Z"
   },
   {
    "duration": 64,
    "start_time": "2024-05-08T13:02:34.893Z"
   },
   {
    "duration": 12,
    "start_time": "2024-05-08T13:02:34.959Z"
   },
   {
    "duration": 26,
    "start_time": "2024-05-08T13:02:34.973Z"
   },
   {
    "duration": 12,
    "start_time": "2024-05-08T13:02:35.001Z"
   },
   {
    "duration": 11,
    "start_time": "2024-05-08T13:02:35.015Z"
   },
   {
    "duration": 22,
    "start_time": "2024-05-08T13:02:35.027Z"
   },
   {
    "duration": 50,
    "start_time": "2024-05-08T13:02:35.050Z"
   },
   {
    "duration": 14,
    "start_time": "2024-05-08T13:02:35.102Z"
   },
   {
    "duration": 51,
    "start_time": "2024-05-08T13:02:35.118Z"
   },
   {
    "duration": 16,
    "start_time": "2024-05-08T13:02:35.170Z"
   },
   {
    "duration": 26,
    "start_time": "2024-05-08T13:02:35.187Z"
   },
   {
    "duration": 8,
    "start_time": "2024-05-08T13:02:35.214Z"
   },
   {
    "duration": 6,
    "start_time": "2024-05-08T13:02:35.224Z"
   },
   {
    "duration": 9,
    "start_time": "2024-05-08T13:02:35.232Z"
   },
   {
    "duration": 24,
    "start_time": "2024-05-08T13:02:35.243Z"
   },
   {
    "duration": 27,
    "start_time": "2024-05-08T13:02:35.269Z"
   },
   {
    "duration": 36,
    "start_time": "2024-05-08T13:02:35.298Z"
   },
   {
    "duration": 34,
    "start_time": "2024-05-08T13:02:35.336Z"
   },
   {
    "duration": 19,
    "start_time": "2024-05-08T13:02:35.372Z"
   },
   {
    "duration": 4,
    "start_time": "2024-05-08T13:02:35.392Z"
   },
   {
    "duration": 24,
    "start_time": "2024-05-08T13:02:35.397Z"
   },
   {
    "duration": 19,
    "start_time": "2024-05-08T13:02:35.422Z"
   },
   {
    "duration": 23,
    "start_time": "2024-05-08T13:02:35.443Z"
   },
   {
    "duration": 3,
    "start_time": "2024-05-08T13:02:35.468Z"
   },
   {
    "duration": 25,
    "start_time": "2024-05-08T13:02:35.473Z"
   },
   {
    "duration": 26,
    "start_time": "2024-05-08T13:02:35.499Z"
   },
   {
    "duration": 10,
    "start_time": "2024-05-08T13:02:35.529Z"
   },
   {
    "duration": 460,
    "start_time": "2024-05-08T13:02:35.540Z"
   },
   {
    "duration": 229,
    "start_time": "2024-05-08T13:02:36.001Z"
   },
   {
    "duration": 7,
    "start_time": "2024-05-08T13:02:36.232Z"
   },
   {
    "duration": 29,
    "start_time": "2024-05-08T13:02:36.240Z"
   },
   {
    "duration": 20,
    "start_time": "2024-05-08T13:02:36.271Z"
   },
   {
    "duration": 14,
    "start_time": "2024-05-08T13:02:36.293Z"
   },
   {
    "duration": 217,
    "start_time": "2024-05-08T13:02:36.308Z"
   },
   {
    "duration": 217,
    "start_time": "2024-05-08T13:02:36.527Z"
   },
   {
    "duration": 23,
    "start_time": "2024-05-08T13:02:36.745Z"
   },
   {
    "duration": 217,
    "start_time": "2024-05-08T13:02:36.770Z"
   },
   {
    "duration": 211,
    "start_time": "2024-05-08T13:02:36.989Z"
   },
   {
    "duration": 443,
    "start_time": "2024-05-08T13:02:37.202Z"
   },
   {
    "duration": 7,
    "start_time": "2024-05-08T13:02:37.647Z"
   },
   {
    "duration": 411,
    "start_time": "2024-05-08T13:02:37.665Z"
   },
   {
    "duration": 229,
    "start_time": "2024-05-08T13:02:38.077Z"
   },
   {
    "duration": 7,
    "start_time": "2024-05-08T13:02:38.307Z"
   },
   {
    "duration": 246,
    "start_time": "2024-05-08T13:02:38.315Z"
   },
   {
    "duration": 1221,
    "start_time": "2024-05-08T13:02:38.564Z"
   },
   {
    "duration": 1244,
    "start_time": "2024-05-08T13:02:39.786Z"
   },
   {
    "duration": 7,
    "start_time": "2024-05-08T13:02:41.031Z"
   },
   {
    "duration": 34,
    "start_time": "2024-05-08T13:02:41.039Z"
   },
   {
    "duration": 218,
    "start_time": "2024-05-08T13:02:41.074Z"
   },
   {
    "duration": 249,
    "start_time": "2024-05-08T13:02:41.294Z"
   },
   {
    "duration": 29,
    "start_time": "2024-05-08T13:02:41.545Z"
   },
   {
    "duration": 306,
    "start_time": "2024-05-08T13:02:41.576Z"
   },
   {
    "duration": 16,
    "start_time": "2024-05-08T13:02:41.884Z"
   },
   {
    "duration": 8,
    "start_time": "2024-05-08T13:02:41.901Z"
   },
   {
    "duration": 13,
    "start_time": "2024-05-08T13:02:41.911Z"
   },
   {
    "duration": 148,
    "start_time": "2024-05-08T13:02:41.926Z"
   },
   {
    "duration": 16,
    "start_time": "2024-05-08T13:02:42.075Z"
   },
   {
    "duration": 5,
    "start_time": "2024-05-08T13:02:42.093Z"
   },
   {
    "duration": 22,
    "start_time": "2024-05-08T13:02:42.100Z"
   },
   {
    "duration": 134,
    "start_time": "2024-05-08T13:02:42.123Z"
   },
   {
    "duration": 22,
    "start_time": "2024-05-08T13:02:42.264Z"
   },
   {
    "duration": 13,
    "start_time": "2024-05-08T13:02:42.288Z"
   },
   {
    "duration": 18,
    "start_time": "2024-05-08T13:02:42.302Z"
   },
   {
    "duration": 149,
    "start_time": "2024-05-08T13:02:42.322Z"
   },
   {
    "duration": 15,
    "start_time": "2024-05-08T13:02:42.472Z"
   },
   {
    "duration": 6,
    "start_time": "2024-05-08T13:02:42.488Z"
   },
   {
    "duration": 17,
    "start_time": "2024-05-08T13:02:42.495Z"
   },
   {
    "duration": 14,
    "start_time": "2024-05-08T13:02:42.514Z"
   },
   {
    "duration": 138,
    "start_time": "2024-05-08T13:02:42.529Z"
   },
   {
    "duration": 21,
    "start_time": "2024-05-08T13:02:42.669Z"
   },
   {
    "duration": 133,
    "start_time": "2024-05-08T13:02:42.691Z"
   },
   {
    "duration": 22,
    "start_time": "2024-05-08T13:02:42.826Z"
   },
   {
    "duration": 140,
    "start_time": "2024-05-08T13:02:42.849Z"
   },
   {
    "duration": 18,
    "start_time": "2024-05-08T13:02:42.990Z"
   },
   {
    "duration": 332,
    "start_time": "2024-05-08T13:02:43.009Z"
   },
   {
    "duration": 10,
    "start_time": "2024-05-08T13:02:43.342Z"
   },
   {
    "duration": 20,
    "start_time": "2024-05-08T13:02:43.353Z"
   },
   {
    "duration": 5,
    "start_time": "2024-05-08T13:02:43.375Z"
   },
   {
    "duration": 19,
    "start_time": "2024-05-08T13:02:43.382Z"
   },
   {
    "duration": 9,
    "start_time": "2024-05-08T13:02:43.403Z"
   },
   {
    "duration": 5,
    "start_time": "2024-05-08T13:02:43.417Z"
   },
   {
    "duration": 1090,
    "start_time": "2024-05-08T13:03:11.311Z"
   },
   {
    "duration": 66,
    "start_time": "2024-05-08T13:03:12.404Z"
   },
   {
    "duration": 15,
    "start_time": "2024-05-08T13:03:12.471Z"
   },
   {
    "duration": 55,
    "start_time": "2024-05-08T13:03:12.488Z"
   },
   {
    "duration": 15,
    "start_time": "2024-05-08T13:03:12.545Z"
   },
   {
    "duration": 13,
    "start_time": "2024-05-08T13:03:12.561Z"
   },
   {
    "duration": 20,
    "start_time": "2024-05-08T13:03:12.576Z"
   },
   {
    "duration": 17,
    "start_time": "2024-05-08T13:03:12.598Z"
   },
   {
    "duration": 19,
    "start_time": "2024-05-08T13:03:12.616Z"
   },
   {
    "duration": 18,
    "start_time": "2024-05-08T13:03:12.638Z"
   },
   {
    "duration": 23,
    "start_time": "2024-05-08T13:03:12.658Z"
   },
   {
    "duration": 22,
    "start_time": "2024-05-08T13:03:12.682Z"
   },
   {
    "duration": 8,
    "start_time": "2024-05-08T13:03:12.706Z"
   },
   {
    "duration": 3,
    "start_time": "2024-05-08T13:03:12.716Z"
   },
   {
    "duration": 8,
    "start_time": "2024-05-08T13:03:12.721Z"
   },
   {
    "duration": 7,
    "start_time": "2024-05-08T13:03:12.731Z"
   },
   {
    "duration": 28,
    "start_time": "2024-05-08T13:03:12.739Z"
   },
   {
    "duration": 5,
    "start_time": "2024-05-08T13:03:12.769Z"
   },
   {
    "duration": 20,
    "start_time": "2024-05-08T13:03:12.775Z"
   },
   {
    "duration": 18,
    "start_time": "2024-05-08T13:03:12.797Z"
   },
   {
    "duration": 3,
    "start_time": "2024-05-08T13:03:12.817Z"
   },
   {
    "duration": 13,
    "start_time": "2024-05-08T13:03:12.822Z"
   },
   {
    "duration": 19,
    "start_time": "2024-05-08T13:03:12.866Z"
   },
   {
    "duration": 10,
    "start_time": "2024-05-08T13:03:12.887Z"
   },
   {
    "duration": 4,
    "start_time": "2024-05-08T13:03:12.898Z"
   },
   {
    "duration": 14,
    "start_time": "2024-05-08T13:03:12.904Z"
   },
   {
    "duration": 53,
    "start_time": "2024-05-08T13:03:12.919Z"
   },
   {
    "duration": 11,
    "start_time": "2024-05-08T13:03:12.976Z"
   },
   {
    "duration": 439,
    "start_time": "2024-05-08T13:03:12.989Z"
   },
   {
    "duration": 221,
    "start_time": "2024-05-08T13:03:13.429Z"
   },
   {
    "duration": 14,
    "start_time": "2024-05-08T13:03:13.652Z"
   },
   {
    "duration": 10,
    "start_time": "2024-05-08T13:03:13.667Z"
   },
   {
    "duration": 19,
    "start_time": "2024-05-08T13:03:13.679Z"
   },
   {
    "duration": 14,
    "start_time": "2024-05-08T13:03:13.699Z"
   },
   {
    "duration": 236,
    "start_time": "2024-05-08T13:03:13.715Z"
   },
   {
    "duration": 256,
    "start_time": "2024-05-08T13:03:13.952Z"
   },
   {
    "duration": 9,
    "start_time": "2024-05-08T13:03:14.210Z"
   },
   {
    "duration": 228,
    "start_time": "2024-05-08T13:03:14.221Z"
   },
   {
    "duration": 233,
    "start_time": "2024-05-08T13:03:14.451Z"
   },
   {
    "duration": 419,
    "start_time": "2024-05-08T13:03:14.686Z"
   },
   {
    "duration": 7,
    "start_time": "2024-05-08T13:03:15.106Z"
   },
   {
    "duration": 74,
    "start_time": "2024-05-08T13:03:15.114Z"
   },
   {
    "duration": 413,
    "start_time": "2024-05-08T13:03:15.189Z"
   },
   {
    "duration": 280,
    "start_time": "2024-05-08T13:03:15.603Z"
   },
   {
    "duration": 261,
    "start_time": "2024-05-08T13:03:15.885Z"
   },
   {
    "duration": 1152,
    "start_time": "2024-05-08T13:03:16.147Z"
   },
   {
    "duration": 1331,
    "start_time": "2024-05-08T13:03:17.300Z"
   },
   {
    "duration": 6,
    "start_time": "2024-05-08T13:03:18.633Z"
   },
   {
    "duration": 38,
    "start_time": "2024-05-08T13:03:18.641Z"
   },
   {
    "duration": 270,
    "start_time": "2024-05-08T13:03:18.681Z"
   },
   {
    "duration": 258,
    "start_time": "2024-05-08T13:03:18.953Z"
   },
   {
    "duration": 20,
    "start_time": "2024-05-08T13:03:19.212Z"
   },
   {
    "duration": 304,
    "start_time": "2024-05-08T13:03:19.233Z"
   },
   {
    "duration": 26,
    "start_time": "2024-05-08T13:03:19.538Z"
   },
   {
    "duration": 16,
    "start_time": "2024-05-08T13:03:19.566Z"
   },
   {
    "duration": 13,
    "start_time": "2024-05-08T13:03:19.584Z"
   },
   {
    "duration": 125,
    "start_time": "2024-05-08T13:03:19.599Z"
   },
   {
    "duration": 18,
    "start_time": "2024-05-08T13:03:19.725Z"
   },
   {
    "duration": 21,
    "start_time": "2024-05-08T13:03:19.744Z"
   },
   {
    "duration": 15,
    "start_time": "2024-05-08T13:03:19.766Z"
   },
   {
    "duration": 142,
    "start_time": "2024-05-08T13:03:19.783Z"
   },
   {
    "duration": 18,
    "start_time": "2024-05-08T13:03:19.926Z"
   },
   {
    "duration": 24,
    "start_time": "2024-05-08T13:03:19.946Z"
   },
   {
    "duration": 23,
    "start_time": "2024-05-08T13:03:19.972Z"
   },
   {
    "duration": 126,
    "start_time": "2024-05-08T13:03:19.997Z"
   },
   {
    "duration": 15,
    "start_time": "2024-05-08T13:03:20.124Z"
   },
   {
    "duration": 6,
    "start_time": "2024-05-08T13:03:20.141Z"
   },
   {
    "duration": 23,
    "start_time": "2024-05-08T13:03:20.149Z"
   },
   {
    "duration": 14,
    "start_time": "2024-05-08T13:03:20.173Z"
   },
   {
    "duration": 150,
    "start_time": "2024-05-08T13:03:20.188Z"
   },
   {
    "duration": 29,
    "start_time": "2024-05-08T13:03:20.339Z"
   },
   {
    "duration": 134,
    "start_time": "2024-05-08T13:03:20.369Z"
   },
   {
    "duration": 24,
    "start_time": "2024-05-08T13:03:20.504Z"
   },
   {
    "duration": 155,
    "start_time": "2024-05-08T13:03:20.530Z"
   },
   {
    "duration": 17,
    "start_time": "2024-05-08T13:03:20.687Z"
   },
   {
    "duration": 326,
    "start_time": "2024-05-08T13:03:20.706Z"
   },
   {
    "duration": 9,
    "start_time": "2024-05-08T13:03:21.034Z"
   },
   {
    "duration": 25,
    "start_time": "2024-05-08T13:03:21.044Z"
   },
   {
    "duration": 5,
    "start_time": "2024-05-08T13:03:21.070Z"
   },
   {
    "duration": 25,
    "start_time": "2024-05-08T13:03:21.077Z"
   },
   {
    "duration": 9,
    "start_time": "2024-05-08T13:03:21.103Z"
   },
   {
    "duration": 5,
    "start_time": "2024-05-08T13:03:21.116Z"
   },
   {
    "duration": 265,
    "start_time": "2024-05-08T13:04:35.407Z"
   },
   {
    "duration": 229,
    "start_time": "2024-05-08T13:08:51.405Z"
   },
   {
    "duration": 236,
    "start_time": "2024-05-08T13:12:47.453Z"
   },
   {
    "duration": 8,
    "start_time": "2024-05-08T13:14:22.825Z"
   },
   {
    "duration": 226,
    "start_time": "2024-05-08T13:15:10.132Z"
   }
  ],
  "kernelspec": {
   "display_name": "Python 3 (ipykernel)",
   "language": "python",
   "name": "python3"
  },
  "language_info": {
   "codemirror_mode": {
    "name": "ipython",
    "version": 3
   },
   "file_extension": ".py",
   "mimetype": "text/x-python",
   "name": "python",
   "nbconvert_exporter": "python",
   "pygments_lexer": "ipython3",
   "version": "3.11.7"
  },
  "toc": {
   "base_numbering": 1,
   "nav_menu": {},
   "number_sections": true,
   "sideBar": true,
   "skip_h1_title": true,
   "title_cell": "Table of Contents",
   "title_sidebar": "Contents",
   "toc_cell": false,
   "toc_position": {},
   "toc_section_display": true,
   "toc_window_display": true
  },
  "widgets": {
   "application/vnd.jupyter.widget-state+json": {
    "state": {},
    "version_major": 2,
    "version_minor": 0
   }
  }
 },
 "nbformat": 4,
 "nbformat_minor": 4
}
